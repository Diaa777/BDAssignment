{
 "cells": [
  {
   "cell_type": "markdown",
   "metadata": {},
   "source": [
    "### Masive Data Assignment\n",
    " (second project)\n",
    "Read, Clean, and prepare the Data"
   ]
  },
  {
   "cell_type": "code",
   "execution_count": 1,
   "metadata": {},
   "outputs": [],
   "source": [
    "import pandas as pd\n",
    "import numpy as np\n",
    "import seaborn as sns\n",
    "import matplotlib.pyplot as plt"
   ]
  },
  {
   "cell_type": "markdown",
   "metadata": {},
   "source": [
    "### stratis_price"
   ]
  },
  {
   "cell_type": "markdown",
   "metadata": {},
   "source": [
    "#### 1. Read the Data"
   ]
  },
  {
   "cell_type": "code",
   "execution_count": 2,
   "metadata": {
    "scrolled": false
   },
   "outputs": [
    {
     "data": {
      "text/html": [
       "<div>\n",
       "<style scoped>\n",
       "    .dataframe tbody tr th:only-of-type {\n",
       "        vertical-align: middle;\n",
       "    }\n",
       "\n",
       "    .dataframe tbody tr th {\n",
       "        vertical-align: top;\n",
       "    }\n",
       "\n",
       "    .dataframe thead th {\n",
       "        text-align: right;\n",
       "    }\n",
       "</style>\n",
       "<table border=\"1\" class=\"dataframe\">\n",
       "  <thead>\n",
       "    <tr style=\"text-align: right;\">\n",
       "      <th></th>\n",
       "      <th>Date</th>\n",
       "      <th>Open</th>\n",
       "      <th>High</th>\n",
       "      <th>Low</th>\n",
       "      <th>Close</th>\n",
       "      <th>Volume</th>\n",
       "      <th>Market Cap</th>\n",
       "    </tr>\n",
       "  </thead>\n",
       "  <tbody>\n",
       "    <tr>\n",
       "      <td>0</td>\n",
       "      <td>2017-09-05</td>\n",
       "      <td>5.79</td>\n",
       "      <td>6.23</td>\n",
       "      <td>5.11</td>\n",
       "      <td>6.03</td>\n",
       "      <td>8,514,110</td>\n",
       "      <td>570,643,000</td>\n",
       "    </tr>\n",
       "    <tr>\n",
       "      <td>1</td>\n",
       "      <td>2017-09-04</td>\n",
       "      <td>6.61</td>\n",
       "      <td>6.74</td>\n",
       "      <td>5.35</td>\n",
       "      <td>5.77</td>\n",
       "      <td>14,669,700</td>\n",
       "      <td>651,334,000</td>\n",
       "    </tr>\n",
       "    <tr>\n",
       "      <td>2</td>\n",
       "      <td>2017-09-03</td>\n",
       "      <td>6.36</td>\n",
       "      <td>6.59</td>\n",
       "      <td>5.99</td>\n",
       "      <td>6.59</td>\n",
       "      <td>8,487,740</td>\n",
       "      <td>626,826,000</td>\n",
       "    </tr>\n",
       "    <tr>\n",
       "      <td>3</td>\n",
       "      <td>2017-09-02</td>\n",
       "      <td>7.27</td>\n",
       "      <td>7.27</td>\n",
       "      <td>6.18</td>\n",
       "      <td>6.34</td>\n",
       "      <td>11,500,400</td>\n",
       "      <td>716,038,000</td>\n",
       "    </tr>\n",
       "    <tr>\n",
       "      <td>4</td>\n",
       "      <td>2017-09-01</td>\n",
       "      <td>7.28</td>\n",
       "      <td>7.78</td>\n",
       "      <td>6.97</td>\n",
       "      <td>7.25</td>\n",
       "      <td>22,610,800</td>\n",
       "      <td>717,199,000</td>\n",
       "    </tr>\n",
       "  </tbody>\n",
       "</table>\n",
       "</div>"
      ],
      "text/plain": [
       "        Date  Open  High   Low  Close      Volume   Market Cap\n",
       "0 2017-09-05  5.79  6.23  5.11   6.03   8,514,110  570,643,000\n",
       "1 2017-09-04  6.61  6.74  5.35   5.77  14,669,700  651,334,000\n",
       "2 2017-09-03  6.36  6.59  5.99   6.59   8,487,740  626,826,000\n",
       "3 2017-09-02  7.27  7.27  6.18   6.34  11,500,400  716,038,000\n",
       "4 2017-09-01  7.28  7.78  6.97   7.25  22,610,800  717,199,000"
      ]
     },
     "execution_count": 2,
     "metadata": {},
     "output_type": "execute_result"
    }
   ],
   "source": [
    "# Read Bitcoin Cash Price\n",
    "df = pd.read_csv('../data/raw/stratis_price.csv', parse_dates = ['Date'])\n",
    "df.head()"
   ]
  },
  {
   "cell_type": "code",
   "execution_count": 3,
   "metadata": {},
   "outputs": [
    {
     "data": {
      "text/plain": [
       "Index(['Date', 'Open', 'High', 'Low', 'Close', 'Volume', 'Market Cap'], dtype='object')"
      ]
     },
     "execution_count": 3,
     "metadata": {},
     "output_type": "execute_result"
    }
   ],
   "source": [
    "df.columns"
   ]
  },
  {
   "cell_type": "code",
   "execution_count": 4,
   "metadata": {},
   "outputs": [
    {
     "data": {
      "text/plain": [
       "Date          390\n",
       "Open          390\n",
       "High          390\n",
       "Low           390\n",
       "Close         390\n",
       "Volume        390\n",
       "Market Cap    390\n",
       "dtype: int64"
      ]
     },
     "execution_count": 4,
     "metadata": {},
     "output_type": "execute_result"
    }
   ],
   "source": [
    "df.count()"
   ]
  },
  {
   "cell_type": "markdown",
   "metadata": {},
   "source": [
    "as we can see we have in this file 7 columns and each column has 390 cells"
   ]
  },
  {
   "cell_type": "code",
   "execution_count": 5,
   "metadata": {},
   "outputs": [
    {
     "data": {
      "text/html": [
       "<div>\n",
       "<style scoped>\n",
       "    .dataframe tbody tr th:only-of-type {\n",
       "        vertical-align: middle;\n",
       "    }\n",
       "\n",
       "    .dataframe tbody tr th {\n",
       "        vertical-align: top;\n",
       "    }\n",
       "\n",
       "    .dataframe thead th {\n",
       "        text-align: right;\n",
       "    }\n",
       "</style>\n",
       "<table border=\"1\" class=\"dataframe\">\n",
       "  <thead>\n",
       "    <tr style=\"text-align: right;\">\n",
       "      <th></th>\n",
       "      <th>Open</th>\n",
       "      <th>High</th>\n",
       "      <th>Low</th>\n",
       "      <th>Close</th>\n",
       "    </tr>\n",
       "  </thead>\n",
       "  <tbody>\n",
       "    <tr>\n",
       "      <td>count</td>\n",
       "      <td>390.000000</td>\n",
       "      <td>390.000000</td>\n",
       "      <td>390.000000</td>\n",
       "      <td>390.000000</td>\n",
       "    </tr>\n",
       "    <tr>\n",
       "      <td>mean</td>\n",
       "      <td>1.823314</td>\n",
       "      <td>1.990140</td>\n",
       "      <td>1.671701</td>\n",
       "      <td>1.837540</td>\n",
       "    </tr>\n",
       "    <tr>\n",
       "      <td>std</td>\n",
       "      <td>2.830232</td>\n",
       "      <td>3.082738</td>\n",
       "      <td>2.596490</td>\n",
       "      <td>2.837244</td>\n",
       "    </tr>\n",
       "    <tr>\n",
       "      <td>min</td>\n",
       "      <td>0.011171</td>\n",
       "      <td>0.013897</td>\n",
       "      <td>0.008483</td>\n",
       "      <td>0.011175</td>\n",
       "    </tr>\n",
       "    <tr>\n",
       "      <td>25%</td>\n",
       "      <td>0.055957</td>\n",
       "      <td>0.060666</td>\n",
       "      <td>0.052541</td>\n",
       "      <td>0.056644</td>\n",
       "    </tr>\n",
       "    <tr>\n",
       "      <td>50%</td>\n",
       "      <td>0.090728</td>\n",
       "      <td>0.097877</td>\n",
       "      <td>0.085325</td>\n",
       "      <td>0.091032</td>\n",
       "    </tr>\n",
       "    <tr>\n",
       "      <td>75%</td>\n",
       "      <td>3.060000</td>\n",
       "      <td>3.522500</td>\n",
       "      <td>2.667500</td>\n",
       "      <td>3.100000</td>\n",
       "    </tr>\n",
       "    <tr>\n",
       "      <td>max</td>\n",
       "      <td>10.560000</td>\n",
       "      <td>11.680000</td>\n",
       "      <td>10.030000</td>\n",
       "      <td>10.620000</td>\n",
       "    </tr>\n",
       "  </tbody>\n",
       "</table>\n",
       "</div>"
      ],
      "text/plain": [
       "             Open        High         Low       Close\n",
       "count  390.000000  390.000000  390.000000  390.000000\n",
       "mean     1.823314    1.990140    1.671701    1.837540\n",
       "std      2.830232    3.082738    2.596490    2.837244\n",
       "min      0.011171    0.013897    0.008483    0.011175\n",
       "25%      0.055957    0.060666    0.052541    0.056644\n",
       "50%      0.090728    0.097877    0.085325    0.091032\n",
       "75%      3.060000    3.522500    2.667500    3.100000\n",
       "max     10.560000   11.680000   10.030000   10.620000"
      ]
     },
     "execution_count": 5,
     "metadata": {},
     "output_type": "execute_result"
    }
   ],
   "source": [
    "df.describe()"
   ]
  },
  {
   "cell_type": "code",
   "execution_count": 6,
   "metadata": {
    "scrolled": true
   },
   "outputs": [
    {
     "name": "stdout",
     "output_type": "stream",
     "text": [
      "<class 'pandas.core.frame.DataFrame'>\n",
      "RangeIndex: 390 entries, 0 to 389\n",
      "Data columns (total 7 columns):\n",
      "Date          390 non-null datetime64[ns]\n",
      "Open          390 non-null float64\n",
      "High          390 non-null float64\n",
      "Low           390 non-null float64\n",
      "Close         390 non-null float64\n",
      "Volume        390 non-null object\n",
      "Market Cap    390 non-null object\n",
      "dtypes: datetime64[ns](1), float64(4), object(2)\n",
      "memory usage: 21.5+ KB\n"
     ]
    }
   ],
   "source": [
    "# General Information \n",
    "df.info()"
   ]
  },
  {
   "cell_type": "code",
   "execution_count": 7,
   "metadata": {},
   "outputs": [
    {
     "data": {
      "text/plain": [
       "0      False\n",
       "1      False\n",
       "2      False\n",
       "3      False\n",
       "4      False\n",
       "       ...  \n",
       "385    False\n",
       "386    False\n",
       "387    False\n",
       "388    False\n",
       "389    False\n",
       "Length: 390, dtype: bool"
      ]
     },
     "execution_count": 7,
     "metadata": {},
     "output_type": "execute_result"
    }
   ],
   "source": [
    "#check if the dataset is duplicated\n",
    "df.duplicated()"
   ]
  },
  {
   "cell_type": "markdown",
   "metadata": {},
   "source": [
    "as we can see the data fram has 7 columns. each column has 390 cells, and there is no missing data,but we hve to convert the dt type of the variables \"Volume\" and \"Market Cap\" to number\n"
   ]
  },
  {
   "cell_type": "code",
   "execution_count": 8,
   "metadata": {
    "scrolled": false
   },
   "outputs": [
    {
     "data": {
      "text/plain": [
       "Date          0\n",
       "Open          0\n",
       "High          0\n",
       "Low           0\n",
       "Close         0\n",
       "Volume        0\n",
       "Market Cap    0\n",
       "dtype: int64"
      ]
     },
     "execution_count": 8,
     "metadata": {},
     "output_type": "execute_result"
    }
   ],
   "source": [
    "# Count missing data in each column\n",
    "df.isnull().sum()"
   ]
  },
  {
   "cell_type": "markdown",
   "metadata": {},
   "source": [
    "we can see there is no missing data "
   ]
  },
  {
   "cell_type": "markdown",
   "metadata": {},
   "source": [
    "### cleaning Data\n"
   ]
  },
  {
   "cell_type": "code",
   "execution_count": 9,
   "metadata": {},
   "outputs": [
    {
     "name": "stdout",
     "output_type": "stream",
     "text": [
      "Volume Data Type : <class 'str'>\n",
      "Market Cap Data Type : <class 'str'>\n"
     ]
    }
   ],
   "source": [
    "print('Volume Data Type :', type(df.Volume[0]))\n",
    "print('Market Cap Data Type :', type(df['Market Cap'][0]))"
   ]
  },
  {
   "cell_type": "code",
   "execution_count": 12,
   "metadata": {},
   "outputs": [],
   "source": [
    "# If Volume is equal to '-' convert it to 0\n",
    "df.loc[df['Market Cap']==\"-\",'Market Cap']=0"
   ]
  },
  {
   "cell_type": "code",
   "execution_count": 13,
   "metadata": {},
   "outputs": [
    {
     "data": {
      "text/html": [
       "<div>\n",
       "<style scoped>\n",
       "    .dataframe tbody tr th:only-of-type {\n",
       "        vertical-align: middle;\n",
       "    }\n",
       "\n",
       "    .dataframe tbody tr th {\n",
       "        vertical-align: top;\n",
       "    }\n",
       "\n",
       "    .dataframe thead th {\n",
       "        text-align: right;\n",
       "    }\n",
       "</style>\n",
       "<table border=\"1\" class=\"dataframe\">\n",
       "  <thead>\n",
       "    <tr style=\"text-align: right;\">\n",
       "      <th></th>\n",
       "      <th>Open</th>\n",
       "      <th>High</th>\n",
       "      <th>Low</th>\n",
       "      <th>Close</th>\n",
       "      <th>Volume</th>\n",
       "      <th>Market Cap</th>\n",
       "    </tr>\n",
       "  </thead>\n",
       "  <tbody>\n",
       "    <tr>\n",
       "      <td>count</td>\n",
       "      <td>390.000000</td>\n",
       "      <td>390.000000</td>\n",
       "      <td>390.000000</td>\n",
       "      <td>390.000000</td>\n",
       "      <td>3.900000e+02</td>\n",
       "      <td>3.900000e+02</td>\n",
       "    </tr>\n",
       "    <tr>\n",
       "      <td>mean</td>\n",
       "      <td>1.823314</td>\n",
       "      <td>1.990140</td>\n",
       "      <td>1.671701</td>\n",
       "      <td>1.837540</td>\n",
       "      <td>4.782751e+06</td>\n",
       "      <td>1.794904e+08</td>\n",
       "    </tr>\n",
       "    <tr>\n",
       "      <td>std</td>\n",
       "      <td>2.830232</td>\n",
       "      <td>3.082738</td>\n",
       "      <td>2.596490</td>\n",
       "      <td>2.837244</td>\n",
       "      <td>9.211456e+06</td>\n",
       "      <td>2.786563e+08</td>\n",
       "    </tr>\n",
       "    <tr>\n",
       "      <td>min</td>\n",
       "      <td>0.011171</td>\n",
       "      <td>0.013897</td>\n",
       "      <td>0.008483</td>\n",
       "      <td>0.011175</td>\n",
       "      <td>6.461000e+03</td>\n",
       "      <td>0.000000e+00</td>\n",
       "    </tr>\n",
       "    <tr>\n",
       "      <td>25%</td>\n",
       "      <td>0.055957</td>\n",
       "      <td>0.060666</td>\n",
       "      <td>0.052541</td>\n",
       "      <td>0.056644</td>\n",
       "      <td>4.569400e+04</td>\n",
       "      <td>5.492438e+06</td>\n",
       "    </tr>\n",
       "    <tr>\n",
       "      <td>50%</td>\n",
       "      <td>0.090728</td>\n",
       "      <td>0.097877</td>\n",
       "      <td>0.085325</td>\n",
       "      <td>0.091032</td>\n",
       "      <td>1.889225e+05</td>\n",
       "      <td>8.916745e+06</td>\n",
       "    </tr>\n",
       "    <tr>\n",
       "      <td>75%</td>\n",
       "      <td>3.060000</td>\n",
       "      <td>3.522500</td>\n",
       "      <td>2.667500</td>\n",
       "      <td>3.100000</td>\n",
       "      <td>5.725200e+06</td>\n",
       "      <td>3.013212e+08</td>\n",
       "    </tr>\n",
       "    <tr>\n",
       "      <td>max</td>\n",
       "      <td>10.560000</td>\n",
       "      <td>11.680000</td>\n",
       "      <td>10.030000</td>\n",
       "      <td>10.620000</td>\n",
       "      <td>7.668770e+07</td>\n",
       "      <td>1.039320e+09</td>\n",
       "    </tr>\n",
       "  </tbody>\n",
       "</table>\n",
       "</div>"
      ],
      "text/plain": [
       "             Open        High         Low       Close        Volume  \\\n",
       "count  390.000000  390.000000  390.000000  390.000000  3.900000e+02   \n",
       "mean     1.823314    1.990140    1.671701    1.837540  4.782751e+06   \n",
       "std      2.830232    3.082738    2.596490    2.837244  9.211456e+06   \n",
       "min      0.011171    0.013897    0.008483    0.011175  6.461000e+03   \n",
       "25%      0.055957    0.060666    0.052541    0.056644  4.569400e+04   \n",
       "50%      0.090728    0.097877    0.085325    0.091032  1.889225e+05   \n",
       "75%      3.060000    3.522500    2.667500    3.100000  5.725200e+06   \n",
       "max     10.560000   11.680000   10.030000   10.620000  7.668770e+07   \n",
       "\n",
       "         Market Cap  \n",
       "count  3.900000e+02  \n",
       "mean   1.794904e+08  \n",
       "std    2.786563e+08  \n",
       "min    0.000000e+00  \n",
       "25%    5.492438e+06  \n",
       "50%    8.916745e+06  \n",
       "75%    3.013212e+08  \n",
       "max    1.039320e+09  "
      ]
     },
     "execution_count": 13,
     "metadata": {},
     "output_type": "execute_result"
    }
   ],
   "source": [
    "def convert_to_number(x):\n",
    "    try:\n",
    "        return int(x.replace(',',''))\n",
    "    except:\n",
    "        return x\n",
    "\n",
    "df.Volume = df.Volume.apply(convert_to_number)\n",
    "df['Market Cap'] = df['Market Cap'].apply(lambda x: float(str(x).replace(',','')))\n",
    "\n",
    "df.describe()"
   ]
  },
  {
   "cell_type": "code",
   "execution_count": 14,
   "metadata": {},
   "outputs": [
    {
     "name": "stdout",
     "output_type": "stream",
     "text": [
      "<class 'pandas.core.frame.DataFrame'>\n",
      "RangeIndex: 390 entries, 0 to 389\n",
      "Data columns (total 7 columns):\n",
      "Date          390 non-null datetime64[ns]\n",
      "Open          390 non-null float64\n",
      "High          390 non-null float64\n",
      "Low           390 non-null float64\n",
      "Close         390 non-null float64\n",
      "Volume        390 non-null int64\n",
      "Market Cap    390 non-null float64\n",
      "dtypes: datetime64[ns](1), float64(5), int64(1)\n",
      "memory usage: 21.5 KB\n"
     ]
    }
   ],
   "source": [
    "df.info()\n"
   ]
  },
  {
   "cell_type": "code",
   "execution_count": 15,
   "metadata": {},
   "outputs": [],
   "source": [
    "# If Volume is equal to '-' convert it to 0\n",
    "df.loc[df['Volume']==\"-\",'Volume']=0"
   ]
  },
  {
   "cell_type": "code",
   "execution_count": 16,
   "metadata": {},
   "outputs": [
    {
     "name": "stdout",
     "output_type": "stream",
     "text": [
      "<class 'pandas.core.frame.DataFrame'>\n",
      "RangeIndex: 390 entries, 0 to 389\n",
      "Data columns (total 7 columns):\n",
      "Date          390 non-null datetime64[ns]\n",
      "Open          390 non-null float64\n",
      "High          390 non-null float64\n",
      "Low           390 non-null float64\n",
      "Close         390 non-null float64\n",
      "Volume        390 non-null int64\n",
      "Market Cap    390 non-null float64\n",
      "dtypes: datetime64[ns](1), float64(5), int64(1)\n",
      "memory usage: 21.5 KB\n"
     ]
    }
   ],
   "source": [
    "df.info()"
   ]
  },
  {
   "cell_type": "code",
   "execution_count": 17,
   "metadata": {
    "scrolled": true
   },
   "outputs": [
    {
     "data": {
      "text/html": [
       "<div>\n",
       "<style scoped>\n",
       "    .dataframe tbody tr th:only-of-type {\n",
       "        vertical-align: middle;\n",
       "    }\n",
       "\n",
       "    .dataframe tbody tr th {\n",
       "        vertical-align: top;\n",
       "    }\n",
       "\n",
       "    .dataframe thead th {\n",
       "        text-align: right;\n",
       "    }\n",
       "</style>\n",
       "<table border=\"1\" class=\"dataframe\">\n",
       "  <thead>\n",
       "    <tr style=\"text-align: right;\">\n",
       "      <th></th>\n",
       "      <th>Open</th>\n",
       "      <th>High</th>\n",
       "      <th>Low</th>\n",
       "      <th>Close</th>\n",
       "      <th>Volume</th>\n",
       "      <th>Market Cap</th>\n",
       "    </tr>\n",
       "  </thead>\n",
       "  <tbody>\n",
       "    <tr>\n",
       "      <td>Open</td>\n",
       "      <td>1.000000</td>\n",
       "      <td>0.994226</td>\n",
       "      <td>0.996365</td>\n",
       "      <td>0.990888</td>\n",
       "      <td>0.793796</td>\n",
       "      <td>1.000000</td>\n",
       "    </tr>\n",
       "    <tr>\n",
       "      <td>High</td>\n",
       "      <td>0.994226</td>\n",
       "      <td>1.000000</td>\n",
       "      <td>0.994201</td>\n",
       "      <td>0.996697</td>\n",
       "      <td>0.837028</td>\n",
       "      <td>0.994210</td>\n",
       "    </tr>\n",
       "    <tr>\n",
       "      <td>Low</td>\n",
       "      <td>0.996365</td>\n",
       "      <td>0.994201</td>\n",
       "      <td>1.000000</td>\n",
       "      <td>0.994827</td>\n",
       "      <td>0.796973</td>\n",
       "      <td>0.996369</td>\n",
       "    </tr>\n",
       "    <tr>\n",
       "      <td>Close</td>\n",
       "      <td>0.990888</td>\n",
       "      <td>0.996697</td>\n",
       "      <td>0.994827</td>\n",
       "      <td>1.000000</td>\n",
       "      <td>0.819142</td>\n",
       "      <td>0.990876</td>\n",
       "    </tr>\n",
       "    <tr>\n",
       "      <td>Volume</td>\n",
       "      <td>0.793796</td>\n",
       "      <td>0.837028</td>\n",
       "      <td>0.796973</td>\n",
       "      <td>0.819142</td>\n",
       "      <td>1.000000</td>\n",
       "      <td>0.793760</td>\n",
       "    </tr>\n",
       "    <tr>\n",
       "      <td>Market Cap</td>\n",
       "      <td>1.000000</td>\n",
       "      <td>0.994210</td>\n",
       "      <td>0.996369</td>\n",
       "      <td>0.990876</td>\n",
       "      <td>0.793760</td>\n",
       "      <td>1.000000</td>\n",
       "    </tr>\n",
       "  </tbody>\n",
       "</table>\n",
       "</div>"
      ],
      "text/plain": [
       "                Open      High       Low     Close    Volume  Market Cap\n",
       "Open        1.000000  0.994226  0.996365  0.990888  0.793796    1.000000\n",
       "High        0.994226  1.000000  0.994201  0.996697  0.837028    0.994210\n",
       "Low         0.996365  0.994201  1.000000  0.994827  0.796973    0.996369\n",
       "Close       0.990888  0.996697  0.994827  1.000000  0.819142    0.990876\n",
       "Volume      0.793796  0.837028  0.796973  0.819142  1.000000    0.793760\n",
       "Market Cap  1.000000  0.994210  0.996369  0.990876  0.793760    1.000000"
      ]
     },
     "execution_count": 17,
     "metadata": {},
     "output_type": "execute_result"
    }
   ],
   "source": [
    "# correlation between columns\n",
    "correlation = df.corr(method=\"pearson\")\n",
    "correlation"
   ]
  },
  {
   "cell_type": "markdown",
   "metadata": {},
   "source": [
    "let's plot data between Market Cap and other variable, then see the relation between the data\n"
   ]
  },
  {
   "cell_type": "code",
   "execution_count": 18,
   "metadata": {
    "scrolled": false
   },
   "outputs": [
    {
     "data": {
      "image/png": "[encoded data removed]",
      "text/plain": [
       "<Figure size 432x288 with 5 Axes>"
      ]
     },
     "metadata": {
      "needs_background": "light"
     },
     "output_type": "display_data"
    }
   ],
   "source": [
    "import matplotlib.pyplot as plt\n",
    "def plot_data(xdata,ydata,xlabel):\n",
    "    plt.scatter(xdata,ydata,marker='+',color='blue')\n",
    "    plt.ylabel('Market Cap')\n",
    "    plt.xlabel(xlabel)\n",
    "        \n",
    "plt.subplot(2,3,1)\n",
    "plot_data(df.Open, df['Market Cap'],'Open')\n",
    "plt.subplot(2,3,2)\n",
    "plot_data(df.Close, df['Market Cap'],'Close')\n",
    "plt.subplot(2,3,3)\n",
    "plot_data(df.High, df['Market Cap'],'High')\n",
    "plt.subplot(2,3,4)\n",
    "plot_data(df.Low, df['Market Cap'],'Low')\n",
    "plt.subplot(2,3,5)\n",
    "plot_data(df.Volume, df['Market Cap'],'Volume')"
   ]
  },
  {
   "cell_type": "code",
   "execution_count": 19,
   "metadata": {},
   "outputs": [],
   "source": [
    "from sklearn import linear_model\n",
    "\n",
    "model       = linear_model.LinearRegression()\n",
    "Open        = df[['Open']]\n",
    "Market_Cap  = df['Market Cap']"
   ]
  },
  {
   "cell_type": "code",
   "execution_count": 20,
   "metadata": {},
   "outputs": [
    {
     "data": {
      "text/plain": [
       "LinearRegression(copy_X=True, fit_intercept=True, n_jobs=None, normalize=False)"
      ]
     },
     "execution_count": 20,
     "metadata": {},
     "output_type": "execute_result"
    }
   ],
   "source": [
    "# train data using linear regression \n",
    "model.fit(Open, Market_Cap)"
   ]
  },
  {
   "cell_type": "code",
   "execution_count": 21,
   "metadata": {},
   "outputs": [
    {
     "data": {
      "text/plain": [
       "0.9999992895716782"
      ]
     },
     "execution_count": 21,
     "metadata": {},
     "output_type": "execute_result"
    }
   ],
   "source": [
    "# Model Score\n",
    "model.score(Open, Market_Cap)"
   ]
  },
  {
   "cell_type": "markdown",
   "metadata": {},
   "source": [
    "#### 4. Data Visualization"
   ]
  },
  {
   "cell_type": "code",
   "execution_count": 22,
   "metadata": {},
   "outputs": [
    {
     "data": {
      "text/plain": [
       "<matplotlib.axes._subplots.AxesSubplot at 0x1a263d5910>"
      ]
     },
     "execution_count": 22,
     "metadata": {},
     "output_type": "execute_result"
    },
    {
     "data": {
      "image/png": "[encoded data removed]",
      "text/plain": [
       "<Figure size 432x288 with 6 Axes>"
      ]
     },
     "metadata": {
      "needs_background": "light"
     },
     "output_type": "display_data"
    }
   ],
   "source": [
    "%matplotlib inline\n",
    "    \n",
    "plt.subplot(2,3,1)\n",
    "plt.ylabel('Open')\n",
    "df.Open.plot()\n",
    "\n",
    "plt.subplot(2,3,2)\n",
    "plt.ylabel('High')\n",
    "df.High.plot()\n",
    "\n",
    "plt.subplot(2,3,3)\n",
    "plt.ylabel('Low')\n",
    "df.Low.plot()\n",
    "\n",
    "plt.subplot(2,3,4)\n",
    "plt.ylabel('Close')\n",
    "df.Close.plot()\n",
    "\n",
    "plt.subplot(2,3,5)\n",
    "plt.ylabel('Volume')\n",
    "df.Volume.plot()\n",
    "\n",
    "plt.subplot(2,3,6)\n",
    "plt.ylabel('Market Cap')\n",
    "df['Market Cap'].plot()"
   ]
  },
  {
   "cell_type": "code",
   "execution_count": null,
   "metadata": {},
   "outputs": [],
   "source": []
  }
 ],
 "metadata": {
  "kernelspec": {
   "display_name": "Python 3",
   "language": "python",
   "name": "python3"
  },
  "language_info": {
   "codemirror_mode": {
    "name": "ipython",
    "version": 3
   },
   "file_extension": ".py",
   "mimetype": "text/x-python",
   "name": "python",
   "nbconvert_exporter": "python",
   "pygments_lexer": "ipython3",
   "version": "3.7.4"
  }
 },
 "nbformat": 4,
 "nbformat_minor": 2
}
