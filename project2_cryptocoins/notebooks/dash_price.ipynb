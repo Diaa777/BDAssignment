{
 "cells": [
  {
   "cell_type": "markdown",
   "metadata": {},
   "source": [
    "### Masive Data Assignment\n",
    " (second project)\n",
    "Read, Clean, and prepare the Data"
   ]
  },
  {
   "cell_type": "code",
   "execution_count": 30,
   "metadata": {},
   "outputs": [],
   "source": [
    "import pandas as pd\n",
    "import numpy as np\n",
    "import seaborn as sns\n",
    "import matplotlib.pyplot as plt"
   ]
  },
  {
   "cell_type": "markdown",
   "metadata": {},
   "source": [
    "### dash_price"
   ]
  },
  {
   "cell_type": "markdown",
   "metadata": {},
   "source": [
    "#### 1. Read the Data"
   ]
  },
  {
   "cell_type": "code",
   "execution_count": 31,
   "metadata": {
    "scrolled": false
   },
   "outputs": [
    {
     "data": {
      "text/html": [
       "<div>\n",
       "<style scoped>\n",
       "    .dataframe tbody tr th:only-of-type {\n",
       "        vertical-align: middle;\n",
       "    }\n",
       "\n",
       "    .dataframe tbody tr th {\n",
       "        vertical-align: top;\n",
       "    }\n",
       "\n",
       "    .dataframe thead th {\n",
       "        text-align: right;\n",
       "    }\n",
       "</style>\n",
       "<table border=\"1\" class=\"dataframe\">\n",
       "  <thead>\n",
       "    <tr style=\"text-align: right;\">\n",
       "      <th></th>\n",
       "      <th>Date</th>\n",
       "      <th>Open</th>\n",
       "      <th>High</th>\n",
       "      <th>Low</th>\n",
       "      <th>Close</th>\n",
       "      <th>Volume</th>\n",
       "      <th>Market Cap</th>\n",
       "    </tr>\n",
       "  </thead>\n",
       "  <tbody>\n",
       "    <tr>\n",
       "      <td>0</td>\n",
       "      <td>2017-09-05</td>\n",
       "      <td>316.88</td>\n",
       "      <td>333.83</td>\n",
       "      <td>286.53</td>\n",
       "      <td>327.23</td>\n",
       "      <td>53,928,800</td>\n",
       "      <td>2,388,710,000</td>\n",
       "    </tr>\n",
       "    <tr>\n",
       "      <td>1</td>\n",
       "      <td>2017-09-04</td>\n",
       "      <td>356.94</td>\n",
       "      <td>357.21</td>\n",
       "      <td>301.84</td>\n",
       "      <td>316.13</td>\n",
       "      <td>44,170,200</td>\n",
       "      <td>2,689,920,000</td>\n",
       "    </tr>\n",
       "    <tr>\n",
       "      <td>2</td>\n",
       "      <td>2017-09-03</td>\n",
       "      <td>354.63</td>\n",
       "      <td>373.08</td>\n",
       "      <td>338.23</td>\n",
       "      <td>356.39</td>\n",
       "      <td>34,945,200</td>\n",
       "      <td>2,670,270,000</td>\n",
       "    </tr>\n",
       "    <tr>\n",
       "      <td>3</td>\n",
       "      <td>2017-09-02</td>\n",
       "      <td>393.53</td>\n",
       "      <td>395.92</td>\n",
       "      <td>329.27</td>\n",
       "      <td>350.17</td>\n",
       "      <td>54,813,400</td>\n",
       "      <td>2,962,400,000</td>\n",
       "    </tr>\n",
       "    <tr>\n",
       "      <td>4</td>\n",
       "      <td>2017-09-01</td>\n",
       "      <td>377.92</td>\n",
       "      <td>393.35</td>\n",
       "      <td>376.34</td>\n",
       "      <td>393.35</td>\n",
       "      <td>55,440,700</td>\n",
       "      <td>2,844,110,000</td>\n",
       "    </tr>\n",
       "  </tbody>\n",
       "</table>\n",
       "</div>"
      ],
      "text/plain": [
       "        Date    Open    High     Low   Close      Volume     Market Cap\n",
       "0 2017-09-05  316.88  333.83  286.53  327.23  53,928,800  2,388,710,000\n",
       "1 2017-09-04  356.94  357.21  301.84  316.13  44,170,200  2,689,920,000\n",
       "2 2017-09-03  354.63  373.08  338.23  356.39  34,945,200  2,670,270,000\n",
       "3 2017-09-02  393.53  395.92  329.27  350.17  54,813,400  2,962,400,000\n",
       "4 2017-09-01  377.92  393.35  376.34  393.35  55,440,700  2,844,110,000"
      ]
     },
     "execution_count": 31,
     "metadata": {},
     "output_type": "execute_result"
    }
   ],
   "source": [
    "# Read bitconnect_price file\n",
    "df = pd.read_csv('../data/raw/dash_price.csv', parse_dates = ['Date'])\n",
    "df.head()"
   ]
  },
  {
   "cell_type": "code",
   "execution_count": 32,
   "metadata": {},
   "outputs": [
    {
     "data": {
      "text/plain": [
       "Index(['Date', 'Open', 'High', 'Low', 'Close', 'Volume', 'Market Cap'], dtype='object')"
      ]
     },
     "execution_count": 32,
     "metadata": {},
     "output_type": "execute_result"
    }
   ],
   "source": [
    "df.columns"
   ]
  },
  {
   "cell_type": "code",
   "execution_count": 33,
   "metadata": {},
   "outputs": [
    {
     "data": {
      "text/plain": [
       "Date          1300\n",
       "Open          1300\n",
       "High          1300\n",
       "Low           1300\n",
       "Close         1300\n",
       "Volume        1300\n",
       "Market Cap    1300\n",
       "dtype: int64"
      ]
     },
     "execution_count": 33,
     "metadata": {},
     "output_type": "execute_result"
    }
   ],
   "source": [
    "df.count()"
   ]
  },
  {
   "cell_type": "markdown",
   "metadata": {},
   "source": [
    "as we can see we have in this file 7 columns and each column has 1300 cell"
   ]
  },
  {
   "cell_type": "code",
   "execution_count": 34,
   "metadata": {},
   "outputs": [
    {
     "data": {
      "text/html": [
       "<div>\n",
       "<style scoped>\n",
       "    .dataframe tbody tr th:only-of-type {\n",
       "        vertical-align: middle;\n",
       "    }\n",
       "\n",
       "    .dataframe tbody tr th {\n",
       "        vertical-align: top;\n",
       "    }\n",
       "\n",
       "    .dataframe thead th {\n",
       "        text-align: right;\n",
       "    }\n",
       "</style>\n",
       "<table border=\"1\" class=\"dataframe\">\n",
       "  <thead>\n",
       "    <tr style=\"text-align: right;\">\n",
       "      <th></th>\n",
       "      <th>Open</th>\n",
       "      <th>High</th>\n",
       "      <th>Low</th>\n",
       "      <th>Close</th>\n",
       "    </tr>\n",
       "  </thead>\n",
       "  <tbody>\n",
       "    <tr>\n",
       "      <td>count</td>\n",
       "      <td>1300.000000</td>\n",
       "      <td>1300.000000</td>\n",
       "      <td>1300.000000</td>\n",
       "      <td>1300.000000</td>\n",
       "    </tr>\n",
       "    <tr>\n",
       "      <td>mean</td>\n",
       "      <td>25.991675</td>\n",
       "      <td>27.493179</td>\n",
       "      <td>24.832110</td>\n",
       "      <td>26.235612</td>\n",
       "    </tr>\n",
       "    <tr>\n",
       "      <td>std</td>\n",
       "      <td>58.357573</td>\n",
       "      <td>61.685784</td>\n",
       "      <td>55.730453</td>\n",
       "      <td>58.913160</td>\n",
       "    </tr>\n",
       "    <tr>\n",
       "      <td>min</td>\n",
       "      <td>0.213899</td>\n",
       "      <td>0.354461</td>\n",
       "      <td>0.213899</td>\n",
       "      <td>0.314865</td>\n",
       "    </tr>\n",
       "    <tr>\n",
       "      <td>25%</td>\n",
       "      <td>2.550000</td>\n",
       "      <td>2.717500</td>\n",
       "      <td>2.440000</td>\n",
       "      <td>2.557500</td>\n",
       "    </tr>\n",
       "    <tr>\n",
       "      <td>50%</td>\n",
       "      <td>4.605000</td>\n",
       "      <td>5.095000</td>\n",
       "      <td>4.250000</td>\n",
       "      <td>4.605000</td>\n",
       "    </tr>\n",
       "    <tr>\n",
       "      <td>75%</td>\n",
       "      <td>11.092500</td>\n",
       "      <td>11.542500</td>\n",
       "      <td>10.542500</td>\n",
       "      <td>11.102500</td>\n",
       "    </tr>\n",
       "    <tr>\n",
       "      <td>max</td>\n",
       "      <td>400.420000</td>\n",
       "      <td>409.770000</td>\n",
       "      <td>376.340000</td>\n",
       "      <td>399.850000</td>\n",
       "    </tr>\n",
       "  </tbody>\n",
       "</table>\n",
       "</div>"
      ],
      "text/plain": [
       "              Open         High          Low        Close\n",
       "count  1300.000000  1300.000000  1300.000000  1300.000000\n",
       "mean     25.991675    27.493179    24.832110    26.235612\n",
       "std      58.357573    61.685784    55.730453    58.913160\n",
       "min       0.213899     0.354461     0.213899     0.314865\n",
       "25%       2.550000     2.717500     2.440000     2.557500\n",
       "50%       4.605000     5.095000     4.250000     4.605000\n",
       "75%      11.092500    11.542500    10.542500    11.102500\n",
       "max     400.420000   409.770000   376.340000   399.850000"
      ]
     },
     "execution_count": 34,
     "metadata": {},
     "output_type": "execute_result"
    }
   ],
   "source": [
    "df.describe()"
   ]
  },
  {
   "cell_type": "code",
   "execution_count": 35,
   "metadata": {
    "scrolled": true
   },
   "outputs": [
    {
     "name": "stdout",
     "output_type": "stream",
     "text": [
      "<class 'pandas.core.frame.DataFrame'>\n",
      "RangeIndex: 1300 entries, 0 to 1299\n",
      "Data columns (total 7 columns):\n",
      "Date          1300 non-null datetime64[ns]\n",
      "Open          1300 non-null float64\n",
      "High          1300 non-null float64\n",
      "Low           1300 non-null float64\n",
      "Close         1300 non-null float64\n",
      "Volume        1300 non-null object\n",
      "Market Cap    1300 non-null object\n",
      "dtypes: datetime64[ns](1), float64(4), object(2)\n",
      "memory usage: 71.2+ KB\n"
     ]
    }
   ],
   "source": [
    "# General Information \n",
    "df.info()"
   ]
  },
  {
   "cell_type": "code",
   "execution_count": 36,
   "metadata": {},
   "outputs": [
    {
     "data": {
      "text/plain": [
       "0       False\n",
       "1       False\n",
       "2       False\n",
       "3       False\n",
       "4       False\n",
       "        ...  \n",
       "1295    False\n",
       "1296    False\n",
       "1297    False\n",
       "1298    False\n",
       "1299    False\n",
       "Length: 1300, dtype: bool"
      ]
     },
     "execution_count": 36,
     "metadata": {},
     "output_type": "execute_result"
    }
   ],
   "source": [
    "#check if the dataset is duplicated\n",
    "df.duplicated()"
   ]
  },
  {
   "cell_type": "code",
   "execution_count": 37,
   "metadata": {},
   "outputs": [
    {
     "data": {
      "text/plain": [
       "Date          0\n",
       "Open          0\n",
       "High          0\n",
       "Low           0\n",
       "Close         0\n",
       "Volume        0\n",
       "Market Cap    0\n",
       "dtype: int64"
      ]
     },
     "execution_count": 37,
     "metadata": {},
     "output_type": "execute_result"
    }
   ],
   "source": [
    "# check and print the number of empty cells (missing data) in each coulmn \n",
    "df.isnull().sum()"
   ]
  },
  {
   "cell_type": "markdown",
   "metadata": {},
   "source": [
    "as we can see the data frame has 7 columns. each column has 229 cell, and there is no missing data, \n",
    "* Volume and Market cap data type are object, it should be number. "
   ]
  },
  {
   "cell_type": "markdown",
   "metadata": {},
   "source": [
    "#### 2. Cleaning Data"
   ]
  },
  {
   "cell_type": "markdown",
   "metadata": {},
   "source": [
    "as i mentioned before the \"Volume and Market Cap\" have different format and python concedered that as a string not number, so we have to convert all strings into numbers and \n",
    "     "
   ]
  },
  {
   "cell_type": "code",
   "execution_count": 38,
   "metadata": {},
   "outputs": [
    {
     "name": "stdout",
     "output_type": "stream",
     "text": [
      "Volume Data Type : <class 'str'>\n",
      "Market Cap Data Type : <class 'str'>\n"
     ]
    }
   ],
   "source": [
    "print('Volume Data Type :', type(df.Volume[0]))\n",
    "print('Market Cap Data Type :', type(df['Market Cap'][0]))"
   ]
  },
  {
   "cell_type": "code",
   "execution_count": 39,
   "metadata": {
    "scrolled": true
   },
   "outputs": [
    {
     "data": {
      "text/html": [
       "<div>\n",
       "<style scoped>\n",
       "    .dataframe tbody tr th:only-of-type {\n",
       "        vertical-align: middle;\n",
       "    }\n",
       "\n",
       "    .dataframe tbody tr th {\n",
       "        vertical-align: top;\n",
       "    }\n",
       "\n",
       "    .dataframe thead th {\n",
       "        text-align: right;\n",
       "    }\n",
       "</style>\n",
       "<table border=\"1\" class=\"dataframe\">\n",
       "  <thead>\n",
       "    <tr style=\"text-align: right;\">\n",
       "      <th></th>\n",
       "      <th>Open</th>\n",
       "      <th>High</th>\n",
       "      <th>Low</th>\n",
       "      <th>Close</th>\n",
       "      <th>Volume</th>\n",
       "      <th>Market Cap</th>\n",
       "    </tr>\n",
       "  </thead>\n",
       "  <tbody>\n",
       "    <tr>\n",
       "      <td>count</td>\n",
       "      <td>1300.000000</td>\n",
       "      <td>1300.000000</td>\n",
       "      <td>1300.000000</td>\n",
       "      <td>1300.000000</td>\n",
       "      <td>1.300000e+03</td>\n",
       "      <td>1.300000e+03</td>\n",
       "    </tr>\n",
       "    <tr>\n",
       "      <td>mean</td>\n",
       "      <td>25.991675</td>\n",
       "      <td>27.493179</td>\n",
       "      <td>24.832110</td>\n",
       "      <td>26.235612</td>\n",
       "      <td>6.241615e+06</td>\n",
       "      <td>1.860709e+08</td>\n",
       "    </tr>\n",
       "    <tr>\n",
       "      <td>std</td>\n",
       "      <td>58.357573</td>\n",
       "      <td>61.685784</td>\n",
       "      <td>55.730453</td>\n",
       "      <td>58.913160</td>\n",
       "      <td>1.833914e+07</td>\n",
       "      <td>4.366053e+08</td>\n",
       "    </tr>\n",
       "    <tr>\n",
       "      <td>min</td>\n",
       "      <td>0.213899</td>\n",
       "      <td>0.354461</td>\n",
       "      <td>0.213899</td>\n",
       "      <td>0.314865</td>\n",
       "      <td>9.604000e+03</td>\n",
       "      <td>7.025370e+05</td>\n",
       "    </tr>\n",
       "    <tr>\n",
       "      <td>25%</td>\n",
       "      <td>2.550000</td>\n",
       "      <td>2.717500</td>\n",
       "      <td>2.440000</td>\n",
       "      <td>2.557500</td>\n",
       "      <td>7.173700e+04</td>\n",
       "      <td>1.409845e+07</td>\n",
       "    </tr>\n",
       "    <tr>\n",
       "      <td>50%</td>\n",
       "      <td>4.605000</td>\n",
       "      <td>5.095000</td>\n",
       "      <td>4.250000</td>\n",
       "      <td>4.605000</td>\n",
       "      <td>2.424410e+05</td>\n",
       "      <td>2.574805e+07</td>\n",
       "    </tr>\n",
       "    <tr>\n",
       "      <td>75%</td>\n",
       "      <td>11.092500</td>\n",
       "      <td>11.542500</td>\n",
       "      <td>10.542500</td>\n",
       "      <td>11.102500</td>\n",
       "      <td>1.140588e+06</td>\n",
       "      <td>7.024395e+07</td>\n",
       "    </tr>\n",
       "    <tr>\n",
       "      <td>max</td>\n",
       "      <td>400.420000</td>\n",
       "      <td>409.770000</td>\n",
       "      <td>376.340000</td>\n",
       "      <td>399.850000</td>\n",
       "      <td>2.674150e+08</td>\n",
       "      <td>3.009530e+09</td>\n",
       "    </tr>\n",
       "  </tbody>\n",
       "</table>\n",
       "</div>"
      ],
      "text/plain": [
       "              Open         High          Low        Close        Volume  \\\n",
       "count  1300.000000  1300.000000  1300.000000  1300.000000  1.300000e+03   \n",
       "mean     25.991675    27.493179    24.832110    26.235612  6.241615e+06   \n",
       "std      58.357573    61.685784    55.730453    58.913160  1.833914e+07   \n",
       "min       0.213899     0.354461     0.213899     0.314865  9.604000e+03   \n",
       "25%       2.550000     2.717500     2.440000     2.557500  7.173700e+04   \n",
       "50%       4.605000     5.095000     4.250000     4.605000  2.424410e+05   \n",
       "75%      11.092500    11.542500    10.542500    11.102500  1.140588e+06   \n",
       "max     400.420000   409.770000   376.340000   399.850000  2.674150e+08   \n",
       "\n",
       "         Market Cap  \n",
       "count  1.300000e+03  \n",
       "mean   1.860709e+08  \n",
       "std    4.366053e+08  \n",
       "min    7.025370e+05  \n",
       "25%    1.409845e+07  \n",
       "50%    2.574805e+07  \n",
       "75%    7.024395e+07  \n",
       "max    3.009530e+09  "
      ]
     },
     "execution_count": 39,
     "metadata": {},
     "output_type": "execute_result"
    }
   ],
   "source": [
    "def convert_to_number(x):\n",
    "    try:\n",
    "        return int(x.replace(',',''))\n",
    "    except:\n",
    "        return x\n",
    "\n",
    "df.Volume = df.Volume.apply(convert_to_number)\n",
    "df['Market Cap'] = df['Market Cap'].apply(convert_to_number)\n",
    "\n",
    "df.describe()"
   ]
  },
  {
   "cell_type": "code",
   "execution_count": 40,
   "metadata": {},
   "outputs": [
    {
     "name": "stdout",
     "output_type": "stream",
     "text": [
      "<class 'pandas.core.frame.DataFrame'>\n",
      "RangeIndex: 1300 entries, 0 to 1299\n",
      "Data columns (total 7 columns):\n",
      "Date          1300 non-null datetime64[ns]\n",
      "Open          1300 non-null float64\n",
      "High          1300 non-null float64\n",
      "Low           1300 non-null float64\n",
      "Close         1300 non-null float64\n",
      "Volume        1300 non-null int64\n",
      "Market Cap    1300 non-null int64\n",
      "dtypes: datetime64[ns](1), float64(4), int64(2)\n",
      "memory usage: 71.2 KB\n"
     ]
    }
   ],
   "source": [
    "df.info()"
   ]
  },
  {
   "cell_type": "code",
   "execution_count": 41,
   "metadata": {
    "scrolled": true
   },
   "outputs": [
    {
     "data": {
      "text/html": [
       "<div>\n",
       "<style scoped>\n",
       "    .dataframe tbody tr th:only-of-type {\n",
       "        vertical-align: middle;\n",
       "    }\n",
       "\n",
       "    .dataframe tbody tr th {\n",
       "        vertical-align: top;\n",
       "    }\n",
       "\n",
       "    .dataframe thead th {\n",
       "        text-align: right;\n",
       "    }\n",
       "</style>\n",
       "<table border=\"1\" class=\"dataframe\">\n",
       "  <thead>\n",
       "    <tr style=\"text-align: right;\">\n",
       "      <th></th>\n",
       "      <th>Open</th>\n",
       "      <th>High</th>\n",
       "      <th>Low</th>\n",
       "      <th>Close</th>\n",
       "      <th>Volume</th>\n",
       "      <th>Market Cap</th>\n",
       "    </tr>\n",
       "  </thead>\n",
       "  <tbody>\n",
       "    <tr>\n",
       "      <td>Open</td>\n",
       "      <td>1.000000</td>\n",
       "      <td>0.997043</td>\n",
       "      <td>0.998472</td>\n",
       "      <td>0.996400</td>\n",
       "      <td>0.803064</td>\n",
       "      <td>0.999860</td>\n",
       "    </tr>\n",
       "    <tr>\n",
       "      <td>High</td>\n",
       "      <td>0.997043</td>\n",
       "      <td>1.000000</td>\n",
       "      <td>0.996960</td>\n",
       "      <td>0.998859</td>\n",
       "      <td>0.838689</td>\n",
       "      <td>0.996853</td>\n",
       "    </tr>\n",
       "    <tr>\n",
       "      <td>Low</td>\n",
       "      <td>0.998472</td>\n",
       "      <td>0.996960</td>\n",
       "      <td>1.000000</td>\n",
       "      <td>0.998049</td>\n",
       "      <td>0.804534</td>\n",
       "      <td>0.998395</td>\n",
       "    </tr>\n",
       "    <tr>\n",
       "      <td>Close</td>\n",
       "      <td>0.996400</td>\n",
       "      <td>0.998859</td>\n",
       "      <td>0.998049</td>\n",
       "      <td>1.000000</td>\n",
       "      <td>0.829834</td>\n",
       "      <td>0.996279</td>\n",
       "    </tr>\n",
       "    <tr>\n",
       "      <td>Volume</td>\n",
       "      <td>0.803064</td>\n",
       "      <td>0.838689</td>\n",
       "      <td>0.804534</td>\n",
       "      <td>0.829834</td>\n",
       "      <td>1.000000</td>\n",
       "      <td>0.801209</td>\n",
       "    </tr>\n",
       "    <tr>\n",
       "      <td>Market Cap</td>\n",
       "      <td>0.999860</td>\n",
       "      <td>0.996853</td>\n",
       "      <td>0.998395</td>\n",
       "      <td>0.996279</td>\n",
       "      <td>0.801209</td>\n",
       "      <td>1.000000</td>\n",
       "    </tr>\n",
       "  </tbody>\n",
       "</table>\n",
       "</div>"
      ],
      "text/plain": [
       "                Open      High       Low     Close    Volume  Market Cap\n",
       "Open        1.000000  0.997043  0.998472  0.996400  0.803064    0.999860\n",
       "High        0.997043  1.000000  0.996960  0.998859  0.838689    0.996853\n",
       "Low         0.998472  0.996960  1.000000  0.998049  0.804534    0.998395\n",
       "Close       0.996400  0.998859  0.998049  1.000000  0.829834    0.996279\n",
       "Volume      0.803064  0.838689  0.804534  0.829834  1.000000    0.801209\n",
       "Market Cap  0.999860  0.996853  0.998395  0.996279  0.801209    1.000000"
      ]
     },
     "execution_count": 41,
     "metadata": {},
     "output_type": "execute_result"
    }
   ],
   "source": [
    "# correlation between columns\n",
    "correlation = df.corr(method=\"pearson\")\n",
    "correlation"
   ]
  },
  {
   "cell_type": "markdown",
   "metadata": {},
   "source": [
    "as we can see, the \"Market Cap and many other variables are almost the same, so let's plot data between Market Cap and other variable, then see the relation between the data\n"
   ]
  },
  {
   "cell_type": "code",
   "execution_count": 42,
   "metadata": {
    "scrolled": false
   },
   "outputs": [
    {
     "data": {
      "image/png": "[encoded data removed]",
      "text/plain": [
       "<Figure size 432x288 with 5 Axes>"
      ]
     },
     "metadata": {
      "needs_background": "light"
     },
     "output_type": "display_data"
    }
   ],
   "source": [
    "import matplotlib.pyplot as plt\n",
    "def plot_data(xdata,ydata,xlabel):\n",
    "    plt.scatter(xdata,ydata,marker='+',color='blue')\n",
    "    plt.ylabel('Market Cap')\n",
    "    plt.xlabel(xlabel)\n",
    "        \n",
    "plt.subplot(2,3,1)\n",
    "plot_data(df.Open, df['Market Cap'],'Open')\n",
    "plt.subplot(2,3,2)\n",
    "plot_data(df.Close, df['Market Cap'],'Close')\n",
    "plt.subplot(2,3,3)\n",
    "plot_data(df.High, df['Market Cap'],'High')\n",
    "plt.subplot(2,3,4)\n",
    "plot_data(df.Low, df['Market Cap'],'Low')\n",
    "plt.subplot(2,3,5)\n",
    "plot_data(df.Volume, df['Market Cap'],'Volume')"
   ]
  },
  {
   "cell_type": "markdown",
   "metadata": {},
   "source": [
    "as we can see the Market Cap and (Open, Close and High) have almost a linear relationship"
   ]
  },
  {
   "cell_type": "code",
   "execution_count": 43,
   "metadata": {},
   "outputs": [],
   "source": [
    "from sklearn import linear_model\n",
    "\n",
    "model       = linear_model.LinearRegression()\n",
    "Open        = df[['Open']]\n",
    "Market_Cap  = df['Market Cap']"
   ]
  },
  {
   "cell_type": "code",
   "execution_count": 44,
   "metadata": {},
   "outputs": [
    {
     "data": {
      "text/plain": [
       "LinearRegression(copy_X=True, fit_intercept=True, n_jobs=None, normalize=False)"
      ]
     },
     "execution_count": 44,
     "metadata": {},
     "output_type": "execute_result"
    }
   ],
   "source": [
    "model.fit(Open, Market_Cap)"
   ]
  },
  {
   "cell_type": "code",
   "execution_count": 45,
   "metadata": {},
   "outputs": [
    {
     "data": {
      "text/plain": [
       "0.9997207585541508"
      ]
     },
     "execution_count": 45,
     "metadata": {},
     "output_type": "execute_result"
    }
   ],
   "source": [
    "# Model Score\n",
    "model.score(Open, Market_Cap)"
   ]
  },
  {
   "cell_type": "markdown",
   "metadata": {},
   "source": [
    "#### 4. Data Visualization"
   ]
  },
  {
   "cell_type": "code",
   "execution_count": 48,
   "metadata": {},
   "outputs": [
    {
     "data": {
      "text/plain": [
       "<matplotlib.axes._subplots.AxesSubplot at 0x1a218a1dd0>"
      ]
     },
     "execution_count": 48,
     "metadata": {},
     "output_type": "execute_result"
    },
    {
     "data": {
      "image/png": "[encoded data removed]",
      "text/plain": [
       "<Figure size 432x288 with 6 Axes>"
      ]
     },
     "metadata": {
      "needs_background": "light"
     },
     "output_type": "display_data"
    }
   ],
   "source": [
    "%matplotlib inline\n",
    "    \n",
    "plt.subplot(2,3,1)\n",
    "plt.ylabel('Open')\n",
    "df.Open.plot()\n",
    "\n",
    "plt.subplot(2,3,2)\n",
    "plt.ylabel('High')\n",
    "df.High.plot()\n",
    "\n",
    "plt.subplot(2,3,3)\n",
    "plt.ylabel('Low')\n",
    "df.Low.plot()\n",
    "\n",
    "plt.subplot(2,3,4)\n",
    "plt.ylabel('Close')\n",
    "df.Close.plot()\n",
    "\n",
    "plt.subplot(2,3,5)\n",
    "plt.ylabel('Volume')\n",
    "df.Volume.plot()\n",
    "\n",
    "plt.subplot(2,3,6)\n",
    "plt.ylabel('Market Cap Predict')\n",
    "df['Market Cap'].plot()"
   ]
  },
  {
   "cell_type": "code",
   "execution_count": null,
   "metadata": {},
   "outputs": [],
   "source": []
  }
 ],
 "metadata": {
  "kernelspec": {
   "display_name": "Python 3",
   "language": "python",
   "name": "python3"
  },
  "language_info": {
   "codemirror_mode": {
    "name": "ipython",
    "version": 3
   },
   "file_extension": ".py",
   "mimetype": "text/x-python",
   "name": "python",
   "nbconvert_exporter": "python",
   "pygments_lexer": "ipython3",
   "version": "3.7.4"
  }
 },
 "nbformat": 4,
 "nbformat_minor": 2
}
