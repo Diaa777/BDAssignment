{
 "cells": [
  {
   "cell_type": "markdown",
   "metadata": {},
   "source": [
    "### Masive Data Assignment\n",
    " (second project)\n",
    "Read, Clean, and prepare the Data"
   ]
  },
  {
   "cell_type": "code",
   "execution_count": 1,
   "metadata": {},
   "outputs": [],
   "source": [
    "import pandas as pd\n",
    "import numpy as np\n",
    "import seaborn as sns\n",
    "import matplotlib.pyplot as plt"
   ]
  },
  {
   "cell_type": "markdown",
   "metadata": {},
   "source": [
    "### numeraire_price"
   ]
  },
  {
   "cell_type": "markdown",
   "metadata": {},
   "source": [
    "#### 1. Read the Data"
   ]
  },
  {
   "cell_type": "code",
   "execution_count": 2,
   "metadata": {
    "scrolled": false
   },
   "outputs": [
    {
     "data": {
      "text/html": [
       "<div>\n",
       "<style scoped>\n",
       "    .dataframe tbody tr th:only-of-type {\n",
       "        vertical-align: middle;\n",
       "    }\n",
       "\n",
       "    .dataframe tbody tr th {\n",
       "        vertical-align: top;\n",
       "    }\n",
       "\n",
       "    .dataframe thead th {\n",
       "        text-align: right;\n",
       "    }\n",
       "</style>\n",
       "<table border=\"1\" class=\"dataframe\">\n",
       "  <thead>\n",
       "    <tr style=\"text-align: right;\">\n",
       "      <th></th>\n",
       "      <th>Date</th>\n",
       "      <th>Open</th>\n",
       "      <th>High</th>\n",
       "      <th>Low</th>\n",
       "      <th>Close</th>\n",
       "      <th>Volume</th>\n",
       "      <th>Market Cap</th>\n",
       "    </tr>\n",
       "  </thead>\n",
       "  <tbody>\n",
       "    <tr>\n",
       "      <td>0</td>\n",
       "      <td>2017-09-05</td>\n",
       "      <td>20.87</td>\n",
       "      <td>23.62</td>\n",
       "      <td>18.91</td>\n",
       "      <td>21.53</td>\n",
       "      <td>349,885</td>\n",
       "      <td>26,115,800</td>\n",
       "    </tr>\n",
       "    <tr>\n",
       "      <td>1</td>\n",
       "      <td>2017-09-04</td>\n",
       "      <td>26.91</td>\n",
       "      <td>27.34</td>\n",
       "      <td>17.99</td>\n",
       "      <td>20.74</td>\n",
       "      <td>716,231</td>\n",
       "      <td>33,673,500</td>\n",
       "    </tr>\n",
       "    <tr>\n",
       "      <td>2</td>\n",
       "      <td>2017-09-03</td>\n",
       "      <td>27.70</td>\n",
       "      <td>29.36</td>\n",
       "      <td>24.99</td>\n",
       "      <td>26.90</td>\n",
       "      <td>493,926</td>\n",
       "      <td>34,662,300</td>\n",
       "    </tr>\n",
       "    <tr>\n",
       "      <td>3</td>\n",
       "      <td>2017-09-02</td>\n",
       "      <td>32.49</td>\n",
       "      <td>33.01</td>\n",
       "      <td>26.79</td>\n",
       "      <td>27.24</td>\n",
       "      <td>633,861</td>\n",
       "      <td>40,658,600</td>\n",
       "    </tr>\n",
       "    <tr>\n",
       "      <td>4</td>\n",
       "      <td>2017-09-01</td>\n",
       "      <td>35.67</td>\n",
       "      <td>35.90</td>\n",
       "      <td>31.35</td>\n",
       "      <td>32.45</td>\n",
       "      <td>1,024,920</td>\n",
       "      <td>44,636,600</td>\n",
       "    </tr>\n",
       "  </tbody>\n",
       "</table>\n",
       "</div>"
      ],
      "text/plain": [
       "        Date   Open   High    Low  Close     Volume  Market Cap\n",
       "0 2017-09-05  20.87  23.62  18.91  21.53    349,885  26,115,800\n",
       "1 2017-09-04  26.91  27.34  17.99  20.74    716,231  33,673,500\n",
       "2 2017-09-03  27.70  29.36  24.99  26.90    493,926  34,662,300\n",
       "3 2017-09-02  32.49  33.01  26.79  27.24    633,861  40,658,600\n",
       "4 2017-09-01  35.67  35.90  31.35  32.45  1,024,920  44,636,600"
      ]
     },
     "execution_count": 2,
     "metadata": {},
     "output_type": "execute_result"
    }
   ],
   "source": [
    "# Read Bitcoin Cash Price\n",
    "df = pd.read_csv('../data/raw/numeraire_price.csv', parse_dates = ['Date'])\n",
    "df.head()"
   ]
  },
  {
   "cell_type": "code",
   "execution_count": 3,
   "metadata": {},
   "outputs": [
    {
     "data": {
      "text/plain": [
       "Index(['Date', 'Open', 'High', 'Low', 'Close', 'Volume', 'Market Cap'], dtype='object')"
      ]
     },
     "execution_count": 3,
     "metadata": {},
     "output_type": "execute_result"
    }
   ],
   "source": [
    "df.columns"
   ]
  },
  {
   "cell_type": "code",
   "execution_count": 4,
   "metadata": {},
   "outputs": [
    {
     "data": {
      "text/plain": [
       "Date          30\n",
       "Open          30\n",
       "High          30\n",
       "Low           30\n",
       "Close         30\n",
       "Volume        30\n",
       "Market Cap    30\n",
       "dtype: int64"
      ]
     },
     "execution_count": 4,
     "metadata": {},
     "output_type": "execute_result"
    }
   ],
   "source": [
    "df.count()"
   ]
  },
  {
   "cell_type": "markdown",
   "metadata": {},
   "source": [
    "as we can see we have in this file 7 columns and each column has 30 cells"
   ]
  },
  {
   "cell_type": "code",
   "execution_count": 5,
   "metadata": {},
   "outputs": [
    {
     "data": {
      "text/html": [
       "<div>\n",
       "<style scoped>\n",
       "    .dataframe tbody tr th:only-of-type {\n",
       "        vertical-align: middle;\n",
       "    }\n",
       "\n",
       "    .dataframe tbody tr th {\n",
       "        vertical-align: top;\n",
       "    }\n",
       "\n",
       "    .dataframe thead th {\n",
       "        text-align: right;\n",
       "    }\n",
       "</style>\n",
       "<table border=\"1\" class=\"dataframe\">\n",
       "  <thead>\n",
       "    <tr style=\"text-align: right;\">\n",
       "      <th></th>\n",
       "      <th>Open</th>\n",
       "      <th>High</th>\n",
       "      <th>Low</th>\n",
       "      <th>Close</th>\n",
       "    </tr>\n",
       "  </thead>\n",
       "  <tbody>\n",
       "    <tr>\n",
       "      <td>count</td>\n",
       "      <td>30.000000</td>\n",
       "      <td>30.000000</td>\n",
       "      <td>30.000000</td>\n",
       "      <td>30.000000</td>\n",
       "    </tr>\n",
       "    <tr>\n",
       "      <td>mean</td>\n",
       "      <td>33.311333</td>\n",
       "      <td>36.487333</td>\n",
       "      <td>30.395667</td>\n",
       "      <td>33.009667</td>\n",
       "    </tr>\n",
       "    <tr>\n",
       "      <td>std</td>\n",
       "      <td>4.740261</td>\n",
       "      <td>5.773530</td>\n",
       "      <td>4.509950</td>\n",
       "      <td>5.114229</td>\n",
       "    </tr>\n",
       "    <tr>\n",
       "      <td>min</td>\n",
       "      <td>20.870000</td>\n",
       "      <td>23.620000</td>\n",
       "      <td>17.990000</td>\n",
       "      <td>20.740000</td>\n",
       "    </tr>\n",
       "    <tr>\n",
       "      <td>25%</td>\n",
       "      <td>29.447500</td>\n",
       "      <td>33.755000</td>\n",
       "      <td>26.790000</td>\n",
       "      <td>29.737500</td>\n",
       "    </tr>\n",
       "    <tr>\n",
       "      <td>50%</td>\n",
       "      <td>34.800000</td>\n",
       "      <td>36.925000</td>\n",
       "      <td>31.895000</td>\n",
       "      <td>34.745000</td>\n",
       "    </tr>\n",
       "    <tr>\n",
       "      <td>75%</td>\n",
       "      <td>35.560000</td>\n",
       "      <td>38.277500</td>\n",
       "      <td>33.525000</td>\n",
       "      <td>35.590000</td>\n",
       "    </tr>\n",
       "    <tr>\n",
       "      <td>max</td>\n",
       "      <td>43.830000</td>\n",
       "      <td>48.730000</td>\n",
       "      <td>34.850000</td>\n",
       "      <td>43.370000</td>\n",
       "    </tr>\n",
       "  </tbody>\n",
       "</table>\n",
       "</div>"
      ],
      "text/plain": [
       "            Open       High        Low      Close\n",
       "count  30.000000  30.000000  30.000000  30.000000\n",
       "mean   33.311333  36.487333  30.395667  33.009667\n",
       "std     4.740261   5.773530   4.509950   5.114229\n",
       "min    20.870000  23.620000  17.990000  20.740000\n",
       "25%    29.447500  33.755000  26.790000  29.737500\n",
       "50%    34.800000  36.925000  31.895000  34.745000\n",
       "75%    35.560000  38.277500  33.525000  35.590000\n",
       "max    43.830000  48.730000  34.850000  43.370000"
      ]
     },
     "execution_count": 5,
     "metadata": {},
     "output_type": "execute_result"
    }
   ],
   "source": [
    "df.describe()"
   ]
  },
  {
   "cell_type": "code",
   "execution_count": 7,
   "metadata": {
    "scrolled": true
   },
   "outputs": [
    {
     "name": "stdout",
     "output_type": "stream",
     "text": [
      "<class 'pandas.core.frame.DataFrame'>\n",
      "RangeIndex: 30 entries, 0 to 29\n",
      "Data columns (total 7 columns):\n",
      "Date          30 non-null datetime64[ns]\n",
      "Open          30 non-null float64\n",
      "High          30 non-null float64\n",
      "Low           30 non-null float64\n",
      "Close         30 non-null float64\n",
      "Volume        30 non-null object\n",
      "Market Cap    30 non-null object\n",
      "dtypes: datetime64[ns](1), float64(4), object(2)\n",
      "memory usage: 1.8+ KB\n"
     ]
    }
   ],
   "source": [
    "# General Information \n",
    "df.info()"
   ]
  },
  {
   "cell_type": "code",
   "execution_count": 8,
   "metadata": {},
   "outputs": [
    {
     "data": {
      "text/plain": [
       "0     False\n",
       "1     False\n",
       "2     False\n",
       "3     False\n",
       "4     False\n",
       "5     False\n",
       "6     False\n",
       "7     False\n",
       "8     False\n",
       "9     False\n",
       "10    False\n",
       "11    False\n",
       "12    False\n",
       "13    False\n",
       "14    False\n",
       "15    False\n",
       "16    False\n",
       "17    False\n",
       "18    False\n",
       "19    False\n",
       "20    False\n",
       "21    False\n",
       "22    False\n",
       "23    False\n",
       "24    False\n",
       "25    False\n",
       "26    False\n",
       "27    False\n",
       "28    False\n",
       "29    False\n",
       "dtype: bool"
      ]
     },
     "execution_count": 8,
     "metadata": {},
     "output_type": "execute_result"
    }
   ],
   "source": [
    "#check if the dataset is duplicated\n",
    "df.duplicated()"
   ]
  },
  {
   "cell_type": "markdown",
   "metadata": {},
   "source": [
    "as we can see the data fram has 7 columns. each column has 30 cells, and there is no missing data, but we hve to convert the dt type of the variables \"Volume\" and \"Market Cap\" to number\n",
    "\n"
   ]
  },
  {
   "cell_type": "code",
   "execution_count": 19,
   "metadata": {
    "scrolled": false
   },
   "outputs": [
    {
     "data": {
      "text/plain": [
       "Date          0\n",
       "Open          0\n",
       "High          0\n",
       "Low           0\n",
       "Close         0\n",
       "Volume        0\n",
       "Market Cap    0\n",
       "dtype: int64"
      ]
     },
     "execution_count": 19,
     "metadata": {},
     "output_type": "execute_result"
    }
   ],
   "source": [
    "# Count missing data in each column\n",
    "df.isnull().sum()"
   ]
  },
  {
   "cell_type": "markdown",
   "metadata": {},
   "source": [
    "we can see there is no missing data "
   ]
  },
  {
   "cell_type": "markdown",
   "metadata": {},
   "source": [
    "### cleaning Data\n"
   ]
  },
  {
   "cell_type": "code",
   "execution_count": 20,
   "metadata": {},
   "outputs": [
    {
     "name": "stdout",
     "output_type": "stream",
     "text": [
      "Volume Data Type : <class 'numpy.int64'>\n",
      "Market Cap Data Type : <class 'numpy.float64'>\n"
     ]
    }
   ],
   "source": [
    "print('Volume Data Type :', type(df.Volume[0]))\n",
    "print('Market Cap Data Type :', type(df['Market Cap'][0]))"
   ]
  },
  {
   "cell_type": "code",
   "execution_count": null,
   "metadata": {},
   "outputs": [],
   "source": []
  },
  {
   "cell_type": "code",
   "execution_count": 25,
   "metadata": {},
   "outputs": [
    {
     "data": {
      "text/html": [
       "<div>\n",
       "<style scoped>\n",
       "    .dataframe tbody tr th:only-of-type {\n",
       "        vertical-align: middle;\n",
       "    }\n",
       "\n",
       "    .dataframe tbody tr th {\n",
       "        vertical-align: top;\n",
       "    }\n",
       "\n",
       "    .dataframe thead th {\n",
       "        text-align: right;\n",
       "    }\n",
       "</style>\n",
       "<table border=\"1\" class=\"dataframe\">\n",
       "  <thead>\n",
       "    <tr style=\"text-align: right;\">\n",
       "      <th></th>\n",
       "      <th>Open</th>\n",
       "      <th>High</th>\n",
       "      <th>Low</th>\n",
       "      <th>Close</th>\n",
       "      <th>Volume</th>\n",
       "      <th>Market Cap</th>\n",
       "    </tr>\n",
       "  </thead>\n",
       "  <tbody>\n",
       "    <tr>\n",
       "      <td>count</td>\n",
       "      <td>30.000000</td>\n",
       "      <td>30.000000</td>\n",
       "      <td>30.000000</td>\n",
       "      <td>30.000000</td>\n",
       "      <td>3.000000e+01</td>\n",
       "      <td>3.000000e+01</td>\n",
       "    </tr>\n",
       "    <tr>\n",
       "      <td>mean</td>\n",
       "      <td>33.311333</td>\n",
       "      <td>36.487333</td>\n",
       "      <td>30.395667</td>\n",
       "      <td>33.009667</td>\n",
       "      <td>9.233835e+05</td>\n",
       "      <td>4.166209e+07</td>\n",
       "    </tr>\n",
       "    <tr>\n",
       "      <td>std</td>\n",
       "      <td>4.740261</td>\n",
       "      <td>5.773530</td>\n",
       "      <td>4.509950</td>\n",
       "      <td>5.114229</td>\n",
       "      <td>7.136879e+05</td>\n",
       "      <td>6.007867e+06</td>\n",
       "    </tr>\n",
       "    <tr>\n",
       "      <td>min</td>\n",
       "      <td>20.870000</td>\n",
       "      <td>23.620000</td>\n",
       "      <td>17.990000</td>\n",
       "      <td>20.740000</td>\n",
       "      <td>3.498850e+05</td>\n",
       "      <td>2.611580e+07</td>\n",
       "    </tr>\n",
       "    <tr>\n",
       "      <td>25%</td>\n",
       "      <td>29.447500</td>\n",
       "      <td>33.755000</td>\n",
       "      <td>26.790000</td>\n",
       "      <td>29.737500</td>\n",
       "      <td>4.721230e+05</td>\n",
       "      <td>3.689638e+07</td>\n",
       "    </tr>\n",
       "    <tr>\n",
       "      <td>50%</td>\n",
       "      <td>34.800000</td>\n",
       "      <td>36.925000</td>\n",
       "      <td>31.895000</td>\n",
       "      <td>34.745000</td>\n",
       "      <td>6.750460e+05</td>\n",
       "      <td>4.359285e+07</td>\n",
       "    </tr>\n",
       "    <tr>\n",
       "      <td>75%</td>\n",
       "      <td>35.560000</td>\n",
       "      <td>38.277500</td>\n",
       "      <td>33.525000</td>\n",
       "      <td>35.590000</td>\n",
       "      <td>9.848892e+05</td>\n",
       "      <td>4.454140e+07</td>\n",
       "    </tr>\n",
       "    <tr>\n",
       "      <td>max</td>\n",
       "      <td>43.830000</td>\n",
       "      <td>48.730000</td>\n",
       "      <td>34.850000</td>\n",
       "      <td>43.370000</td>\n",
       "      <td>3.202390e+06</td>\n",
       "      <td>5.491300e+07</td>\n",
       "    </tr>\n",
       "  </tbody>\n",
       "</table>\n",
       "</div>"
      ],
      "text/plain": [
       "            Open       High        Low      Close        Volume    Market Cap\n",
       "count  30.000000  30.000000  30.000000  30.000000  3.000000e+01  3.000000e+01\n",
       "mean   33.311333  36.487333  30.395667  33.009667  9.233835e+05  4.166209e+07\n",
       "std     4.740261   5.773530   4.509950   5.114229  7.136879e+05  6.007867e+06\n",
       "min    20.870000  23.620000  17.990000  20.740000  3.498850e+05  2.611580e+07\n",
       "25%    29.447500  33.755000  26.790000  29.737500  4.721230e+05  3.689638e+07\n",
       "50%    34.800000  36.925000  31.895000  34.745000  6.750460e+05  4.359285e+07\n",
       "75%    35.560000  38.277500  33.525000  35.590000  9.848892e+05  4.454140e+07\n",
       "max    43.830000  48.730000  34.850000  43.370000  3.202390e+06  5.491300e+07"
      ]
     },
     "execution_count": 25,
     "metadata": {},
     "output_type": "execute_result"
    }
   ],
   "source": [
    "def convert_to_number(x):\n",
    "    try:\n",
    "        return int(x.replace(',',''))\n",
    "    except:\n",
    "        return x\n",
    "\n",
    "df.Volume = df.Volume.apply(convert_to_number)\n",
    "df['Market Cap'] = df['Market Cap'].apply(lambda x: float(str(x).replace(',','')))\n",
    "\n",
    "df.describe()"
   ]
  },
  {
   "cell_type": "code",
   "execution_count": 26,
   "metadata": {
    "scrolled": true
   },
   "outputs": [
    {
     "data": {
      "text/html": [
       "<div>\n",
       "<style scoped>\n",
       "    .dataframe tbody tr th:only-of-type {\n",
       "        vertical-align: middle;\n",
       "    }\n",
       "\n",
       "    .dataframe tbody tr th {\n",
       "        vertical-align: top;\n",
       "    }\n",
       "\n",
       "    .dataframe thead th {\n",
       "        text-align: right;\n",
       "    }\n",
       "</style>\n",
       "<table border=\"1\" class=\"dataframe\">\n",
       "  <thead>\n",
       "    <tr style=\"text-align: right;\">\n",
       "      <th></th>\n",
       "      <th>Open</th>\n",
       "      <th>High</th>\n",
       "      <th>Low</th>\n",
       "      <th>Close</th>\n",
       "      <th>Volume</th>\n",
       "      <th>Market Cap</th>\n",
       "    </tr>\n",
       "  </thead>\n",
       "  <tbody>\n",
       "    <tr>\n",
       "      <td>Open</td>\n",
       "      <td>1.000000</td>\n",
       "      <td>0.778435</td>\n",
       "      <td>0.845710</td>\n",
       "      <td>0.710838</td>\n",
       "      <td>0.102777</td>\n",
       "      <td>0.999443</td>\n",
       "    </tr>\n",
       "    <tr>\n",
       "      <td>High</td>\n",
       "      <td>0.778435</td>\n",
       "      <td>1.000000</td>\n",
       "      <td>0.714046</td>\n",
       "      <td>0.855607</td>\n",
       "      <td>0.647470</td>\n",
       "      <td>0.782500</td>\n",
       "    </tr>\n",
       "    <tr>\n",
       "      <td>Low</td>\n",
       "      <td>0.845710</td>\n",
       "      <td>0.714046</td>\n",
       "      <td>1.000000</td>\n",
       "      <td>0.868763</td>\n",
       "      <td>0.022363</td>\n",
       "      <td>0.845995</td>\n",
       "    </tr>\n",
       "    <tr>\n",
       "      <td>Close</td>\n",
       "      <td>0.710838</td>\n",
       "      <td>0.855607</td>\n",
       "      <td>0.868763</td>\n",
       "      <td>1.000000</td>\n",
       "      <td>0.381593</td>\n",
       "      <td>0.712983</td>\n",
       "    </tr>\n",
       "    <tr>\n",
       "      <td>Volume</td>\n",
       "      <td>0.102777</td>\n",
       "      <td>0.647470</td>\n",
       "      <td>0.022363</td>\n",
       "      <td>0.381593</td>\n",
       "      <td>1.000000</td>\n",
       "      <td>0.108147</td>\n",
       "    </tr>\n",
       "    <tr>\n",
       "      <td>Market Cap</td>\n",
       "      <td>0.999443</td>\n",
       "      <td>0.782500</td>\n",
       "      <td>0.845995</td>\n",
       "      <td>0.712983</td>\n",
       "      <td>0.108147</td>\n",
       "      <td>1.000000</td>\n",
       "    </tr>\n",
       "  </tbody>\n",
       "</table>\n",
       "</div>"
      ],
      "text/plain": [
       "                Open      High       Low     Close    Volume  Market Cap\n",
       "Open        1.000000  0.778435  0.845710  0.710838  0.102777    0.999443\n",
       "High        0.778435  1.000000  0.714046  0.855607  0.647470    0.782500\n",
       "Low         0.845710  0.714046  1.000000  0.868763  0.022363    0.845995\n",
       "Close       0.710838  0.855607  0.868763  1.000000  0.381593    0.712983\n",
       "Volume      0.102777  0.647470  0.022363  0.381593  1.000000    0.108147\n",
       "Market Cap  0.999443  0.782500  0.845995  0.712983  0.108147    1.000000"
      ]
     },
     "execution_count": 26,
     "metadata": {},
     "output_type": "execute_result"
    }
   ],
   "source": [
    "# correlation between columns\n",
    "correlation = df.corr(method=\"pearson\")\n",
    "correlation"
   ]
  },
  {
   "cell_type": "markdown",
   "metadata": {},
   "source": [
    "let's plot data between Market Cap and other variable, then see the relation between the data\n"
   ]
  },
  {
   "cell_type": "code",
   "execution_count": 27,
   "metadata": {
    "scrolled": false
   },
   "outputs": [
    {
     "data": {
      "image/png": "[encoded data removed]",
      "text/plain": [
       "<Figure size 432x288 with 5 Axes>"
      ]
     },
     "metadata": {
      "needs_background": "light"
     },
     "output_type": "display_data"
    }
   ],
   "source": [
    "import matplotlib.pyplot as plt\n",
    "def plot_data(xdata,ydata,xlabel):\n",
    "    plt.scatter(xdata,ydata,marker='+',color='blue')\n",
    "    plt.ylabel('Market Cap')\n",
    "    plt.xlabel(xlabel)\n",
    "        \n",
    "plt.subplot(2,3,1)\n",
    "plot_data(df.Open, df['Market Cap'],'Open')\n",
    "plt.subplot(2,3,2)\n",
    "plot_data(df.Close, df['Market Cap'],'Close')\n",
    "plt.subplot(2,3,3)\n",
    "plot_data(df.High, df['Market Cap'],'High')\n",
    "plt.subplot(2,3,4)\n",
    "plot_data(df.Low, df['Market Cap'],'Low')\n",
    "plt.subplot(2,3,5)\n",
    "plot_data(df.Volume, df['Market Cap'],'Volume')"
   ]
  },
  {
   "cell_type": "code",
   "execution_count": 28,
   "metadata": {},
   "outputs": [],
   "source": [
    "from sklearn import linear_model\n",
    "\n",
    "model       = linear_model.LinearRegression()\n",
    "Open        = df[['Open']]\n",
    "Market_Cap  = df['Market Cap']"
   ]
  },
  {
   "cell_type": "code",
   "execution_count": 29,
   "metadata": {},
   "outputs": [
    {
     "data": {
      "text/plain": [
       "LinearRegression(copy_X=True, fit_intercept=True, n_jobs=None, normalize=False)"
      ]
     },
     "execution_count": 29,
     "metadata": {},
     "output_type": "execute_result"
    }
   ],
   "source": [
    "# train data using linear regression \n",
    "model.fit(Open, Market_Cap)"
   ]
  },
  {
   "cell_type": "code",
   "execution_count": 30,
   "metadata": {},
   "outputs": [
    {
     "data": {
      "text/plain": [
       "0.9988868606070908"
      ]
     },
     "execution_count": 30,
     "metadata": {},
     "output_type": "execute_result"
    }
   ],
   "source": [
    "# Model Score\n",
    "model.score(Open, Market_Cap)"
   ]
  },
  {
   "cell_type": "markdown",
   "metadata": {},
   "source": [
    "#### 4. Data Visualization"
   ]
  },
  {
   "cell_type": "code",
   "execution_count": 31,
   "metadata": {},
   "outputs": [
    {
     "data": {
      "text/plain": [
       "<matplotlib.axes._subplots.AxesSubplot at 0x1a25f34890>"
      ]
     },
     "execution_count": 31,
     "metadata": {},
     "output_type": "execute_result"
    },
    {
     "data": {
      "image/png": "[encoded data removed]",
      "text/plain": [
       "<Figure size 432x288 with 6 Axes>"
      ]
     },
     "metadata": {
      "needs_background": "light"
     },
     "output_type": "display_data"
    }
   ],
   "source": [
    "%matplotlib inline\n",
    "    \n",
    "plt.subplot(2,3,1)\n",
    "plt.ylabel('Open')\n",
    "df.Open.plot()\n",
    "\n",
    "plt.subplot(2,3,2)\n",
    "plt.ylabel('High')\n",
    "df.High.plot()\n",
    "\n",
    "plt.subplot(2,3,3)\n",
    "plt.ylabel('Low')\n",
    "df.Low.plot()\n",
    "\n",
    "plt.subplot(2,3,4)\n",
    "plt.ylabel('Close')\n",
    "df.Close.plot()\n",
    "\n",
    "plt.subplot(2,3,5)\n",
    "plt.ylabel('Volume')\n",
    "df.Volume.plot()\n",
    "\n",
    "plt.subplot(2,3,6)\n",
    "plt.ylabel('Market Cap')\n",
    "df['Market Cap'].plot()"
   ]
  },
  {
   "cell_type": "code",
   "execution_count": null,
   "metadata": {},
   "outputs": [],
   "source": []
  }
 ],
 "metadata": {
  "kernelspec": {
   "display_name": "Python 3",
   "language": "python",
   "name": "python3"
  },
  "language_info": {
   "codemirror_mode": {
    "name": "ipython",
    "version": 3
   },
   "file_extension": ".py",
   "mimetype": "text/x-python",
   "name": "python",
   "nbconvert_exporter": "python",
   "pygments_lexer": "ipython3",
   "version": "3.7.4"
  }
 },
 "nbformat": 4,
 "nbformat_minor": 2
}
