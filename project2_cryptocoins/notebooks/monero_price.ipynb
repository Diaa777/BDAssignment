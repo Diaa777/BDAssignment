{
 "cells": [
  {
   "cell_type": "markdown",
   "metadata": {},
   "source": [
    "### Masive Data Assignment\n",
    " (second project)\n",
    "Read, Clean, and prepare the Data"
   ]
  },
  {
   "cell_type": "code",
   "execution_count": 1,
   "metadata": {},
   "outputs": [],
   "source": [
    "import pandas as pd\n",
    "import numpy as np\n",
    "import seaborn as sns\n",
    "import matplotlib.pyplot as plt"
   ]
  },
  {
   "cell_type": "markdown",
   "metadata": {},
   "source": [
    "### monero_price"
   ]
  },
  {
   "cell_type": "markdown",
   "metadata": {},
   "source": [
    "#### 1. Read the Data"
   ]
  },
  {
   "cell_type": "code",
   "execution_count": 2,
   "metadata": {
    "scrolled": false
   },
   "outputs": [
    {
     "data": {
      "text/html": [
       "<div>\n",
       "<style scoped>\n",
       "    .dataframe tbody tr th:only-of-type {\n",
       "        vertical-align: middle;\n",
       "    }\n",
       "\n",
       "    .dataframe tbody tr th {\n",
       "        vertical-align: top;\n",
       "    }\n",
       "\n",
       "    .dataframe thead th {\n",
       "        text-align: right;\n",
       "    }\n",
       "</style>\n",
       "<table border=\"1\" class=\"dataframe\">\n",
       "  <thead>\n",
       "    <tr style=\"text-align: right;\">\n",
       "      <th></th>\n",
       "      <th>Date</th>\n",
       "      <th>Open</th>\n",
       "      <th>High</th>\n",
       "      <th>Low</th>\n",
       "      <th>Close</th>\n",
       "      <th>Volume</th>\n",
       "      <th>Market Cap</th>\n",
       "    </tr>\n",
       "  </thead>\n",
       "  <tbody>\n",
       "    <tr>\n",
       "      <td>0</td>\n",
       "      <td>2017-09-05</td>\n",
       "      <td>106.75</td>\n",
       "      <td>122.63</td>\n",
       "      <td>95.81</td>\n",
       "      <td>118.82</td>\n",
       "      <td>113378000</td>\n",
       "      <td>1605070000</td>\n",
       "    </tr>\n",
       "    <tr>\n",
       "      <td>1</td>\n",
       "      <td>2017-09-04</td>\n",
       "      <td>126.23</td>\n",
       "      <td>126.23</td>\n",
       "      <td>101.73</td>\n",
       "      <td>106.17</td>\n",
       "      <td>89194700</td>\n",
       "      <td>1897480000</td>\n",
       "    </tr>\n",
       "    <tr>\n",
       "      <td>2</td>\n",
       "      <td>2017-09-03</td>\n",
       "      <td>124.93</td>\n",
       "      <td>129.29</td>\n",
       "      <td>115.74</td>\n",
       "      <td>126.01</td>\n",
       "      <td>92631100</td>\n",
       "      <td>1877380000</td>\n",
       "    </tr>\n",
       "    <tr>\n",
       "      <td>3</td>\n",
       "      <td>2017-09-02</td>\n",
       "      <td>141.35</td>\n",
       "      <td>141.40</td>\n",
       "      <td>121.96</td>\n",
       "      <td>124.80</td>\n",
       "      <td>128849000</td>\n",
       "      <td>2123430000</td>\n",
       "    </tr>\n",
       "    <tr>\n",
       "      <td>4</td>\n",
       "      <td>2017-09-01</td>\n",
       "      <td>140.65</td>\n",
       "      <td>150.09</td>\n",
       "      <td>136.49</td>\n",
       "      <td>141.20</td>\n",
       "      <td>163961000</td>\n",
       "      <td>2112260000</td>\n",
       "    </tr>\n",
       "  </tbody>\n",
       "</table>\n",
       "</div>"
      ],
      "text/plain": [
       "        Date    Open    High     Low   Close     Volume  Market Cap\n",
       "0 2017-09-05  106.75  122.63   95.81  118.82  113378000  1605070000\n",
       "1 2017-09-04  126.23  126.23  101.73  106.17   89194700  1897480000\n",
       "2 2017-09-03  124.93  129.29  115.74  126.01   92631100  1877380000\n",
       "3 2017-09-02  141.35  141.40  121.96  124.80  128849000  2123430000\n",
       "4 2017-09-01  140.65  150.09  136.49  141.20  163961000  2112260000"
      ]
     },
     "execution_count": 2,
     "metadata": {},
     "output_type": "execute_result"
    }
   ],
   "source": [
    "# Read Bitcoin Cash Price\n",
    "df = pd.read_csv('../data/raw/monero_price.csv', parse_dates = ['Date'])\n",
    "df.head()"
   ]
  },
  {
   "cell_type": "code",
   "execution_count": 3,
   "metadata": {},
   "outputs": [
    {
     "data": {
      "text/plain": [
       "Index(['Date', 'Open', 'High', 'Low', 'Close', 'Volume', 'Market Cap'], dtype='object')"
      ]
     },
     "execution_count": 3,
     "metadata": {},
     "output_type": "execute_result"
    }
   ],
   "source": [
    "df.columns"
   ]
  },
  {
   "cell_type": "code",
   "execution_count": 4,
   "metadata": {},
   "outputs": [
    {
     "data": {
      "text/plain": [
       "Date          1203\n",
       "Open          1203\n",
       "High          1203\n",
       "Low           1203\n",
       "Close         1203\n",
       "Volume        1203\n",
       "Market Cap    1203\n",
       "dtype: int64"
      ]
     },
     "execution_count": 4,
     "metadata": {},
     "output_type": "execute_result"
    }
   ],
   "source": [
    "df.count()"
   ]
  },
  {
   "cell_type": "markdown",
   "metadata": {},
   "source": [
    "as we can see we have in this file 7 columns and each column has 1203 cells"
   ]
  },
  {
   "cell_type": "code",
   "execution_count": 5,
   "metadata": {},
   "outputs": [
    {
     "data": {
      "text/html": [
       "<div>\n",
       "<style scoped>\n",
       "    .dataframe tbody tr th:only-of-type {\n",
       "        vertical-align: middle;\n",
       "    }\n",
       "\n",
       "    .dataframe tbody tr th {\n",
       "        vertical-align: top;\n",
       "    }\n",
       "\n",
       "    .dataframe thead th {\n",
       "        text-align: right;\n",
       "    }\n",
       "</style>\n",
       "<table border=\"1\" class=\"dataframe\">\n",
       "  <thead>\n",
       "    <tr style=\"text-align: right;\">\n",
       "      <th></th>\n",
       "      <th>Open</th>\n",
       "      <th>High</th>\n",
       "      <th>Low</th>\n",
       "      <th>Close</th>\n",
       "      <th>Volume</th>\n",
       "      <th>Market Cap</th>\n",
       "    </tr>\n",
       "  </thead>\n",
       "  <tbody>\n",
       "    <tr>\n",
       "      <td>count</td>\n",
       "      <td>1203.000000</td>\n",
       "      <td>1203.000000</td>\n",
       "      <td>1203.000000</td>\n",
       "      <td>1203.000000</td>\n",
       "      <td>1.203000e+03</td>\n",
       "      <td>1.203000e+03</td>\n",
       "    </tr>\n",
       "    <tr>\n",
       "      <td>mean</td>\n",
       "      <td>8.569395</td>\n",
       "      <td>9.154209</td>\n",
       "      <td>8.106735</td>\n",
       "      <td>8.663258</td>\n",
       "      <td>4.844432e+06</td>\n",
       "      <td>1.189434e+08</td>\n",
       "    </tr>\n",
       "    <tr>\n",
       "      <td>std</td>\n",
       "      <td>17.749751</td>\n",
       "      <td>19.112540</td>\n",
       "      <td>16.622019</td>\n",
       "      <td>18.029172</td>\n",
       "      <td>1.831849e+07</td>\n",
       "      <td>2.655690e+08</td>\n",
       "    </tr>\n",
       "    <tr>\n",
       "      <td>min</td>\n",
       "      <td>0.220121</td>\n",
       "      <td>0.251757</td>\n",
       "      <td>0.212967</td>\n",
       "      <td>0.223522</td>\n",
       "      <td>7.900000e+03</td>\n",
       "      <td>1.260140e+06</td>\n",
       "    </tr>\n",
       "    <tr>\n",
       "      <td>25%</td>\n",
       "      <td>0.509520</td>\n",
       "      <td>0.538536</td>\n",
       "      <td>0.492051</td>\n",
       "      <td>0.507895</td>\n",
       "      <td>3.570800e+04</td>\n",
       "      <td>4.203825e+06</td>\n",
       "    </tr>\n",
       "    <tr>\n",
       "      <td>50%</td>\n",
       "      <td>1.240000</td>\n",
       "      <td>1.340000</td>\n",
       "      <td>1.140000</td>\n",
       "      <td>1.240000</td>\n",
       "      <td>1.324030e+05</td>\n",
       "      <td>6.374590e+06</td>\n",
       "    </tr>\n",
       "    <tr>\n",
       "      <td>75%</td>\n",
       "      <td>8.280000</td>\n",
       "      <td>8.555000</td>\n",
       "      <td>7.840000</td>\n",
       "      <td>8.290000</td>\n",
       "      <td>3.031370e+06</td>\n",
       "      <td>1.090735e+08</td>\n",
       "    </tr>\n",
       "    <tr>\n",
       "      <td>max</td>\n",
       "      <td>144.240000</td>\n",
       "      <td>154.580000</td>\n",
       "      <td>136.490000</td>\n",
       "      <td>145.400000</td>\n",
       "      <td>3.018430e+08</td>\n",
       "      <td>2.163850e+09</td>\n",
       "    </tr>\n",
       "  </tbody>\n",
       "</table>\n",
       "</div>"
      ],
      "text/plain": [
       "              Open         High          Low        Close        Volume  \\\n",
       "count  1203.000000  1203.000000  1203.000000  1203.000000  1.203000e+03   \n",
       "mean      8.569395     9.154209     8.106735     8.663258  4.844432e+06   \n",
       "std      17.749751    19.112540    16.622019    18.029172  1.831849e+07   \n",
       "min       0.220121     0.251757     0.212967     0.223522  7.900000e+03   \n",
       "25%       0.509520     0.538536     0.492051     0.507895  3.570800e+04   \n",
       "50%       1.240000     1.340000     1.140000     1.240000  1.324030e+05   \n",
       "75%       8.280000     8.555000     7.840000     8.290000  3.031370e+06   \n",
       "max     144.240000   154.580000   136.490000   145.400000  3.018430e+08   \n",
       "\n",
       "         Market Cap  \n",
       "count  1.203000e+03  \n",
       "mean   1.189434e+08  \n",
       "std    2.655690e+08  \n",
       "min    1.260140e+06  \n",
       "25%    4.203825e+06  \n",
       "50%    6.374590e+06  \n",
       "75%    1.090735e+08  \n",
       "max    2.163850e+09  "
      ]
     },
     "execution_count": 5,
     "metadata": {},
     "output_type": "execute_result"
    }
   ],
   "source": [
    "df.describe()"
   ]
  },
  {
   "cell_type": "code",
   "execution_count": 6,
   "metadata": {
    "scrolled": true
   },
   "outputs": [
    {
     "name": "stdout",
     "output_type": "stream",
     "text": [
      "<class 'pandas.core.frame.DataFrame'>\n",
      "RangeIndex: 1203 entries, 0 to 1202\n",
      "Data columns (total 7 columns):\n",
      "Date          1203 non-null datetime64[ns]\n",
      "Open          1203 non-null float64\n",
      "High          1203 non-null float64\n",
      "Low           1203 non-null float64\n",
      "Close         1203 non-null float64\n",
      "Volume        1203 non-null int64\n",
      "Market Cap    1203 non-null int64\n",
      "dtypes: datetime64[ns](1), float64(4), int64(2)\n",
      "memory usage: 65.9 KB\n"
     ]
    }
   ],
   "source": [
    "# General Information \n",
    "df.info()"
   ]
  },
  {
   "cell_type": "code",
   "execution_count": 7,
   "metadata": {},
   "outputs": [
    {
     "data": {
      "text/plain": [
       "0       False\n",
       "1       False\n",
       "2       False\n",
       "3       False\n",
       "4       False\n",
       "        ...  \n",
       "1198    False\n",
       "1199    False\n",
       "1200    False\n",
       "1201    False\n",
       "1202    False\n",
       "Length: 1203, dtype: bool"
      ]
     },
     "execution_count": 7,
     "metadata": {},
     "output_type": "execute_result"
    }
   ],
   "source": [
    "#check if the dataset is duplicated\n",
    "df.duplicated()"
   ]
  },
  {
   "cell_type": "markdown",
   "metadata": {},
   "source": [
    "as we can see the data fram has 7 columns. each column has 85 cells, and there is no missing data, \n"
   ]
  },
  {
   "cell_type": "code",
   "execution_count": 8,
   "metadata": {
    "scrolled": false
   },
   "outputs": [
    {
     "data": {
      "text/plain": [
       "Date          0\n",
       "Open          0\n",
       "High          0\n",
       "Low           0\n",
       "Close         0\n",
       "Volume        0\n",
       "Market Cap    0\n",
       "dtype: int64"
      ]
     },
     "execution_count": 8,
     "metadata": {},
     "output_type": "execute_result"
    }
   ],
   "source": [
    "# Count missing data in each column\n",
    "df.isnull().sum()"
   ]
  },
  {
   "cell_type": "markdown",
   "metadata": {},
   "source": [
    "we can see there is no missing data "
   ]
  },
  {
   "cell_type": "code",
   "execution_count": 9,
   "metadata": {
    "scrolled": true
   },
   "outputs": [
    {
     "data": {
      "text/html": [
       "<div>\n",
       "<style scoped>\n",
       "    .dataframe tbody tr th:only-of-type {\n",
       "        vertical-align: middle;\n",
       "    }\n",
       "\n",
       "    .dataframe tbody tr th {\n",
       "        vertical-align: top;\n",
       "    }\n",
       "\n",
       "    .dataframe thead th {\n",
       "        text-align: right;\n",
       "    }\n",
       "</style>\n",
       "<table border=\"1\" class=\"dataframe\">\n",
       "  <thead>\n",
       "    <tr style=\"text-align: right;\">\n",
       "      <th></th>\n",
       "      <th>Open</th>\n",
       "      <th>High</th>\n",
       "      <th>Low</th>\n",
       "      <th>Close</th>\n",
       "      <th>Volume</th>\n",
       "      <th>Market Cap</th>\n",
       "    </tr>\n",
       "  </thead>\n",
       "  <tbody>\n",
       "    <tr>\n",
       "      <td>Open</td>\n",
       "      <td>1.000000</td>\n",
       "      <td>0.993219</td>\n",
       "      <td>0.997906</td>\n",
       "      <td>0.993541</td>\n",
       "      <td>0.749803</td>\n",
       "      <td>0.999424</td>\n",
       "    </tr>\n",
       "    <tr>\n",
       "      <td>High</td>\n",
       "      <td>0.993219</td>\n",
       "      <td>1.000000</td>\n",
       "      <td>0.993523</td>\n",
       "      <td>0.996990</td>\n",
       "      <td>0.799187</td>\n",
       "      <td>0.992571</td>\n",
       "    </tr>\n",
       "    <tr>\n",
       "      <td>Low</td>\n",
       "      <td>0.997906</td>\n",
       "      <td>0.993523</td>\n",
       "      <td>1.000000</td>\n",
       "      <td>0.996379</td>\n",
       "      <td>0.749803</td>\n",
       "      <td>0.997333</td>\n",
       "    </tr>\n",
       "    <tr>\n",
       "      <td>Close</td>\n",
       "      <td>0.993541</td>\n",
       "      <td>0.996990</td>\n",
       "      <td>0.996379</td>\n",
       "      <td>1.000000</td>\n",
       "      <td>0.786370</td>\n",
       "      <td>0.993100</td>\n",
       "    </tr>\n",
       "    <tr>\n",
       "      <td>Volume</td>\n",
       "      <td>0.749803</td>\n",
       "      <td>0.799187</td>\n",
       "      <td>0.749803</td>\n",
       "      <td>0.786370</td>\n",
       "      <td>1.000000</td>\n",
       "      <td>0.751391</td>\n",
       "    </tr>\n",
       "    <tr>\n",
       "      <td>Market Cap</td>\n",
       "      <td>0.999424</td>\n",
       "      <td>0.992571</td>\n",
       "      <td>0.997333</td>\n",
       "      <td>0.993100</td>\n",
       "      <td>0.751391</td>\n",
       "      <td>1.000000</td>\n",
       "    </tr>\n",
       "  </tbody>\n",
       "</table>\n",
       "</div>"
      ],
      "text/plain": [
       "                Open      High       Low     Close    Volume  Market Cap\n",
       "Open        1.000000  0.993219  0.997906  0.993541  0.749803    0.999424\n",
       "High        0.993219  1.000000  0.993523  0.996990  0.799187    0.992571\n",
       "Low         0.997906  0.993523  1.000000  0.996379  0.749803    0.997333\n",
       "Close       0.993541  0.996990  0.996379  1.000000  0.786370    0.993100\n",
       "Volume      0.749803  0.799187  0.749803  0.786370  1.000000    0.751391\n",
       "Market Cap  0.999424  0.992571  0.997333  0.993100  0.751391    1.000000"
      ]
     },
     "execution_count": 9,
     "metadata": {},
     "output_type": "execute_result"
    }
   ],
   "source": [
    "# correlation between columns\n",
    "correlation = df.corr(method=\"pearson\")\n",
    "correlation"
   ]
  },
  {
   "cell_type": "markdown",
   "metadata": {},
   "source": [
    "let's plot data between Market Cap and other variable, then see the relation between the data\n"
   ]
  },
  {
   "cell_type": "code",
   "execution_count": 10,
   "metadata": {
    "scrolled": false
   },
   "outputs": [
    {
     "data": {
      "image/png": "[encoded data removed]",
      "text/plain": [
       "<Figure size 432x288 with 5 Axes>"
      ]
     },
     "metadata": {
      "needs_background": "light"
     },
     "output_type": "display_data"
    }
   ],
   "source": [
    "import matplotlib.pyplot as plt\n",
    "def plot_data(xdata,ydata,xlabel):\n",
    "    plt.scatter(xdata,ydata,marker='+',color='blue')\n",
    "    plt.ylabel('Market Cap')\n",
    "    plt.xlabel(xlabel)\n",
    "        \n",
    "plt.subplot(2,3,1)\n",
    "plot_data(df.Open, df['Market Cap'],'Open')\n",
    "plt.subplot(2,3,2)\n",
    "plot_data(df.Close, df['Market Cap'],'Close')\n",
    "plt.subplot(2,3,3)\n",
    "plot_data(df.High, df['Market Cap'],'High')\n",
    "plt.subplot(2,3,4)\n",
    "plot_data(df.Low, df['Market Cap'],'Low')\n",
    "plt.subplot(2,3,5)\n",
    "plot_data(df.Volume, df['Market Cap'],'Volume')"
   ]
  },
  {
   "cell_type": "code",
   "execution_count": 11,
   "metadata": {},
   "outputs": [],
   "source": [
    "from sklearn import linear_model\n",
    "\n",
    "model       = linear_model.LinearRegression()\n",
    "Open        = df[['Open']]\n",
    "Market_Cap  = df['Market Cap']"
   ]
  },
  {
   "cell_type": "code",
   "execution_count": 12,
   "metadata": {},
   "outputs": [
    {
     "data": {
      "text/plain": [
       "LinearRegression(copy_X=True, fit_intercept=True, n_jobs=None, normalize=False)"
      ]
     },
     "execution_count": 12,
     "metadata": {},
     "output_type": "execute_result"
    }
   ],
   "source": [
    "# train data using linear regression \n",
    "model.fit(Open, Market_Cap)"
   ]
  },
  {
   "cell_type": "code",
   "execution_count": 13,
   "metadata": {},
   "outputs": [
    {
     "data": {
      "text/plain": [
       "0.998848069511456"
      ]
     },
     "execution_count": 13,
     "metadata": {},
     "output_type": "execute_result"
    }
   ],
   "source": [
    "# Model Score\n",
    "model.score(Open, Market_Cap)"
   ]
  },
  {
   "cell_type": "markdown",
   "metadata": {},
   "source": [
    "#### 4. Data Visualization"
   ]
  },
  {
   "cell_type": "code",
   "execution_count": 14,
   "metadata": {},
   "outputs": [
    {
     "data": {
      "text/plain": [
       "<matplotlib.axes._subplots.AxesSubplot at 0x1a1d4bad50>"
      ]
     },
     "execution_count": 14,
     "metadata": {},
     "output_type": "execute_result"
    },
    {
     "data": {
      "image/png": "[encoded data removed]",
      "text/plain": [
       "<Figure size 432x288 with 6 Axes>"
      ]
     },
     "metadata": {
      "needs_background": "light"
     },
     "output_type": "display_data"
    }
   ],
   "source": [
    "%matplotlib inline\n",
    "    \n",
    "plt.subplot(2,3,1)\n",
    "plt.ylabel('Open')\n",
    "df.Open.plot()\n",
    "\n",
    "plt.subplot(2,3,2)\n",
    "plt.ylabel('High')\n",
    "df.High.plot()\n",
    "\n",
    "plt.subplot(2,3,3)\n",
    "plt.ylabel('Low')\n",
    "df.Low.plot()\n",
    "\n",
    "plt.subplot(2,3,4)\n",
    "plt.ylabel('Close')\n",
    "df.Close.plot()\n",
    "\n",
    "plt.subplot(2,3,5)\n",
    "plt.ylabel('Volume')\n",
    "df.Volume.plot()\n",
    "\n",
    "plt.subplot(2,3,6)\n",
    "plt.ylabel('Market Cap')\n",
    "df['Market Cap'].plot()"
   ]
  },
  {
   "cell_type": "code",
   "execution_count": null,
   "metadata": {},
   "outputs": [],
   "source": []
  }
 ],
 "metadata": {
  "kernelspec": {
   "display_name": "Python 3",
   "language": "python",
   "name": "python3"
  },
  "language_info": {
   "codemirror_mode": {
    "name": "ipython",
    "version": 3
   },
   "file_extension": ".py",
   "mimetype": "text/x-python",
   "name": "python",
   "nbconvert_exporter": "python",
   "pygments_lexer": "ipython3",
   "version": "3.7.4"
  }
 },
 "nbformat": 4,
 "nbformat_minor": 2
}
