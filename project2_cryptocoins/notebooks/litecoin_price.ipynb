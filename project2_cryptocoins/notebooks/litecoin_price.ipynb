{
 "cells": [
  {
   "cell_type": "markdown",
   "metadata": {},
   "source": [
    "### Masive Data Assignment\n",
    " (second project)\n",
    "Read, Clean, and prepare the Data"
   ]
  },
  {
   "cell_type": "code",
   "execution_count": 1,
   "metadata": {},
   "outputs": [],
   "source": [
    "import pandas as pd\n",
    "import numpy as np\n",
    "import seaborn as sns\n",
    "import matplotlib.pyplot as plt"
   ]
  },
  {
   "cell_type": "markdown",
   "metadata": {},
   "source": [
    "### litecoin_price"
   ]
  },
  {
   "cell_type": "markdown",
   "metadata": {},
   "source": [
    "#### 1. Read the Data"
   ]
  },
  {
   "cell_type": "code",
   "execution_count": 2,
   "metadata": {
    "scrolled": false
   },
   "outputs": [
    {
     "data": {
      "text/html": [
       "<div>\n",
       "<style scoped>\n",
       "    .dataframe tbody tr th:only-of-type {\n",
       "        vertical-align: middle;\n",
       "    }\n",
       "\n",
       "    .dataframe tbody tr th {\n",
       "        vertical-align: top;\n",
       "    }\n",
       "\n",
       "    .dataframe thead th {\n",
       "        text-align: right;\n",
       "    }\n",
       "</style>\n",
       "<table border=\"1\" class=\"dataframe\">\n",
       "  <thead>\n",
       "    <tr style=\"text-align: right;\">\n",
       "      <th></th>\n",
       "      <th>Date</th>\n",
       "      <th>Open</th>\n",
       "      <th>High</th>\n",
       "      <th>Low</th>\n",
       "      <th>Close</th>\n",
       "      <th>Volume</th>\n",
       "      <th>Market Cap</th>\n",
       "    </tr>\n",
       "  </thead>\n",
       "  <tbody>\n",
       "    <tr>\n",
       "      <td>0</td>\n",
       "      <td>2017-09-05</td>\n",
       "      <td>65.25</td>\n",
       "      <td>72.44</td>\n",
       "      <td>59.05</td>\n",
       "      <td>71.29</td>\n",
       "      <td>1016090000</td>\n",
       "      <td>3444150000</td>\n",
       "    </tr>\n",
       "    <tr>\n",
       "      <td>1</td>\n",
       "      <td>2017-09-04</td>\n",
       "      <td>76.73</td>\n",
       "      <td>76.73</td>\n",
       "      <td>61.24</td>\n",
       "      <td>65.21</td>\n",
       "      <td>922041000</td>\n",
       "      <td>4049140000</td>\n",
       "    </tr>\n",
       "    <tr>\n",
       "      <td>2</td>\n",
       "      <td>2017-09-03</td>\n",
       "      <td>78.98</td>\n",
       "      <td>82.83</td>\n",
       "      <td>73.61</td>\n",
       "      <td>76.84</td>\n",
       "      <td>675462000</td>\n",
       "      <td>4166600000</td>\n",
       "    </tr>\n",
       "    <tr>\n",
       "      <td>3</td>\n",
       "      <td>2017-09-02</td>\n",
       "      <td>85.83</td>\n",
       "      <td>92.07</td>\n",
       "      <td>72.23</td>\n",
       "      <td>79.02</td>\n",
       "      <td>1363990000</td>\n",
       "      <td>4526680000</td>\n",
       "    </tr>\n",
       "    <tr>\n",
       "      <td>4</td>\n",
       "      <td>2017-09-01</td>\n",
       "      <td>70.86</td>\n",
       "      <td>87.41</td>\n",
       "      <td>70.01</td>\n",
       "      <td>86.04</td>\n",
       "      <td>1551740000</td>\n",
       "      <td>3735870000</td>\n",
       "    </tr>\n",
       "  </tbody>\n",
       "</table>\n",
       "</div>"
      ],
      "text/plain": [
       "        Date   Open   High    Low  Close      Volume  Market Cap\n",
       "0 2017-09-05  65.25  72.44  59.05  71.29  1016090000  3444150000\n",
       "1 2017-09-04  76.73  76.73  61.24  65.21   922041000  4049140000\n",
       "2 2017-09-03  78.98  82.83  73.61  76.84   675462000  4166600000\n",
       "3 2017-09-02  85.83  92.07  72.23  79.02  1363990000  4526680000\n",
       "4 2017-09-01  70.86  87.41  70.01  86.04  1551740000  3735870000"
      ]
     },
     "execution_count": 2,
     "metadata": {},
     "output_type": "execute_result"
    }
   ],
   "source": [
    "# Read Bitcoin Cash Price\n",
    "df = pd.read_csv('../data/raw/litecoin_price.csv', parse_dates = ['Date'])\n",
    "df.head()"
   ]
  },
  {
   "cell_type": "code",
   "execution_count": 3,
   "metadata": {},
   "outputs": [
    {
     "data": {
      "text/plain": [
       "Index(['Date', 'Open', 'High', 'Low', 'Close', 'Volume', 'Market Cap'], dtype='object')"
      ]
     },
     "execution_count": 3,
     "metadata": {},
     "output_type": "execute_result"
    }
   ],
   "source": [
    "df.columns"
   ]
  },
  {
   "cell_type": "code",
   "execution_count": 4,
   "metadata": {},
   "outputs": [
    {
     "data": {
      "text/plain": [
       "Date          1592\n",
       "Open          1592\n",
       "High          1592\n",
       "Low           1592\n",
       "Close         1592\n",
       "Volume        1592\n",
       "Market Cap    1592\n",
       "dtype: int64"
      ]
     },
     "execution_count": 4,
     "metadata": {},
     "output_type": "execute_result"
    }
   ],
   "source": [
    "df.count()"
   ]
  },
  {
   "cell_type": "markdown",
   "metadata": {},
   "source": [
    "as we can see we have in this file 7 columns and each column has 1592 cells"
   ]
  },
  {
   "cell_type": "code",
   "execution_count": 5,
   "metadata": {},
   "outputs": [
    {
     "data": {
      "text/html": [
       "<div>\n",
       "<style scoped>\n",
       "    .dataframe tbody tr th:only-of-type {\n",
       "        vertical-align: middle;\n",
       "    }\n",
       "\n",
       "    .dataframe tbody tr th {\n",
       "        vertical-align: top;\n",
       "    }\n",
       "\n",
       "    .dataframe thead th {\n",
       "        text-align: right;\n",
       "    }\n",
       "</style>\n",
       "<table border=\"1\" class=\"dataframe\">\n",
       "  <thead>\n",
       "    <tr style=\"text-align: right;\">\n",
       "      <th></th>\n",
       "      <th>Open</th>\n",
       "      <th>High</th>\n",
       "      <th>Low</th>\n",
       "      <th>Close</th>\n",
       "      <th>Market Cap</th>\n",
       "    </tr>\n",
       "  </thead>\n",
       "  <tbody>\n",
       "    <tr>\n",
       "      <td>count</td>\n",
       "      <td>1592.000000</td>\n",
       "      <td>1592.000000</td>\n",
       "      <td>1592.000000</td>\n",
       "      <td>1592.000000</td>\n",
       "      <td>1.592000e+03</td>\n",
       "    </tr>\n",
       "    <tr>\n",
       "      <td>mean</td>\n",
       "      <td>8.470741</td>\n",
       "      <td>8.870232</td>\n",
       "      <td>8.068172</td>\n",
       "      <td>8.510704</td>\n",
       "      <td>3.430766e+08</td>\n",
       "    </tr>\n",
       "    <tr>\n",
       "      <td>std</td>\n",
       "      <td>11.536448</td>\n",
       "      <td>12.246791</td>\n",
       "      <td>10.817646</td>\n",
       "      <td>11.641428</td>\n",
       "      <td>5.718122e+08</td>\n",
       "    </tr>\n",
       "    <tr>\n",
       "      <td>min</td>\n",
       "      <td>1.150000</td>\n",
       "      <td>1.340000</td>\n",
       "      <td>1.110000</td>\n",
       "      <td>1.160000</td>\n",
       "      <td>3.794370e+07</td>\n",
       "    </tr>\n",
       "    <tr>\n",
       "      <td>25%</td>\n",
       "      <td>3.050000</td>\n",
       "      <td>3.120000</td>\n",
       "      <td>2.970000</td>\n",
       "      <td>3.050000</td>\n",
       "      <td>1.186832e+08</td>\n",
       "    </tr>\n",
       "    <tr>\n",
       "      <td>50%</td>\n",
       "      <td>3.840000</td>\n",
       "      <td>3.880000</td>\n",
       "      <td>3.780000</td>\n",
       "      <td>3.835000</td>\n",
       "      <td>1.702760e+08</td>\n",
       "    </tr>\n",
       "    <tr>\n",
       "      <td>75%</td>\n",
       "      <td>7.780000</td>\n",
       "      <td>8.180000</td>\n",
       "      <td>7.552500</td>\n",
       "      <td>7.790000</td>\n",
       "      <td>2.432428e+08</td>\n",
       "    </tr>\n",
       "    <tr>\n",
       "      <td>max</td>\n",
       "      <td>85.830000</td>\n",
       "      <td>92.070000</td>\n",
       "      <td>73.610000</td>\n",
       "      <td>86.040000</td>\n",
       "      <td>4.526680e+09</td>\n",
       "    </tr>\n",
       "  </tbody>\n",
       "</table>\n",
       "</div>"
      ],
      "text/plain": [
       "              Open         High          Low        Close    Market Cap\n",
       "count  1592.000000  1592.000000  1592.000000  1592.000000  1.592000e+03\n",
       "mean      8.470741     8.870232     8.068172     8.510704  3.430766e+08\n",
       "std      11.536448    12.246791    10.817646    11.641428  5.718122e+08\n",
       "min       1.150000     1.340000     1.110000     1.160000  3.794370e+07\n",
       "25%       3.050000     3.120000     2.970000     3.050000  1.186832e+08\n",
       "50%       3.840000     3.880000     3.780000     3.835000  1.702760e+08\n",
       "75%       7.780000     8.180000     7.552500     7.790000  2.432428e+08\n",
       "max      85.830000    92.070000    73.610000    86.040000  4.526680e+09"
      ]
     },
     "execution_count": 5,
     "metadata": {},
     "output_type": "execute_result"
    }
   ],
   "source": [
    "df.describe()"
   ]
  },
  {
   "cell_type": "code",
   "execution_count": 6,
   "metadata": {
    "scrolled": true
   },
   "outputs": [
    {
     "name": "stdout",
     "output_type": "stream",
     "text": [
      "<class 'pandas.core.frame.DataFrame'>\n",
      "RangeIndex: 1592 entries, 0 to 1591\n",
      "Data columns (total 7 columns):\n",
      "Date          1592 non-null datetime64[ns]\n",
      "Open          1592 non-null float64\n",
      "High          1592 non-null float64\n",
      "Low           1592 non-null float64\n",
      "Close         1592 non-null float64\n",
      "Volume        1592 non-null object\n",
      "Market Cap    1592 non-null int64\n",
      "dtypes: datetime64[ns](1), float64(4), int64(1), object(1)\n",
      "memory usage: 87.2+ KB\n"
     ]
    }
   ],
   "source": [
    "# General Information \n",
    "df.info()"
   ]
  },
  {
   "cell_type": "code",
   "execution_count": 7,
   "metadata": {},
   "outputs": [
    {
     "data": {
      "text/plain": [
       "0       False\n",
       "1       False\n",
       "2       False\n",
       "3       False\n",
       "4       False\n",
       "        ...  \n",
       "1587    False\n",
       "1588    False\n",
       "1589    False\n",
       "1590    False\n",
       "1591    False\n",
       "Length: 1592, dtype: bool"
      ]
     },
     "execution_count": 7,
     "metadata": {},
     "output_type": "execute_result"
    }
   ],
   "source": [
    "#check if the dataset is duplicated\n",
    "df.duplicated()"
   ]
  },
  {
   "cell_type": "markdown",
   "metadata": {},
   "source": [
    "as we can see the data fram has 7 columns. each column has 85 cells, and there is no missing data, \n",
    "* Volume data type is object, we have to convert them to number. "
   ]
  },
  {
   "cell_type": "code",
   "execution_count": null,
   "metadata": {},
   "outputs": [],
   "source": []
  },
  {
   "cell_type": "code",
   "execution_count": 8,
   "metadata": {
    "scrolled": false
   },
   "outputs": [
    {
     "data": {
      "text/plain": [
       "Date          0\n",
       "Open          0\n",
       "High          0\n",
       "Low           0\n",
       "Close         0\n",
       "Volume        0\n",
       "Market Cap    0\n",
       "dtype: int64"
      ]
     },
     "execution_count": 8,
     "metadata": {},
     "output_type": "execute_result"
    }
   ],
   "source": [
    "# Count missing data in each column\n",
    "df.isnull().sum()"
   ]
  },
  {
   "cell_type": "markdown",
   "metadata": {},
   "source": [
    "we can see there is no missing data "
   ]
  },
  {
   "cell_type": "markdown",
   "metadata": {},
   "source": [
    "#### 2. Cleaning Data"
   ]
  },
  {
   "cell_type": "markdown",
   "metadata": {},
   "source": [
    "as i mentioned before the \"Volume and Market Cap\" have different format and python concedered that as a string not number, also we have some missing data in the Market Cap column \n",
    "so we have to convert all strings into number and \n",
    "     "
   ]
  },
  {
   "cell_type": "code",
   "execution_count": 10,
   "metadata": {},
   "outputs": [
    {
     "name": "stdout",
     "output_type": "stream",
     "text": [
      "Volume Data Type : <class 'str'>\n",
      "Market Cap Data Type : <class 'numpy.int64'>\n"
     ]
    }
   ],
   "source": [
    "print('Volume Data Type :', type(df.Volume[0]))\n",
    "print('Market Cap Data Type :', type(df['Market Cap'][0]))"
   ]
  },
  {
   "cell_type": "code",
   "execution_count": 13,
   "metadata": {},
   "outputs": [],
   "source": [
    "# If Volume is equal to '-' convert it to 0\n",
    "df.loc[df['Volume']==\"-\",'Volume']=0"
   ]
  },
  {
   "cell_type": "code",
   "execution_count": 15,
   "metadata": {
    "scrolled": true
   },
   "outputs": [
    {
     "data": {
      "text/html": [
       "<div>\n",
       "<style scoped>\n",
       "    .dataframe tbody tr th:only-of-type {\n",
       "        vertical-align: middle;\n",
       "    }\n",
       "\n",
       "    .dataframe tbody tr th {\n",
       "        vertical-align: top;\n",
       "    }\n",
       "\n",
       "    .dataframe thead th {\n",
       "        text-align: right;\n",
       "    }\n",
       "</style>\n",
       "<table border=\"1\" class=\"dataframe\">\n",
       "  <thead>\n",
       "    <tr style=\"text-align: right;\">\n",
       "      <th></th>\n",
       "      <th>Open</th>\n",
       "      <th>High</th>\n",
       "      <th>Low</th>\n",
       "      <th>Close</th>\n",
       "      <th>Volume</th>\n",
       "      <th>Market Cap</th>\n",
       "    </tr>\n",
       "  </thead>\n",
       "  <tbody>\n",
       "    <tr>\n",
       "      <td>count</td>\n",
       "      <td>1592.000000</td>\n",
       "      <td>1592.000000</td>\n",
       "      <td>1592.000000</td>\n",
       "      <td>1592.000000</td>\n",
       "      <td>1.592000e+03</td>\n",
       "      <td>1.592000e+03</td>\n",
       "    </tr>\n",
       "    <tr>\n",
       "      <td>mean</td>\n",
       "      <td>8.470741</td>\n",
       "      <td>8.870232</td>\n",
       "      <td>8.068172</td>\n",
       "      <td>8.510704</td>\n",
       "      <td>3.258194e+07</td>\n",
       "      <td>3.430766e+08</td>\n",
       "    </tr>\n",
       "    <tr>\n",
       "      <td>std</td>\n",
       "      <td>11.536448</td>\n",
       "      <td>12.246791</td>\n",
       "      <td>10.817646</td>\n",
       "      <td>11.641428</td>\n",
       "      <td>1.251404e+08</td>\n",
       "      <td>5.718122e+08</td>\n",
       "    </tr>\n",
       "    <tr>\n",
       "      <td>min</td>\n",
       "      <td>1.150000</td>\n",
       "      <td>1.340000</td>\n",
       "      <td>1.110000</td>\n",
       "      <td>1.160000</td>\n",
       "      <td>0.000000e+00</td>\n",
       "      <td>3.794370e+07</td>\n",
       "    </tr>\n",
       "    <tr>\n",
       "      <td>25%</td>\n",
       "      <td>3.050000</td>\n",
       "      <td>3.120000</td>\n",
       "      <td>2.970000</td>\n",
       "      <td>3.050000</td>\n",
       "      <td>1.264770e+06</td>\n",
       "      <td>1.186832e+08</td>\n",
       "    </tr>\n",
       "    <tr>\n",
       "      <td>50%</td>\n",
       "      <td>3.840000</td>\n",
       "      <td>3.880000</td>\n",
       "      <td>3.780000</td>\n",
       "      <td>3.835000</td>\n",
       "      <td>2.417280e+06</td>\n",
       "      <td>1.702760e+08</td>\n",
       "    </tr>\n",
       "    <tr>\n",
       "      <td>75%</td>\n",
       "      <td>7.780000</td>\n",
       "      <td>8.180000</td>\n",
       "      <td>7.552500</td>\n",
       "      <td>7.790000</td>\n",
       "      <td>5.838882e+06</td>\n",
       "      <td>2.432428e+08</td>\n",
       "    </tr>\n",
       "    <tr>\n",
       "      <td>max</td>\n",
       "      <td>85.830000</td>\n",
       "      <td>92.070000</td>\n",
       "      <td>73.610000</td>\n",
       "      <td>86.040000</td>\n",
       "      <td>1.730780e+09</td>\n",
       "      <td>4.526680e+09</td>\n",
       "    </tr>\n",
       "  </tbody>\n",
       "</table>\n",
       "</div>"
      ],
      "text/plain": [
       "              Open         High          Low        Close        Volume  \\\n",
       "count  1592.000000  1592.000000  1592.000000  1592.000000  1.592000e+03   \n",
       "mean      8.470741     8.870232     8.068172     8.510704  3.258194e+07   \n",
       "std      11.536448    12.246791    10.817646    11.641428  1.251404e+08   \n",
       "min       1.150000     1.340000     1.110000     1.160000  0.000000e+00   \n",
       "25%       3.050000     3.120000     2.970000     3.050000  1.264770e+06   \n",
       "50%       3.840000     3.880000     3.780000     3.835000  2.417280e+06   \n",
       "75%       7.780000     8.180000     7.552500     7.790000  5.838882e+06   \n",
       "max      85.830000    92.070000    73.610000    86.040000  1.730780e+09   \n",
       "\n",
       "         Market Cap  \n",
       "count  1.592000e+03  \n",
       "mean   3.430766e+08  \n",
       "std    5.718122e+08  \n",
       "min    3.794370e+07  \n",
       "25%    1.186832e+08  \n",
       "50%    1.702760e+08  \n",
       "75%    2.432428e+08  \n",
       "max    4.526680e+09  "
      ]
     },
     "execution_count": 15,
     "metadata": {},
     "output_type": "execute_result"
    }
   ],
   "source": [
    "def convert_to_number(x):\n",
    "    try:\n",
    "        return int(x.replace(',',''))\n",
    "    except:\n",
    "        return x\n",
    "\n",
    "df.Volume = df.Volume.apply(convert_to_number)\n",
    "\n",
    "df.describe()"
   ]
  },
  {
   "cell_type": "code",
   "execution_count": 16,
   "metadata": {},
   "outputs": [
    {
     "name": "stdout",
     "output_type": "stream",
     "text": [
      "<class 'pandas.core.frame.DataFrame'>\n",
      "RangeIndex: 1592 entries, 0 to 1591\n",
      "Data columns (total 7 columns):\n",
      "Date          1592 non-null datetime64[ns]\n",
      "Open          1592 non-null float64\n",
      "High          1592 non-null float64\n",
      "Low           1592 non-null float64\n",
      "Close         1592 non-null float64\n",
      "Volume        1592 non-null int64\n",
      "Market Cap    1592 non-null int64\n",
      "dtypes: datetime64[ns](1), float64(4), int64(2)\n",
      "memory usage: 87.2 KB\n"
     ]
    }
   ],
   "source": [
    "df.info()"
   ]
  },
  {
   "cell_type": "code",
   "execution_count": 18,
   "metadata": {
    "scrolled": true
   },
   "outputs": [
    {
     "data": {
      "text/html": [
       "<div>\n",
       "<style scoped>\n",
       "    .dataframe tbody tr th:only-of-type {\n",
       "        vertical-align: middle;\n",
       "    }\n",
       "\n",
       "    .dataframe tbody tr th {\n",
       "        vertical-align: top;\n",
       "    }\n",
       "\n",
       "    .dataframe thead th {\n",
       "        text-align: right;\n",
       "    }\n",
       "</style>\n",
       "<table border=\"1\" class=\"dataframe\">\n",
       "  <thead>\n",
       "    <tr style=\"text-align: right;\">\n",
       "      <th></th>\n",
       "      <th>Open</th>\n",
       "      <th>High</th>\n",
       "      <th>Low</th>\n",
       "      <th>Close</th>\n",
       "      <th>Volume</th>\n",
       "      <th>Market Cap</th>\n",
       "    </tr>\n",
       "  </thead>\n",
       "  <tbody>\n",
       "    <tr>\n",
       "      <td>Open</td>\n",
       "      <td>1.000000</td>\n",
       "      <td>0.996085</td>\n",
       "      <td>0.995994</td>\n",
       "      <td>0.993389</td>\n",
       "      <td>0.706445</td>\n",
       "      <td>0.960598</td>\n",
       "    </tr>\n",
       "    <tr>\n",
       "      <td>High</td>\n",
       "      <td>0.996085</td>\n",
       "      <td>1.000000</td>\n",
       "      <td>0.993733</td>\n",
       "      <td>0.997791</td>\n",
       "      <td>0.726724</td>\n",
       "      <td>0.954464</td>\n",
       "    </tr>\n",
       "    <tr>\n",
       "      <td>Low</td>\n",
       "      <td>0.995994</td>\n",
       "      <td>0.993733</td>\n",
       "      <td>1.000000</td>\n",
       "      <td>0.995921</td>\n",
       "      <td>0.704435</td>\n",
       "      <td>0.962829</td>\n",
       "    </tr>\n",
       "    <tr>\n",
       "      <td>Close</td>\n",
       "      <td>0.993389</td>\n",
       "      <td>0.997791</td>\n",
       "      <td>0.995921</td>\n",
       "      <td>1.000000</td>\n",
       "      <td>0.724833</td>\n",
       "      <td>0.956627</td>\n",
       "    </tr>\n",
       "    <tr>\n",
       "      <td>Volume</td>\n",
       "      <td>0.706445</td>\n",
       "      <td>0.726724</td>\n",
       "      <td>0.704435</td>\n",
       "      <td>0.724833</td>\n",
       "      <td>1.000000</td>\n",
       "      <td>0.778434</td>\n",
       "    </tr>\n",
       "    <tr>\n",
       "      <td>Market Cap</td>\n",
       "      <td>0.960598</td>\n",
       "      <td>0.954464</td>\n",
       "      <td>0.962829</td>\n",
       "      <td>0.956627</td>\n",
       "      <td>0.778434</td>\n",
       "      <td>1.000000</td>\n",
       "    </tr>\n",
       "  </tbody>\n",
       "</table>\n",
       "</div>"
      ],
      "text/plain": [
       "                Open      High       Low     Close    Volume  Market Cap\n",
       "Open        1.000000  0.996085  0.995994  0.993389  0.706445    0.960598\n",
       "High        0.996085  1.000000  0.993733  0.997791  0.726724    0.954464\n",
       "Low         0.995994  0.993733  1.000000  0.995921  0.704435    0.962829\n",
       "Close       0.993389  0.997791  0.995921  1.000000  0.724833    0.956627\n",
       "Volume      0.706445  0.726724  0.704435  0.724833  1.000000    0.778434\n",
       "Market Cap  0.960598  0.954464  0.962829  0.956627  0.778434    1.000000"
      ]
     },
     "execution_count": 18,
     "metadata": {},
     "output_type": "execute_result"
    }
   ],
   "source": [
    "# correlation between columns\n",
    "correlation = df.corr(method=\"pearson\")\n",
    "correlation"
   ]
  },
  {
   "cell_type": "markdown",
   "metadata": {},
   "source": [
    "let's plot data between Market Cap and other variable, then see the relation between the data\n"
   ]
  },
  {
   "cell_type": "code",
   "execution_count": 19,
   "metadata": {
    "scrolled": false
   },
   "outputs": [
    {
     "data": {
      "image/png": "[encoded data removed]",
      "text/plain": [
       "<Figure size 432x288 with 5 Axes>"
      ]
     },
     "metadata": {
      "needs_background": "light"
     },
     "output_type": "display_data"
    }
   ],
   "source": [
    "import matplotlib.pyplot as plt\n",
    "def plot_data(xdata,ydata,xlabel):\n",
    "    plt.scatter(xdata,ydata,marker='+',color='blue')\n",
    "    plt.ylabel('Market Cap')\n",
    "    plt.xlabel(xlabel)\n",
    "        \n",
    "plt.subplot(2,3,1)\n",
    "plot_data(df.Open, df['Market Cap'],'Open')\n",
    "plt.subplot(2,3,2)\n",
    "plot_data(df.Close, df['Market Cap'],'Close')\n",
    "plt.subplot(2,3,3)\n",
    "plot_data(df.High, df['Market Cap'],'High')\n",
    "plt.subplot(2,3,4)\n",
    "plot_data(df.Low, df['Market Cap'],'Low')\n",
    "plt.subplot(2,3,5)\n",
    "plot_data(df.Volume, df['Market Cap'],'Volume')"
   ]
  },
  {
   "cell_type": "code",
   "execution_count": 20,
   "metadata": {},
   "outputs": [],
   "source": [
    "from sklearn import linear_model\n",
    "\n",
    "model       = linear_model.LinearRegression()\n",
    "Open        = df[['Open']]\n",
    "Market_Cap  = df['Market Cap']"
   ]
  },
  {
   "cell_type": "code",
   "execution_count": 21,
   "metadata": {},
   "outputs": [
    {
     "data": {
      "text/plain": [
       "LinearRegression(copy_X=True, fit_intercept=True, n_jobs=None, normalize=False)"
      ]
     },
     "execution_count": 21,
     "metadata": {},
     "output_type": "execute_result"
    }
   ],
   "source": [
    "# train data using linear regression \n",
    "model.fit(Open, Market_Cap)"
   ]
  },
  {
   "cell_type": "code",
   "execution_count": 22,
   "metadata": {},
   "outputs": [
    {
     "data": {
      "text/plain": [
       "0.922747637613941"
      ]
     },
     "execution_count": 22,
     "metadata": {},
     "output_type": "execute_result"
    }
   ],
   "source": [
    "# Model Score\n",
    "model.score(Open, Market_Cap)"
   ]
  },
  {
   "cell_type": "markdown",
   "metadata": {},
   "source": [
    "#### 4. Data Visualization"
   ]
  },
  {
   "cell_type": "code",
   "execution_count": 23,
   "metadata": {},
   "outputs": [
    {
     "data": {
      "text/plain": [
       "<matplotlib.axes._subplots.AxesSubplot at 0x1a23851b50>"
      ]
     },
     "execution_count": 23,
     "metadata": {},
     "output_type": "execute_result"
    },
    {
     "data": {
      "image/png": "[encoded data removed]",
      "text/plain": [
       "<Figure size 432x288 with 6 Axes>"
      ]
     },
     "metadata": {
      "needs_background": "light"
     },
     "output_type": "display_data"
    }
   ],
   "source": [
    "%matplotlib inline\n",
    "    \n",
    "plt.subplot(2,3,1)\n",
    "plt.ylabel('Open')\n",
    "df.Open.plot()\n",
    "\n",
    "plt.subplot(2,3,2)\n",
    "plt.ylabel('High')\n",
    "df.High.plot()\n",
    "\n",
    "plt.subplot(2,3,3)\n",
    "plt.ylabel('Low')\n",
    "df.Low.plot()\n",
    "\n",
    "plt.subplot(2,3,4)\n",
    "plt.ylabel('Close')\n",
    "df.Close.plot()\n",
    "\n",
    "plt.subplot(2,3,5)\n",
    "plt.ylabel('Volume')\n",
    "df.Volume.plot()\n",
    "\n",
    "plt.subplot(2,3,6)\n",
    "plt.ylabel('Market Cap')\n",
    "df['Market Cap'].plot()"
   ]
  },
  {
   "cell_type": "code",
   "execution_count": null,
   "metadata": {},
   "outputs": [],
   "source": []
  }
 ],
 "metadata": {
  "kernelspec": {
   "display_name": "Python 3",
   "language": "python",
   "name": "python3"
  },
  "language_info": {
   "codemirror_mode": {
    "name": "ipython",
    "version": 3
   },
   "file_extension": ".py",
   "mimetype": "text/x-python",
   "name": "python",
   "nbconvert_exporter": "python",
   "pygments_lexer": "ipython3",
   "version": "3.7.4"
  }
 },
 "nbformat": 4,
 "nbformat_minor": 2
}
