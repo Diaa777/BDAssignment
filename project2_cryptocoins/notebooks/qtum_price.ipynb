{
 "cells": [
  {
   "cell_type": "markdown",
   "metadata": {},
   "source": [
    "### Masive Data Assignment\n",
    " (second project)\n",
    "Read, Clean, and prepare the Data"
   ]
  },
  {
   "cell_type": "code",
   "execution_count": 1,
   "metadata": {},
   "outputs": [],
   "source": [
    "import pandas as pd\n",
    "import numpy as np\n",
    "import seaborn as sns\n",
    "import matplotlib.pyplot as plt"
   ]
  },
  {
   "cell_type": "markdown",
   "metadata": {},
   "source": [
    "### qtum_price"
   ]
  },
  {
   "cell_type": "markdown",
   "metadata": {},
   "source": [
    "#### 1. Read the Data"
   ]
  },
  {
   "cell_type": "code",
   "execution_count": 2,
   "metadata": {
    "scrolled": false
   },
   "outputs": [
    {
     "data": {
      "text/html": [
       "<div>\n",
       "<style scoped>\n",
       "    .dataframe tbody tr th:only-of-type {\n",
       "        vertical-align: middle;\n",
       "    }\n",
       "\n",
       "    .dataframe tbody tr th {\n",
       "        vertical-align: top;\n",
       "    }\n",
       "\n",
       "    .dataframe thead th {\n",
       "        text-align: right;\n",
       "    }\n",
       "</style>\n",
       "<table border=\"1\" class=\"dataframe\">\n",
       "  <thead>\n",
       "    <tr style=\"text-align: right;\">\n",
       "      <th></th>\n",
       "      <th>Date</th>\n",
       "      <th>Open</th>\n",
       "      <th>High</th>\n",
       "      <th>Low</th>\n",
       "      <th>Close</th>\n",
       "      <th>Volume</th>\n",
       "      <th>Market Cap</th>\n",
       "    </tr>\n",
       "  </thead>\n",
       "  <tbody>\n",
       "    <tr>\n",
       "      <td>0</td>\n",
       "      <td>2017-09-05</td>\n",
       "      <td>11.07</td>\n",
       "      <td>12.07</td>\n",
       "      <td>8.77</td>\n",
       "      <td>11.71</td>\n",
       "      <td>218,917,000</td>\n",
       "      <td>653,177,000</td>\n",
       "    </tr>\n",
       "    <tr>\n",
       "      <td>1</td>\n",
       "      <td>2017-09-04</td>\n",
       "      <td>15.29</td>\n",
       "      <td>15.44</td>\n",
       "      <td>10.22</td>\n",
       "      <td>10.98</td>\n",
       "      <td>161,203,000</td>\n",
       "      <td>902,407,000</td>\n",
       "    </tr>\n",
       "    <tr>\n",
       "      <td>2</td>\n",
       "      <td>2017-09-03</td>\n",
       "      <td>16.41</td>\n",
       "      <td>16.74</td>\n",
       "      <td>14.19</td>\n",
       "      <td>15.29</td>\n",
       "      <td>98,105,400</td>\n",
       "      <td>967,971,000</td>\n",
       "    </tr>\n",
       "    <tr>\n",
       "      <td>3</td>\n",
       "      <td>2017-09-02</td>\n",
       "      <td>18.26</td>\n",
       "      <td>19.06</td>\n",
       "      <td>15.51</td>\n",
       "      <td>16.39</td>\n",
       "      <td>123,479,000</td>\n",
       "      <td>1,077,370,000</td>\n",
       "    </tr>\n",
       "    <tr>\n",
       "      <td>4</td>\n",
       "      <td>2017-09-01</td>\n",
       "      <td>17.30</td>\n",
       "      <td>18.47</td>\n",
       "      <td>16.94</td>\n",
       "      <td>18.26</td>\n",
       "      <td>73,618,500</td>\n",
       "      <td>1,020,980,000</td>\n",
       "    </tr>\n",
       "  </tbody>\n",
       "</table>\n",
       "</div>"
      ],
      "text/plain": [
       "        Date   Open   High    Low  Close       Volume     Market Cap\n",
       "0 2017-09-05  11.07  12.07   8.77  11.71  218,917,000    653,177,000\n",
       "1 2017-09-04  15.29  15.44  10.22  10.98  161,203,000    902,407,000\n",
       "2 2017-09-03  16.41  16.74  14.19  15.29   98,105,400    967,971,000\n",
       "3 2017-09-02  18.26  19.06  15.51  16.39  123,479,000  1,077,370,000\n",
       "4 2017-09-01  17.30  18.47  16.94  18.26   73,618,500  1,020,980,000"
      ]
     },
     "execution_count": 2,
     "metadata": {},
     "output_type": "execute_result"
    }
   ],
   "source": [
    "# Read Bitcoin Cash Price\n",
    "df = pd.read_csv('../data/raw/qtum_price.csv', parse_dates = ['Date'])\n",
    "df.head()"
   ]
  },
  {
   "cell_type": "code",
   "execution_count": 3,
   "metadata": {},
   "outputs": [
    {
     "data": {
      "text/plain": [
       "Index(['Date', 'Open', 'High', 'Low', 'Close', 'Volume', 'Market Cap'], dtype='object')"
      ]
     },
     "execution_count": 3,
     "metadata": {},
     "output_type": "execute_result"
    }
   ],
   "source": [
    "df.columns"
   ]
  },
  {
   "cell_type": "code",
   "execution_count": 4,
   "metadata": {},
   "outputs": [
    {
     "data": {
      "text/plain": [
       "Date          30\n",
       "Open          30\n",
       "High          30\n",
       "Low           30\n",
       "Close         30\n",
       "Volume        30\n",
       "Market Cap    30\n",
       "dtype: int64"
      ]
     },
     "execution_count": 4,
     "metadata": {},
     "output_type": "execute_result"
    }
   ],
   "source": [
    "df.count()"
   ]
  },
  {
   "cell_type": "markdown",
   "metadata": {},
   "source": [
    "as we can see we have in this file 7 columns and each column has 30 cells"
   ]
  },
  {
   "cell_type": "code",
   "execution_count": 5,
   "metadata": {},
   "outputs": [
    {
     "data": {
      "text/html": [
       "<div>\n",
       "<style scoped>\n",
       "    .dataframe tbody tr th:only-of-type {\n",
       "        vertical-align: middle;\n",
       "    }\n",
       "\n",
       "    .dataframe tbody tr th {\n",
       "        vertical-align: top;\n",
       "    }\n",
       "\n",
       "    .dataframe thead th {\n",
       "        text-align: right;\n",
       "    }\n",
       "</style>\n",
       "<table border=\"1\" class=\"dataframe\">\n",
       "  <thead>\n",
       "    <tr style=\"text-align: right;\">\n",
       "      <th></th>\n",
       "      <th>Open</th>\n",
       "      <th>High</th>\n",
       "      <th>Low</th>\n",
       "      <th>Close</th>\n",
       "    </tr>\n",
       "  </thead>\n",
       "  <tbody>\n",
       "    <tr>\n",
       "      <td>count</td>\n",
       "      <td>30.000000</td>\n",
       "      <td>30.000000</td>\n",
       "      <td>30.000000</td>\n",
       "      <td>30.000000</td>\n",
       "    </tr>\n",
       "    <tr>\n",
       "      <td>mean</td>\n",
       "      <td>14.025667</td>\n",
       "      <td>15.123333</td>\n",
       "      <td>12.770667</td>\n",
       "      <td>14.101333</td>\n",
       "    </tr>\n",
       "    <tr>\n",
       "      <td>std</td>\n",
       "      <td>2.341807</td>\n",
       "      <td>2.426717</td>\n",
       "      <td>2.220717</td>\n",
       "      <td>2.274853</td>\n",
       "    </tr>\n",
       "    <tr>\n",
       "      <td>min</td>\n",
       "      <td>10.030000</td>\n",
       "      <td>11.410000</td>\n",
       "      <td>8.770000</td>\n",
       "      <td>10.980000</td>\n",
       "    </tr>\n",
       "    <tr>\n",
       "      <td>25%</td>\n",
       "      <td>11.817500</td>\n",
       "      <td>12.765000</td>\n",
       "      <td>10.880000</td>\n",
       "      <td>11.817500</td>\n",
       "    </tr>\n",
       "    <tr>\n",
       "      <td>50%</td>\n",
       "      <td>14.140000</td>\n",
       "      <td>15.430000</td>\n",
       "      <td>12.835000</td>\n",
       "      <td>14.125000</td>\n",
       "    </tr>\n",
       "    <tr>\n",
       "      <td>75%</td>\n",
       "      <td>15.577500</td>\n",
       "      <td>16.645000</td>\n",
       "      <td>14.352500</td>\n",
       "      <td>15.627500</td>\n",
       "    </tr>\n",
       "    <tr>\n",
       "      <td>max</td>\n",
       "      <td>19.050000</td>\n",
       "      <td>20.040000</td>\n",
       "      <td>16.940000</td>\n",
       "      <td>19.150000</td>\n",
       "    </tr>\n",
       "  </tbody>\n",
       "</table>\n",
       "</div>"
      ],
      "text/plain": [
       "            Open       High        Low      Close\n",
       "count  30.000000  30.000000  30.000000  30.000000\n",
       "mean   14.025667  15.123333  12.770667  14.101333\n",
       "std     2.341807   2.426717   2.220717   2.274853\n",
       "min    10.030000  11.410000   8.770000  10.980000\n",
       "25%    11.817500  12.765000  10.880000  11.817500\n",
       "50%    14.140000  15.430000  12.835000  14.125000\n",
       "75%    15.577500  16.645000  14.352500  15.627500\n",
       "max    19.050000  20.040000  16.940000  19.150000"
      ]
     },
     "execution_count": 5,
     "metadata": {},
     "output_type": "execute_result"
    }
   ],
   "source": [
    "df.describe()"
   ]
  },
  {
   "cell_type": "code",
   "execution_count": 6,
   "metadata": {
    "scrolled": true
   },
   "outputs": [
    {
     "name": "stdout",
     "output_type": "stream",
     "text": [
      "<class 'pandas.core.frame.DataFrame'>\n",
      "RangeIndex: 30 entries, 0 to 29\n",
      "Data columns (total 7 columns):\n",
      "Date          30 non-null datetime64[ns]\n",
      "Open          30 non-null float64\n",
      "High          30 non-null float64\n",
      "Low           30 non-null float64\n",
      "Close         30 non-null float64\n",
      "Volume        30 non-null object\n",
      "Market Cap    30 non-null object\n",
      "dtypes: datetime64[ns](1), float64(4), object(2)\n",
      "memory usage: 1.8+ KB\n"
     ]
    }
   ],
   "source": [
    "# General Information \n",
    "df.info()"
   ]
  },
  {
   "cell_type": "code",
   "execution_count": 7,
   "metadata": {},
   "outputs": [
    {
     "data": {
      "text/plain": [
       "0     False\n",
       "1     False\n",
       "2     False\n",
       "3     False\n",
       "4     False\n",
       "5     False\n",
       "6     False\n",
       "7     False\n",
       "8     False\n",
       "9     False\n",
       "10    False\n",
       "11    False\n",
       "12    False\n",
       "13    False\n",
       "14    False\n",
       "15    False\n",
       "16    False\n",
       "17    False\n",
       "18    False\n",
       "19    False\n",
       "20    False\n",
       "21    False\n",
       "22    False\n",
       "23    False\n",
       "24    False\n",
       "25    False\n",
       "26    False\n",
       "27    False\n",
       "28    False\n",
       "29    False\n",
       "dtype: bool"
      ]
     },
     "execution_count": 7,
     "metadata": {},
     "output_type": "execute_result"
    }
   ],
   "source": [
    "#check if the dataset is duplicated\n",
    "df.duplicated()"
   ]
  },
  {
   "cell_type": "markdown",
   "metadata": {},
   "source": [
    "as we can see the data fram has 7 columns. each column has 30 cells, and there is no missing data,but we hve to convert the dt type of the variables \"Volume\" and \"Market Cap\" to number\n"
   ]
  },
  {
   "cell_type": "code",
   "execution_count": 8,
   "metadata": {
    "scrolled": false
   },
   "outputs": [
    {
     "data": {
      "text/plain": [
       "Date          0\n",
       "Open          0\n",
       "High          0\n",
       "Low           0\n",
       "Close         0\n",
       "Volume        0\n",
       "Market Cap    0\n",
       "dtype: int64"
      ]
     },
     "execution_count": 8,
     "metadata": {},
     "output_type": "execute_result"
    }
   ],
   "source": [
    "# Count missing data in each column\n",
    "df.isnull().sum()"
   ]
  },
  {
   "cell_type": "markdown",
   "metadata": {},
   "source": [
    "we can see there is no missing data "
   ]
  },
  {
   "cell_type": "markdown",
   "metadata": {},
   "source": [
    "### cleaning Data\n"
   ]
  },
  {
   "cell_type": "code",
   "execution_count": 9,
   "metadata": {},
   "outputs": [
    {
     "name": "stdout",
     "output_type": "stream",
     "text": [
      "Volume Data Type : <class 'str'>\n",
      "Market Cap Data Type : <class 'str'>\n"
     ]
    }
   ],
   "source": [
    "print('Volume Data Type :', type(df.Volume[0]))\n",
    "print('Market Cap Data Type :', type(df['Market Cap'][0]))"
   ]
  },
  {
   "cell_type": "code",
   "execution_count": null,
   "metadata": {},
   "outputs": [],
   "source": []
  },
  {
   "cell_type": "code",
   "execution_count": 10,
   "metadata": {},
   "outputs": [
    {
     "data": {
      "text/html": [
       "<div>\n",
       "<style scoped>\n",
       "    .dataframe tbody tr th:only-of-type {\n",
       "        vertical-align: middle;\n",
       "    }\n",
       "\n",
       "    .dataframe tbody tr th {\n",
       "        vertical-align: top;\n",
       "    }\n",
       "\n",
       "    .dataframe thead th {\n",
       "        text-align: right;\n",
       "    }\n",
       "</style>\n",
       "<table border=\"1\" class=\"dataframe\">\n",
       "  <thead>\n",
       "    <tr style=\"text-align: right;\">\n",
       "      <th></th>\n",
       "      <th>Open</th>\n",
       "      <th>High</th>\n",
       "      <th>Low</th>\n",
       "      <th>Close</th>\n",
       "      <th>Volume</th>\n",
       "      <th>Market Cap</th>\n",
       "    </tr>\n",
       "  </thead>\n",
       "  <tbody>\n",
       "    <tr>\n",
       "      <td>count</td>\n",
       "      <td>30.000000</td>\n",
       "      <td>30.000000</td>\n",
       "      <td>30.000000</td>\n",
       "      <td>30.000000</td>\n",
       "      <td>3.000000e+01</td>\n",
       "      <td>3.000000e+01</td>\n",
       "    </tr>\n",
       "    <tr>\n",
       "      <td>mean</td>\n",
       "      <td>14.025667</td>\n",
       "      <td>15.123333</td>\n",
       "      <td>12.770667</td>\n",
       "      <td>14.101333</td>\n",
       "      <td>8.388731e+07</td>\n",
       "      <td>8.275040e+08</td>\n",
       "    </tr>\n",
       "    <tr>\n",
       "      <td>std</td>\n",
       "      <td>2.341807</td>\n",
       "      <td>2.426717</td>\n",
       "      <td>2.220717</td>\n",
       "      <td>2.274853</td>\n",
       "      <td>4.988998e+07</td>\n",
       "      <td>1.381926e+08</td>\n",
       "    </tr>\n",
       "    <tr>\n",
       "      <td>min</td>\n",
       "      <td>10.030000</td>\n",
       "      <td>11.410000</td>\n",
       "      <td>8.770000</td>\n",
       "      <td>10.980000</td>\n",
       "      <td>2.508630e+07</td>\n",
       "      <td>5.917900e+08</td>\n",
       "    </tr>\n",
       "    <tr>\n",
       "      <td>25%</td>\n",
       "      <td>11.817500</td>\n",
       "      <td>12.765000</td>\n",
       "      <td>10.880000</td>\n",
       "      <td>11.817500</td>\n",
       "      <td>5.259382e+07</td>\n",
       "      <td>6.973672e+08</td>\n",
       "    </tr>\n",
       "    <tr>\n",
       "      <td>50%</td>\n",
       "      <td>14.140000</td>\n",
       "      <td>15.430000</td>\n",
       "      <td>12.835000</td>\n",
       "      <td>14.125000</td>\n",
       "      <td>7.328700e+07</td>\n",
       "      <td>8.341485e+08</td>\n",
       "    </tr>\n",
       "    <tr>\n",
       "      <td>75%</td>\n",
       "      <td>15.577500</td>\n",
       "      <td>16.645000</td>\n",
       "      <td>14.352500</td>\n",
       "      <td>15.627500</td>\n",
       "      <td>9.748660e+07</td>\n",
       "      <td>9.192718e+08</td>\n",
       "    </tr>\n",
       "    <tr>\n",
       "      <td>max</td>\n",
       "      <td>19.050000</td>\n",
       "      <td>20.040000</td>\n",
       "      <td>16.940000</td>\n",
       "      <td>19.150000</td>\n",
       "      <td>2.189170e+08</td>\n",
       "      <td>1.124200e+09</td>\n",
       "    </tr>\n",
       "  </tbody>\n",
       "</table>\n",
       "</div>"
      ],
      "text/plain": [
       "            Open       High        Low      Close        Volume    Market Cap\n",
       "count  30.000000  30.000000  30.000000  30.000000  3.000000e+01  3.000000e+01\n",
       "mean   14.025667  15.123333  12.770667  14.101333  8.388731e+07  8.275040e+08\n",
       "std     2.341807   2.426717   2.220717   2.274853  4.988998e+07  1.381926e+08\n",
       "min    10.030000  11.410000   8.770000  10.980000  2.508630e+07  5.917900e+08\n",
       "25%    11.817500  12.765000  10.880000  11.817500  5.259382e+07  6.973672e+08\n",
       "50%    14.140000  15.430000  12.835000  14.125000  7.328700e+07  8.341485e+08\n",
       "75%    15.577500  16.645000  14.352500  15.627500  9.748660e+07  9.192718e+08\n",
       "max    19.050000  20.040000  16.940000  19.150000  2.189170e+08  1.124200e+09"
      ]
     },
     "execution_count": 10,
     "metadata": {},
     "output_type": "execute_result"
    }
   ],
   "source": [
    "def convert_to_number(x):\n",
    "    try:\n",
    "        return int(x.replace(',',''))\n",
    "    except:\n",
    "        return x\n",
    "\n",
    "df.Volume = df.Volume.apply(convert_to_number)\n",
    "df['Market Cap'] = df['Market Cap'].apply(lambda x: float(str(x).replace(',','')))\n",
    "\n",
    "df.describe()"
   ]
  },
  {
   "cell_type": "code",
   "execution_count": 11,
   "metadata": {},
   "outputs": [
    {
     "name": "stdout",
     "output_type": "stream",
     "text": [
      "<class 'pandas.core.frame.DataFrame'>\n",
      "RangeIndex: 30 entries, 0 to 29\n",
      "Data columns (total 7 columns):\n",
      "Date          30 non-null datetime64[ns]\n",
      "Open          30 non-null float64\n",
      "High          30 non-null float64\n",
      "Low           30 non-null float64\n",
      "Close         30 non-null float64\n",
      "Volume        30 non-null int64\n",
      "Market Cap    30 non-null float64\n",
      "dtypes: datetime64[ns](1), float64(5), int64(1)\n",
      "memory usage: 1.8 KB\n"
     ]
    }
   ],
   "source": [
    "df.info()\n"
   ]
  },
  {
   "cell_type": "code",
   "execution_count": 12,
   "metadata": {
    "scrolled": true
   },
   "outputs": [
    {
     "data": {
      "text/html": [
       "<div>\n",
       "<style scoped>\n",
       "    .dataframe tbody tr th:only-of-type {\n",
       "        vertical-align: middle;\n",
       "    }\n",
       "\n",
       "    .dataframe tbody tr th {\n",
       "        vertical-align: top;\n",
       "    }\n",
       "\n",
       "    .dataframe thead th {\n",
       "        text-align: right;\n",
       "    }\n",
       "</style>\n",
       "<table border=\"1\" class=\"dataframe\">\n",
       "  <thead>\n",
       "    <tr style=\"text-align: right;\">\n",
       "      <th></th>\n",
       "      <th>Open</th>\n",
       "      <th>High</th>\n",
       "      <th>Low</th>\n",
       "      <th>Close</th>\n",
       "      <th>Volume</th>\n",
       "      <th>Market Cap</th>\n",
       "    </tr>\n",
       "  </thead>\n",
       "  <tbody>\n",
       "    <tr>\n",
       "      <td>Open</td>\n",
       "      <td>1.000000</td>\n",
       "      <td>0.886768</td>\n",
       "      <td>0.856968</td>\n",
       "      <td>0.758671</td>\n",
       "      <td>0.311588</td>\n",
       "      <td>0.999999</td>\n",
       "    </tr>\n",
       "    <tr>\n",
       "      <td>High</td>\n",
       "      <td>0.886768</td>\n",
       "      <td>1.000000</td>\n",
       "      <td>0.884596</td>\n",
       "      <td>0.923904</td>\n",
       "      <td>0.497223</td>\n",
       "      <td>0.886845</td>\n",
       "    </tr>\n",
       "    <tr>\n",
       "      <td>Low</td>\n",
       "      <td>0.856968</td>\n",
       "      <td>0.884596</td>\n",
       "      <td>1.000000</td>\n",
       "      <td>0.919326</td>\n",
       "      <td>0.144674</td>\n",
       "      <td>0.856791</td>\n",
       "    </tr>\n",
       "    <tr>\n",
       "      <td>Close</td>\n",
       "      <td>0.758671</td>\n",
       "      <td>0.923904</td>\n",
       "      <td>0.919326</td>\n",
       "      <td>1.000000</td>\n",
       "      <td>0.377651</td>\n",
       "      <td>0.758591</td>\n",
       "    </tr>\n",
       "    <tr>\n",
       "      <td>Volume</td>\n",
       "      <td>0.311588</td>\n",
       "      <td>0.497223</td>\n",
       "      <td>0.144674</td>\n",
       "      <td>0.377651</td>\n",
       "      <td>1.000000</td>\n",
       "      <td>0.311974</td>\n",
       "    </tr>\n",
       "    <tr>\n",
       "      <td>Market Cap</td>\n",
       "      <td>0.999999</td>\n",
       "      <td>0.886845</td>\n",
       "      <td>0.856791</td>\n",
       "      <td>0.758591</td>\n",
       "      <td>0.311974</td>\n",
       "      <td>1.000000</td>\n",
       "    </tr>\n",
       "  </tbody>\n",
       "</table>\n",
       "</div>"
      ],
      "text/plain": [
       "                Open      High       Low     Close    Volume  Market Cap\n",
       "Open        1.000000  0.886768  0.856968  0.758671  0.311588    0.999999\n",
       "High        0.886768  1.000000  0.884596  0.923904  0.497223    0.886845\n",
       "Low         0.856968  0.884596  1.000000  0.919326  0.144674    0.856791\n",
       "Close       0.758671  0.923904  0.919326  1.000000  0.377651    0.758591\n",
       "Volume      0.311588  0.497223  0.144674  0.377651  1.000000    0.311974\n",
       "Market Cap  0.999999  0.886845  0.856791  0.758591  0.311974    1.000000"
      ]
     },
     "execution_count": 12,
     "metadata": {},
     "output_type": "execute_result"
    }
   ],
   "source": [
    "# correlation between columns\n",
    "correlation = df.corr(method=\"pearson\")\n",
    "correlation"
   ]
  },
  {
   "cell_type": "markdown",
   "metadata": {},
   "source": [
    "let's plot data between Market Cap and other variable, then see the relation between the data\n"
   ]
  },
  {
   "cell_type": "code",
   "execution_count": 13,
   "metadata": {
    "scrolled": false
   },
   "outputs": [
    {
     "data": {
      "image/png": "[encoded data removed]",
      "text/plain": [
       "<Figure size 432x288 with 5 Axes>"
      ]
     },
     "metadata": {
      "needs_background": "light"
     },
     "output_type": "display_data"
    }
   ],
   "source": [
    "import matplotlib.pyplot as plt\n",
    "def plot_data(xdata,ydata,xlabel):\n",
    "    plt.scatter(xdata,ydata,marker='+',color='blue')\n",
    "    plt.ylabel('Market Cap')\n",
    "    plt.xlabel(xlabel)\n",
    "        \n",
    "plt.subplot(2,3,1)\n",
    "plot_data(df.Open, df['Market Cap'],'Open')\n",
    "plt.subplot(2,3,2)\n",
    "plot_data(df.Close, df['Market Cap'],'Close')\n",
    "plt.subplot(2,3,3)\n",
    "plot_data(df.High, df['Market Cap'],'High')\n",
    "plt.subplot(2,3,4)\n",
    "plot_data(df.Low, df['Market Cap'],'Low')\n",
    "plt.subplot(2,3,5)\n",
    "plot_data(df.Volume, df['Market Cap'],'Volume')"
   ]
  },
  {
   "cell_type": "code",
   "execution_count": 14,
   "metadata": {},
   "outputs": [],
   "source": [
    "from sklearn import linear_model\n",
    "\n",
    "model       = linear_model.LinearRegression()\n",
    "Open        = df[['Open']]\n",
    "Market_Cap  = df['Market Cap']"
   ]
  },
  {
   "cell_type": "code",
   "execution_count": 15,
   "metadata": {},
   "outputs": [
    {
     "data": {
      "text/plain": [
       "LinearRegression(copy_X=True, fit_intercept=True, n_jobs=None, normalize=False)"
      ]
     },
     "execution_count": 15,
     "metadata": {},
     "output_type": "execute_result"
    }
   ],
   "source": [
    "# train data using linear regression \n",
    "model.fit(Open, Market_Cap)"
   ]
  },
  {
   "cell_type": "code",
   "execution_count": 16,
   "metadata": {},
   "outputs": [
    {
     "data": {
      "text/plain": [
       "0.9999983695152456"
      ]
     },
     "execution_count": 16,
     "metadata": {},
     "output_type": "execute_result"
    }
   ],
   "source": [
    "# Model Score\n",
    "model.score(Open, Market_Cap)"
   ]
  },
  {
   "cell_type": "markdown",
   "metadata": {},
   "source": [
    "#### 4. Data Visualization"
   ]
  },
  {
   "cell_type": "code",
   "execution_count": 17,
   "metadata": {},
   "outputs": [
    {
     "data": {
      "text/plain": [
       "<matplotlib.axes._subplots.AxesSubplot at 0x1a24fb6590>"
      ]
     },
     "execution_count": 17,
     "metadata": {},
     "output_type": "execute_result"
    },
    {
     "data": {
      "image/png": "[encoded data removed]",
      "text/plain": [
       "<Figure size 432x288 with 6 Axes>"
      ]
     },
     "metadata": {
      "needs_background": "light"
     },
     "output_type": "display_data"
    }
   ],
   "source": [
    "%matplotlib inline\n",
    "    \n",
    "plt.subplot(2,3,1)\n",
    "plt.ylabel('Open')\n",
    "df.Open.plot()\n",
    "\n",
    "plt.subplot(2,3,2)\n",
    "plt.ylabel('High')\n",
    "df.High.plot()\n",
    "\n",
    "plt.subplot(2,3,3)\n",
    "plt.ylabel('Low')\n",
    "df.Low.plot()\n",
    "\n",
    "plt.subplot(2,3,4)\n",
    "plt.ylabel('Close')\n",
    "df.Close.plot()\n",
    "\n",
    "plt.subplot(2,3,5)\n",
    "plt.ylabel('Volume')\n",
    "df.Volume.plot()\n",
    "\n",
    "plt.subplot(2,3,6)\n",
    "plt.ylabel('Market Cap')\n",
    "df['Market Cap'].plot()"
   ]
  },
  {
   "cell_type": "code",
   "execution_count": null,
   "metadata": {},
   "outputs": [],
   "source": []
  }
 ],
 "metadata": {
  "kernelspec": {
   "display_name": "Python 3",
   "language": "python",
   "name": "python3"
  },
  "language_info": {
   "codemirror_mode": {
    "name": "ipython",
    "version": 3
   },
   "file_extension": ".py",
   "mimetype": "text/x-python",
   "name": "python",
   "nbconvert_exporter": "python",
   "pygments_lexer": "ipython3",
   "version": "3.7.4"
  }
 },
 "nbformat": 4,
 "nbformat_minor": 2
}
