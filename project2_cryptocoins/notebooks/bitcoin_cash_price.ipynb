{
 "cells": [
  {
   "cell_type": "markdown",
   "metadata": {},
   "source": [
    "### Masive Data Assignment\n",
    " (second project)\n",
    "Read, Clean, and prepare the Data"
   ]
  },
  {
   "cell_type": "code",
   "execution_count": 2,
   "metadata": {},
   "outputs": [],
   "source": [
    "import pandas as pd\n",
    "import numpy as np\n",
    "import seaborn as sns\n",
    "import matplotlib.pyplot as plt"
   ]
  },
  {
   "cell_type": "markdown",
   "metadata": {},
   "source": [
    "### Bitcoin Cash Price"
   ]
  },
  {
   "cell_type": "markdown",
   "metadata": {},
   "source": [
    "#### 1. Read the Data"
   ]
  },
  {
   "cell_type": "code",
   "execution_count": 12,
   "metadata": {
    "scrolled": false
   },
   "outputs": [
    {
     "data": {
      "text/html": [
       "<div>\n",
       "<style scoped>\n",
       "    .dataframe tbody tr th:only-of-type {\n",
       "        vertical-align: middle;\n",
       "    }\n",
       "\n",
       "    .dataframe tbody tr th {\n",
       "        vertical-align: top;\n",
       "    }\n",
       "\n",
       "    .dataframe thead th {\n",
       "        text-align: right;\n",
       "    }\n",
       "</style>\n",
       "<table border=\"1\" class=\"dataframe\">\n",
       "  <thead>\n",
       "    <tr style=\"text-align: right;\">\n",
       "      <th></th>\n",
       "      <th>Date</th>\n",
       "      <th>Open</th>\n",
       "      <th>High</th>\n",
       "      <th>Low</th>\n",
       "      <th>Close</th>\n",
       "      <th>Volume</th>\n",
       "      <th>Market Cap</th>\n",
       "    </tr>\n",
       "  </thead>\n",
       "  <tbody>\n",
       "    <tr>\n",
       "      <td>0</td>\n",
       "      <td>2017-09-05</td>\n",
       "      <td>514.90</td>\n",
       "      <td>550.95</td>\n",
       "      <td>458.78</td>\n",
       "      <td>541.71</td>\n",
       "      <td>338,978,000</td>\n",
       "      <td>8,527,100,000</td>\n",
       "    </tr>\n",
       "    <tr>\n",
       "      <td>1</td>\n",
       "      <td>2017-09-04</td>\n",
       "      <td>608.26</td>\n",
       "      <td>608.26</td>\n",
       "      <td>500.75</td>\n",
       "      <td>517.24</td>\n",
       "      <td>328,957,000</td>\n",
       "      <td>10,072,200,000</td>\n",
       "    </tr>\n",
       "    <tr>\n",
       "      <td>2</td>\n",
       "      <td>2017-09-03</td>\n",
       "      <td>578.27</td>\n",
       "      <td>617.41</td>\n",
       "      <td>563.59</td>\n",
       "      <td>607.43</td>\n",
       "      <td>344,862,000</td>\n",
       "      <td>9,574,520,000</td>\n",
       "    </tr>\n",
       "    <tr>\n",
       "      <td>3</td>\n",
       "      <td>2017-09-02</td>\n",
       "      <td>621.96</td>\n",
       "      <td>642.05</td>\n",
       "      <td>560.58</td>\n",
       "      <td>575.90</td>\n",
       "      <td>350,478,000</td>\n",
       "      <td>10,297,000,000</td>\n",
       "    </tr>\n",
       "    <tr>\n",
       "      <td>4</td>\n",
       "      <td>2017-09-01</td>\n",
       "      <td>588.40</td>\n",
       "      <td>645.52</td>\n",
       "      <td>586.73</td>\n",
       "      <td>622.17</td>\n",
       "      <td>393,839,000</td>\n",
       "      <td>9,740,460,000</td>\n",
       "    </tr>\n",
       "  </tbody>\n",
       "</table>\n",
       "</div>"
      ],
      "text/plain": [
       "        Date    Open    High     Low   Close       Volume      Market Cap\n",
       "0 2017-09-05  514.90  550.95  458.78  541.71  338,978,000   8,527,100,000\n",
       "1 2017-09-04  608.26  608.26  500.75  517.24  328,957,000  10,072,200,000\n",
       "2 2017-09-03  578.27  617.41  563.59  607.43  344,862,000   9,574,520,000\n",
       "3 2017-09-02  621.96  642.05  560.58  575.90  350,478,000  10,297,000,000\n",
       "4 2017-09-01  588.40  645.52  586.73  622.17  393,839,000   9,740,460,000"
      ]
     },
     "execution_count": 12,
     "metadata": {},
     "output_type": "execute_result"
    }
   ],
   "source": [
    "# Read Bitcoin Cash Price\n",
    "df = pd.read_csv('../data/raw/bitcoin_cash_price.csv', parse_dates = ['Date'])\n",
    "df.head()"
   ]
  },
  {
   "cell_type": "code",
   "execution_count": 22,
   "metadata": {},
   "outputs": [
    {
     "data": {
      "text/plain": [
       "Index(['Open', 'High', 'Low', 'Close', 'Volume', 'Market Cap'], dtype='object')"
      ]
     },
     "execution_count": 22,
     "metadata": {},
     "output_type": "execute_result"
    }
   ],
   "source": [
    "df.columns"
   ]
  },
  {
   "cell_type": "code",
   "execution_count": 20,
   "metadata": {},
   "outputs": [
    {
     "data": {
      "text/plain": [
       "Open          45\n",
       "High          45\n",
       "Low           45\n",
       "Close         45\n",
       "Volume        45\n",
       "Market Cap    45\n",
       "dtype: int64"
      ]
     },
     "execution_count": 20,
     "metadata": {},
     "output_type": "execute_result"
    }
   ],
   "source": [
    "df.count()"
   ]
  },
  {
   "cell_type": "markdown",
   "metadata": {},
   "source": [
    "as we can see we have in this file 7 columns and each column has 45 sell"
   ]
  },
  {
   "cell_type": "code",
   "execution_count": 24,
   "metadata": {},
   "outputs": [
    {
     "data": {
      "text/html": [
       "<div>\n",
       "<style scoped>\n",
       "    .dataframe tbody tr th:only-of-type {\n",
       "        vertical-align: middle;\n",
       "    }\n",
       "\n",
       "    .dataframe tbody tr th {\n",
       "        vertical-align: top;\n",
       "    }\n",
       "\n",
       "    .dataframe thead th {\n",
       "        text-align: right;\n",
       "    }\n",
       "</style>\n",
       "<table border=\"1\" class=\"dataframe\">\n",
       "  <thead>\n",
       "    <tr style=\"text-align: right;\">\n",
       "      <th></th>\n",
       "      <th>Open</th>\n",
       "      <th>High</th>\n",
       "      <th>Low</th>\n",
       "      <th>Close</th>\n",
       "    </tr>\n",
       "  </thead>\n",
       "  <tbody>\n",
       "    <tr>\n",
       "      <td>count</td>\n",
       "      <td>45.000000</td>\n",
       "      <td>45.000000</td>\n",
       "      <td>45.000000</td>\n",
       "      <td>45.000000</td>\n",
       "    </tr>\n",
       "    <tr>\n",
       "      <td>mean</td>\n",
       "      <td>461.323333</td>\n",
       "      <td>528.302889</td>\n",
       "      <td>412.777556</td>\n",
       "      <td>459.134667</td>\n",
       "    </tr>\n",
       "    <tr>\n",
       "      <td>std</td>\n",
       "      <td>155.461942</td>\n",
       "      <td>181.817928</td>\n",
       "      <td>151.387218</td>\n",
       "      <td>154.506075</td>\n",
       "    </tr>\n",
       "    <tr>\n",
       "      <td>min</td>\n",
       "      <td>212.180000</td>\n",
       "      <td>223.700000</td>\n",
       "      <td>200.980000</td>\n",
       "      <td>213.150000</td>\n",
       "    </tr>\n",
       "    <tr>\n",
       "      <td>25%</td>\n",
       "      <td>321.350000</td>\n",
       "      <td>373.870000</td>\n",
       "      <td>293.100000</td>\n",
       "      <td>319.690000</td>\n",
       "    </tr>\n",
       "    <tr>\n",
       "      <td>50%</td>\n",
       "      <td>417.100000</td>\n",
       "      <td>541.660000</td>\n",
       "      <td>364.050000</td>\n",
       "      <td>413.060000</td>\n",
       "    </tr>\n",
       "    <tr>\n",
       "      <td>75%</td>\n",
       "      <td>596.190000</td>\n",
       "      <td>645.520000</td>\n",
       "      <td>570.270000</td>\n",
       "      <td>599.630000</td>\n",
       "    </tr>\n",
       "    <tr>\n",
       "      <td>max</td>\n",
       "      <td>772.420000</td>\n",
       "      <td>1091.970000</td>\n",
       "      <td>683.940000</td>\n",
       "      <td>754.560000</td>\n",
       "    </tr>\n",
       "  </tbody>\n",
       "</table>\n",
       "</div>"
      ],
      "text/plain": [
       "             Open         High         Low       Close\n",
       "count   45.000000    45.000000   45.000000   45.000000\n",
       "mean   461.323333   528.302889  412.777556  459.134667\n",
       "std    155.461942   181.817928  151.387218  154.506075\n",
       "min    212.180000   223.700000  200.980000  213.150000\n",
       "25%    321.350000   373.870000  293.100000  319.690000\n",
       "50%    417.100000   541.660000  364.050000  413.060000\n",
       "75%    596.190000   645.520000  570.270000  599.630000\n",
       "max    772.420000  1091.970000  683.940000  754.560000"
      ]
     },
     "execution_count": 24,
     "metadata": {},
     "output_type": "execute_result"
    }
   ],
   "source": [
    "df.describe()"
   ]
  },
  {
   "cell_type": "code",
   "execution_count": 30,
   "metadata": {
    "scrolled": true
   },
   "outputs": [
    {
     "name": "stdout",
     "output_type": "stream",
     "text": [
      "<class 'pandas.core.frame.DataFrame'>\n",
      "DatetimeIndex: 45 entries, 2017-09-05 to 2017-07-23\n",
      "Data columns (total 6 columns):\n",
      "Open          45 non-null float64\n",
      "High          45 non-null float64\n",
      "Low           45 non-null float64\n",
      "Close         45 non-null float64\n",
      "Volume        45 non-null object\n",
      "Market Cap    45 non-null object\n",
      "dtypes: float64(4), object(2)\n",
      "memory usage: 2.5+ KB\n"
     ]
    }
   ],
   "source": [
    "# General Information \n",
    "df.info()"
   ]
  },
  {
   "cell_type": "code",
   "execution_count": 54,
   "metadata": {},
   "outputs": [
    {
     "data": {
      "text/plain": [
       "Date\n",
       "2017-09-05    False\n",
       "2017-09-04    False\n",
       "2017-09-03    False\n",
       "2017-09-02    False\n",
       "2017-09-01    False\n",
       "2017-08-31    False\n",
       "2017-08-30    False\n",
       "2017-08-29    False\n",
       "2017-08-28    False\n",
       "2017-08-27    False\n",
       "2017-08-26    False\n",
       "2017-08-25    False\n",
       "2017-08-24    False\n",
       "2017-08-23    False\n",
       "2017-08-22    False\n",
       "2017-08-21    False\n",
       "2017-08-20    False\n",
       "2017-08-19    False\n",
       "2017-08-18    False\n",
       "2017-08-17    False\n",
       "2017-08-16    False\n",
       "2017-08-15    False\n",
       "2017-08-14    False\n",
       "2017-08-13    False\n",
       "2017-08-12    False\n",
       "2017-08-11    False\n",
       "2017-08-10    False\n",
       "2017-08-09    False\n",
       "2017-08-08    False\n",
       "2017-08-07    False\n",
       "2017-08-06    False\n",
       "2017-08-05    False\n",
       "2017-08-04    False\n",
       "2017-08-03    False\n",
       "2017-08-02    False\n",
       "2017-08-01    False\n",
       "2017-07-31    False\n",
       "2017-07-30    False\n",
       "2017-07-29    False\n",
       "2017-07-28    False\n",
       "2017-07-27    False\n",
       "2017-07-26    False\n",
       "2017-07-25    False\n",
       "2017-07-24    False\n",
       "2017-07-23    False\n",
       "dtype: bool"
      ]
     },
     "execution_count": 54,
     "metadata": {},
     "output_type": "execute_result"
    }
   ],
   "source": [
    "#check if the dataset is duplicated\n",
    "df.duplicated()"
   ]
  },
  {
   "cell_type": "markdown",
   "metadata": {},
   "source": [
    "as we can see the data frame has 45 entries and 7 columns. each column has 45 cell, and there is no missing data, but when we have checked the data frame we found there is missing data but instead \"NaN\" value, there is \"-\" in the cells and the previous method concedered them as a string type, so we have to replace the string into NaN .  \n",
    "* Volume and Market cap data type are object, it should be number. "
   ]
  },
  {
   "cell_type": "code",
   "execution_count": null,
   "metadata": {},
   "outputs": [],
   "source": []
  },
  {
   "cell_type": "code",
   "execution_count": 31,
   "metadata": {},
   "outputs": [
    {
     "data": {
      "text/html": [
       "<div>\n",
       "<style scoped>\n",
       "    .dataframe tbody tr th:only-of-type {\n",
       "        vertical-align: middle;\n",
       "    }\n",
       "\n",
       "    .dataframe tbody tr th {\n",
       "        vertical-align: top;\n",
       "    }\n",
       "\n",
       "    .dataframe thead th {\n",
       "        text-align: right;\n",
       "    }\n",
       "</style>\n",
       "<table border=\"1\" class=\"dataframe\">\n",
       "  <thead>\n",
       "    <tr style=\"text-align: right;\">\n",
       "      <th></th>\n",
       "      <th>Open</th>\n",
       "      <th>High</th>\n",
       "      <th>Low</th>\n",
       "      <th>Close</th>\n",
       "      <th>Volume</th>\n",
       "      <th>Market Cap</th>\n",
       "    </tr>\n",
       "    <tr>\n",
       "      <th>Date</th>\n",
       "      <th></th>\n",
       "      <th></th>\n",
       "      <th></th>\n",
       "      <th></th>\n",
       "      <th></th>\n",
       "      <th></th>\n",
       "    </tr>\n",
       "  </thead>\n",
       "  <tbody>\n",
       "    <tr>\n",
       "      <td>2017-08-01</td>\n",
       "      <td>294.60</td>\n",
       "      <td>426.11</td>\n",
       "      <td>210.38</td>\n",
       "      <td>380.01</td>\n",
       "      <td>65,988,800</td>\n",
       "      <td>NaN</td>\n",
       "    </tr>\n",
       "    <tr>\n",
       "      <td>2017-07-31</td>\n",
       "      <td>346.36</td>\n",
       "      <td>347.82</td>\n",
       "      <td>266.19</td>\n",
       "      <td>294.46</td>\n",
       "      <td>1,075,960</td>\n",
       "      <td>NaN</td>\n",
       "    </tr>\n",
       "    <tr>\n",
       "      <td>2017-07-30</td>\n",
       "      <td>385.14</td>\n",
       "      <td>385.14</td>\n",
       "      <td>316.25</td>\n",
       "      <td>345.66</td>\n",
       "      <td>606,695</td>\n",
       "      <td>NaN</td>\n",
       "    </tr>\n",
       "    <tr>\n",
       "      <td>2017-07-29</td>\n",
       "      <td>410.56</td>\n",
       "      <td>423.73</td>\n",
       "      <td>323.73</td>\n",
       "      <td>384.77</td>\n",
       "      <td>737,815</td>\n",
       "      <td>NaN</td>\n",
       "    </tr>\n",
       "    <tr>\n",
       "      <td>2017-07-28</td>\n",
       "      <td>386.65</td>\n",
       "      <td>465.18</td>\n",
       "      <td>217.06</td>\n",
       "      <td>406.05</td>\n",
       "      <td>1,230,160</td>\n",
       "      <td>NaN</td>\n",
       "    </tr>\n",
       "  </tbody>\n",
       "</table>\n",
       "</div>"
      ],
      "text/plain": [
       "              Open    High     Low   Close      Volume Market Cap\n",
       "Date                                                             \n",
       "2017-08-01  294.60  426.11  210.38  380.01  65,988,800        NaN\n",
       "2017-07-31  346.36  347.82  266.19  294.46   1,075,960        NaN\n",
       "2017-07-30  385.14  385.14  316.25  345.66     606,695        NaN\n",
       "2017-07-29  410.56  423.73  323.73  384.77     737,815        NaN\n",
       "2017-07-28  386.65  465.18  217.06  406.05   1,230,160        NaN"
      ]
     },
     "execution_count": 31,
     "metadata": {},
     "output_type": "execute_result"
    }
   ],
   "source": [
    "# Replacing missing data with NaN\n",
    "df.replace('-', np.nan,inplace=True)\n",
    "df[df['Market Cap'].isnull()].head()"
   ]
  },
  {
   "cell_type": "code",
   "execution_count": 33,
   "metadata": {
    "scrolled": false
   },
   "outputs": [
    {
     "data": {
      "text/plain": [
       "Open           0\n",
       "High           0\n",
       "Low            0\n",
       "Close          0\n",
       "Volume         0\n",
       "Market Cap    10\n",
       "dtype: int64"
      ]
     },
     "execution_count": 33,
     "metadata": {},
     "output_type": "execute_result"
    }
   ],
   "source": [
    "# Count missing data in each column\n",
    "df.isnull().sum()"
   ]
  },
  {
   "cell_type": "markdown",
   "metadata": {},
   "source": [
    "we can see missing data "
   ]
  },
  {
   "cell_type": "markdown",
   "metadata": {},
   "source": [
    "#### 2. Cleaning Data"
   ]
  },
  {
   "cell_type": "markdown",
   "metadata": {},
   "source": [
    "as i mentioned before the \"Volume and Market Cap\" have different format and python concedered that as a string not number, also we have some missing data in the Market Cap column \n",
    "so we have to convert all strings into float and \n",
    "     "
   ]
  },
  {
   "cell_type": "code",
   "execution_count": 34,
   "metadata": {},
   "outputs": [
    {
     "name": "stdout",
     "output_type": "stream",
     "text": [
      "Volume Data Type : <class 'str'>\n",
      "Market Cap Data Type : <class 'str'>\n"
     ]
    }
   ],
   "source": [
    "print('Volume Data Type :', type(df.Volume[0]))\n",
    "print('Market Cap Data Type :', type(df['Market Cap'][0]))"
   ]
  },
  {
   "cell_type": "code",
   "execution_count": 36,
   "metadata": {
    "scrolled": true
   },
   "outputs": [
    {
     "data": {
      "text/html": [
       "<div>\n",
       "<style scoped>\n",
       "    .dataframe tbody tr th:only-of-type {\n",
       "        vertical-align: middle;\n",
       "    }\n",
       "\n",
       "    .dataframe tbody tr th {\n",
       "        vertical-align: top;\n",
       "    }\n",
       "\n",
       "    .dataframe thead th {\n",
       "        text-align: right;\n",
       "    }\n",
       "</style>\n",
       "<table border=\"1\" class=\"dataframe\">\n",
       "  <thead>\n",
       "    <tr style=\"text-align: right;\">\n",
       "      <th></th>\n",
       "      <th>Open</th>\n",
       "      <th>High</th>\n",
       "      <th>Low</th>\n",
       "      <th>Close</th>\n",
       "      <th>Volume</th>\n",
       "      <th>Market Cap</th>\n",
       "    </tr>\n",
       "  </thead>\n",
       "  <tbody>\n",
       "    <tr>\n",
       "      <td>count</td>\n",
       "      <td>45.000000</td>\n",
       "      <td>45.000000</td>\n",
       "      <td>45.000000</td>\n",
       "      <td>45.000000</td>\n",
       "      <td>4.500000e+01</td>\n",
       "      <td>3.500000e+01</td>\n",
       "    </tr>\n",
       "    <tr>\n",
       "      <td>mean</td>\n",
       "      <td>461.323333</td>\n",
       "      <td>528.302889</td>\n",
       "      <td>412.777556</td>\n",
       "      <td>459.134667</td>\n",
       "      <td>4.196584e+08</td>\n",
       "      <td>7.883221e+09</td>\n",
       "    </tr>\n",
       "    <tr>\n",
       "      <td>std</td>\n",
       "      <td>155.461942</td>\n",
       "      <td>181.817928</td>\n",
       "      <td>151.387218</td>\n",
       "      <td>154.506075</td>\n",
       "      <td>6.792123e+08</td>\n",
       "      <td>2.815761e+09</td>\n",
       "    </tr>\n",
       "    <tr>\n",
       "      <td>min</td>\n",
       "      <td>212.180000</td>\n",
       "      <td>223.700000</td>\n",
       "      <td>200.980000</td>\n",
       "      <td>213.150000</td>\n",
       "      <td>8.501300e+04</td>\n",
       "      <td>3.497290e+09</td>\n",
       "    </tr>\n",
       "    <tr>\n",
       "      <td>25%</td>\n",
       "      <td>321.350000</td>\n",
       "      <td>373.870000</td>\n",
       "      <td>293.100000</td>\n",
       "      <td>319.690000</td>\n",
       "      <td>1.076060e+08</td>\n",
       "      <td>5.123560e+09</td>\n",
       "    </tr>\n",
       "    <tr>\n",
       "      <td>50%</td>\n",
       "      <td>417.100000</td>\n",
       "      <td>541.660000</td>\n",
       "      <td>364.050000</td>\n",
       "      <td>413.060000</td>\n",
       "      <td>2.162730e+08</td>\n",
       "      <td>8.527100e+09</td>\n",
       "    </tr>\n",
       "    <tr>\n",
       "      <td>75%</td>\n",
       "      <td>596.190000</td>\n",
       "      <td>645.520000</td>\n",
       "      <td>570.270000</td>\n",
       "      <td>599.630000</td>\n",
       "      <td>3.938390e+08</td>\n",
       "      <td>1.027590e+10</td>\n",
       "    </tr>\n",
       "    <tr>\n",
       "      <td>max</td>\n",
       "      <td>772.420000</td>\n",
       "      <td>1091.970000</td>\n",
       "      <td>683.940000</td>\n",
       "      <td>754.560000</td>\n",
       "      <td>3.196230e+09</td>\n",
       "      <td>1.274260e+10</td>\n",
       "    </tr>\n",
       "  </tbody>\n",
       "</table>\n",
       "</div>"
      ],
      "text/plain": [
       "             Open         High         Low       Close        Volume  \\\n",
       "count   45.000000    45.000000   45.000000   45.000000  4.500000e+01   \n",
       "mean   461.323333   528.302889  412.777556  459.134667  4.196584e+08   \n",
       "std    155.461942   181.817928  151.387218  154.506075  6.792123e+08   \n",
       "min    212.180000   223.700000  200.980000  213.150000  8.501300e+04   \n",
       "25%    321.350000   373.870000  293.100000  319.690000  1.076060e+08   \n",
       "50%    417.100000   541.660000  364.050000  413.060000  2.162730e+08   \n",
       "75%    596.190000   645.520000  570.270000  599.630000  3.938390e+08   \n",
       "max    772.420000  1091.970000  683.940000  754.560000  3.196230e+09   \n",
       "\n",
       "         Market Cap  \n",
       "count  3.500000e+01  \n",
       "mean   7.883221e+09  \n",
       "std    2.815761e+09  \n",
       "min    3.497290e+09  \n",
       "25%    5.123560e+09  \n",
       "50%    8.527100e+09  \n",
       "75%    1.027590e+10  \n",
       "max    1.274260e+10  "
      ]
     },
     "execution_count": 36,
     "metadata": {},
     "output_type": "execute_result"
    }
   ],
   "source": [
    "def convert_to_number(x):\n",
    "    try:\n",
    "        return int(x.replace(',',''))\n",
    "    except:\n",
    "        return x\n",
    "\n",
    "df.Volume = df.Volume.apply(convert_to_number)\n",
    "df['Market Cap'] = df['Market Cap'].apply(convert_to_number)\n",
    "\n",
    "df.describe()"
   ]
  },
  {
   "cell_type": "code",
   "execution_count": 37,
   "metadata": {},
   "outputs": [
    {
     "name": "stdout",
     "output_type": "stream",
     "text": [
      "<class 'pandas.core.frame.DataFrame'>\n",
      "DatetimeIndex: 45 entries, 2017-09-05 to 2017-07-23\n",
      "Data columns (total 6 columns):\n",
      "Open          45 non-null float64\n",
      "High          45 non-null float64\n",
      "Low           45 non-null float64\n",
      "Close         45 non-null float64\n",
      "Volume        45 non-null int64\n",
      "Market Cap    35 non-null float64\n",
      "dtypes: float64(5), int64(1)\n",
      "memory usage: 3.7 KB\n"
     ]
    }
   ],
   "source": [
    "df.info()"
   ]
  },
  {
   "cell_type": "code",
   "execution_count": 38,
   "metadata": {},
   "outputs": [
    {
     "data": {
      "text/html": [
       "<div>\n",
       "<style scoped>\n",
       "    .dataframe tbody tr th:only-of-type {\n",
       "        vertical-align: middle;\n",
       "    }\n",
       "\n",
       "    .dataframe tbody tr th {\n",
       "        vertical-align: top;\n",
       "    }\n",
       "\n",
       "    .dataframe thead th {\n",
       "        text-align: right;\n",
       "    }\n",
       "</style>\n",
       "<table border=\"1\" class=\"dataframe\">\n",
       "  <thead>\n",
       "    <tr style=\"text-align: right;\">\n",
       "      <th></th>\n",
       "      <th>Open</th>\n",
       "      <th>High</th>\n",
       "      <th>Low</th>\n",
       "      <th>Close</th>\n",
       "      <th>Volume</th>\n",
       "      <th>Market Cap</th>\n",
       "    </tr>\n",
       "    <tr>\n",
       "      <th>Date</th>\n",
       "      <th></th>\n",
       "      <th></th>\n",
       "      <th></th>\n",
       "      <th></th>\n",
       "      <th></th>\n",
       "      <th></th>\n",
       "    </tr>\n",
       "  </thead>\n",
       "  <tbody>\n",
       "    <tr>\n",
       "      <td>2017-08-01</td>\n",
       "      <td>294.60</td>\n",
       "      <td>426.11</td>\n",
       "      <td>210.38</td>\n",
       "      <td>380.01</td>\n",
       "      <td>65988800</td>\n",
       "      <td>NaN</td>\n",
       "    </tr>\n",
       "    <tr>\n",
       "      <td>2017-07-31</td>\n",
       "      <td>346.36</td>\n",
       "      <td>347.82</td>\n",
       "      <td>266.19</td>\n",
       "      <td>294.46</td>\n",
       "      <td>1075960</td>\n",
       "      <td>NaN</td>\n",
       "    </tr>\n",
       "    <tr>\n",
       "      <td>2017-07-30</td>\n",
       "      <td>385.14</td>\n",
       "      <td>385.14</td>\n",
       "      <td>316.25</td>\n",
       "      <td>345.66</td>\n",
       "      <td>606695</td>\n",
       "      <td>NaN</td>\n",
       "    </tr>\n",
       "    <tr>\n",
       "      <td>2017-07-29</td>\n",
       "      <td>410.56</td>\n",
       "      <td>423.73</td>\n",
       "      <td>323.73</td>\n",
       "      <td>384.77</td>\n",
       "      <td>737815</td>\n",
       "      <td>NaN</td>\n",
       "    </tr>\n",
       "    <tr>\n",
       "      <td>2017-07-28</td>\n",
       "      <td>386.65</td>\n",
       "      <td>465.18</td>\n",
       "      <td>217.06</td>\n",
       "      <td>406.05</td>\n",
       "      <td>1230160</td>\n",
       "      <td>NaN</td>\n",
       "    </tr>\n",
       "  </tbody>\n",
       "</table>\n",
       "</div>"
      ],
      "text/plain": [
       "              Open    High     Low   Close    Volume  Market Cap\n",
       "Date                                                            \n",
       "2017-08-01  294.60  426.11  210.38  380.01  65988800         NaN\n",
       "2017-07-31  346.36  347.82  266.19  294.46   1075960         NaN\n",
       "2017-07-30  385.14  385.14  316.25  345.66    606695         NaN\n",
       "2017-07-29  410.56  423.73  323.73  384.77    737815         NaN\n",
       "2017-07-28  386.65  465.18  217.06  406.05   1230160         NaN"
      ]
     },
     "execution_count": 38,
     "metadata": {},
     "output_type": "execute_result"
    }
   ],
   "source": [
    "df[df['Market Cap'].isnull()].head()"
   ]
  },
  {
   "cell_type": "markdown",
   "metadata": {},
   "source": [
    "#### 3. dealing with missing data"
   ]
  },
  {
   "cell_type": "code",
   "execution_count": 40,
   "metadata": {},
   "outputs": [
    {
     "data": {
      "text/html": [
       "<div>\n",
       "<style scoped>\n",
       "    .dataframe tbody tr th:only-of-type {\n",
       "        vertical-align: middle;\n",
       "    }\n",
       "\n",
       "    .dataframe tbody tr th {\n",
       "        vertical-align: top;\n",
       "    }\n",
       "\n",
       "    .dataframe thead th {\n",
       "        text-align: right;\n",
       "    }\n",
       "</style>\n",
       "<table border=\"1\" class=\"dataframe\">\n",
       "  <thead>\n",
       "    <tr style=\"text-align: right;\">\n",
       "      <th></th>\n",
       "      <th>Open</th>\n",
       "      <th>High</th>\n",
       "      <th>Low</th>\n",
       "      <th>Close</th>\n",
       "      <th>Volume</th>\n",
       "      <th>Market Cap</th>\n",
       "    </tr>\n",
       "    <tr>\n",
       "      <th>Date</th>\n",
       "      <th></th>\n",
       "      <th></th>\n",
       "      <th></th>\n",
       "      <th></th>\n",
       "      <th></th>\n",
       "      <th></th>\n",
       "    </tr>\n",
       "  </thead>\n",
       "  <tbody>\n",
       "    <tr>\n",
       "      <td>2017-08-06</td>\n",
       "      <td>212.18</td>\n",
       "      <td>223.70</td>\n",
       "      <td>203.44</td>\n",
       "      <td>220.66</td>\n",
       "      <td>107606000</td>\n",
       "      <td>3.497290e+09</td>\n",
       "    </tr>\n",
       "    <tr>\n",
       "      <td>2017-08-05</td>\n",
       "      <td>231.11</td>\n",
       "      <td>273.04</td>\n",
       "      <td>200.98</td>\n",
       "      <td>213.15</td>\n",
       "      <td>144043000</td>\n",
       "      <td>3.809330e+09</td>\n",
       "    </tr>\n",
       "    <tr>\n",
       "      <td>2017-08-04</td>\n",
       "      <td>362.18</td>\n",
       "      <td>386.93</td>\n",
       "      <td>233.05</td>\n",
       "      <td>233.05</td>\n",
       "      <td>185038000</td>\n",
       "      <td>5.969720e+09</td>\n",
       "    </tr>\n",
       "    <tr>\n",
       "      <td>2017-08-03</td>\n",
       "      <td>448.49</td>\n",
       "      <td>519.28</td>\n",
       "      <td>364.05</td>\n",
       "      <td>364.05</td>\n",
       "      <td>161518000</td>\n",
       "      <td>7.392030e+09</td>\n",
       "    </tr>\n",
       "    <tr>\n",
       "      <td>2017-08-02</td>\n",
       "      <td>382.38</td>\n",
       "      <td>756.93</td>\n",
       "      <td>309.33</td>\n",
       "      <td>452.66</td>\n",
       "      <td>416207000</td>\n",
       "      <td>6.302360e+09</td>\n",
       "    </tr>\n",
       "  </tbody>\n",
       "</table>\n",
       "</div>"
      ],
      "text/plain": [
       "              Open    High     Low   Close     Volume    Market Cap\n",
       "Date                                                               \n",
       "2017-08-06  212.18  223.70  203.44  220.66  107606000  3.497290e+09\n",
       "2017-08-05  231.11  273.04  200.98  213.15  144043000  3.809330e+09\n",
       "2017-08-04  362.18  386.93  233.05  233.05  185038000  5.969720e+09\n",
       "2017-08-03  448.49  519.28  364.05  364.05  161518000  7.392030e+09\n",
       "2017-08-02  382.38  756.93  309.33  452.66  416207000  6.302360e+09"
      ]
     },
     "execution_count": 40,
     "metadata": {},
     "output_type": "execute_result"
    }
   ],
   "source": [
    "#newdf without NaN value\n",
    "newdf = df[np.isfinite(df['Market Cap'])]\n",
    "newdf.tail()"
   ]
  },
  {
   "cell_type": "code",
   "execution_count": 41,
   "metadata": {
    "scrolled": true
   },
   "outputs": [
    {
     "data": {
      "text/html": [
       "<div>\n",
       "<style scoped>\n",
       "    .dataframe tbody tr th:only-of-type {\n",
       "        vertical-align: middle;\n",
       "    }\n",
       "\n",
       "    .dataframe tbody tr th {\n",
       "        vertical-align: top;\n",
       "    }\n",
       "\n",
       "    .dataframe thead th {\n",
       "        text-align: right;\n",
       "    }\n",
       "</style>\n",
       "<table border=\"1\" class=\"dataframe\">\n",
       "  <thead>\n",
       "    <tr style=\"text-align: right;\">\n",
       "      <th></th>\n",
       "      <th>Open</th>\n",
       "      <th>High</th>\n",
       "      <th>Low</th>\n",
       "      <th>Close</th>\n",
       "      <th>Volume</th>\n",
       "      <th>Market Cap</th>\n",
       "    </tr>\n",
       "  </thead>\n",
       "  <tbody>\n",
       "    <tr>\n",
       "      <td>Open</td>\n",
       "      <td>1.000000</td>\n",
       "      <td>0.866955</td>\n",
       "      <td>0.974537</td>\n",
       "      <td>0.910747</td>\n",
       "      <td>0.375433</td>\n",
       "      <td>0.999990</td>\n",
       "    </tr>\n",
       "    <tr>\n",
       "      <td>High</td>\n",
       "      <td>0.866955</td>\n",
       "      <td>1.000000</td>\n",
       "      <td>0.841476</td>\n",
       "      <td>0.925035</td>\n",
       "      <td>0.688101</td>\n",
       "      <td>0.865942</td>\n",
       "    </tr>\n",
       "    <tr>\n",
       "      <td>Low</td>\n",
       "      <td>0.974537</td>\n",
       "      <td>0.841476</td>\n",
       "      <td>1.000000</td>\n",
       "      <td>0.944290</td>\n",
       "      <td>0.367466</td>\n",
       "      <td>0.974910</td>\n",
       "    </tr>\n",
       "    <tr>\n",
       "      <td>Close</td>\n",
       "      <td>0.910747</td>\n",
       "      <td>0.925035</td>\n",
       "      <td>0.944290</td>\n",
       "      <td>1.000000</td>\n",
       "      <td>0.578738</td>\n",
       "      <td>0.910789</td>\n",
       "    </tr>\n",
       "    <tr>\n",
       "      <td>Volume</td>\n",
       "      <td>0.375433</td>\n",
       "      <td>0.688101</td>\n",
       "      <td>0.367466</td>\n",
       "      <td>0.578738</td>\n",
       "      <td>1.000000</td>\n",
       "      <td>0.373185</td>\n",
       "    </tr>\n",
       "    <tr>\n",
       "      <td>Market Cap</td>\n",
       "      <td>0.999990</td>\n",
       "      <td>0.865942</td>\n",
       "      <td>0.974910</td>\n",
       "      <td>0.910789</td>\n",
       "      <td>0.373185</td>\n",
       "      <td>1.000000</td>\n",
       "    </tr>\n",
       "  </tbody>\n",
       "</table>\n",
       "</div>"
      ],
      "text/plain": [
       "                Open      High       Low     Close    Volume  Market Cap\n",
       "Open        1.000000  0.866955  0.974537  0.910747  0.375433    0.999990\n",
       "High        0.866955  1.000000  0.841476  0.925035  0.688101    0.865942\n",
       "Low         0.974537  0.841476  1.000000  0.944290  0.367466    0.974910\n",
       "Close       0.910747  0.925035  0.944290  1.000000  0.578738    0.910789\n",
       "Volume      0.375433  0.688101  0.367466  0.578738  1.000000    0.373185\n",
       "Market Cap  0.999990  0.865942  0.974910  0.910789  0.373185    1.000000"
      ]
     },
     "execution_count": 41,
     "metadata": {},
     "output_type": "execute_result"
    }
   ],
   "source": [
    "# correlation between columns\n",
    "correlation = newdf.corr(method=\"pearson\")\n",
    "correlation"
   ]
  },
  {
   "cell_type": "markdown",
   "metadata": {},
   "source": [
    "as we can see, the \"Market Cap and Open almost the same\", so let's plot data between Market Cap and other variable, then see the relation between the data\n"
   ]
  },
  {
   "cell_type": "code",
   "execution_count": 42,
   "metadata": {
    "scrolled": false
   },
   "outputs": [
    {
     "data": {
      "image/png": "[encoded data removed]",
      "text/plain": [
       "<Figure size 432x288 with 5 Axes>"
      ]
     },
     "metadata": {
      "needs_background": "light"
     },
     "output_type": "display_data"
    }
   ],
   "source": [
    "import matplotlib.pyplot as plt\n",
    "def plot_data(xdata,ydata,xlabel):\n",
    "    plt.scatter(xdata,ydata,marker='+',color='blue')\n",
    "    plt.ylabel('Market Cap')\n",
    "    plt.xlabel(xlabel)\n",
    "        \n",
    "plt.subplot(2,3,1)\n",
    "plot_data(newdf.Open, newdf['Market Cap'],'Open')\n",
    "plt.subplot(2,3,2)\n",
    "plot_data(newdf.Close, newdf['Market Cap'],'Close')\n",
    "plt.subplot(2,3,3)\n",
    "plot_data(newdf.High, newdf['Market Cap'],'High')\n",
    "plt.subplot(2,3,4)\n",
    "plot_data(newdf.Low, newdf['Market Cap'],'Low')\n",
    "plt.subplot(2,3,5)\n",
    "plot_data(newdf.Volume, newdf['Market Cap'],'Volume')"
   ]
  },
  {
   "cell_type": "markdown",
   "metadata": {},
   "source": [
    "as we can see the Market Cap and Open have a linear relationship"
   ]
  },
  {
   "cell_type": "code",
   "execution_count": 44,
   "metadata": {},
   "outputs": [],
   "source": [
    "from sklearn import linear_model\n",
    "\n",
    "model       = linear_model.LinearRegression()\n",
    "Open        = newdf[['Open']]\n",
    "Market_Cap  = newdf['Market Cap']"
   ]
  },
  {
   "cell_type": "code",
   "execution_count": 45,
   "metadata": {},
   "outputs": [
    {
     "data": {
      "text/plain": [
       "LinearRegression(copy_X=True, fit_intercept=True, n_jobs=None, normalize=False)"
      ]
     },
     "execution_count": 45,
     "metadata": {},
     "output_type": "execute_result"
    }
   ],
   "source": [
    "# train data using linear regression \n",
    "model.fit(Open, Market_Cap)"
   ]
  },
  {
   "cell_type": "code",
   "execution_count": 50,
   "metadata": {},
   "outputs": [
    {
     "data": {
      "text/plain": [
       "0.9999801609861945"
      ]
     },
     "execution_count": 50,
     "metadata": {},
     "output_type": "execute_result"
    }
   ],
   "source": [
    "# Model Score\n",
    "model.score(Open, Market_Cap)"
   ]
  },
  {
   "cell_type": "code",
   "execution_count": 51,
   "metadata": {},
   "outputs": [
    {
     "data": {
      "text/html": [
       "<div>\n",
       "<style scoped>\n",
       "    .dataframe tbody tr th:only-of-type {\n",
       "        vertical-align: middle;\n",
       "    }\n",
       "\n",
       "    .dataframe tbody tr th {\n",
       "        vertical-align: top;\n",
       "    }\n",
       "\n",
       "    .dataframe thead th {\n",
       "        text-align: right;\n",
       "    }\n",
       "</style>\n",
       "<table border=\"1\" class=\"dataframe\">\n",
       "  <thead>\n",
       "    <tr style=\"text-align: right;\">\n",
       "      <th></th>\n",
       "      <th>Open</th>\n",
       "      <th>High</th>\n",
       "      <th>Low</th>\n",
       "      <th>Close</th>\n",
       "      <th>Volume</th>\n",
       "      <th>Market Cap</th>\n",
       "      <th>Market Cap Predict</th>\n",
       "    </tr>\n",
       "    <tr>\n",
       "      <th>Date</th>\n",
       "      <th></th>\n",
       "      <th></th>\n",
       "      <th></th>\n",
       "      <th></th>\n",
       "      <th></th>\n",
       "      <th></th>\n",
       "      <th></th>\n",
       "    </tr>\n",
       "  </thead>\n",
       "  <tbody>\n",
       "    <tr>\n",
       "      <td>2017-08-01</td>\n",
       "      <td>294.60</td>\n",
       "      <td>426.11</td>\n",
       "      <td>210.38</td>\n",
       "      <td>380.01</td>\n",
       "      <td>65988800</td>\n",
       "      <td>NaN</td>\n",
       "      <td>4859285818</td>\n",
       "    </tr>\n",
       "    <tr>\n",
       "      <td>2017-07-31</td>\n",
       "      <td>346.36</td>\n",
       "      <td>347.82</td>\n",
       "      <td>266.19</td>\n",
       "      <td>294.46</td>\n",
       "      <td>1075960</td>\n",
       "      <td>NaN</td>\n",
       "      <td>5716421715</td>\n",
       "    </tr>\n",
       "    <tr>\n",
       "      <td>2017-07-30</td>\n",
       "      <td>385.14</td>\n",
       "      <td>385.14</td>\n",
       "      <td>316.25</td>\n",
       "      <td>345.66</td>\n",
       "      <td>606695</td>\n",
       "      <td>NaN</td>\n",
       "      <td>6358611246</td>\n",
       "    </tr>\n",
       "    <tr>\n",
       "      <td>2017-07-29</td>\n",
       "      <td>410.56</td>\n",
       "      <td>423.73</td>\n",
       "      <td>323.73</td>\n",
       "      <td>384.77</td>\n",
       "      <td>737815</td>\n",
       "      <td>NaN</td>\n",
       "      <td>6779561681</td>\n",
       "    </tr>\n",
       "    <tr>\n",
       "      <td>2017-07-28</td>\n",
       "      <td>386.65</td>\n",
       "      <td>465.18</td>\n",
       "      <td>217.06</td>\n",
       "      <td>406.05</td>\n",
       "      <td>1230160</td>\n",
       "      <td>NaN</td>\n",
       "      <td>6383616563</td>\n",
       "    </tr>\n",
       "  </tbody>\n",
       "</table>\n",
       "</div>"
      ],
      "text/plain": [
       "              Open    High     Low   Close    Volume  Market Cap  \\\n",
       "Date                                                               \n",
       "2017-08-01  294.60  426.11  210.38  380.01  65988800         NaN   \n",
       "2017-07-31  346.36  347.82  266.19  294.46   1075960         NaN   \n",
       "2017-07-30  385.14  385.14  316.25  345.66    606695         NaN   \n",
       "2017-07-29  410.56  423.73  323.73  384.77    737815         NaN   \n",
       "2017-07-28  386.65  465.18  217.06  406.05   1230160         NaN   \n",
       "\n",
       "            Market Cap Predict  \n",
       "Date                            \n",
       "2017-08-01          4859285818  \n",
       "2017-07-31          5716421715  \n",
       "2017-07-30          6358611246  \n",
       "2017-07-29          6779561681  \n",
       "2017-07-28          6383616563  "
      ]
     },
     "execution_count": 51,
     "metadata": {},
     "output_type": "execute_result"
    }
   ],
   "source": [
    "# Fill Missing Data Using linear model prediction \n",
    "# and Assign it to new column\n",
    "open = df[['Open']]\n",
    "market_cap_predict = model.predict(open) \n",
    "df['Market Cap Predict'] = market_cap_predict.astype('int64')\n",
    "df[df['Market Cap'].isnull()].head()"
   ]
  },
  {
   "cell_type": "markdown",
   "metadata": {},
   "source": [
    "#### 4. Data Visualization"
   ]
  },
  {
   "cell_type": "code",
   "execution_count": 52,
   "metadata": {},
   "outputs": [
    {
     "data": {
      "text/plain": [
       "<matplotlib.axes._subplots.AxesSubplot at 0x1a1a8cf650>"
      ]
     },
     "execution_count": 52,
     "metadata": {},
     "output_type": "execute_result"
    },
    {
     "data": {
      "image/png": "[encoded data removed]",
      "text/plain": [
       "<Figure size 432x288 with 6 Axes>"
      ]
     },
     "metadata": {
      "needs_background": "light"
     },
     "output_type": "display_data"
    }
   ],
   "source": [
    "%matplotlib inline\n",
    "    \n",
    "plt.subplot(2,3,1)\n",
    "plt.ylabel('Open')\n",
    "df.Open.plot()\n",
    "\n",
    "plt.subplot(2,3,2)\n",
    "plt.ylabel('High')\n",
    "df.High.plot()\n",
    "\n",
    "plt.subplot(2,3,3)\n",
    "plt.ylabel('Low')\n",
    "df.Low.plot()\n",
    "\n",
    "plt.subplot(2,3,4)\n",
    "plt.ylabel('Close')\n",
    "df.Close.plot()\n",
    "\n",
    "plt.subplot(2,3,5)\n",
    "plt.ylabel('Volume')\n",
    "df.Volume.plot()\n",
    "\n",
    "plt.subplot(2,3,6)\n",
    "plt.ylabel('Market Cap Predict')\n",
    "df['Market Cap Predict'].plot()"
   ]
  },
  {
   "cell_type": "code",
   "execution_count": null,
   "metadata": {},
   "outputs": [],
   "source": []
  }
 ],
 "metadata": {
  "kernelspec": {
   "display_name": "Python 3",
   "language": "python",
   "name": "python3"
  },
  "language_info": {
   "codemirror_mode": {
    "name": "ipython",
    "version": 3
   },
   "file_extension": ".py",
   "mimetype": "text/x-python",
   "name": "python",
   "nbconvert_exporter": "python",
   "pygments_lexer": "ipython3",
   "version": "3.7.4"
  }
 },
 "nbformat": 4,
 "nbformat_minor": 2
}
