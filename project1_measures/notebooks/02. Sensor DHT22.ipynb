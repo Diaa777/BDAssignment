{
 "cells": [
  {
   "cell_type": "markdown",
   "metadata": {},
   "source": [
    "#### Masive Data Assignment\n",
    "Read and Clean Data for several sensors "
   ]
  },
  {
   "cell_type": "code",
   "execution_count": 41,
   "metadata": {},
   "outputs": [],
   "source": [
    "import pandas as pd\n",
    "import numpy as np\n",
    "import json "
   ]
  },
  {
   "cell_type": "markdown",
   "metadata": {},
   "source": [
    "#### 1. Temperature File for (T-DHT22) sensor "
   ]
  },
  {
   "cell_type": "code",
   "execution_count": 31,
   "metadata": {
    "scrolled": false
   },
   "outputs": [
    {
     "data": {
      "text/html": [
       "<div>\n",
       "<style scoped>\n",
       "    .dataframe tbody tr th:only-of-type {\n",
       "        vertical-align: middle;\n",
       "    }\n",
       "\n",
       "    .dataframe tbody tr th {\n",
       "        vertical-align: top;\n",
       "    }\n",
       "\n",
       "    .dataframe thead th {\n",
       "        text-align: right;\n",
       "    }\n",
       "</style>\n",
       "<table border=\"1\" class=\"dataframe\">\n",
       "  <thead>\n",
       "    <tr style=\"text-align: right;\">\n",
       "      <th></th>\n",
       "      <th>sensor</th>\n",
       "      <th>value</th>\n",
       "      <th>time</th>\n",
       "    </tr>\n",
       "  </thead>\n",
       "  <tbody>\n",
       "    <tr>\n",
       "      <td>0</td>\n",
       "      <td>T-DHT22</td>\n",
       "      <td>25.5</td>\n",
       "      <td>2017-12-19 14:07:18+00:00</td>\n",
       "    </tr>\n",
       "    <tr>\n",
       "      <td>1</td>\n",
       "      <td>T-DHT22</td>\n",
       "      <td>25.5</td>\n",
       "      <td>2017-12-19 14:07:25+00:00</td>\n",
       "    </tr>\n",
       "    <tr>\n",
       "      <td>2</td>\n",
       "      <td>T-DHT22</td>\n",
       "      <td>25.6</td>\n",
       "      <td>2017-12-19 14:07:32+00:00</td>\n",
       "    </tr>\n",
       "    <tr>\n",
       "      <td>3</td>\n",
       "      <td>T-DHT22</td>\n",
       "      <td>25.6</td>\n",
       "      <td>2017-12-19 14:07:38+00:00</td>\n",
       "    </tr>\n",
       "    <tr>\n",
       "      <td>4</td>\n",
       "      <td>T-DHT22</td>\n",
       "      <td>25.6</td>\n",
       "      <td>2017-12-19 14:07:45+00:00</td>\n",
       "    </tr>\n",
       "  </tbody>\n",
       "</table>\n",
       "</div>"
      ],
      "text/plain": [
       "    sensor  value                      time\n",
       "0  T-DHT22   25.5 2017-12-19 14:07:18+00:00\n",
       "1  T-DHT22   25.5 2017-12-19 14:07:25+00:00\n",
       "2  T-DHT22   25.6 2017-12-19 14:07:32+00:00\n",
       "3  T-DHT22   25.6 2017-12-19 14:07:38+00:00\n",
       "4  T-DHT22   25.6 2017-12-19 14:07:45+00:00"
      ]
     },
     "execution_count": 31,
     "metadata": {},
     "output_type": "execute_result"
    }
   ],
   "source": [
    "# Reading the file\n",
    "t_DHT22 = pd.read_csv('../data/raw/T-DHT22-measures.csv', parse_dates = ['time'])\n",
    "t_DHT22.head()"
   ]
  },
  {
   "cell_type": "code",
   "execution_count": 107,
   "metadata": {},
   "outputs": [
    {
     "name": "stdout",
     "output_type": "stream",
     "text": [
      "<class 'pandas.core.frame.DataFrame'>\n",
      "RangeIndex: 1440150 entries, 0 to 1440149\n",
      "Data columns (total 3 columns):\n",
      "sensor    1440150 non-null object\n",
      "value     1440150 non-null float64\n",
      "time      1440150 non-null datetime64[ns, UTC]\n",
      "dtypes: datetime64[ns, UTC](1), float64(1), object(1)\n",
      "memory usage: 33.0+ MB\n"
     ]
    }
   ],
   "source": [
    "# General Information \n",
    "t_DHT22.info()"
   ]
  },
  {
   "cell_type": "markdown",
   "metadata": {},
   "source": [
    "we conclude from this, that this data file has 3 columns and each coulmn has 1440150 data value, and there in no missing data, also we can see the memory usage (33 MB)"
   ]
  },
  {
   "cell_type": "code",
   "execution_count": 108,
   "metadata": {
    "scrolled": true
   },
   "outputs": [
    {
     "data": {
      "text/plain": [
       "T-DHT22    1440150\n",
       "Name: sensor, dtype: int64"
      ]
     },
     "execution_count": 108,
     "metadata": {},
     "output_type": "execute_result"
    }
   ],
   "source": [
    "# number of rows in the file\n",
    "t_DHT22.sensor.value_counts()"
   ]
  },
  {
   "cell_type": "code",
   "execution_count": 109,
   "metadata": {},
   "outputs": [
    {
     "data": {
      "text/plain": [
       "pandas._libs.tslibs.timestamps.Timestamp"
      ]
     },
     "execution_count": 109,
     "metadata": {},
     "output_type": "execute_result"
    }
   ],
   "source": [
    "type(t_DHT22.time[0])"
   ]
  },
  {
   "cell_type": "code",
   "execution_count": 110,
   "metadata": {},
   "outputs": [
    {
     "data": {
      "text/plain": [
       "sensor    0\n",
       "value     0\n",
       "time      0\n",
       "dtype: int64"
      ]
     },
     "execution_count": 110,
     "metadata": {},
     "output_type": "execute_result"
    }
   ],
   "source": [
    "# check and print the number of empty cells (missing data) in each coulmn \n",
    "t_DHT22.isnull().sum()"
   ]
  },
  {
   "cell_type": "code",
   "execution_count": 111,
   "metadata": {
    "scrolled": false
   },
   "outputs": [
    {
     "data": {
      "text/html": [
       "<div>\n",
       "<style scoped>\n",
       "    .dataframe tbody tr th:only-of-type {\n",
       "        vertical-align: middle;\n",
       "    }\n",
       "\n",
       "    .dataframe tbody tr th {\n",
       "        vertical-align: top;\n",
       "    }\n",
       "\n",
       "    .dataframe thead th {\n",
       "        text-align: right;\n",
       "    }\n",
       "</style>\n",
       "<table border=\"1\" class=\"dataframe\">\n",
       "  <thead>\n",
       "    <tr style=\"text-align: right;\">\n",
       "      <th></th>\n",
       "      <th>value</th>\n",
       "    </tr>\n",
       "  </thead>\n",
       "  <tbody>\n",
       "    <tr>\n",
       "      <td>count</td>\n",
       "      <td>1.440150e+06</td>\n",
       "    </tr>\n",
       "    <tr>\n",
       "      <td>mean</td>\n",
       "      <td>2.299986e+01</td>\n",
       "    </tr>\n",
       "    <tr>\n",
       "      <td>std</td>\n",
       "      <td>2.480804e+00</td>\n",
       "    </tr>\n",
       "    <tr>\n",
       "      <td>min</td>\n",
       "      <td>1.670000e+01</td>\n",
       "    </tr>\n",
       "    <tr>\n",
       "      <td>25%</td>\n",
       "      <td>2.170000e+01</td>\n",
       "    </tr>\n",
       "    <tr>\n",
       "      <td>50%</td>\n",
       "      <td>2.330000e+01</td>\n",
       "    </tr>\n",
       "    <tr>\n",
       "      <td>75%</td>\n",
       "      <td>2.480000e+01</td>\n",
       "    </tr>\n",
       "    <tr>\n",
       "      <td>max</td>\n",
       "      <td>2.980000e+01</td>\n",
       "    </tr>\n",
       "  </tbody>\n",
       "</table>\n",
       "</div>"
      ],
      "text/plain": [
       "              value\n",
       "count  1.440150e+06\n",
       "mean   2.299986e+01\n",
       "std    2.480804e+00\n",
       "min    1.670000e+01\n",
       "25%    2.170000e+01\n",
       "50%    2.330000e+01\n",
       "75%    2.480000e+01\n",
       "max    2.980000e+01"
      ]
     },
     "execution_count": 111,
     "metadata": {},
     "output_type": "execute_result"
    }
   ],
   "source": [
    "t_DHT22.describe()"
   ]
  },
  {
   "cell_type": "markdown",
   "metadata": {},
   "source": [
    "T-DHT22-measures.csv file doesn't have problems. There's no missing data and each column has a same format."
   ]
  },
  {
   "cell_type": "markdown",
   "metadata": {},
   "source": [
    "### 2. Humidity File (H-DHT22) sensor "
   ]
  },
  {
   "cell_type": "code",
   "execution_count": 112,
   "metadata": {
    "scrolled": true
   },
   "outputs": [
    {
     "data": {
      "text/html": [
       "<div>\n",
       "<style scoped>\n",
       "    .dataframe tbody tr th:only-of-type {\n",
       "        vertical-align: middle;\n",
       "    }\n",
       "\n",
       "    .dataframe tbody tr th {\n",
       "        vertical-align: top;\n",
       "    }\n",
       "\n",
       "    .dataframe thead th {\n",
       "        text-align: right;\n",
       "    }\n",
       "</style>\n",
       "<table border=\"1\" class=\"dataframe\">\n",
       "  <thead>\n",
       "    <tr style=\"text-align: right;\">\n",
       "      <th></th>\n",
       "      <th>sensor</th>\n",
       "      <th>value</th>\n",
       "      <th>time</th>\n",
       "    </tr>\n",
       "  </thead>\n",
       "  <tbody>\n",
       "    <tr>\n",
       "      <td>0</td>\n",
       "      <td>H-DHT22</td>\n",
       "      <td>15.7</td>\n",
       "      <td>2017-12-19 14:07:18+00:00</td>\n",
       "    </tr>\n",
       "    <tr>\n",
       "      <td>1</td>\n",
       "      <td>H-DHT22</td>\n",
       "      <td>15.7</td>\n",
       "      <td>2017-12-19 14:07:25+00:00</td>\n",
       "    </tr>\n",
       "    <tr>\n",
       "      <td>2</td>\n",
       "      <td>H-DHT22</td>\n",
       "      <td>15.7</td>\n",
       "      <td>2017-12-19 14:07:32+00:00</td>\n",
       "    </tr>\n",
       "    <tr>\n",
       "      <td>3</td>\n",
       "      <td>H-DHT22</td>\n",
       "      <td>15.7</td>\n",
       "      <td>2017-12-19 14:07:38+00:00</td>\n",
       "    </tr>\n",
       "    <tr>\n",
       "      <td>4</td>\n",
       "      <td>H-DHT22</td>\n",
       "      <td>15.7</td>\n",
       "      <td>2017-12-19 14:07:45+00:00</td>\n",
       "    </tr>\n",
       "  </tbody>\n",
       "</table>\n",
       "</div>"
      ],
      "text/plain": [
       "    sensor  value                      time\n",
       "0  H-DHT22   15.7 2017-12-19 14:07:18+00:00\n",
       "1  H-DHT22   15.7 2017-12-19 14:07:25+00:00\n",
       "2  H-DHT22   15.7 2017-12-19 14:07:32+00:00\n",
       "3  H-DHT22   15.7 2017-12-19 14:07:38+00:00\n",
       "4  H-DHT22   15.7 2017-12-19 14:07:45+00:00"
      ]
     },
     "execution_count": 112,
     "metadata": {},
     "output_type": "execute_result"
    }
   ],
   "source": [
    "# Reading H-DHT22 file\n",
    "h_DHT22 = pd.read_csv('../data/raw/H-DHT22-measures.csv', parse_dates = ['time'])\n",
    "h_DHT22.head()"
   ]
  },
  {
   "cell_type": "code",
   "execution_count": 113,
   "metadata": {},
   "outputs": [
    {
     "data": {
      "text/plain": [
       "pandas._libs.tslibs.timestamps.Timestamp"
      ]
     },
     "execution_count": 113,
     "metadata": {},
     "output_type": "execute_result"
    }
   ],
   "source": [
    "type(h_DHT22.time[0])"
   ]
  },
  {
   "cell_type": "code",
   "execution_count": null,
   "metadata": {},
   "outputs": [],
   "source": []
  },
  {
   "cell_type": "code",
   "execution_count": 16,
   "metadata": {
    "scrolled": true
   },
   "outputs": [
    {
     "name": "stdout",
     "output_type": "stream",
     "text": [
      "<class 'pandas.core.frame.DataFrame'>\n",
      "RangeIndex: 1440160 entries, 0 to 1440159\n",
      "Data columns (total 3 columns):\n",
      "sensor    1440160 non-null object\n",
      "value     1440160 non-null float64\n",
      "time      1440160 non-null datetime64[ns, UTC]\n",
      "dtypes: datetime64[ns, UTC](1), float64(1), object(1)\n",
      "memory usage: 33.0+ MB\n"
     ]
    }
   ],
   "source": [
    "h_DHT22.info()"
   ]
  },
  {
   "cell_type": "markdown",
   "metadata": {},
   "source": [
    "From information above, the data frame has 1440160 rows and 3 columns. Each column has 1440150 data, there is no missing data."
   ]
  },
  {
   "cell_type": "code",
   "execution_count": 115,
   "metadata": {},
   "outputs": [
    {
     "data": {
      "text/plain": [
       "H-DHT22    1440160\n",
       "Name: sensor, dtype: int64"
      ]
     },
     "execution_count": 115,
     "metadata": {},
     "output_type": "execute_result"
    }
   ],
   "source": [
    "h_DHT22.sensor.value_counts()"
   ]
  },
  {
   "cell_type": "code",
   "execution_count": 17,
   "metadata": {},
   "outputs": [
    {
     "data": {
      "text/plain": [
       "sensor    0\n",
       "value     0\n",
       "time      0\n",
       "dtype: int64"
      ]
     },
     "execution_count": 17,
     "metadata": {},
     "output_type": "execute_result"
    }
   ],
   "source": [
    "# check and print the number of empty cells (missing data) in each coulmn \n",
    "h_DHT22.isnull().sum()"
   ]
  },
  {
   "cell_type": "markdown",
   "metadata": {},
   "source": [
    "File H-DHT22-measures.csv doesn't have any problem. There's no missing data and each column has a same format."
   ]
  },
  {
   "cell_type": "markdown",
   "metadata": {},
   "source": [
    "### 3. Merge temperature and humidity "
   ]
  },
  {
   "cell_type": "markdown",
   "metadata": {},
   "source": [
    " \n",
    "merging the temperature and humidity dataframs into one dataframe based on the time, and check the missing data after "
   ]
  },
  {
   "cell_type": "code",
   "execution_count": 90,
   "metadata": {
    "scrolled": false
   },
   "outputs": [
    {
     "data": {
      "text/html": [
       "<div>\n",
       "<style scoped>\n",
       "    .dataframe tbody tr th:only-of-type {\n",
       "        vertical-align: middle;\n",
       "    }\n",
       "\n",
       "    .dataframe tbody tr th {\n",
       "        vertical-align: top;\n",
       "    }\n",
       "\n",
       "    .dataframe thead th {\n",
       "        text-align: right;\n",
       "    }\n",
       "</style>\n",
       "<table border=\"1\" class=\"dataframe\">\n",
       "  <thead>\n",
       "    <tr style=\"text-align: right;\">\n",
       "      <th></th>\n",
       "      <th>sensor_x</th>\n",
       "      <th>value_x</th>\n",
       "      <th>sensor_y</th>\n",
       "      <th>value_y</th>\n",
       "    </tr>\n",
       "    <tr>\n",
       "      <th>time</th>\n",
       "      <th></th>\n",
       "      <th></th>\n",
       "      <th></th>\n",
       "      <th></th>\n",
       "    </tr>\n",
       "  </thead>\n",
       "  <tbody>\n",
       "    <tr>\n",
       "      <td>2017-12-19 14:07:18+00:00</td>\n",
       "      <td>T-DHT22</td>\n",
       "      <td>25.5</td>\n",
       "      <td>H-DHT22</td>\n",
       "      <td>15.7</td>\n",
       "    </tr>\n",
       "    <tr>\n",
       "      <td>2017-12-19 14:07:25+00:00</td>\n",
       "      <td>T-DHT22</td>\n",
       "      <td>25.5</td>\n",
       "      <td>H-DHT22</td>\n",
       "      <td>15.7</td>\n",
       "    </tr>\n",
       "    <tr>\n",
       "      <td>2017-12-19 14:07:32+00:00</td>\n",
       "      <td>T-DHT22</td>\n",
       "      <td>25.6</td>\n",
       "      <td>H-DHT22</td>\n",
       "      <td>15.7</td>\n",
       "    </tr>\n",
       "    <tr>\n",
       "      <td>2017-12-19 14:07:38+00:00</td>\n",
       "      <td>T-DHT22</td>\n",
       "      <td>25.6</td>\n",
       "      <td>H-DHT22</td>\n",
       "      <td>15.7</td>\n",
       "    </tr>\n",
       "    <tr>\n",
       "      <td>2017-12-19 14:07:45+00:00</td>\n",
       "      <td>T-DHT22</td>\n",
       "      <td>25.6</td>\n",
       "      <td>H-DHT22</td>\n",
       "      <td>15.7</td>\n",
       "    </tr>\n",
       "  </tbody>\n",
       "</table>\n",
       "</div>"
      ],
      "text/plain": [
       "                          sensor_x  value_x sensor_y  value_y\n",
       "time                                                         \n",
       "2017-12-19 14:07:18+00:00  T-DHT22     25.5  H-DHT22     15.7\n",
       "2017-12-19 14:07:25+00:00  T-DHT22     25.5  H-DHT22     15.7\n",
       "2017-12-19 14:07:32+00:00  T-DHT22     25.6  H-DHT22     15.7\n",
       "2017-12-19 14:07:38+00:00  T-DHT22     25.6  H-DHT22     15.7\n",
       "2017-12-19 14:07:45+00:00  T-DHT22     25.6  H-DHT22     15.7"
      ]
     },
     "execution_count": 90,
     "metadata": {},
     "output_type": "execute_result"
    }
   ],
   "source": [
    "# Merge data frame base on time columns\n",
    "newdf = pd.merge(t_DHT22, h_DHT22, on = 'time', how='outer')\n",
    "# Set time as a index of data frame\n",
    "newdf.set_index('time', inplace=True)\n",
    "newdf.head()"
   ]
  },
  {
   "cell_type": "code",
   "execution_count": 116,
   "metadata": {
    "scrolled": false
   },
   "outputs": [
    {
     "name": "stdout",
     "output_type": "stream",
     "text": [
      "<class 'pandas.core.frame.DataFrame'>\n",
      "DatetimeIndex: 1522253 entries, 2017-12-19 14:07:18+00:00 to 2018-03-13 11:38:20+00:00\n",
      "Data columns (total 4 columns):\n",
      "sensor_x    1440150 non-null object\n",
      "value_x     1522253 non-null float64\n",
      "sensor_y    1440160 non-null object\n",
      "value_y     1522253 non-null float64\n",
      "dtypes: float64(2), object(2)\n",
      "memory usage: 58.1+ MB\n"
     ]
    }
   ],
   "source": [
    "#general information\n",
    "newdf.info()"
   ]
  },
  {
   "cell_type": "markdown",
   "metadata": {},
   "source": [
    "we conclude that the data frame after merging has 1522253 rows.\n",
    "T_DHT22 and H_DHT22 respectively has 1440150 and 1440160 data\n",
    "we have missing data in each column. "
   ]
  },
  {
   "cell_type": "code",
   "execution_count": 117,
   "metadata": {},
   "outputs": [
    {
     "data": {
      "text/plain": [
       "sensor_x    82103\n",
       "value_x         0\n",
       "sensor_y    82093\n",
       "value_y         0\n",
       "dtype: int64"
      ]
     },
     "execution_count": 117,
     "metadata": {},
     "output_type": "execute_result"
    }
   ],
   "source": [
    "# check and print the number of empty cells (missing data) in each coulmn \n",
    "newdf.isnull().sum()"
   ]
  },
  {
   "cell_type": "code",
   "execution_count": 118,
   "metadata": {
    "scrolled": true
   },
   "outputs": [
    {
     "data": {
      "text/html": [
       "<div>\n",
       "<style scoped>\n",
       "    .dataframe tbody tr th:only-of-type {\n",
       "        vertical-align: middle;\n",
       "    }\n",
       "\n",
       "    .dataframe tbody tr th {\n",
       "        vertical-align: top;\n",
       "    }\n",
       "\n",
       "    .dataframe thead th {\n",
       "        text-align: right;\n",
       "    }\n",
       "</style>\n",
       "<table border=\"1\" class=\"dataframe\">\n",
       "  <thead>\n",
       "    <tr style=\"text-align: right;\">\n",
       "      <th></th>\n",
       "      <th>sensor_x</th>\n",
       "      <th>value_x</th>\n",
       "      <th>sensor_y</th>\n",
       "      <th>value_y</th>\n",
       "    </tr>\n",
       "    <tr>\n",
       "      <th>time</th>\n",
       "      <th></th>\n",
       "      <th></th>\n",
       "      <th></th>\n",
       "      <th></th>\n",
       "    </tr>\n",
       "  </thead>\n",
       "  <tbody>\n",
       "    <tr>\n",
       "      <td>2017-12-19 15:47:36+00:00</td>\n",
       "      <td>T-DHT22</td>\n",
       "      <td>27.0</td>\n",
       "      <td>H-DHT22</td>\n",
       "      <td>2.000000</td>\n",
       "    </tr>\n",
       "    <tr>\n",
       "      <td>2017-12-19 15:47:43+00:00</td>\n",
       "      <td>T-DHT22</td>\n",
       "      <td>27.0</td>\n",
       "      <td>H-DHT22</td>\n",
       "      <td>2.000000</td>\n",
       "    </tr>\n",
       "    <tr>\n",
       "      <td>2017-12-19 15:47:50+00:00</td>\n",
       "      <td>T-DHT22</td>\n",
       "      <td>27.0</td>\n",
       "      <td>H-DHT22</td>\n",
       "      <td>1.800000</td>\n",
       "    </tr>\n",
       "    <tr>\n",
       "      <td>2017-12-19 15:47:56+00:00</td>\n",
       "      <td>T-DHT22</td>\n",
       "      <td>27.0</td>\n",
       "      <td>NaN</td>\n",
       "      <td>1.753846</td>\n",
       "    </tr>\n",
       "    <tr>\n",
       "      <td>2017-12-19 15:48:03+00:00</td>\n",
       "      <td>T-DHT22</td>\n",
       "      <td>27.0</td>\n",
       "      <td>H-DHT22</td>\n",
       "      <td>1.700000</td>\n",
       "    </tr>\n",
       "    <tr>\n",
       "      <td>2017-12-19 15:48:10+00:00</td>\n",
       "      <td>T-DHT22</td>\n",
       "      <td>27.0</td>\n",
       "      <td>H-DHT22</td>\n",
       "      <td>2.200000</td>\n",
       "    </tr>\n",
       "    <tr>\n",
       "      <td>2017-12-19 15:48:17+00:00</td>\n",
       "      <td>T-DHT22</td>\n",
       "      <td>27.0</td>\n",
       "      <td>H-DHT22</td>\n",
       "      <td>2.100000</td>\n",
       "    </tr>\n",
       "    <tr>\n",
       "      <td>2017-12-19 15:48:24+00:00</td>\n",
       "      <td>T-DHT22</td>\n",
       "      <td>27.0</td>\n",
       "      <td>H-DHT22</td>\n",
       "      <td>2.400000</td>\n",
       "    </tr>\n",
       "    <tr>\n",
       "      <td>2017-12-19 15:48:30+00:00</td>\n",
       "      <td>T-DHT22</td>\n",
       "      <td>27.0</td>\n",
       "      <td>H-DHT22</td>\n",
       "      <td>2.400000</td>\n",
       "    </tr>\n",
       "    <tr>\n",
       "      <td>2017-12-19 15:48:37+00:00</td>\n",
       "      <td>T-DHT22</td>\n",
       "      <td>27.1</td>\n",
       "      <td>H-DHT22</td>\n",
       "      <td>2.300000</td>\n",
       "    </tr>\n",
       "    <tr>\n",
       "      <td>2017-12-19 15:48:44+00:00</td>\n",
       "      <td>T-DHT22</td>\n",
       "      <td>27.0</td>\n",
       "      <td>H-DHT22</td>\n",
       "      <td>1.600000</td>\n",
       "    </tr>\n",
       "    <tr>\n",
       "      <td>2017-12-19 15:48:51+00:00</td>\n",
       "      <td>T-DHT22</td>\n",
       "      <td>27.1</td>\n",
       "      <td>H-DHT22</td>\n",
       "      <td>1.800000</td>\n",
       "    </tr>\n",
       "    <tr>\n",
       "      <td>2017-12-19 15:48:57+00:00</td>\n",
       "      <td>T-DHT22</td>\n",
       "      <td>27.1</td>\n",
       "      <td>H-DHT22</td>\n",
       "      <td>2.300000</td>\n",
       "    </tr>\n",
       "    <tr>\n",
       "      <td>2017-12-19 15:49:04+00:00</td>\n",
       "      <td>T-DHT22</td>\n",
       "      <td>27.1</td>\n",
       "      <td>H-DHT22</td>\n",
       "      <td>2.200000</td>\n",
       "    </tr>\n",
       "    <tr>\n",
       "      <td>2017-12-19 15:49:11+00:00</td>\n",
       "      <td>T-DHT22</td>\n",
       "      <td>27.1</td>\n",
       "      <td>H-DHT22</td>\n",
       "      <td>2.400000</td>\n",
       "    </tr>\n",
       "    <tr>\n",
       "      <td>2017-12-19 15:49:18+00:00</td>\n",
       "      <td>T-DHT22</td>\n",
       "      <td>27.1</td>\n",
       "      <td>H-DHT22</td>\n",
       "      <td>2.300000</td>\n",
       "    </tr>\n",
       "    <tr>\n",
       "      <td>2017-12-19 15:49:24+00:00</td>\n",
       "      <td>T-DHT22</td>\n",
       "      <td>27.1</td>\n",
       "      <td>NaN</td>\n",
       "      <td>2.253846</td>\n",
       "    </tr>\n",
       "    <tr>\n",
       "      <td>2017-12-19 15:49:31+00:00</td>\n",
       "      <td>T-DHT22</td>\n",
       "      <td>27.1</td>\n",
       "      <td>H-DHT22</td>\n",
       "      <td>2.200000</td>\n",
       "    </tr>\n",
       "    <tr>\n",
       "      <td>2017-12-19 15:49:38+00:00</td>\n",
       "      <td>T-DHT22</td>\n",
       "      <td>27.1</td>\n",
       "      <td>H-DHT22</td>\n",
       "      <td>2.300000</td>\n",
       "    </tr>\n",
       "    <tr>\n",
       "      <td>2017-12-19 15:49:45+00:00</td>\n",
       "      <td>T-DHT22</td>\n",
       "      <td>27.1</td>\n",
       "      <td>H-DHT22</td>\n",
       "      <td>2.300000</td>\n",
       "    </tr>\n",
       "  </tbody>\n",
       "</table>\n",
       "</div>"
      ],
      "text/plain": [
       "                          sensor_x  value_x sensor_y   value_y\n",
       "time                                                          \n",
       "2017-12-19 15:47:36+00:00  T-DHT22     27.0  H-DHT22  2.000000\n",
       "2017-12-19 15:47:43+00:00  T-DHT22     27.0  H-DHT22  2.000000\n",
       "2017-12-19 15:47:50+00:00  T-DHT22     27.0  H-DHT22  1.800000\n",
       "2017-12-19 15:47:56+00:00  T-DHT22     27.0      NaN  1.753846\n",
       "2017-12-19 15:48:03+00:00  T-DHT22     27.0  H-DHT22  1.700000\n",
       "2017-12-19 15:48:10+00:00  T-DHT22     27.0  H-DHT22  2.200000\n",
       "2017-12-19 15:48:17+00:00  T-DHT22     27.0  H-DHT22  2.100000\n",
       "2017-12-19 15:48:24+00:00  T-DHT22     27.0  H-DHT22  2.400000\n",
       "2017-12-19 15:48:30+00:00  T-DHT22     27.0  H-DHT22  2.400000\n",
       "2017-12-19 15:48:37+00:00  T-DHT22     27.1  H-DHT22  2.300000\n",
       "2017-12-19 15:48:44+00:00  T-DHT22     27.0  H-DHT22  1.600000\n",
       "2017-12-19 15:48:51+00:00  T-DHT22     27.1  H-DHT22  1.800000\n",
       "2017-12-19 15:48:57+00:00  T-DHT22     27.1  H-DHT22  2.300000\n",
       "2017-12-19 15:49:04+00:00  T-DHT22     27.1  H-DHT22  2.200000\n",
       "2017-12-19 15:49:11+00:00  T-DHT22     27.1  H-DHT22  2.400000\n",
       "2017-12-19 15:49:18+00:00  T-DHT22     27.1  H-DHT22  2.300000\n",
       "2017-12-19 15:49:24+00:00  T-DHT22     27.1      NaN  2.253846\n",
       "2017-12-19 15:49:31+00:00  T-DHT22     27.1  H-DHT22  2.200000\n",
       "2017-12-19 15:49:38+00:00  T-DHT22     27.1  H-DHT22  2.300000\n",
       "2017-12-19 15:49:45+00:00  T-DHT22     27.1  H-DHT22  2.300000"
      ]
     },
     "execution_count": 118,
     "metadata": {},
     "output_type": "execute_result"
    }
   ],
   "source": [
    "newdf.iloc[200:220]"
   ]
  },
  {
   "cell_type": "markdown",
   "metadata": {},
   "source": []
  },
  {
   "cell_type": "code",
   "execution_count": 119,
   "metadata": {
    "scrolled": true
   },
   "outputs": [
    {
     "data": {
      "text/html": [
       "<div>\n",
       "<style scoped>\n",
       "    .dataframe tbody tr th:only-of-type {\n",
       "        vertical-align: middle;\n",
       "    }\n",
       "\n",
       "    .dataframe tbody tr th {\n",
       "        vertical-align: top;\n",
       "    }\n",
       "\n",
       "    .dataframe thead th {\n",
       "        text-align: right;\n",
       "    }\n",
       "</style>\n",
       "<table border=\"1\" class=\"dataframe\">\n",
       "  <thead>\n",
       "    <tr style=\"text-align: right;\">\n",
       "      <th></th>\n",
       "      <th>sensor_x</th>\n",
       "      <th>value_x</th>\n",
       "      <th>sensor_y</th>\n",
       "      <th>value_y</th>\n",
       "    </tr>\n",
       "    <tr>\n",
       "      <th>time</th>\n",
       "      <th></th>\n",
       "      <th></th>\n",
       "      <th></th>\n",
       "      <th></th>\n",
       "    </tr>\n",
       "  </thead>\n",
       "  <tbody>\n",
       "    <tr>\n",
       "      <td>2017-12-19 15:47:36+00:00</td>\n",
       "      <td>T-DHT22</td>\n",
       "      <td>27.0</td>\n",
       "      <td>H-DHT22</td>\n",
       "      <td>2.000000</td>\n",
       "    </tr>\n",
       "    <tr>\n",
       "      <td>2017-12-19 15:47:43+00:00</td>\n",
       "      <td>T-DHT22</td>\n",
       "      <td>27.0</td>\n",
       "      <td>H-DHT22</td>\n",
       "      <td>2.000000</td>\n",
       "    </tr>\n",
       "    <tr>\n",
       "      <td>2017-12-19 15:47:50+00:00</td>\n",
       "      <td>T-DHT22</td>\n",
       "      <td>27.0</td>\n",
       "      <td>H-DHT22</td>\n",
       "      <td>1.800000</td>\n",
       "    </tr>\n",
       "    <tr>\n",
       "      <td>2017-12-19 15:47:56+00:00</td>\n",
       "      <td>T-DHT22</td>\n",
       "      <td>27.0</td>\n",
       "      <td>NaN</td>\n",
       "      <td>1.753846</td>\n",
       "    </tr>\n",
       "    <tr>\n",
       "      <td>2017-12-19 15:48:03+00:00</td>\n",
       "      <td>T-DHT22</td>\n",
       "      <td>27.0</td>\n",
       "      <td>H-DHT22</td>\n",
       "      <td>1.700000</td>\n",
       "    </tr>\n",
       "    <tr>\n",
       "      <td>2017-12-19 15:48:10+00:00</td>\n",
       "      <td>T-DHT22</td>\n",
       "      <td>27.0</td>\n",
       "      <td>H-DHT22</td>\n",
       "      <td>2.200000</td>\n",
       "    </tr>\n",
       "    <tr>\n",
       "      <td>2017-12-19 15:48:17+00:00</td>\n",
       "      <td>T-DHT22</td>\n",
       "      <td>27.0</td>\n",
       "      <td>H-DHT22</td>\n",
       "      <td>2.100000</td>\n",
       "    </tr>\n",
       "    <tr>\n",
       "      <td>2017-12-19 15:48:24+00:00</td>\n",
       "      <td>T-DHT22</td>\n",
       "      <td>27.0</td>\n",
       "      <td>H-DHT22</td>\n",
       "      <td>2.400000</td>\n",
       "    </tr>\n",
       "    <tr>\n",
       "      <td>2017-12-19 15:48:30+00:00</td>\n",
       "      <td>T-DHT22</td>\n",
       "      <td>27.0</td>\n",
       "      <td>H-DHT22</td>\n",
       "      <td>2.400000</td>\n",
       "    </tr>\n",
       "    <tr>\n",
       "      <td>2017-12-19 15:48:37+00:00</td>\n",
       "      <td>T-DHT22</td>\n",
       "      <td>27.1</td>\n",
       "      <td>H-DHT22</td>\n",
       "      <td>2.300000</td>\n",
       "    </tr>\n",
       "    <tr>\n",
       "      <td>2017-12-19 15:48:44+00:00</td>\n",
       "      <td>T-DHT22</td>\n",
       "      <td>27.0</td>\n",
       "      <td>H-DHT22</td>\n",
       "      <td>1.600000</td>\n",
       "    </tr>\n",
       "    <tr>\n",
       "      <td>2017-12-19 15:48:51+00:00</td>\n",
       "      <td>T-DHT22</td>\n",
       "      <td>27.1</td>\n",
       "      <td>H-DHT22</td>\n",
       "      <td>1.800000</td>\n",
       "    </tr>\n",
       "    <tr>\n",
       "      <td>2017-12-19 15:48:57+00:00</td>\n",
       "      <td>T-DHT22</td>\n",
       "      <td>27.1</td>\n",
       "      <td>H-DHT22</td>\n",
       "      <td>2.300000</td>\n",
       "    </tr>\n",
       "    <tr>\n",
       "      <td>2017-12-19 15:49:04+00:00</td>\n",
       "      <td>T-DHT22</td>\n",
       "      <td>27.1</td>\n",
       "      <td>H-DHT22</td>\n",
       "      <td>2.200000</td>\n",
       "    </tr>\n",
       "    <tr>\n",
       "      <td>2017-12-19 15:49:11+00:00</td>\n",
       "      <td>T-DHT22</td>\n",
       "      <td>27.1</td>\n",
       "      <td>H-DHT22</td>\n",
       "      <td>2.400000</td>\n",
       "    </tr>\n",
       "    <tr>\n",
       "      <td>2017-12-19 15:49:18+00:00</td>\n",
       "      <td>T-DHT22</td>\n",
       "      <td>27.1</td>\n",
       "      <td>H-DHT22</td>\n",
       "      <td>2.300000</td>\n",
       "    </tr>\n",
       "    <tr>\n",
       "      <td>2017-12-19 15:49:24+00:00</td>\n",
       "      <td>T-DHT22</td>\n",
       "      <td>27.1</td>\n",
       "      <td>NaN</td>\n",
       "      <td>2.253846</td>\n",
       "    </tr>\n",
       "    <tr>\n",
       "      <td>2017-12-19 15:49:31+00:00</td>\n",
       "      <td>T-DHT22</td>\n",
       "      <td>27.1</td>\n",
       "      <td>H-DHT22</td>\n",
       "      <td>2.200000</td>\n",
       "    </tr>\n",
       "    <tr>\n",
       "      <td>2017-12-19 15:49:38+00:00</td>\n",
       "      <td>T-DHT22</td>\n",
       "      <td>27.1</td>\n",
       "      <td>H-DHT22</td>\n",
       "      <td>2.300000</td>\n",
       "    </tr>\n",
       "    <tr>\n",
       "      <td>2017-12-19 15:49:45+00:00</td>\n",
       "      <td>T-DHT22</td>\n",
       "      <td>27.1</td>\n",
       "      <td>H-DHT22</td>\n",
       "      <td>2.300000</td>\n",
       "    </tr>\n",
       "  </tbody>\n",
       "</table>\n",
       "</div>"
      ],
      "text/plain": [
       "                          sensor_x  value_x sensor_y   value_y\n",
       "time                                                          \n",
       "2017-12-19 15:47:36+00:00  T-DHT22     27.0  H-DHT22  2.000000\n",
       "2017-12-19 15:47:43+00:00  T-DHT22     27.0  H-DHT22  2.000000\n",
       "2017-12-19 15:47:50+00:00  T-DHT22     27.0  H-DHT22  1.800000\n",
       "2017-12-19 15:47:56+00:00  T-DHT22     27.0      NaN  1.753846\n",
       "2017-12-19 15:48:03+00:00  T-DHT22     27.0  H-DHT22  1.700000\n",
       "2017-12-19 15:48:10+00:00  T-DHT22     27.0  H-DHT22  2.200000\n",
       "2017-12-19 15:48:17+00:00  T-DHT22     27.0  H-DHT22  2.100000\n",
       "2017-12-19 15:48:24+00:00  T-DHT22     27.0  H-DHT22  2.400000\n",
       "2017-12-19 15:48:30+00:00  T-DHT22     27.0  H-DHT22  2.400000\n",
       "2017-12-19 15:48:37+00:00  T-DHT22     27.1  H-DHT22  2.300000\n",
       "2017-12-19 15:48:44+00:00  T-DHT22     27.0  H-DHT22  1.600000\n",
       "2017-12-19 15:48:51+00:00  T-DHT22     27.1  H-DHT22  1.800000\n",
       "2017-12-19 15:48:57+00:00  T-DHT22     27.1  H-DHT22  2.300000\n",
       "2017-12-19 15:49:04+00:00  T-DHT22     27.1  H-DHT22  2.200000\n",
       "2017-12-19 15:49:11+00:00  T-DHT22     27.1  H-DHT22  2.400000\n",
       "2017-12-19 15:49:18+00:00  T-DHT22     27.1  H-DHT22  2.300000\n",
       "2017-12-19 15:49:24+00:00  T-DHT22     27.1      NaN  2.253846\n",
       "2017-12-19 15:49:31+00:00  T-DHT22     27.1  H-DHT22  2.200000\n",
       "2017-12-19 15:49:38+00:00  T-DHT22     27.1  H-DHT22  2.300000\n",
       "2017-12-19 15:49:45+00:00  T-DHT22     27.1  H-DHT22  2.300000"
      ]
     },
     "execution_count": 119,
     "metadata": {},
     "output_type": "execute_result"
    }
   ],
   "source": [
    "# here we have used interpolation to handle the missing data \n",
    "newdf.interpolate(method='time', inplace=True)\n",
    "newdf.iloc[200:220]"
   ]
  },
  {
   "cell_type": "code",
   "execution_count": 120,
   "metadata": {
    "scrolled": true
   },
   "outputs": [
    {
     "data": {
      "text/html": [
       "<div>\n",
       "<style scoped>\n",
       "    .dataframe tbody tr th:only-of-type {\n",
       "        vertical-align: middle;\n",
       "    }\n",
       "\n",
       "    .dataframe tbody tr th {\n",
       "        vertical-align: top;\n",
       "    }\n",
       "\n",
       "    .dataframe thead th {\n",
       "        text-align: right;\n",
       "    }\n",
       "</style>\n",
       "<table border=\"1\" class=\"dataframe\">\n",
       "  <thead>\n",
       "    <tr style=\"text-align: right;\">\n",
       "      <th></th>\n",
       "      <th>value_x</th>\n",
       "      <th>value_y</th>\n",
       "    </tr>\n",
       "  </thead>\n",
       "  <tbody>\n",
       "    <tr>\n",
       "      <td>count</td>\n",
       "      <td>1.522253e+06</td>\n",
       "      <td>1.522253e+06</td>\n",
       "    </tr>\n",
       "    <tr>\n",
       "      <td>mean</td>\n",
       "      <td>2.298896e+01</td>\n",
       "      <td>1.001344e+00</td>\n",
       "    </tr>\n",
       "    <tr>\n",
       "      <td>std</td>\n",
       "      <td>2.492273e+00</td>\n",
       "      <td>1.943594e-01</td>\n",
       "    </tr>\n",
       "    <tr>\n",
       "      <td>min</td>\n",
       "      <td>1.670000e+01</td>\n",
       "      <td>1.000000e+00</td>\n",
       "    </tr>\n",
       "    <tr>\n",
       "      <td>25%</td>\n",
       "      <td>2.170000e+01</td>\n",
       "      <td>1.000000e+00</td>\n",
       "    </tr>\n",
       "    <tr>\n",
       "      <td>50%</td>\n",
       "      <td>2.330000e+01</td>\n",
       "      <td>1.000000e+00</td>\n",
       "    </tr>\n",
       "    <tr>\n",
       "      <td>75%</td>\n",
       "      <td>2.480000e+01</td>\n",
       "      <td>1.000000e+00</td>\n",
       "    </tr>\n",
       "    <tr>\n",
       "      <td>max</td>\n",
       "      <td>2.980000e+01</td>\n",
       "      <td>9.990000e+01</td>\n",
       "    </tr>\n",
       "  </tbody>\n",
       "</table>\n",
       "</div>"
      ],
      "text/plain": [
       "            value_x       value_y\n",
       "count  1.522253e+06  1.522253e+06\n",
       "mean   2.298896e+01  1.001344e+00\n",
       "std    2.492273e+00  1.943594e-01\n",
       "min    1.670000e+01  1.000000e+00\n",
       "25%    2.170000e+01  1.000000e+00\n",
       "50%    2.330000e+01  1.000000e+00\n",
       "75%    2.480000e+01  1.000000e+00\n",
       "max    2.980000e+01  9.990000e+01"
      ]
     },
     "execution_count": 120,
     "metadata": {},
     "output_type": "execute_result"
    }
   ],
   "source": [
    "#statistical information of data frame\n",
    "newdf.describe()"
   ]
  },
  {
   "cell_type": "code",
   "execution_count": 121,
   "metadata": {},
   "outputs": [
    {
     "data": {
      "text/plain": [
       "<matplotlib.axes._subplots.AxesSubplot at 0x1ec6cf210>"
      ]
     },
     "execution_count": 121,
     "metadata": {},
     "output_type": "execute_result"
    },
    {
     "data": {
      "image/png": "[encoded data removed]",
      "text/plain": [
       "<Figure size 432x288 with 1 Axes>"
      ]
     },
     "metadata": {
      "needs_background": "light"
     },
     "output_type": "display_data"
    }
   ],
   "source": [
    "# plot the avarage temp based on the time \n",
    "%matplotlib inline\n",
    "newdf.resample('D').mean().plot()"
   ]
  },
  {
   "cell_type": "code",
   "execution_count": 102,
   "metadata": {
    "scrolled": true
   },
   "outputs": [
    {
     "data": {
      "text/plain": [
       "<matplotlib.axes._subplots.AxesSubplot at 0x11b30cf10>"
      ]
     },
     "execution_count": 102,
     "metadata": {},
     "output_type": "execute_result"
    },
    {
     "data": {
      "image/png": "[encoded data removed]",
      "text/plain": [
       "<Figure size 432x288 with 1 Axes>"
      ]
     },
     "metadata": {
      "needs_background": "light"
     },
     "output_type": "display_data"
    }
   ],
   "source": [
    "# plot the average humidity based on the time\n",
    "newdf.resample('D').mean().plot()"
   ]
  },
  {
   "cell_type": "markdown",
   "metadata": {},
   "source": [
    "as we can see we have missing data in temperature and humidity graphs,"
   ]
  },
  {
   "cell_type": "markdown",
   "metadata": {},
   "source": [
    "#### 1. Temperature File for (T-DHT11) sensor "
   ]
  },
  {
   "cell_type": "code",
   "execution_count": 33,
   "metadata": {},
   "outputs": [
    {
     "data": {
      "text/html": [
       "<div>\n",
       "<style scoped>\n",
       "    .dataframe tbody tr th:only-of-type {\n",
       "        vertical-align: middle;\n",
       "    }\n",
       "\n",
       "    .dataframe tbody tr th {\n",
       "        vertical-align: top;\n",
       "    }\n",
       "\n",
       "    .dataframe thead th {\n",
       "        text-align: right;\n",
       "    }\n",
       "</style>\n",
       "<table border=\"1\" class=\"dataframe\">\n",
       "  <thead>\n",
       "    <tr style=\"text-align: right;\">\n",
       "      <th></th>\n",
       "      <th>sensor</th>\n",
       "      <th>value</th>\n",
       "      <th>time</th>\n",
       "    </tr>\n",
       "  </thead>\n",
       "  <tbody>\n",
       "    <tr>\n",
       "      <td>0</td>\n",
       "      <td>T-DHT11</td>\n",
       "      <td>27</td>\n",
       "      <td>2017-12-22 11:22:11+00:00</td>\n",
       "    </tr>\n",
       "    <tr>\n",
       "      <td>1</td>\n",
       "      <td>T-DHT11</td>\n",
       "      <td>28</td>\n",
       "      <td>2017-12-22 11:22:16+00:00</td>\n",
       "    </tr>\n",
       "    <tr>\n",
       "      <td>2</td>\n",
       "      <td>T-DHT11</td>\n",
       "      <td>28</td>\n",
       "      <td>2017-12-22 11:22:20+00:00</td>\n",
       "    </tr>\n",
       "    <tr>\n",
       "      <td>3</td>\n",
       "      <td>T-DHT11</td>\n",
       "      <td>28</td>\n",
       "      <td>2017-12-22 11:22:24+00:00</td>\n",
       "    </tr>\n",
       "    <tr>\n",
       "      <td>4</td>\n",
       "      <td>T-DHT11</td>\n",
       "      <td>28</td>\n",
       "      <td>2017-12-22 11:22:28+00:00</td>\n",
       "    </tr>\n",
       "  </tbody>\n",
       "</table>\n",
       "</div>"
      ],
      "text/plain": [
       "    sensor  value                      time\n",
       "0  T-DHT11     27 2017-12-22 11:22:11+00:00\n",
       "1  T-DHT11     28 2017-12-22 11:22:16+00:00\n",
       "2  T-DHT11     28 2017-12-22 11:22:20+00:00\n",
       "3  T-DHT11     28 2017-12-22 11:22:24+00:00\n",
       "4  T-DHT11     28 2017-12-22 11:22:28+00:00"
      ]
     },
     "execution_count": 33,
     "metadata": {},
     "output_type": "execute_result"
    }
   ],
   "source": [
    "# Reading the file\n",
    "t_DHT11 = pd.read_csv('../data/raw/T-DHT11-measures.csv', parse_dates = ['time'])\n",
    "t_DHT11.head()"
   ]
  },
  {
   "cell_type": "code",
   "execution_count": 34,
   "metadata": {},
   "outputs": [
    {
     "data": {
      "text/plain": [
       "pandas._libs.tslibs.timestamps.Timestamp"
      ]
     },
     "execution_count": 34,
     "metadata": {},
     "output_type": "execute_result"
    }
   ],
   "source": [
    "type(t_DHT11.time[0])"
   ]
  },
  {
   "cell_type": "code",
   "execution_count": 78,
   "metadata": {},
   "outputs": [
    {
     "name": "stdout",
     "output_type": "stream",
     "text": [
      "<class 'pandas.core.frame.DataFrame'>\n",
      "RangeIndex: 1420308 entries, 0 to 1420307\n",
      "Data columns (total 3 columns):\n",
      "sensor    1420308 non-null object\n",
      "value     1420308 non-null int64\n",
      "time      1420302 non-null object\n",
      "dtypes: int64(1), object(2)\n",
      "memory usage: 32.5+ MB\n"
     ]
    }
   ],
   "source": [
    "# General Information \n",
    "t_DHT11.info()"
   ]
  },
  {
   "cell_type": "code",
   "execution_count": 79,
   "metadata": {},
   "outputs": [
    {
     "data": {
      "text/plain": [
       "T-DHT11    1420308\n",
       "Name: sensor, dtype: int64"
      ]
     },
     "execution_count": 79,
     "metadata": {},
     "output_type": "execute_result"
    }
   ],
   "source": [
    "# number of rows in the file\n",
    "t_DHT11.sensor.value_counts()"
   ]
  },
  {
   "cell_type": "code",
   "execution_count": 80,
   "metadata": {},
   "outputs": [
    {
     "data": {
      "text/plain": [
       "sensor    0\n",
       "value     0\n",
       "time      6\n",
       "dtype: int64"
      ]
     },
     "execution_count": 80,
     "metadata": {},
     "output_type": "execute_result"
    }
   ],
   "source": [
    "# check and print the number of empty cells (missing data) in each coulmn \n",
    "t_DHT11.isnull().sum()"
   ]
  },
  {
   "cell_type": "code",
   "execution_count": 81,
   "metadata": {},
   "outputs": [
    {
     "data": {
      "text/html": [
       "<div>\n",
       "<style scoped>\n",
       "    .dataframe tbody tr th:only-of-type {\n",
       "        vertical-align: middle;\n",
       "    }\n",
       "\n",
       "    .dataframe tbody tr th {\n",
       "        vertical-align: top;\n",
       "    }\n",
       "\n",
       "    .dataframe thead th {\n",
       "        text-align: right;\n",
       "    }\n",
       "</style>\n",
       "<table border=\"1\" class=\"dataframe\">\n",
       "  <thead>\n",
       "    <tr style=\"text-align: right;\">\n",
       "      <th></th>\n",
       "      <th>value</th>\n",
       "    </tr>\n",
       "  </thead>\n",
       "  <tbody>\n",
       "    <tr>\n",
       "      <td>count</td>\n",
       "      <td>1.420308e+06</td>\n",
       "    </tr>\n",
       "    <tr>\n",
       "      <td>mean</td>\n",
       "      <td>2.124776e+01</td>\n",
       "    </tr>\n",
       "    <tr>\n",
       "      <td>std</td>\n",
       "      <td>2.492706e+00</td>\n",
       "    </tr>\n",
       "    <tr>\n",
       "      <td>min</td>\n",
       "      <td>1.500000e+01</td>\n",
       "    </tr>\n",
       "    <tr>\n",
       "      <td>25%</td>\n",
       "      <td>2.000000e+01</td>\n",
       "    </tr>\n",
       "    <tr>\n",
       "      <td>50%</td>\n",
       "      <td>2.200000e+01</td>\n",
       "    </tr>\n",
       "    <tr>\n",
       "      <td>75%</td>\n",
       "      <td>2.300000e+01</td>\n",
       "    </tr>\n",
       "    <tr>\n",
       "      <td>max</td>\n",
       "      <td>2.900000e+01</td>\n",
       "    </tr>\n",
       "  </tbody>\n",
       "</table>\n",
       "</div>"
      ],
      "text/plain": [
       "              value\n",
       "count  1.420308e+06\n",
       "mean   2.124776e+01\n",
       "std    2.492706e+00\n",
       "min    1.500000e+01\n",
       "25%    2.000000e+01\n",
       "50%    2.200000e+01\n",
       "75%    2.300000e+01\n",
       "max    2.900000e+01"
      ]
     },
     "execution_count": 81,
     "metadata": {},
     "output_type": "execute_result"
    }
   ],
   "source": [
    "t_DHT11.describe()"
   ]
  },
  {
   "cell_type": "markdown",
   "metadata": {},
   "source": [
    "### 2. Humidity File (H-DHT11)\n"
   ]
  },
  {
   "cell_type": "code",
   "execution_count": null,
   "metadata": {},
   "outputs": [],
   "source": []
  },
  {
   "cell_type": "code",
   "execution_count": 82,
   "metadata": {},
   "outputs": [
    {
     "data": {
      "text/html": [
       "<div>\n",
       "<style scoped>\n",
       "    .dataframe tbody tr th:only-of-type {\n",
       "        vertical-align: middle;\n",
       "    }\n",
       "\n",
       "    .dataframe tbody tr th {\n",
       "        vertical-align: top;\n",
       "    }\n",
       "\n",
       "    .dataframe thead th {\n",
       "        text-align: right;\n",
       "    }\n",
       "</style>\n",
       "<table border=\"1\" class=\"dataframe\">\n",
       "  <thead>\n",
       "    <tr style=\"text-align: right;\">\n",
       "      <th></th>\n",
       "      <th>sensor</th>\n",
       "      <th>value</th>\n",
       "      <th>time</th>\n",
       "    </tr>\n",
       "  </thead>\n",
       "  <tbody>\n",
       "    <tr>\n",
       "      <td>0</td>\n",
       "      <td>H-DHT11</td>\n",
       "      <td>31</td>\n",
       "      <td>2017-12-22T11:22:11Z</td>\n",
       "    </tr>\n",
       "    <tr>\n",
       "      <td>1</td>\n",
       "      <td>H-DHT11</td>\n",
       "      <td>31</td>\n",
       "      <td>2017-12-22T11:22:16Z</td>\n",
       "    </tr>\n",
       "    <tr>\n",
       "      <td>2</td>\n",
       "      <td>H-DHT11</td>\n",
       "      <td>31</td>\n",
       "      <td>2017-12-22T11:22:20Z</td>\n",
       "    </tr>\n",
       "    <tr>\n",
       "      <td>3</td>\n",
       "      <td>H-DHT11</td>\n",
       "      <td>31</td>\n",
       "      <td>2017-12-22T11:22:24Z</td>\n",
       "    </tr>\n",
       "    <tr>\n",
       "      <td>4</td>\n",
       "      <td>H-DHT11</td>\n",
       "      <td>31</td>\n",
       "      <td>2017-12-22T11:22:28Z</td>\n",
       "    </tr>\n",
       "  </tbody>\n",
       "</table>\n",
       "</div>"
      ],
      "text/plain": [
       "    sensor  value                  time\n",
       "0  H-DHT11     31  2017-12-22T11:22:11Z\n",
       "1  H-DHT11     31  2017-12-22T11:22:16Z\n",
       "2  H-DHT11     31  2017-12-22T11:22:20Z\n",
       "3  H-DHT11     31  2017-12-22T11:22:24Z\n",
       "4  H-DHT11     31  2017-12-22T11:22:28Z"
      ]
     },
     "execution_count": 82,
     "metadata": {},
     "output_type": "execute_result"
    }
   ],
   "source": [
    "# reading the JSON file and convert it to csv \n",
    "data = []\n",
    "with open('../data/raw/H-DHT11-measures.json','r') as f:\n",
    "    for line in f:\n",
    "        data.append(json.loads(line))\n",
    "\n",
    "h_DHT11 = pd.DataFrame(data)\n",
    "h_DHT11.to_csv (r'../data/raw/H-DHT11-measures.csv', index = None)\n",
    "h_DHT11.head()"
   ]
  },
  {
   "cell_type": "code",
   "execution_count": 83,
   "metadata": {},
   "outputs": [
    {
     "data": {
      "text/plain": [
       "str"
      ]
     },
     "execution_count": 83,
     "metadata": {},
     "output_type": "execute_result"
    }
   ],
   "source": [
    "type(h_DHT11.time[0])"
   ]
  },
  {
   "cell_type": "code",
   "execution_count": 84,
   "metadata": {},
   "outputs": [
    {
     "name": "stdout",
     "output_type": "stream",
     "text": [
      "<class 'pandas.core.frame.DataFrame'>\n",
      "RangeIndex: 1420302 entries, 0 to 1420301\n",
      "Data columns (total 3 columns):\n",
      "sensor    1420302 non-null object\n",
      "value     1420302 non-null int64\n",
      "time      1420302 non-null object\n",
      "dtypes: int64(1), object(2)\n",
      "memory usage: 32.5+ MB\n"
     ]
    }
   ],
   "source": [
    "h_DHT11.info()"
   ]
  },
  {
   "cell_type": "code",
   "execution_count": 123,
   "metadata": {},
   "outputs": [
    {
     "data": {
      "text/plain": [
       "H-DHT11    1420302\n",
       "Name: sensor, dtype: int64"
      ]
     },
     "execution_count": 123,
     "metadata": {},
     "output_type": "execute_result"
    }
   ],
   "source": [
    "#General Information\n",
    "h_DHT11.sensor.value_counts()"
   ]
  },
  {
   "cell_type": "code",
   "execution_count": 86,
   "metadata": {},
   "outputs": [
    {
     "data": {
      "text/plain": [
       "sensor    0\n",
       "value     0\n",
       "time      0\n",
       "dtype: int64"
      ]
     },
     "execution_count": 86,
     "metadata": {},
     "output_type": "execute_result"
    }
   ],
   "source": [
    "# check and print the number of empty cells (missing data) in each coulmn \n",
    "h_DHT11.isnull().sum()"
   ]
  },
  {
   "cell_type": "markdown",
   "metadata": {},
   "source": [
    "### 3. Merge temperature and humidity \n"
   ]
  },
  {
   "cell_type": "code",
   "execution_count": null,
   "metadata": {},
   "outputs": [],
   "source": []
  },
  {
   "cell_type": "markdown",
   "metadata": {},
   "source": [
    "#### 1. Temperature File for (T-HTU21) sensor "
   ]
  },
  {
   "cell_type": "code",
   "execution_count": 126,
   "metadata": {},
   "outputs": [
    {
     "data": {
      "text/html": [
       "<div>\n",
       "<style scoped>\n",
       "    .dataframe tbody tr th:only-of-type {\n",
       "        vertical-align: middle;\n",
       "    }\n",
       "\n",
       "    .dataframe tbody tr th {\n",
       "        vertical-align: top;\n",
       "    }\n",
       "\n",
       "    .dataframe thead th {\n",
       "        text-align: right;\n",
       "    }\n",
       "</style>\n",
       "<table border=\"1\" class=\"dataframe\">\n",
       "  <thead>\n",
       "    <tr style=\"text-align: right;\">\n",
       "      <th></th>\n",
       "      <th>sensor</th>\n",
       "      <th>value</th>\n",
       "      <th>time</th>\n",
       "    </tr>\n",
       "  </thead>\n",
       "  <tbody>\n",
       "    <tr>\n",
       "      <td>0</td>\n",
       "      <td>T-HTU21</td>\n",
       "      <td>25.09</td>\n",
       "      <td>2017-12-20T12:17:05Z</td>\n",
       "    </tr>\n",
       "    <tr>\n",
       "      <td>1</td>\n",
       "      <td>T-HTU21</td>\n",
       "      <td>25.09</td>\n",
       "      <td>2017-12-20T12:17:07Z</td>\n",
       "    </tr>\n",
       "    <tr>\n",
       "      <td>2</td>\n",
       "      <td>T-HTU21</td>\n",
       "      <td>25.09</td>\n",
       "      <td>2017-12-20T12:17:09Z</td>\n",
       "    </tr>\n",
       "    <tr>\n",
       "      <td>3</td>\n",
       "      <td>T-HTU21</td>\n",
       "      <td>25.09</td>\n",
       "      <td>2017-12-20T12:17:11Z</td>\n",
       "    </tr>\n",
       "    <tr>\n",
       "      <td>4</td>\n",
       "      <td>T-HTU21</td>\n",
       "      <td>25.08</td>\n",
       "      <td>2017-12-20T12:17:13Z</td>\n",
       "    </tr>\n",
       "  </tbody>\n",
       "</table>\n",
       "</div>"
      ],
      "text/plain": [
       "    sensor  value                  time\n",
       "0  T-HTU21  25.09  2017-12-20T12:17:05Z\n",
       "1  T-HTU21  25.09  2017-12-20T12:17:07Z\n",
       "2  T-HTU21  25.09  2017-12-20T12:17:09Z\n",
       "3  T-HTU21  25.09  2017-12-20T12:17:11Z\n",
       "4  T-HTU21  25.08  2017-12-20T12:17:13Z"
      ]
     },
     "execution_count": 126,
     "metadata": {},
     "output_type": "execute_result"
    }
   ],
   "source": [
    "# reading the JSON file and convert it to csv \n",
    "data = []\n",
    "with open('../data/raw/T-HTU21-measures.json','r') as f:\n",
    "    for line in f:\n",
    "        data.append(json.loads(line))\n",
    "\n",
    "t_HTU21 = pd.DataFrame(data)\n",
    "t_HTU21.to_csv (r'../data/raw/T-HTU21-measures.csv', index = None)\n",
    "t_HTU21.head()"
   ]
  },
  {
   "cell_type": "code",
   "execution_count": 127,
   "metadata": {},
   "outputs": [
    {
     "data": {
      "text/plain": [
       "str"
      ]
     },
     "execution_count": 127,
     "metadata": {},
     "output_type": "execute_result"
    }
   ],
   "source": [
    "type(t_HTU21.time[0])"
   ]
  },
  {
   "cell_type": "code",
   "execution_count": 128,
   "metadata": {},
   "outputs": [
    {
     "name": "stdout",
     "output_type": "stream",
     "text": [
      "<class 'pandas.core.frame.DataFrame'>\n",
      "RangeIndex: 1428383 entries, 0 to 1428382\n",
      "Data columns (total 3 columns):\n",
      "sensor    1428383 non-null object\n",
      "value     1428383 non-null float64\n",
      "time      1428383 non-null object\n",
      "dtypes: float64(1), object(2)\n",
      "memory usage: 32.7+ MB\n"
     ]
    }
   ],
   "source": [
    "t_HTU21.info()"
   ]
  },
  {
   "cell_type": "code",
   "execution_count": 134,
   "metadata": {},
   "outputs": [
    {
     "data": {
      "text/plain": [
       "T-HTU21    1428383\n",
       "Name: sensor, dtype: int64"
      ]
     },
     "execution_count": 134,
     "metadata": {},
     "output_type": "execute_result"
    }
   ],
   "source": [
    "t_HTU21.sensor.value_counts()"
   ]
  },
  {
   "cell_type": "code",
   "execution_count": 130,
   "metadata": {},
   "outputs": [
    {
     "data": {
      "text/plain": [
       "sensor    0\n",
       "value     0\n",
       "time      0\n",
       "dtype: int64"
      ]
     },
     "execution_count": 130,
     "metadata": {},
     "output_type": "execute_result"
    }
   ],
   "source": [
    "# check and print the number of empty cells (missing data) in each coulmn \n",
    "t_HTU21.isnull().sum()"
   ]
  },
  {
   "cell_type": "markdown",
   "metadata": {},
   "source": [
    "#### 2. Humidity File for (T-HTU21) sensor "
   ]
  },
  {
   "cell_type": "code",
   "execution_count": 131,
   "metadata": {},
   "outputs": [
    {
     "data": {
      "text/html": [
       "<div>\n",
       "<style scoped>\n",
       "    .dataframe tbody tr th:only-of-type {\n",
       "        vertical-align: middle;\n",
       "    }\n",
       "\n",
       "    .dataframe tbody tr th {\n",
       "        vertical-align: top;\n",
       "    }\n",
       "\n",
       "    .dataframe thead th {\n",
       "        text-align: right;\n",
       "    }\n",
       "</style>\n",
       "<table border=\"1\" class=\"dataframe\">\n",
       "  <thead>\n",
       "    <tr style=\"text-align: right;\">\n",
       "      <th></th>\n",
       "      <th>sensor</th>\n",
       "      <th>value</th>\n",
       "      <th>time</th>\n",
       "    </tr>\n",
       "  </thead>\n",
       "  <tbody>\n",
       "    <tr>\n",
       "      <td>0</td>\n",
       "      <td>T-HTU21</td>\n",
       "      <td>25.09</td>\n",
       "      <td>2017-12-20 12:17:05+00:00</td>\n",
       "    </tr>\n",
       "    <tr>\n",
       "      <td>1</td>\n",
       "      <td>T-HTU21</td>\n",
       "      <td>25.09</td>\n",
       "      <td>2017-12-20 12:17:07+00:00</td>\n",
       "    </tr>\n",
       "    <tr>\n",
       "      <td>2</td>\n",
       "      <td>T-HTU21</td>\n",
       "      <td>25.09</td>\n",
       "      <td>2017-12-20 12:17:09+00:00</td>\n",
       "    </tr>\n",
       "    <tr>\n",
       "      <td>3</td>\n",
       "      <td>T-HTU21</td>\n",
       "      <td>25.09</td>\n",
       "      <td>2017-12-20 12:17:11+00:00</td>\n",
       "    </tr>\n",
       "    <tr>\n",
       "      <td>4</td>\n",
       "      <td>T-HTU21</td>\n",
       "      <td>25.08</td>\n",
       "      <td>2017-12-20 12:17:13+00:00</td>\n",
       "    </tr>\n",
       "  </tbody>\n",
       "</table>\n",
       "</div>"
      ],
      "text/plain": [
       "    sensor  value                      time\n",
       "0  T-HTU21  25.09 2017-12-20 12:17:05+00:00\n",
       "1  T-HTU21  25.09 2017-12-20 12:17:07+00:00\n",
       "2  T-HTU21  25.09 2017-12-20 12:17:09+00:00\n",
       "3  T-HTU21  25.09 2017-12-20 12:17:11+00:00\n",
       "4  T-HTU21  25.08 2017-12-20 12:17:13+00:00"
      ]
     },
     "execution_count": 131,
     "metadata": {},
     "output_type": "execute_result"
    }
   ],
   "source": [
    "# Reading the file\n",
    "h_HTU21 = pd.read_csv('../data/raw/T-HTU21-measures.csv', parse_dates = ['time'])\n",
    "h_HTU21.head()"
   ]
  },
  {
   "cell_type": "code",
   "execution_count": 132,
   "metadata": {},
   "outputs": [
    {
     "data": {
      "text/plain": [
       "pandas._libs.tslibs.timestamps.Timestamp"
      ]
     },
     "execution_count": 132,
     "metadata": {},
     "output_type": "execute_result"
    }
   ],
   "source": [
    "type(h_HTU21.time[0])"
   ]
  },
  {
   "cell_type": "code",
   "execution_count": 135,
   "metadata": {},
   "outputs": [
    {
     "name": "stdout",
     "output_type": "stream",
     "text": [
      "<class 'pandas.core.frame.DataFrame'>\n",
      "RangeIndex: 1428383 entries, 0 to 1428382\n",
      "Data columns (total 3 columns):\n",
      "sensor    1428383 non-null object\n",
      "value     1428383 non-null float64\n",
      "time      1428383 non-null datetime64[ns, UTC]\n",
      "dtypes: datetime64[ns, UTC](1), float64(1), object(1)\n",
      "memory usage: 32.7+ MB\n"
     ]
    }
   ],
   "source": [
    "# General Information \n",
    "h_HTU21.info()"
   ]
  },
  {
   "cell_type": "code",
   "execution_count": 136,
   "metadata": {},
   "outputs": [
    {
     "data": {
      "text/plain": [
       "T-HTU21    1428383\n",
       "Name: sensor, dtype: int64"
      ]
     },
     "execution_count": 136,
     "metadata": {},
     "output_type": "execute_result"
    }
   ],
   "source": [
    "h_HTU21.sensor.value_counts()"
   ]
  },
  {
   "cell_type": "code",
   "execution_count": 137,
   "metadata": {},
   "outputs": [
    {
     "data": {
      "text/plain": [
       "sensor    0\n",
       "value     0\n",
       "time      0\n",
       "dtype: int64"
      ]
     },
     "execution_count": 137,
     "metadata": {},
     "output_type": "execute_result"
    }
   ],
   "source": [
    "# check and print the number of empty cells (missing data) in each coulmn \n",
    "h_HTU21.isnull().sum()"
   ]
  },
  {
   "cell_type": "markdown",
   "metadata": {},
   "source": [
    "### 3. Merge temperature and humidity \n"
   ]
  },
  {
   "cell_type": "code",
   "execution_count": null,
   "metadata": {},
   "outputs": [],
   "source": []
  },
  {
   "cell_type": "markdown",
   "metadata": {},
   "source": []
  }
 ],
 "metadata": {
  "kernelspec": {
   "display_name": "Python 3",
   "language": "python",
   "name": "python3"
  },
  "language_info": {
   "codemirror_mode": {
    "name": "ipython",
    "version": 3
   },
   "file_extension": ".py",
   "mimetype": "text/x-python",
   "name": "python",
   "nbconvert_exporter": "python",
   "pygments_lexer": "ipython3",
   "version": "3.7.4"
  }
 },
 "nbformat": 4,
 "nbformat_minor": 2
}
