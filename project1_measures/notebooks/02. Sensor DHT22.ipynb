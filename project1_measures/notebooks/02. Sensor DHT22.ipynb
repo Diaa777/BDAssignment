{
 "cells": [
  {
   "cell_type": "markdown",
   "metadata": {},
   "source": [
    "#### Masive Data Assignment\n",
    "Read and Clean Data for several sensors "
   ]
  },
  {
   "cell_type": "code",
   "execution_count": 1,
   "metadata": {},
   "outputs": [],
   "source": [
    "import pandas as pd\n",
    "import numpy as np\n",
    "import json "
   ]
  },
  {
   "cell_type": "markdown",
   "metadata": {},
   "source": [
    "#### 1. Temperature File for (T-DHT22) sensor "
   ]
  },
  {
   "cell_type": "code",
   "execution_count": 2,
   "metadata": {
    "scrolled": false
   },
   "outputs": [
    {
     "data": {
      "text/html": [
       "<div>\n",
       "<style scoped>\n",
       "    .dataframe tbody tr th:only-of-type {\n",
       "        vertical-align: middle;\n",
       "    }\n",
       "\n",
       "    .dataframe tbody tr th {\n",
       "        vertical-align: top;\n",
       "    }\n",
       "\n",
       "    .dataframe thead th {\n",
       "        text-align: right;\n",
       "    }\n",
       "</style>\n",
       "<table border=\"1\" class=\"dataframe\">\n",
       "  <thead>\n",
       "    <tr style=\"text-align: right;\">\n",
       "      <th></th>\n",
       "      <th>sensor</th>\n",
       "      <th>value</th>\n",
       "      <th>time</th>\n",
       "    </tr>\n",
       "  </thead>\n",
       "  <tbody>\n",
       "    <tr>\n",
       "      <td>0</td>\n",
       "      <td>T-DHT22</td>\n",
       "      <td>25.5</td>\n",
       "      <td>2017-12-19 14:07:18+00:00</td>\n",
       "    </tr>\n",
       "    <tr>\n",
       "      <td>1</td>\n",
       "      <td>T-DHT22</td>\n",
       "      <td>25.5</td>\n",
       "      <td>2017-12-19 14:07:25+00:00</td>\n",
       "    </tr>\n",
       "    <tr>\n",
       "      <td>2</td>\n",
       "      <td>T-DHT22</td>\n",
       "      <td>25.6</td>\n",
       "      <td>2017-12-19 14:07:32+00:00</td>\n",
       "    </tr>\n",
       "    <tr>\n",
       "      <td>3</td>\n",
       "      <td>T-DHT22</td>\n",
       "      <td>25.6</td>\n",
       "      <td>2017-12-19 14:07:38+00:00</td>\n",
       "    </tr>\n",
       "    <tr>\n",
       "      <td>4</td>\n",
       "      <td>T-DHT22</td>\n",
       "      <td>25.6</td>\n",
       "      <td>2017-12-19 14:07:45+00:00</td>\n",
       "    </tr>\n",
       "  </tbody>\n",
       "</table>\n",
       "</div>"
      ],
      "text/plain": [
       "    sensor  value                      time\n",
       "0  T-DHT22   25.5 2017-12-19 14:07:18+00:00\n",
       "1  T-DHT22   25.5 2017-12-19 14:07:25+00:00\n",
       "2  T-DHT22   25.6 2017-12-19 14:07:32+00:00\n",
       "3  T-DHT22   25.6 2017-12-19 14:07:38+00:00\n",
       "4  T-DHT22   25.6 2017-12-19 14:07:45+00:00"
      ]
     },
     "execution_count": 2,
     "metadata": {},
     "output_type": "execute_result"
    }
   ],
   "source": [
    "# Reading the file\n",
    "t_DHT22 = pd.read_csv('../data/raw/T-DHT22-measures.csv', parse_dates = ['time'])\n",
    "t_DHT22.head()"
   ]
  },
  {
   "cell_type": "code",
   "execution_count": 3,
   "metadata": {},
   "outputs": [
    {
     "name": "stdout",
     "output_type": "stream",
     "text": [
      "<class 'pandas.core.frame.DataFrame'>\n",
      "RangeIndex: 1440150 entries, 0 to 1440149\n",
      "Data columns (total 3 columns):\n",
      "sensor    1440150 non-null object\n",
      "value     1440150 non-null float64\n",
      "time      1440150 non-null datetime64[ns, UTC]\n",
      "dtypes: datetime64[ns, UTC](1), float64(1), object(1)\n",
      "memory usage: 33.0+ MB\n"
     ]
    }
   ],
   "source": [
    "# General Information \n",
    "t_DHT22.info()"
   ]
  },
  {
   "cell_type": "markdown",
   "metadata": {},
   "source": [
    "we conclude from this, that this data file has 3 columns and each coulmn has 1440150 data value, and there in no missing data, also we can see the memory usage (33 MB)"
   ]
  },
  {
   "cell_type": "code",
   "execution_count": 4,
   "metadata": {
    "scrolled": true
   },
   "outputs": [
    {
     "data": {
      "text/plain": [
       "T-DHT22    1440150\n",
       "Name: sensor, dtype: int64"
      ]
     },
     "execution_count": 4,
     "metadata": {},
     "output_type": "execute_result"
    }
   ],
   "source": [
    "# number of rows in the file\n",
    "t_DHT22.sensor.value_counts()"
   ]
  },
  {
   "cell_type": "code",
   "execution_count": 5,
   "metadata": {},
   "outputs": [
    {
     "data": {
      "text/plain": [
       "pandas._libs.tslibs.timestamps.Timestamp"
      ]
     },
     "execution_count": 5,
     "metadata": {},
     "output_type": "execute_result"
    }
   ],
   "source": [
    "type(t_DHT22.time[0])"
   ]
  },
  {
   "cell_type": "code",
   "execution_count": 6,
   "metadata": {},
   "outputs": [
    {
     "data": {
      "text/plain": [
       "sensor    0\n",
       "value     0\n",
       "time      0\n",
       "dtype: int64"
      ]
     },
     "execution_count": 6,
     "metadata": {},
     "output_type": "execute_result"
    }
   ],
   "source": [
    "# check and print the number of empty cells (missing data) in each coulmn \n",
    "t_DHT22.isnull().sum()"
   ]
  },
  {
   "cell_type": "code",
   "execution_count": 7,
   "metadata": {
    "scrolled": false
   },
   "outputs": [
    {
     "data": {
      "text/html": [
       "<div>\n",
       "<style scoped>\n",
       "    .dataframe tbody tr th:only-of-type {\n",
       "        vertical-align: middle;\n",
       "    }\n",
       "\n",
       "    .dataframe tbody tr th {\n",
       "        vertical-align: top;\n",
       "    }\n",
       "\n",
       "    .dataframe thead th {\n",
       "        text-align: right;\n",
       "    }\n",
       "</style>\n",
       "<table border=\"1\" class=\"dataframe\">\n",
       "  <thead>\n",
       "    <tr style=\"text-align: right;\">\n",
       "      <th></th>\n",
       "      <th>value</th>\n",
       "    </tr>\n",
       "  </thead>\n",
       "  <tbody>\n",
       "    <tr>\n",
       "      <td>count</td>\n",
       "      <td>1.440150e+06</td>\n",
       "    </tr>\n",
       "    <tr>\n",
       "      <td>mean</td>\n",
       "      <td>2.299986e+01</td>\n",
       "    </tr>\n",
       "    <tr>\n",
       "      <td>std</td>\n",
       "      <td>2.480804e+00</td>\n",
       "    </tr>\n",
       "    <tr>\n",
       "      <td>min</td>\n",
       "      <td>1.670000e+01</td>\n",
       "    </tr>\n",
       "    <tr>\n",
       "      <td>25%</td>\n",
       "      <td>2.170000e+01</td>\n",
       "    </tr>\n",
       "    <tr>\n",
       "      <td>50%</td>\n",
       "      <td>2.330000e+01</td>\n",
       "    </tr>\n",
       "    <tr>\n",
       "      <td>75%</td>\n",
       "      <td>2.480000e+01</td>\n",
       "    </tr>\n",
       "    <tr>\n",
       "      <td>max</td>\n",
       "      <td>2.980000e+01</td>\n",
       "    </tr>\n",
       "  </tbody>\n",
       "</table>\n",
       "</div>"
      ],
      "text/plain": [
       "              value\n",
       "count  1.440150e+06\n",
       "mean   2.299986e+01\n",
       "std    2.480804e+00\n",
       "min    1.670000e+01\n",
       "25%    2.170000e+01\n",
       "50%    2.330000e+01\n",
       "75%    2.480000e+01\n",
       "max    2.980000e+01"
      ]
     },
     "execution_count": 7,
     "metadata": {},
     "output_type": "execute_result"
    }
   ],
   "source": [
    "t_DHT22.describe()"
   ]
  },
  {
   "cell_type": "markdown",
   "metadata": {},
   "source": [
    "T-DHT22-measures.csv file doesn't have problems. There's no missing data and each column has a same format."
   ]
  },
  {
   "cell_type": "markdown",
   "metadata": {},
   "source": [
    "### 2. Humidity File (H-DHT22) sensor "
   ]
  },
  {
   "cell_type": "code",
   "execution_count": 8,
   "metadata": {
    "scrolled": true
   },
   "outputs": [
    {
     "data": {
      "text/html": [
       "<div>\n",
       "<style scoped>\n",
       "    .dataframe tbody tr th:only-of-type {\n",
       "        vertical-align: middle;\n",
       "    }\n",
       "\n",
       "    .dataframe tbody tr th {\n",
       "        vertical-align: top;\n",
       "    }\n",
       "\n",
       "    .dataframe thead th {\n",
       "        text-align: right;\n",
       "    }\n",
       "</style>\n",
       "<table border=\"1\" class=\"dataframe\">\n",
       "  <thead>\n",
       "    <tr style=\"text-align: right;\">\n",
       "      <th></th>\n",
       "      <th>sensor</th>\n",
       "      <th>value</th>\n",
       "      <th>time</th>\n",
       "    </tr>\n",
       "  </thead>\n",
       "  <tbody>\n",
       "    <tr>\n",
       "      <td>0</td>\n",
       "      <td>H-DHT22</td>\n",
       "      <td>15.7</td>\n",
       "      <td>2017-12-19 14:07:18+00:00</td>\n",
       "    </tr>\n",
       "    <tr>\n",
       "      <td>1</td>\n",
       "      <td>H-DHT22</td>\n",
       "      <td>15.7</td>\n",
       "      <td>2017-12-19 14:07:25+00:00</td>\n",
       "    </tr>\n",
       "    <tr>\n",
       "      <td>2</td>\n",
       "      <td>H-DHT22</td>\n",
       "      <td>15.7</td>\n",
       "      <td>2017-12-19 14:07:32+00:00</td>\n",
       "    </tr>\n",
       "    <tr>\n",
       "      <td>3</td>\n",
       "      <td>H-DHT22</td>\n",
       "      <td>15.7</td>\n",
       "      <td>2017-12-19 14:07:38+00:00</td>\n",
       "    </tr>\n",
       "    <tr>\n",
       "      <td>4</td>\n",
       "      <td>H-DHT22</td>\n",
       "      <td>15.7</td>\n",
       "      <td>2017-12-19 14:07:45+00:00</td>\n",
       "    </tr>\n",
       "  </tbody>\n",
       "</table>\n",
       "</div>"
      ],
      "text/plain": [
       "    sensor  value                      time\n",
       "0  H-DHT22   15.7 2017-12-19 14:07:18+00:00\n",
       "1  H-DHT22   15.7 2017-12-19 14:07:25+00:00\n",
       "2  H-DHT22   15.7 2017-12-19 14:07:32+00:00\n",
       "3  H-DHT22   15.7 2017-12-19 14:07:38+00:00\n",
       "4  H-DHT22   15.7 2017-12-19 14:07:45+00:00"
      ]
     },
     "execution_count": 8,
     "metadata": {},
     "output_type": "execute_result"
    }
   ],
   "source": [
    "# Reading H-DHT22 file\n",
    "h_DHT22 = pd.read_csv('../data/raw/H-DHT22-measures.csv', parse_dates = ['time'])\n",
    "h_DHT22.head()"
   ]
  },
  {
   "cell_type": "code",
   "execution_count": 9,
   "metadata": {},
   "outputs": [
    {
     "data": {
      "text/plain": [
       "pandas._libs.tslibs.timestamps.Timestamp"
      ]
     },
     "execution_count": 9,
     "metadata": {},
     "output_type": "execute_result"
    }
   ],
   "source": [
    "type(h_DHT22.time[0])"
   ]
  },
  {
   "cell_type": "code",
   "execution_count": null,
   "metadata": {},
   "outputs": [],
   "source": []
  },
  {
   "cell_type": "code",
   "execution_count": 10,
   "metadata": {
    "scrolled": true
   },
   "outputs": [
    {
     "name": "stdout",
     "output_type": "stream",
     "text": [
      "<class 'pandas.core.frame.DataFrame'>\n",
      "RangeIndex: 1440160 entries, 0 to 1440159\n",
      "Data columns (total 3 columns):\n",
      "sensor    1440160 non-null object\n",
      "value     1440160 non-null float64\n",
      "time      1440160 non-null datetime64[ns, UTC]\n",
      "dtypes: datetime64[ns, UTC](1), float64(1), object(1)\n",
      "memory usage: 33.0+ MB\n"
     ]
    }
   ],
   "source": [
    "h_DHT22.info()"
   ]
  },
  {
   "cell_type": "markdown",
   "metadata": {},
   "source": [
    "From information above, the data frame has 1440160 rows and 3 columns. Each column has 1440150 data, there is no missing data."
   ]
  },
  {
   "cell_type": "code",
   "execution_count": 11,
   "metadata": {},
   "outputs": [
    {
     "data": {
      "text/plain": [
       "H-DHT22    1440160\n",
       "Name: sensor, dtype: int64"
      ]
     },
     "execution_count": 11,
     "metadata": {},
     "output_type": "execute_result"
    }
   ],
   "source": [
    "h_DHT22.sensor.value_counts()"
   ]
  },
  {
   "cell_type": "code",
   "execution_count": 12,
   "metadata": {},
   "outputs": [
    {
     "data": {
      "text/plain": [
       "sensor    0\n",
       "value     0\n",
       "time      0\n",
       "dtype: int64"
      ]
     },
     "execution_count": 12,
     "metadata": {},
     "output_type": "execute_result"
    }
   ],
   "source": [
    "# check and print the number of empty cells (missing data) in each coulmn \n",
    "h_DHT22.isnull().sum()"
   ]
  },
  {
   "cell_type": "markdown",
   "metadata": {},
   "source": [
    "File H-DHT22-measures.csv doesn't have any problem. There's no missing data and each column has a same format."
   ]
  },
  {
   "cell_type": "markdown",
   "metadata": {},
   "source": [
    "### 3. Merge temperature and humidity "
   ]
  },
  {
   "cell_type": "markdown",
   "metadata": {},
   "source": [
    " \n",
    "merging the temperature and humidity dataframs into one dataframe based on the time, and check the missing data after "
   ]
  },
  {
   "cell_type": "code",
   "execution_count": 13,
   "metadata": {
    "scrolled": false
   },
   "outputs": [
    {
     "data": {
      "text/html": [
       "<div>\n",
       "<style scoped>\n",
       "    .dataframe tbody tr th:only-of-type {\n",
       "        vertical-align: middle;\n",
       "    }\n",
       "\n",
       "    .dataframe tbody tr th {\n",
       "        vertical-align: top;\n",
       "    }\n",
       "\n",
       "    .dataframe thead th {\n",
       "        text-align: right;\n",
       "    }\n",
       "</style>\n",
       "<table border=\"1\" class=\"dataframe\">\n",
       "  <thead>\n",
       "    <tr style=\"text-align: right;\">\n",
       "      <th></th>\n",
       "      <th>sensor_x</th>\n",
       "      <th>value_x</th>\n",
       "      <th>sensor_y</th>\n",
       "      <th>value_y</th>\n",
       "    </tr>\n",
       "    <tr>\n",
       "      <th>time</th>\n",
       "      <th></th>\n",
       "      <th></th>\n",
       "      <th></th>\n",
       "      <th></th>\n",
       "    </tr>\n",
       "  </thead>\n",
       "  <tbody>\n",
       "    <tr>\n",
       "      <td>2017-12-19 14:07:18+00:00</td>\n",
       "      <td>T-DHT22</td>\n",
       "      <td>25.5</td>\n",
       "      <td>H-DHT22</td>\n",
       "      <td>15.7</td>\n",
       "    </tr>\n",
       "    <tr>\n",
       "      <td>2017-12-19 14:07:25+00:00</td>\n",
       "      <td>T-DHT22</td>\n",
       "      <td>25.5</td>\n",
       "      <td>H-DHT22</td>\n",
       "      <td>15.7</td>\n",
       "    </tr>\n",
       "    <tr>\n",
       "      <td>2017-12-19 14:07:32+00:00</td>\n",
       "      <td>T-DHT22</td>\n",
       "      <td>25.6</td>\n",
       "      <td>H-DHT22</td>\n",
       "      <td>15.7</td>\n",
       "    </tr>\n",
       "    <tr>\n",
       "      <td>2017-12-19 14:07:38+00:00</td>\n",
       "      <td>T-DHT22</td>\n",
       "      <td>25.6</td>\n",
       "      <td>H-DHT22</td>\n",
       "      <td>15.7</td>\n",
       "    </tr>\n",
       "    <tr>\n",
       "      <td>2017-12-19 14:07:45+00:00</td>\n",
       "      <td>T-DHT22</td>\n",
       "      <td>25.6</td>\n",
       "      <td>H-DHT22</td>\n",
       "      <td>15.7</td>\n",
       "    </tr>\n",
       "  </tbody>\n",
       "</table>\n",
       "</div>"
      ],
      "text/plain": [
       "                          sensor_x  value_x sensor_y  value_y\n",
       "time                                                         \n",
       "2017-12-19 14:07:18+00:00  T-DHT22     25.5  H-DHT22     15.7\n",
       "2017-12-19 14:07:25+00:00  T-DHT22     25.5  H-DHT22     15.7\n",
       "2017-12-19 14:07:32+00:00  T-DHT22     25.6  H-DHT22     15.7\n",
       "2017-12-19 14:07:38+00:00  T-DHT22     25.6  H-DHT22     15.7\n",
       "2017-12-19 14:07:45+00:00  T-DHT22     25.6  H-DHT22     15.7"
      ]
     },
     "execution_count": 13,
     "metadata": {},
     "output_type": "execute_result"
    }
   ],
   "source": [
    "# Merge data frame base on time columns\n",
    "newdf = pd.merge(t_DHT22, h_DHT22, on = 'time', how='outer')\n",
    "# Set time as a index of data frame\n",
    "newdf.set_index('time', inplace=True)\n",
    "newdf.head()"
   ]
  },
  {
   "cell_type": "code",
   "execution_count": 14,
   "metadata": {
    "scrolled": false
   },
   "outputs": [
    {
     "name": "stdout",
     "output_type": "stream",
     "text": [
      "<class 'pandas.core.frame.DataFrame'>\n",
      "DatetimeIndex: 1522253 entries, 2017-12-19 14:07:18+00:00 to 2018-03-13 11:38:20+00:00\n",
      "Data columns (total 4 columns):\n",
      "sensor_x    1440150 non-null object\n",
      "value_x     1440150 non-null float64\n",
      "sensor_y    1440160 non-null object\n",
      "value_y     1440160 non-null float64\n",
      "dtypes: float64(2), object(2)\n",
      "memory usage: 58.1+ MB\n"
     ]
    }
   ],
   "source": [
    "#general information\n",
    "newdf.info()"
   ]
  },
  {
   "cell_type": "markdown",
   "metadata": {},
   "source": [
    "we conclude that the data frame after merging has 1522253 rows.\n",
    "T_DHT22 and H_DHT22 respectively has 1440150 and 1440160 data\n",
    "we have missing data in each column. "
   ]
  },
  {
   "cell_type": "code",
   "execution_count": 15,
   "metadata": {},
   "outputs": [
    {
     "data": {
      "text/plain": [
       "sensor_x    82103\n",
       "value_x     82103\n",
       "sensor_y    82093\n",
       "value_y     82093\n",
       "dtype: int64"
      ]
     },
     "execution_count": 15,
     "metadata": {},
     "output_type": "execute_result"
    }
   ],
   "source": [
    "# check and print the number of empty cells (missing data) in each coulmn \n",
    "newdf.isnull().sum()"
   ]
  },
  {
   "cell_type": "code",
   "execution_count": 16,
   "metadata": {
    "scrolled": true
   },
   "outputs": [
    {
     "data": {
      "text/html": [
       "<div>\n",
       "<style scoped>\n",
       "    .dataframe tbody tr th:only-of-type {\n",
       "        vertical-align: middle;\n",
       "    }\n",
       "\n",
       "    .dataframe tbody tr th {\n",
       "        vertical-align: top;\n",
       "    }\n",
       "\n",
       "    .dataframe thead th {\n",
       "        text-align: right;\n",
       "    }\n",
       "</style>\n",
       "<table border=\"1\" class=\"dataframe\">\n",
       "  <thead>\n",
       "    <tr style=\"text-align: right;\">\n",
       "      <th></th>\n",
       "      <th>sensor_x</th>\n",
       "      <th>value_x</th>\n",
       "      <th>sensor_y</th>\n",
       "      <th>value_y</th>\n",
       "    </tr>\n",
       "    <tr>\n",
       "      <th>time</th>\n",
       "      <th></th>\n",
       "      <th></th>\n",
       "      <th></th>\n",
       "      <th></th>\n",
       "    </tr>\n",
       "  </thead>\n",
       "  <tbody>\n",
       "    <tr>\n",
       "      <td>2017-12-19 15:47:36+00:00</td>\n",
       "      <td>T-DHT22</td>\n",
       "      <td>27.0</td>\n",
       "      <td>H-DHT22</td>\n",
       "      <td>2.0</td>\n",
       "    </tr>\n",
       "    <tr>\n",
       "      <td>2017-12-19 15:47:43+00:00</td>\n",
       "      <td>T-DHT22</td>\n",
       "      <td>27.0</td>\n",
       "      <td>H-DHT22</td>\n",
       "      <td>2.0</td>\n",
       "    </tr>\n",
       "    <tr>\n",
       "      <td>2017-12-19 15:47:50+00:00</td>\n",
       "      <td>T-DHT22</td>\n",
       "      <td>27.0</td>\n",
       "      <td>H-DHT22</td>\n",
       "      <td>1.8</td>\n",
       "    </tr>\n",
       "    <tr>\n",
       "      <td>2017-12-19 15:47:56+00:00</td>\n",
       "      <td>T-DHT22</td>\n",
       "      <td>27.0</td>\n",
       "      <td>NaN</td>\n",
       "      <td>NaN</td>\n",
       "    </tr>\n",
       "    <tr>\n",
       "      <td>2017-12-19 15:48:03+00:00</td>\n",
       "      <td>T-DHT22</td>\n",
       "      <td>27.0</td>\n",
       "      <td>H-DHT22</td>\n",
       "      <td>1.7</td>\n",
       "    </tr>\n",
       "    <tr>\n",
       "      <td>2017-12-19 15:48:10+00:00</td>\n",
       "      <td>T-DHT22</td>\n",
       "      <td>27.0</td>\n",
       "      <td>H-DHT22</td>\n",
       "      <td>2.2</td>\n",
       "    </tr>\n",
       "    <tr>\n",
       "      <td>2017-12-19 15:48:17+00:00</td>\n",
       "      <td>T-DHT22</td>\n",
       "      <td>27.0</td>\n",
       "      <td>H-DHT22</td>\n",
       "      <td>2.1</td>\n",
       "    </tr>\n",
       "    <tr>\n",
       "      <td>2017-12-19 15:48:24+00:00</td>\n",
       "      <td>T-DHT22</td>\n",
       "      <td>27.0</td>\n",
       "      <td>H-DHT22</td>\n",
       "      <td>2.4</td>\n",
       "    </tr>\n",
       "    <tr>\n",
       "      <td>2017-12-19 15:48:30+00:00</td>\n",
       "      <td>T-DHT22</td>\n",
       "      <td>27.0</td>\n",
       "      <td>H-DHT22</td>\n",
       "      <td>2.4</td>\n",
       "    </tr>\n",
       "    <tr>\n",
       "      <td>2017-12-19 15:48:37+00:00</td>\n",
       "      <td>T-DHT22</td>\n",
       "      <td>27.1</td>\n",
       "      <td>H-DHT22</td>\n",
       "      <td>2.3</td>\n",
       "    </tr>\n",
       "    <tr>\n",
       "      <td>2017-12-19 15:48:44+00:00</td>\n",
       "      <td>T-DHT22</td>\n",
       "      <td>27.0</td>\n",
       "      <td>H-DHT22</td>\n",
       "      <td>1.6</td>\n",
       "    </tr>\n",
       "    <tr>\n",
       "      <td>2017-12-19 15:48:51+00:00</td>\n",
       "      <td>T-DHT22</td>\n",
       "      <td>27.1</td>\n",
       "      <td>H-DHT22</td>\n",
       "      <td>1.8</td>\n",
       "    </tr>\n",
       "    <tr>\n",
       "      <td>2017-12-19 15:48:57+00:00</td>\n",
       "      <td>T-DHT22</td>\n",
       "      <td>27.1</td>\n",
       "      <td>H-DHT22</td>\n",
       "      <td>2.3</td>\n",
       "    </tr>\n",
       "    <tr>\n",
       "      <td>2017-12-19 15:49:04+00:00</td>\n",
       "      <td>T-DHT22</td>\n",
       "      <td>27.1</td>\n",
       "      <td>H-DHT22</td>\n",
       "      <td>2.2</td>\n",
       "    </tr>\n",
       "    <tr>\n",
       "      <td>2017-12-19 15:49:11+00:00</td>\n",
       "      <td>T-DHT22</td>\n",
       "      <td>27.1</td>\n",
       "      <td>H-DHT22</td>\n",
       "      <td>2.4</td>\n",
       "    </tr>\n",
       "    <tr>\n",
       "      <td>2017-12-19 15:49:18+00:00</td>\n",
       "      <td>T-DHT22</td>\n",
       "      <td>27.1</td>\n",
       "      <td>H-DHT22</td>\n",
       "      <td>2.3</td>\n",
       "    </tr>\n",
       "    <tr>\n",
       "      <td>2017-12-19 15:49:24+00:00</td>\n",
       "      <td>T-DHT22</td>\n",
       "      <td>27.1</td>\n",
       "      <td>NaN</td>\n",
       "      <td>NaN</td>\n",
       "    </tr>\n",
       "    <tr>\n",
       "      <td>2017-12-19 15:49:31+00:00</td>\n",
       "      <td>T-DHT22</td>\n",
       "      <td>27.1</td>\n",
       "      <td>H-DHT22</td>\n",
       "      <td>2.2</td>\n",
       "    </tr>\n",
       "    <tr>\n",
       "      <td>2017-12-19 15:49:38+00:00</td>\n",
       "      <td>T-DHT22</td>\n",
       "      <td>27.1</td>\n",
       "      <td>H-DHT22</td>\n",
       "      <td>2.3</td>\n",
       "    </tr>\n",
       "    <tr>\n",
       "      <td>2017-12-19 15:49:45+00:00</td>\n",
       "      <td>T-DHT22</td>\n",
       "      <td>27.1</td>\n",
       "      <td>H-DHT22</td>\n",
       "      <td>2.3</td>\n",
       "    </tr>\n",
       "  </tbody>\n",
       "</table>\n",
       "</div>"
      ],
      "text/plain": [
       "                          sensor_x  value_x sensor_y  value_y\n",
       "time                                                         \n",
       "2017-12-19 15:47:36+00:00  T-DHT22     27.0  H-DHT22      2.0\n",
       "2017-12-19 15:47:43+00:00  T-DHT22     27.0  H-DHT22      2.0\n",
       "2017-12-19 15:47:50+00:00  T-DHT22     27.0  H-DHT22      1.8\n",
       "2017-12-19 15:47:56+00:00  T-DHT22     27.0      NaN      NaN\n",
       "2017-12-19 15:48:03+00:00  T-DHT22     27.0  H-DHT22      1.7\n",
       "2017-12-19 15:48:10+00:00  T-DHT22     27.0  H-DHT22      2.2\n",
       "2017-12-19 15:48:17+00:00  T-DHT22     27.0  H-DHT22      2.1\n",
       "2017-12-19 15:48:24+00:00  T-DHT22     27.0  H-DHT22      2.4\n",
       "2017-12-19 15:48:30+00:00  T-DHT22     27.0  H-DHT22      2.4\n",
       "2017-12-19 15:48:37+00:00  T-DHT22     27.1  H-DHT22      2.3\n",
       "2017-12-19 15:48:44+00:00  T-DHT22     27.0  H-DHT22      1.6\n",
       "2017-12-19 15:48:51+00:00  T-DHT22     27.1  H-DHT22      1.8\n",
       "2017-12-19 15:48:57+00:00  T-DHT22     27.1  H-DHT22      2.3\n",
       "2017-12-19 15:49:04+00:00  T-DHT22     27.1  H-DHT22      2.2\n",
       "2017-12-19 15:49:11+00:00  T-DHT22     27.1  H-DHT22      2.4\n",
       "2017-12-19 15:49:18+00:00  T-DHT22     27.1  H-DHT22      2.3\n",
       "2017-12-19 15:49:24+00:00  T-DHT22     27.1      NaN      NaN\n",
       "2017-12-19 15:49:31+00:00  T-DHT22     27.1  H-DHT22      2.2\n",
       "2017-12-19 15:49:38+00:00  T-DHT22     27.1  H-DHT22      2.3\n",
       "2017-12-19 15:49:45+00:00  T-DHT22     27.1  H-DHT22      2.3"
      ]
     },
     "execution_count": 16,
     "metadata": {},
     "output_type": "execute_result"
    }
   ],
   "source": [
    "newdf.iloc[200:220]"
   ]
  },
  {
   "cell_type": "markdown",
   "metadata": {},
   "source": []
  },
  {
   "cell_type": "code",
   "execution_count": 21,
   "metadata": {
    "scrolled": true
   },
   "outputs": [
    {
     "data": {
      "text/html": [
       "<div>\n",
       "<style scoped>\n",
       "    .dataframe tbody tr th:only-of-type {\n",
       "        vertical-align: middle;\n",
       "    }\n",
       "\n",
       "    .dataframe tbody tr th {\n",
       "        vertical-align: top;\n",
       "    }\n",
       "\n",
       "    .dataframe thead th {\n",
       "        text-align: right;\n",
       "    }\n",
       "</style>\n",
       "<table border=\"1\" class=\"dataframe\">\n",
       "  <thead>\n",
       "    <tr style=\"text-align: right;\">\n",
       "      <th></th>\n",
       "      <th>sensor_x</th>\n",
       "      <th>value_x</th>\n",
       "      <th>sensor_y</th>\n",
       "      <th>value_y</th>\n",
       "    </tr>\n",
       "    <tr>\n",
       "      <th>time</th>\n",
       "      <th></th>\n",
       "      <th></th>\n",
       "      <th></th>\n",
       "      <th></th>\n",
       "    </tr>\n",
       "  </thead>\n",
       "  <tbody>\n",
       "    <tr>\n",
       "      <td>2017-12-19 15:47:36+00:00</td>\n",
       "      <td>T-DHT22</td>\n",
       "      <td>27.0</td>\n",
       "      <td>H-DHT22</td>\n",
       "      <td>2.000000</td>\n",
       "    </tr>\n",
       "    <tr>\n",
       "      <td>2017-12-19 15:47:43+00:00</td>\n",
       "      <td>T-DHT22</td>\n",
       "      <td>27.0</td>\n",
       "      <td>H-DHT22</td>\n",
       "      <td>2.000000</td>\n",
       "    </tr>\n",
       "    <tr>\n",
       "      <td>2017-12-19 15:47:50+00:00</td>\n",
       "      <td>T-DHT22</td>\n",
       "      <td>27.0</td>\n",
       "      <td>H-DHT22</td>\n",
       "      <td>1.800000</td>\n",
       "    </tr>\n",
       "    <tr>\n",
       "      <td>2017-12-19 15:47:56+00:00</td>\n",
       "      <td>T-DHT22</td>\n",
       "      <td>27.0</td>\n",
       "      <td>NaN</td>\n",
       "      <td>1.753846</td>\n",
       "    </tr>\n",
       "    <tr>\n",
       "      <td>2017-12-19 15:48:03+00:00</td>\n",
       "      <td>T-DHT22</td>\n",
       "      <td>27.0</td>\n",
       "      <td>H-DHT22</td>\n",
       "      <td>1.700000</td>\n",
       "    </tr>\n",
       "    <tr>\n",
       "      <td>2017-12-19 15:48:10+00:00</td>\n",
       "      <td>T-DHT22</td>\n",
       "      <td>27.0</td>\n",
       "      <td>H-DHT22</td>\n",
       "      <td>2.200000</td>\n",
       "    </tr>\n",
       "    <tr>\n",
       "      <td>2017-12-19 15:48:17+00:00</td>\n",
       "      <td>T-DHT22</td>\n",
       "      <td>27.0</td>\n",
       "      <td>H-DHT22</td>\n",
       "      <td>2.100000</td>\n",
       "    </tr>\n",
       "    <tr>\n",
       "      <td>2017-12-19 15:48:24+00:00</td>\n",
       "      <td>T-DHT22</td>\n",
       "      <td>27.0</td>\n",
       "      <td>H-DHT22</td>\n",
       "      <td>2.400000</td>\n",
       "    </tr>\n",
       "    <tr>\n",
       "      <td>2017-12-19 15:48:30+00:00</td>\n",
       "      <td>T-DHT22</td>\n",
       "      <td>27.0</td>\n",
       "      <td>H-DHT22</td>\n",
       "      <td>2.400000</td>\n",
       "    </tr>\n",
       "    <tr>\n",
       "      <td>2017-12-19 15:48:37+00:00</td>\n",
       "      <td>T-DHT22</td>\n",
       "      <td>27.1</td>\n",
       "      <td>H-DHT22</td>\n",
       "      <td>2.300000</td>\n",
       "    </tr>\n",
       "    <tr>\n",
       "      <td>2017-12-19 15:48:44+00:00</td>\n",
       "      <td>T-DHT22</td>\n",
       "      <td>27.0</td>\n",
       "      <td>H-DHT22</td>\n",
       "      <td>1.600000</td>\n",
       "    </tr>\n",
       "    <tr>\n",
       "      <td>2017-12-19 15:48:51+00:00</td>\n",
       "      <td>T-DHT22</td>\n",
       "      <td>27.1</td>\n",
       "      <td>H-DHT22</td>\n",
       "      <td>1.800000</td>\n",
       "    </tr>\n",
       "    <tr>\n",
       "      <td>2017-12-19 15:48:57+00:00</td>\n",
       "      <td>T-DHT22</td>\n",
       "      <td>27.1</td>\n",
       "      <td>H-DHT22</td>\n",
       "      <td>2.300000</td>\n",
       "    </tr>\n",
       "    <tr>\n",
       "      <td>2017-12-19 15:49:04+00:00</td>\n",
       "      <td>T-DHT22</td>\n",
       "      <td>27.1</td>\n",
       "      <td>H-DHT22</td>\n",
       "      <td>2.200000</td>\n",
       "    </tr>\n",
       "    <tr>\n",
       "      <td>2017-12-19 15:49:11+00:00</td>\n",
       "      <td>T-DHT22</td>\n",
       "      <td>27.1</td>\n",
       "      <td>H-DHT22</td>\n",
       "      <td>2.400000</td>\n",
       "    </tr>\n",
       "    <tr>\n",
       "      <td>2017-12-19 15:49:18+00:00</td>\n",
       "      <td>T-DHT22</td>\n",
       "      <td>27.1</td>\n",
       "      <td>H-DHT22</td>\n",
       "      <td>2.300000</td>\n",
       "    </tr>\n",
       "    <tr>\n",
       "      <td>2017-12-19 15:49:24+00:00</td>\n",
       "      <td>T-DHT22</td>\n",
       "      <td>27.1</td>\n",
       "      <td>NaN</td>\n",
       "      <td>2.253846</td>\n",
       "    </tr>\n",
       "    <tr>\n",
       "      <td>2017-12-19 15:49:31+00:00</td>\n",
       "      <td>T-DHT22</td>\n",
       "      <td>27.1</td>\n",
       "      <td>H-DHT22</td>\n",
       "      <td>2.200000</td>\n",
       "    </tr>\n",
       "    <tr>\n",
       "      <td>2017-12-19 15:49:38+00:00</td>\n",
       "      <td>T-DHT22</td>\n",
       "      <td>27.1</td>\n",
       "      <td>H-DHT22</td>\n",
       "      <td>2.300000</td>\n",
       "    </tr>\n",
       "    <tr>\n",
       "      <td>2017-12-19 15:49:45+00:00</td>\n",
       "      <td>T-DHT22</td>\n",
       "      <td>27.1</td>\n",
       "      <td>H-DHT22</td>\n",
       "      <td>2.300000</td>\n",
       "    </tr>\n",
       "  </tbody>\n",
       "</table>\n",
       "</div>"
      ],
      "text/plain": [
       "                          sensor_x  value_x sensor_y   value_y\n",
       "time                                                          \n",
       "2017-12-19 15:47:36+00:00  T-DHT22     27.0  H-DHT22  2.000000\n",
       "2017-12-19 15:47:43+00:00  T-DHT22     27.0  H-DHT22  2.000000\n",
       "2017-12-19 15:47:50+00:00  T-DHT22     27.0  H-DHT22  1.800000\n",
       "2017-12-19 15:47:56+00:00  T-DHT22     27.0      NaN  1.753846\n",
       "2017-12-19 15:48:03+00:00  T-DHT22     27.0  H-DHT22  1.700000\n",
       "2017-12-19 15:48:10+00:00  T-DHT22     27.0  H-DHT22  2.200000\n",
       "2017-12-19 15:48:17+00:00  T-DHT22     27.0  H-DHT22  2.100000\n",
       "2017-12-19 15:48:24+00:00  T-DHT22     27.0  H-DHT22  2.400000\n",
       "2017-12-19 15:48:30+00:00  T-DHT22     27.0  H-DHT22  2.400000\n",
       "2017-12-19 15:48:37+00:00  T-DHT22     27.1  H-DHT22  2.300000\n",
       "2017-12-19 15:48:44+00:00  T-DHT22     27.0  H-DHT22  1.600000\n",
       "2017-12-19 15:48:51+00:00  T-DHT22     27.1  H-DHT22  1.800000\n",
       "2017-12-19 15:48:57+00:00  T-DHT22     27.1  H-DHT22  2.300000\n",
       "2017-12-19 15:49:04+00:00  T-DHT22     27.1  H-DHT22  2.200000\n",
       "2017-12-19 15:49:11+00:00  T-DHT22     27.1  H-DHT22  2.400000\n",
       "2017-12-19 15:49:18+00:00  T-DHT22     27.1  H-DHT22  2.300000\n",
       "2017-12-19 15:49:24+00:00  T-DHT22     27.1      NaN  2.253846\n",
       "2017-12-19 15:49:31+00:00  T-DHT22     27.1  H-DHT22  2.200000\n",
       "2017-12-19 15:49:38+00:00  T-DHT22     27.1  H-DHT22  2.300000\n",
       "2017-12-19 15:49:45+00:00  T-DHT22     27.1  H-DHT22  2.300000"
      ]
     },
     "execution_count": 21,
     "metadata": {},
     "output_type": "execute_result"
    }
   ],
   "source": [
    "# here we have used interpolation to handle the missing data \n",
    "newdf.interpolate(method='time', inplace=True)\n",
    "newdf.iloc[200:220]"
   ]
  },
  {
   "cell_type": "code",
   "execution_count": 22,
   "metadata": {
    "scrolled": true
   },
   "outputs": [
    {
     "data": {
      "text/html": [
       "<div>\n",
       "<style scoped>\n",
       "    .dataframe tbody tr th:only-of-type {\n",
       "        vertical-align: middle;\n",
       "    }\n",
       "\n",
       "    .dataframe tbody tr th {\n",
       "        vertical-align: top;\n",
       "    }\n",
       "\n",
       "    .dataframe thead th {\n",
       "        text-align: right;\n",
       "    }\n",
       "</style>\n",
       "<table border=\"1\" class=\"dataframe\">\n",
       "  <thead>\n",
       "    <tr style=\"text-align: right;\">\n",
       "      <th></th>\n",
       "      <th>value_x</th>\n",
       "      <th>value_y</th>\n",
       "    </tr>\n",
       "  </thead>\n",
       "  <tbody>\n",
       "    <tr>\n",
       "      <td>count</td>\n",
       "      <td>1.522253e+06</td>\n",
       "      <td>1.522253e+06</td>\n",
       "    </tr>\n",
       "    <tr>\n",
       "      <td>mean</td>\n",
       "      <td>2.298896e+01</td>\n",
       "      <td>1.001344e+00</td>\n",
       "    </tr>\n",
       "    <tr>\n",
       "      <td>std</td>\n",
       "      <td>2.492273e+00</td>\n",
       "      <td>1.943594e-01</td>\n",
       "    </tr>\n",
       "    <tr>\n",
       "      <td>min</td>\n",
       "      <td>1.670000e+01</td>\n",
       "      <td>1.000000e+00</td>\n",
       "    </tr>\n",
       "    <tr>\n",
       "      <td>25%</td>\n",
       "      <td>2.170000e+01</td>\n",
       "      <td>1.000000e+00</td>\n",
       "    </tr>\n",
       "    <tr>\n",
       "      <td>50%</td>\n",
       "      <td>2.330000e+01</td>\n",
       "      <td>1.000000e+00</td>\n",
       "    </tr>\n",
       "    <tr>\n",
       "      <td>75%</td>\n",
       "      <td>2.480000e+01</td>\n",
       "      <td>1.000000e+00</td>\n",
       "    </tr>\n",
       "    <tr>\n",
       "      <td>max</td>\n",
       "      <td>2.980000e+01</td>\n",
       "      <td>9.990000e+01</td>\n",
       "    </tr>\n",
       "  </tbody>\n",
       "</table>\n",
       "</div>"
      ],
      "text/plain": [
       "            value_x       value_y\n",
       "count  1.522253e+06  1.522253e+06\n",
       "mean   2.298896e+01  1.001344e+00\n",
       "std    2.492273e+00  1.943594e-01\n",
       "min    1.670000e+01  1.000000e+00\n",
       "25%    2.170000e+01  1.000000e+00\n",
       "50%    2.330000e+01  1.000000e+00\n",
       "75%    2.480000e+01  1.000000e+00\n",
       "max    2.980000e+01  9.990000e+01"
      ]
     },
     "execution_count": 22,
     "metadata": {},
     "output_type": "execute_result"
    }
   ],
   "source": [
    "#statistical information of data frame\n",
    "newdf.describe()"
   ]
  },
  {
   "cell_type": "code",
   "execution_count": 23,
   "metadata": {},
   "outputs": [
    {
     "data": {
      "text/plain": [
       "<matplotlib.axes._subplots.AxesSubplot at 0x1260bc1d0>"
      ]
     },
     "execution_count": 23,
     "metadata": {},
     "output_type": "execute_result"
    },
    {
     "data": {
      "image/png": "[encoded data removed]",
      "text/plain": [
       "<Figure size 432x288 with 1 Axes>"
      ]
     },
     "metadata": {
      "needs_background": "light"
     },
     "output_type": "display_data"
    }
   ],
   "source": [
    "# plot the avarage temp based on the time \n",
    "%matplotlib inline\n",
    "newdf.resample('D').mean().plot()"
   ]
  },
  {
   "cell_type": "code",
   "execution_count": 24,
   "metadata": {
    "scrolled": true
   },
   "outputs": [
    {
     "data": {
      "text/plain": [
       "<matplotlib.axes._subplots.AxesSubplot at 0x17bd3e390>"
      ]
     },
     "execution_count": 24,
     "metadata": {},
     "output_type": "execute_result"
    },
    {
     "data": {
      "image/png": "[encoded data removed]",
      "text/plain": [
       "<Figure size 432x288 with 1 Axes>"
      ]
     },
     "metadata": {
      "needs_background": "light"
     },
     "output_type": "display_data"
    }
   ],
   "source": [
    "# plot the average humidity based on the time\n",
    "newdf.resample('D').mean().plot()"
   ]
  },
  {
   "cell_type": "markdown",
   "metadata": {},
   "source": [
    "as we can see we have missing data in temperature and humidity graphs,"
   ]
  },
  {
   "cell_type": "markdown",
   "metadata": {},
   "source": [
    "### ---------------------------------------------------------------------------------------\n",
    "### ---------------------------------------------------------------------------------------"
   ]
  },
  {
   "cell_type": "markdown",
   "metadata": {},
   "source": [
    "#### 1. Temperature File for (T-DHT11) sensor "
   ]
  },
  {
   "cell_type": "code",
   "execution_count": 25,
   "metadata": {},
   "outputs": [
    {
     "data": {
      "text/html": [
       "<div>\n",
       "<style scoped>\n",
       "    .dataframe tbody tr th:only-of-type {\n",
       "        vertical-align: middle;\n",
       "    }\n",
       "\n",
       "    .dataframe tbody tr th {\n",
       "        vertical-align: top;\n",
       "    }\n",
       "\n",
       "    .dataframe thead th {\n",
       "        text-align: right;\n",
       "    }\n",
       "</style>\n",
       "<table border=\"1\" class=\"dataframe\">\n",
       "  <thead>\n",
       "    <tr style=\"text-align: right;\">\n",
       "      <th></th>\n",
       "      <th>sensor</th>\n",
       "      <th>value</th>\n",
       "      <th>time</th>\n",
       "    </tr>\n",
       "  </thead>\n",
       "  <tbody>\n",
       "    <tr>\n",
       "      <td>0</td>\n",
       "      <td>T-DHT11</td>\n",
       "      <td>27</td>\n",
       "      <td>2017-12-22 11:22:11+00:00</td>\n",
       "    </tr>\n",
       "    <tr>\n",
       "      <td>1</td>\n",
       "      <td>T-DHT11</td>\n",
       "      <td>28</td>\n",
       "      <td>2017-12-22 11:22:16+00:00</td>\n",
       "    </tr>\n",
       "    <tr>\n",
       "      <td>2</td>\n",
       "      <td>T-DHT11</td>\n",
       "      <td>28</td>\n",
       "      <td>2017-12-22 11:22:20+00:00</td>\n",
       "    </tr>\n",
       "    <tr>\n",
       "      <td>3</td>\n",
       "      <td>T-DHT11</td>\n",
       "      <td>28</td>\n",
       "      <td>2017-12-22 11:22:24+00:00</td>\n",
       "    </tr>\n",
       "    <tr>\n",
       "      <td>4</td>\n",
       "      <td>T-DHT11</td>\n",
       "      <td>28</td>\n",
       "      <td>2017-12-22 11:22:28+00:00</td>\n",
       "    </tr>\n",
       "  </tbody>\n",
       "</table>\n",
       "</div>"
      ],
      "text/plain": [
       "    sensor  value                      time\n",
       "0  T-DHT11     27 2017-12-22 11:22:11+00:00\n",
       "1  T-DHT11     28 2017-12-22 11:22:16+00:00\n",
       "2  T-DHT11     28 2017-12-22 11:22:20+00:00\n",
       "3  T-DHT11     28 2017-12-22 11:22:24+00:00\n",
       "4  T-DHT11     28 2017-12-22 11:22:28+00:00"
      ]
     },
     "execution_count": 25,
     "metadata": {},
     "output_type": "execute_result"
    }
   ],
   "source": [
    "# Reading the file\n",
    "t_DHT11 = pd.read_csv('../data/raw/T-DHT11-measures.csv', parse_dates = ['time'])\n",
    "t_DHT11.head()"
   ]
  },
  {
   "cell_type": "code",
   "execution_count": 26,
   "metadata": {},
   "outputs": [
    {
     "data": {
      "text/plain": [
       "pandas._libs.tslibs.timestamps.Timestamp"
      ]
     },
     "execution_count": 26,
     "metadata": {},
     "output_type": "execute_result"
    }
   ],
   "source": [
    "type(t_DHT11.time[0])"
   ]
  },
  {
   "cell_type": "code",
   "execution_count": 27,
   "metadata": {},
   "outputs": [
    {
     "name": "stdout",
     "output_type": "stream",
     "text": [
      "<class 'pandas.core.frame.DataFrame'>\n",
      "RangeIndex: 1420308 entries, 0 to 1420307\n",
      "Data columns (total 3 columns):\n",
      "sensor    1420308 non-null object\n",
      "value     1420308 non-null int64\n",
      "time      1420308 non-null datetime64[ns, UTC]\n",
      "dtypes: datetime64[ns, UTC](1), int64(1), object(1)\n",
      "memory usage: 32.5+ MB\n"
     ]
    }
   ],
   "source": [
    "# General Information \n",
    "t_DHT11.info()"
   ]
  },
  {
   "cell_type": "code",
   "execution_count": 28,
   "metadata": {},
   "outputs": [
    {
     "data": {
      "text/plain": [
       "T-DHT11    1420308\n",
       "Name: sensor, dtype: int64"
      ]
     },
     "execution_count": 28,
     "metadata": {},
     "output_type": "execute_result"
    }
   ],
   "source": [
    "# number of rows in the file\n",
    "t_DHT11.sensor.value_counts()"
   ]
  },
  {
   "cell_type": "code",
   "execution_count": 29,
   "metadata": {},
   "outputs": [
    {
     "data": {
      "text/plain": [
       "sensor    0\n",
       "value     0\n",
       "time      0\n",
       "dtype: int64"
      ]
     },
     "execution_count": 29,
     "metadata": {},
     "output_type": "execute_result"
    }
   ],
   "source": [
    "# check and print the number of empty cells (missing data) in each coulmn \n",
    "t_DHT11.isnull().sum()"
   ]
  },
  {
   "cell_type": "code",
   "execution_count": 30,
   "metadata": {},
   "outputs": [
    {
     "data": {
      "text/html": [
       "<div>\n",
       "<style scoped>\n",
       "    .dataframe tbody tr th:only-of-type {\n",
       "        vertical-align: middle;\n",
       "    }\n",
       "\n",
       "    .dataframe tbody tr th {\n",
       "        vertical-align: top;\n",
       "    }\n",
       "\n",
       "    .dataframe thead th {\n",
       "        text-align: right;\n",
       "    }\n",
       "</style>\n",
       "<table border=\"1\" class=\"dataframe\">\n",
       "  <thead>\n",
       "    <tr style=\"text-align: right;\">\n",
       "      <th></th>\n",
       "      <th>value</th>\n",
       "    </tr>\n",
       "  </thead>\n",
       "  <tbody>\n",
       "    <tr>\n",
       "      <td>count</td>\n",
       "      <td>1.420308e+06</td>\n",
       "    </tr>\n",
       "    <tr>\n",
       "      <td>mean</td>\n",
       "      <td>2.124776e+01</td>\n",
       "    </tr>\n",
       "    <tr>\n",
       "      <td>std</td>\n",
       "      <td>2.492706e+00</td>\n",
       "    </tr>\n",
       "    <tr>\n",
       "      <td>min</td>\n",
       "      <td>1.500000e+01</td>\n",
       "    </tr>\n",
       "    <tr>\n",
       "      <td>25%</td>\n",
       "      <td>2.000000e+01</td>\n",
       "    </tr>\n",
       "    <tr>\n",
       "      <td>50%</td>\n",
       "      <td>2.200000e+01</td>\n",
       "    </tr>\n",
       "    <tr>\n",
       "      <td>75%</td>\n",
       "      <td>2.300000e+01</td>\n",
       "    </tr>\n",
       "    <tr>\n",
       "      <td>max</td>\n",
       "      <td>2.900000e+01</td>\n",
       "    </tr>\n",
       "  </tbody>\n",
       "</table>\n",
       "</div>"
      ],
      "text/plain": [
       "              value\n",
       "count  1.420308e+06\n",
       "mean   2.124776e+01\n",
       "std    2.492706e+00\n",
       "min    1.500000e+01\n",
       "25%    2.000000e+01\n",
       "50%    2.200000e+01\n",
       "75%    2.300000e+01\n",
       "max    2.900000e+01"
      ]
     },
     "execution_count": 30,
     "metadata": {},
     "output_type": "execute_result"
    }
   ],
   "source": [
    "t_DHT11.describe()"
   ]
  },
  {
   "cell_type": "code",
   "execution_count": 31,
   "metadata": {},
   "outputs": [
    {
     "data": {
      "text/plain": [
       "<matplotlib.axes._subplots.AxesSubplot at 0x1261fec10>"
      ]
     },
     "execution_count": 31,
     "metadata": {},
     "output_type": "execute_result"
    },
    {
     "data": {
      "image/png": "[encoded data removed]",
      "text/plain": [
       "<Figure size 432x288 with 1 Axes>"
      ]
     },
     "metadata": {
      "needs_background": "light"
     },
     "output_type": "display_data"
    }
   ],
   "source": [
    "# plot temperature for this sensor \n",
    "t_DHT11.plot.line(x='time', y='value')"
   ]
  },
  {
   "cell_type": "markdown",
   "metadata": {},
   "source": [
    "### 2. Humidity File (H-DHT11)\n"
   ]
  },
  {
   "cell_type": "code",
   "execution_count": 32,
   "metadata": {},
   "outputs": [
    {
     "data": {
      "text/html": [
       "<div>\n",
       "<style scoped>\n",
       "    .dataframe tbody tr th:only-of-type {\n",
       "        vertical-align: middle;\n",
       "    }\n",
       "\n",
       "    .dataframe tbody tr th {\n",
       "        vertical-align: top;\n",
       "    }\n",
       "\n",
       "    .dataframe thead th {\n",
       "        text-align: right;\n",
       "    }\n",
       "</style>\n",
       "<table border=\"1\" class=\"dataframe\">\n",
       "  <thead>\n",
       "    <tr style=\"text-align: right;\">\n",
       "      <th></th>\n",
       "      <th>sensor</th>\n",
       "      <th>value</th>\n",
       "      <th>time</th>\n",
       "    </tr>\n",
       "  </thead>\n",
       "  <tbody>\n",
       "    <tr>\n",
       "      <td>0</td>\n",
       "      <td>H-DHT11</td>\n",
       "      <td>31</td>\n",
       "      <td>2017-12-22T11:22:11Z</td>\n",
       "    </tr>\n",
       "    <tr>\n",
       "      <td>1</td>\n",
       "      <td>H-DHT11</td>\n",
       "      <td>31</td>\n",
       "      <td>2017-12-22T11:22:16Z</td>\n",
       "    </tr>\n",
       "    <tr>\n",
       "      <td>2</td>\n",
       "      <td>H-DHT11</td>\n",
       "      <td>31</td>\n",
       "      <td>2017-12-22T11:22:20Z</td>\n",
       "    </tr>\n",
       "    <tr>\n",
       "      <td>3</td>\n",
       "      <td>H-DHT11</td>\n",
       "      <td>31</td>\n",
       "      <td>2017-12-22T11:22:24Z</td>\n",
       "    </tr>\n",
       "    <tr>\n",
       "      <td>4</td>\n",
       "      <td>H-DHT11</td>\n",
       "      <td>31</td>\n",
       "      <td>2017-12-22T11:22:28Z</td>\n",
       "    </tr>\n",
       "  </tbody>\n",
       "</table>\n",
       "</div>"
      ],
      "text/plain": [
       "    sensor  value                  time\n",
       "0  H-DHT11     31  2017-12-22T11:22:11Z\n",
       "1  H-DHT11     31  2017-12-22T11:22:16Z\n",
       "2  H-DHT11     31  2017-12-22T11:22:20Z\n",
       "3  H-DHT11     31  2017-12-22T11:22:24Z\n",
       "4  H-DHT11     31  2017-12-22T11:22:28Z"
      ]
     },
     "execution_count": 32,
     "metadata": {},
     "output_type": "execute_result"
    }
   ],
   "source": [
    "# reading the JSON file and convert it to csv \n",
    "data = []\n",
    "with open('../data/raw/H-DHT11-measures.json','r') as f:\n",
    "    for line in f:\n",
    "        data.append(json.loads(line))\n",
    "\n",
    "h_DHT11 = pd.DataFrame(data)\n",
    "h_DHT11.to_csv (r'../data/raw/H-DHT11-measures.csv', index = None)\n",
    "h_DHT11.head()"
   ]
  },
  {
   "cell_type": "code",
   "execution_count": 33,
   "metadata": {},
   "outputs": [
    {
     "data": {
      "text/plain": [
       "str"
      ]
     },
     "execution_count": 33,
     "metadata": {},
     "output_type": "execute_result"
    }
   ],
   "source": [
    "type(h_DHT11.time[0])"
   ]
  },
  {
   "cell_type": "code",
   "execution_count": 34,
   "metadata": {},
   "outputs": [],
   "source": [
    "#convert the type of time from object into datetime64[ns, UTC]\n",
    "h_DHT11['time'] = pd.to_datetime(h_DHT11['time'])\n"
   ]
  },
  {
   "cell_type": "code",
   "execution_count": 35,
   "metadata": {},
   "outputs": [
    {
     "name": "stdout",
     "output_type": "stream",
     "text": [
      "<class 'pandas.core.frame.DataFrame'>\n",
      "RangeIndex: 1420302 entries, 0 to 1420301\n",
      "Data columns (total 3 columns):\n",
      "sensor    1420302 non-null object\n",
      "value     1420302 non-null int64\n",
      "time      1420302 non-null datetime64[ns, UTC]\n",
      "dtypes: datetime64[ns, UTC](1), int64(1), object(1)\n",
      "memory usage: 32.5+ MB\n"
     ]
    }
   ],
   "source": [
    "h_DHT11.info()"
   ]
  },
  {
   "cell_type": "code",
   "execution_count": 37,
   "metadata": {},
   "outputs": [
    {
     "data": {
      "text/plain": [
       "H-DHT11    1420302\n",
       "Name: sensor, dtype: int64"
      ]
     },
     "execution_count": 37,
     "metadata": {},
     "output_type": "execute_result"
    }
   ],
   "source": [
    "h_DHT11.sensor.value_counts()"
   ]
  },
  {
   "cell_type": "code",
   "execution_count": 38,
   "metadata": {},
   "outputs": [
    {
     "data": {
      "text/plain": [
       "sensor    0\n",
       "value     0\n",
       "time      0\n",
       "dtype: int64"
      ]
     },
     "execution_count": 38,
     "metadata": {},
     "output_type": "execute_result"
    }
   ],
   "source": [
    "# check and print the number of empty cells (missing data) in each coulmn \n",
    "h_DHT11.isnull().sum()"
   ]
  },
  {
   "cell_type": "code",
   "execution_count": 39,
   "metadata": {},
   "outputs": [
    {
     "data": {
      "text/plain": [
       "<matplotlib.axes._subplots.AxesSubplot at 0x1349c8390>"
      ]
     },
     "execution_count": 39,
     "metadata": {},
     "output_type": "execute_result"
    },
    {
     "data": {
      "image/png": "[encoded data removed]",
      "text/plain": [
       "<Figure size 432x288 with 1 Axes>"
      ]
     },
     "metadata": {
      "needs_background": "light"
     },
     "output_type": "display_data"
    }
   ],
   "source": [
    "#plot humidity for ths sensor \n",
    "h_DHT11.plot.line(x='time', y='value')"
   ]
  },
  {
   "cell_type": "markdown",
   "metadata": {},
   "source": [
    "### 3. Merge temperature and humidity \n"
   ]
  },
  {
   "cell_type": "code",
   "execution_count": 64,
   "metadata": {},
   "outputs": [
    {
     "data": {
      "text/html": [
       "<div>\n",
       "<style scoped>\n",
       "    .dataframe tbody tr th:only-of-type {\n",
       "        vertical-align: middle;\n",
       "    }\n",
       "\n",
       "    .dataframe tbody tr th {\n",
       "        vertical-align: top;\n",
       "    }\n",
       "\n",
       "    .dataframe thead th {\n",
       "        text-align: right;\n",
       "    }\n",
       "</style>\n",
       "<table border=\"1\" class=\"dataframe\">\n",
       "  <thead>\n",
       "    <tr style=\"text-align: right;\">\n",
       "      <th></th>\n",
       "      <th>sensor_x</th>\n",
       "      <th>value_x</th>\n",
       "      <th>sensor_y</th>\n",
       "      <th>value_y</th>\n",
       "    </tr>\n",
       "    <tr>\n",
       "      <th>time</th>\n",
       "      <th></th>\n",
       "      <th></th>\n",
       "      <th></th>\n",
       "      <th></th>\n",
       "    </tr>\n",
       "  </thead>\n",
       "  <tbody>\n",
       "    <tr>\n",
       "      <td>2017-12-22 11:22:11+00:00</td>\n",
       "      <td>T-DHT11</td>\n",
       "      <td>27.0</td>\n",
       "      <td>H-DHT11</td>\n",
       "      <td>31.0</td>\n",
       "    </tr>\n",
       "    <tr>\n",
       "      <td>2017-12-22 11:22:16+00:00</td>\n",
       "      <td>T-DHT11</td>\n",
       "      <td>28.0</td>\n",
       "      <td>H-DHT11</td>\n",
       "      <td>31.0</td>\n",
       "    </tr>\n",
       "    <tr>\n",
       "      <td>2017-12-22 11:22:20+00:00</td>\n",
       "      <td>T-DHT11</td>\n",
       "      <td>28.0</td>\n",
       "      <td>H-DHT11</td>\n",
       "      <td>31.0</td>\n",
       "    </tr>\n",
       "    <tr>\n",
       "      <td>2017-12-22 11:22:24+00:00</td>\n",
       "      <td>T-DHT11</td>\n",
       "      <td>28.0</td>\n",
       "      <td>H-DHT11</td>\n",
       "      <td>31.0</td>\n",
       "    </tr>\n",
       "    <tr>\n",
       "      <td>2017-12-22 11:22:28+00:00</td>\n",
       "      <td>T-DHT11</td>\n",
       "      <td>28.0</td>\n",
       "      <td>H-DHT11</td>\n",
       "      <td>31.0</td>\n",
       "    </tr>\n",
       "  </tbody>\n",
       "</table>\n",
       "</div>"
      ],
      "text/plain": [
       "                          sensor_x  value_x sensor_y  value_y\n",
       "time                                                         \n",
       "2017-12-22 11:22:11+00:00  T-DHT11     27.0  H-DHT11     31.0\n",
       "2017-12-22 11:22:16+00:00  T-DHT11     28.0  H-DHT11     31.0\n",
       "2017-12-22 11:22:20+00:00  T-DHT11     28.0  H-DHT11     31.0\n",
       "2017-12-22 11:22:24+00:00  T-DHT11     28.0  H-DHT11     31.0\n",
       "2017-12-22 11:22:28+00:00  T-DHT11     28.0  H-DHT11     31.0"
      ]
     },
     "execution_count": 64,
     "metadata": {},
     "output_type": "execute_result"
    }
   ],
   "source": [
    "# Merge data base on the time columns\n",
    "newdf1 = pd.merge(t_DHT11, h_DHT11, on = 'time', how='outer')\n",
    "# Set time as a index of data frame\n",
    "newdf1.set_index('time', inplace=True)\n",
    "newdf1.head()"
   ]
  },
  {
   "cell_type": "code",
   "execution_count": 65,
   "metadata": {},
   "outputs": [
    {
     "name": "stdout",
     "output_type": "stream",
     "text": [
      "<class 'pandas.core.frame.DataFrame'>\n",
      "DatetimeIndex: 1501874 entries, 2017-12-22 11:22:11+00:00 to 2018-03-13 11:37:16+00:00\n",
      "Data columns (total 4 columns):\n",
      "sensor_x    1420308 non-null object\n",
      "value_x     1420308 non-null float64\n",
      "sensor_y    1420302 non-null object\n",
      "value_y     1420302 non-null float64\n",
      "dtypes: float64(2), object(2)\n",
      "memory usage: 57.3+ MB\n"
     ]
    }
   ],
   "source": [
    "#general information\n",
    "newdf1.info()"
   ]
  },
  {
   "cell_type": "markdown",
   "metadata": {},
   "source": [
    "as we can see here, we have some mising data from columns sensor_y and value_y"
   ]
  },
  {
   "cell_type": "code",
   "execution_count": 66,
   "metadata": {},
   "outputs": [
    {
     "data": {
      "text/plain": [
       "sensor_x    81566\n",
       "value_x     81566\n",
       "sensor_y    81572\n",
       "value_y     81572\n",
       "dtype: int64"
      ]
     },
     "execution_count": 66,
     "metadata": {},
     "output_type": "execute_result"
    }
   ],
   "source": [
    "# check and print the number of empty cells (missing data) in each coulmn \n",
    "newdf1.isnull().sum()"
   ]
  },
  {
   "cell_type": "markdown",
   "metadata": {},
   "source": [
    "as we can see also we have some missing data after merging tow tabels (himidity and temperature) of sensor DHT11 "
   ]
  },
  {
   "cell_type": "code",
   "execution_count": 43,
   "metadata": {},
   "outputs": [
    {
     "data": {
      "text/html": [
       "<div>\n",
       "<style scoped>\n",
       "    .dataframe tbody tr th:only-of-type {\n",
       "        vertical-align: middle;\n",
       "    }\n",
       "\n",
       "    .dataframe tbody tr th {\n",
       "        vertical-align: top;\n",
       "    }\n",
       "\n",
       "    .dataframe thead th {\n",
       "        text-align: right;\n",
       "    }\n",
       "</style>\n",
       "<table border=\"1\" class=\"dataframe\">\n",
       "  <thead>\n",
       "    <tr style=\"text-align: right;\">\n",
       "      <th></th>\n",
       "      <th>sensor_x</th>\n",
       "      <th>value_x</th>\n",
       "      <th>sensor_y</th>\n",
       "      <th>value_y</th>\n",
       "    </tr>\n",
       "    <tr>\n",
       "      <th>time</th>\n",
       "      <th></th>\n",
       "      <th></th>\n",
       "      <th></th>\n",
       "      <th></th>\n",
       "    </tr>\n",
       "  </thead>\n",
       "  <tbody>\n",
       "    <tr>\n",
       "      <td>2017-12-22 11:43:24+00:00</td>\n",
       "      <td>T-DHT11</td>\n",
       "      <td>26.0</td>\n",
       "      <td>H-DHT11</td>\n",
       "      <td>32.0</td>\n",
       "    </tr>\n",
       "    <tr>\n",
       "      <td>2017-12-22 11:43:28+00:00</td>\n",
       "      <td>T-DHT11</td>\n",
       "      <td>26.0</td>\n",
       "      <td>H-DHT11</td>\n",
       "      <td>32.0</td>\n",
       "    </tr>\n",
       "    <tr>\n",
       "      <td>2017-12-22 11:43:33+00:00</td>\n",
       "      <td>T-DHT11</td>\n",
       "      <td>26.0</td>\n",
       "      <td>H-DHT11</td>\n",
       "      <td>32.0</td>\n",
       "    </tr>\n",
       "    <tr>\n",
       "      <td>2017-12-22 11:43:37+00:00</td>\n",
       "      <td>T-DHT11</td>\n",
       "      <td>26.0</td>\n",
       "      <td>H-DHT11</td>\n",
       "      <td>32.0</td>\n",
       "    </tr>\n",
       "    <tr>\n",
       "      <td>2017-12-22 11:43:41+00:00</td>\n",
       "      <td>T-DHT11</td>\n",
       "      <td>26.0</td>\n",
       "      <td>H-DHT11</td>\n",
       "      <td>32.0</td>\n",
       "    </tr>\n",
       "    <tr>\n",
       "      <td>2017-12-22 11:43:45+00:00</td>\n",
       "      <td>T-DHT11</td>\n",
       "      <td>26.0</td>\n",
       "      <td>H-DHT11</td>\n",
       "      <td>32.0</td>\n",
       "    </tr>\n",
       "    <tr>\n",
       "      <td>2017-12-22 11:43:49+00:00</td>\n",
       "      <td>T-DHT11</td>\n",
       "      <td>26.0</td>\n",
       "      <td>H-DHT11</td>\n",
       "      <td>32.0</td>\n",
       "    </tr>\n",
       "    <tr>\n",
       "      <td>2017-12-22 11:43:53+00:00</td>\n",
       "      <td>T-DHT11</td>\n",
       "      <td>26.0</td>\n",
       "      <td>H-DHT11</td>\n",
       "      <td>32.0</td>\n",
       "    </tr>\n",
       "    <tr>\n",
       "      <td>2017-12-22 11:43:58+00:00</td>\n",
       "      <td>T-DHT11</td>\n",
       "      <td>26.0</td>\n",
       "      <td>H-DHT11</td>\n",
       "      <td>32.0</td>\n",
       "    </tr>\n",
       "    <tr>\n",
       "      <td>2017-12-22 11:44:02+00:00</td>\n",
       "      <td>T-DHT11</td>\n",
       "      <td>26.0</td>\n",
       "      <td>H-DHT11</td>\n",
       "      <td>32.0</td>\n",
       "    </tr>\n",
       "    <tr>\n",
       "      <td>2017-12-22 11:44:06+00:00</td>\n",
       "      <td>T-DHT11</td>\n",
       "      <td>26.0</td>\n",
       "      <td>H-DHT11</td>\n",
       "      <td>32.0</td>\n",
       "    </tr>\n",
       "    <tr>\n",
       "      <td>2017-12-22 11:44:10+00:00</td>\n",
       "      <td>T-DHT11</td>\n",
       "      <td>26.0</td>\n",
       "      <td>H-DHT11</td>\n",
       "      <td>33.0</td>\n",
       "    </tr>\n",
       "    <tr>\n",
       "      <td>2017-12-22 11:44:14+00:00</td>\n",
       "      <td>T-DHT11</td>\n",
       "      <td>26.0</td>\n",
       "      <td>H-DHT11</td>\n",
       "      <td>33.0</td>\n",
       "    </tr>\n",
       "    <tr>\n",
       "      <td>2017-12-22 11:44:19+00:00</td>\n",
       "      <td>T-DHT11</td>\n",
       "      <td>26.0</td>\n",
       "      <td>H-DHT11</td>\n",
       "      <td>32.0</td>\n",
       "    </tr>\n",
       "    <tr>\n",
       "      <td>2017-12-22 11:44:23+00:00</td>\n",
       "      <td>T-DHT11</td>\n",
       "      <td>26.0</td>\n",
       "      <td>H-DHT11</td>\n",
       "      <td>33.0</td>\n",
       "    </tr>\n",
       "    <tr>\n",
       "      <td>2017-12-22 11:44:27+00:00</td>\n",
       "      <td>T-DHT11</td>\n",
       "      <td>26.0</td>\n",
       "      <td>H-DHT11</td>\n",
       "      <td>33.0</td>\n",
       "    </tr>\n",
       "    <tr>\n",
       "      <td>2017-12-22 11:44:31+00:00</td>\n",
       "      <td>T-DHT11</td>\n",
       "      <td>26.0</td>\n",
       "      <td>H-DHT11</td>\n",
       "      <td>32.0</td>\n",
       "    </tr>\n",
       "    <tr>\n",
       "      <td>2017-12-22 11:44:35+00:00</td>\n",
       "      <td>T-DHT11</td>\n",
       "      <td>26.0</td>\n",
       "      <td>H-DHT11</td>\n",
       "      <td>32.0</td>\n",
       "    </tr>\n",
       "    <tr>\n",
       "      <td>2017-12-22 11:44:40+00:00</td>\n",
       "      <td>T-DHT11</td>\n",
       "      <td>26.0</td>\n",
       "      <td>H-DHT11</td>\n",
       "      <td>32.0</td>\n",
       "    </tr>\n",
       "    <tr>\n",
       "      <td>2017-12-22 11:44:44+00:00</td>\n",
       "      <td>T-DHT11</td>\n",
       "      <td>26.0</td>\n",
       "      <td>H-DHT11</td>\n",
       "      <td>33.0</td>\n",
       "    </tr>\n",
       "  </tbody>\n",
       "</table>\n",
       "</div>"
      ],
      "text/plain": [
       "                          sensor_x  value_x sensor_y  value_y\n",
       "time                                                         \n",
       "2017-12-22 11:43:24+00:00  T-DHT11     26.0  H-DHT11     32.0\n",
       "2017-12-22 11:43:28+00:00  T-DHT11     26.0  H-DHT11     32.0\n",
       "2017-12-22 11:43:33+00:00  T-DHT11     26.0  H-DHT11     32.0\n",
       "2017-12-22 11:43:37+00:00  T-DHT11     26.0  H-DHT11     32.0\n",
       "2017-12-22 11:43:41+00:00  T-DHT11     26.0  H-DHT11     32.0\n",
       "2017-12-22 11:43:45+00:00  T-DHT11     26.0  H-DHT11     32.0\n",
       "2017-12-22 11:43:49+00:00  T-DHT11     26.0  H-DHT11     32.0\n",
       "2017-12-22 11:43:53+00:00  T-DHT11     26.0  H-DHT11     32.0\n",
       "2017-12-22 11:43:58+00:00  T-DHT11     26.0  H-DHT11     32.0\n",
       "2017-12-22 11:44:02+00:00  T-DHT11     26.0  H-DHT11     32.0\n",
       "2017-12-22 11:44:06+00:00  T-DHT11     26.0  H-DHT11     32.0\n",
       "2017-12-22 11:44:10+00:00  T-DHT11     26.0  H-DHT11     33.0\n",
       "2017-12-22 11:44:14+00:00  T-DHT11     26.0  H-DHT11     33.0\n",
       "2017-12-22 11:44:19+00:00  T-DHT11     26.0  H-DHT11     32.0\n",
       "2017-12-22 11:44:23+00:00  T-DHT11     26.0  H-DHT11     33.0\n",
       "2017-12-22 11:44:27+00:00  T-DHT11     26.0  H-DHT11     33.0\n",
       "2017-12-22 11:44:31+00:00  T-DHT11     26.0  H-DHT11     32.0\n",
       "2017-12-22 11:44:35+00:00  T-DHT11     26.0  H-DHT11     32.0\n",
       "2017-12-22 11:44:40+00:00  T-DHT11     26.0  H-DHT11     32.0\n",
       "2017-12-22 11:44:44+00:00  T-DHT11     26.0  H-DHT11     33.0"
      ]
     },
     "execution_count": 43,
     "metadata": {},
     "output_type": "execute_result"
    }
   ],
   "source": [
    "newdf1.iloc[200:220]"
   ]
  },
  {
   "cell_type": "code",
   "execution_count": 44,
   "metadata": {
    "scrolled": true
   },
   "outputs": [
    {
     "data": {
      "text/html": [
       "<div>\n",
       "<style scoped>\n",
       "    .dataframe tbody tr th:only-of-type {\n",
       "        vertical-align: middle;\n",
       "    }\n",
       "\n",
       "    .dataframe tbody tr th {\n",
       "        vertical-align: top;\n",
       "    }\n",
       "\n",
       "    .dataframe thead th {\n",
       "        text-align: right;\n",
       "    }\n",
       "</style>\n",
       "<table border=\"1\" class=\"dataframe\">\n",
       "  <thead>\n",
       "    <tr style=\"text-align: right;\">\n",
       "      <th></th>\n",
       "      <th>value_x</th>\n",
       "      <th>value_y</th>\n",
       "    </tr>\n",
       "  </thead>\n",
       "  <tbody>\n",
       "    <tr>\n",
       "      <td>count</td>\n",
       "      <td>1.420308e+06</td>\n",
       "      <td>1.420302e+06</td>\n",
       "    </tr>\n",
       "    <tr>\n",
       "      <td>mean</td>\n",
       "      <td>2.124776e+01</td>\n",
       "      <td>3.500247e+01</td>\n",
       "    </tr>\n",
       "    <tr>\n",
       "      <td>std</td>\n",
       "      <td>2.492706e+00</td>\n",
       "      <td>1.173970e+00</td>\n",
       "    </tr>\n",
       "    <tr>\n",
       "      <td>min</td>\n",
       "      <td>1.500000e+01</td>\n",
       "      <td>3.100000e+01</td>\n",
       "    </tr>\n",
       "    <tr>\n",
       "      <td>25%</td>\n",
       "      <td>2.000000e+01</td>\n",
       "      <td>3.400000e+01</td>\n",
       "    </tr>\n",
       "    <tr>\n",
       "      <td>50%</td>\n",
       "      <td>2.200000e+01</td>\n",
       "      <td>3.500000e+01</td>\n",
       "    </tr>\n",
       "    <tr>\n",
       "      <td>75%</td>\n",
       "      <td>2.300000e+01</td>\n",
       "      <td>3.600000e+01</td>\n",
       "    </tr>\n",
       "    <tr>\n",
       "      <td>max</td>\n",
       "      <td>2.900000e+01</td>\n",
       "      <td>3.900000e+01</td>\n",
       "    </tr>\n",
       "  </tbody>\n",
       "</table>\n",
       "</div>"
      ],
      "text/plain": [
       "            value_x       value_y\n",
       "count  1.420308e+06  1.420302e+06\n",
       "mean   2.124776e+01  3.500247e+01\n",
       "std    2.492706e+00  1.173970e+00\n",
       "min    1.500000e+01  3.100000e+01\n",
       "25%    2.000000e+01  3.400000e+01\n",
       "50%    2.200000e+01  3.500000e+01\n",
       "75%    2.300000e+01  3.600000e+01\n",
       "max    2.900000e+01  3.900000e+01"
      ]
     },
     "execution_count": 44,
     "metadata": {},
     "output_type": "execute_result"
    }
   ],
   "source": [
    "#statistical information of data frame\n",
    "newdf1.describe()\n"
   ]
  },
  {
   "cell_type": "code",
   "execution_count": 45,
   "metadata": {},
   "outputs": [
    {
     "data": {
      "text/plain": [
       "<matplotlib.axes._subplots.AxesSubplot at 0x126261e50>"
      ]
     },
     "execution_count": 45,
     "metadata": {},
     "output_type": "execute_result"
    },
    {
     "data": {
      "image/png": "[encoded data removed]",
      "text/plain": [
       "<Figure size 432x288 with 1 Axes>"
      ]
     },
     "metadata": {
      "needs_background": "light"
     },
     "output_type": "display_data"
    }
   ],
   "source": [
    "# plot the avarage temp based on the time \n",
    "%matplotlib inline\n",
    "newdf1.resample('D').mean().plot()"
   ]
  },
  {
   "cell_type": "code",
   "execution_count": 46,
   "metadata": {},
   "outputs": [
    {
     "data": {
      "text/plain": [
       "<matplotlib.axes._subplots.AxesSubplot at 0x1263cfb50>"
      ]
     },
     "execution_count": 46,
     "metadata": {},
     "output_type": "execute_result"
    },
    {
     "data": {
      "image/png": "[encoded data removed]",
      "text/plain": [
       "<Figure size 432x288 with 1 Axes>"
      ]
     },
     "metadata": {
      "needs_background": "light"
     },
     "output_type": "display_data"
    }
   ],
   "source": [
    "# plot the average humidity based on the time\n",
    "newdf1.resample('D').mean().plot()"
   ]
  },
  {
   "cell_type": "markdown",
   "metadata": {},
   "source": [
    "#### 1. Temperature File for (T-HTU21) sensor "
   ]
  },
  {
   "cell_type": "code",
   "execution_count": 47,
   "metadata": {},
   "outputs": [
    {
     "data": {
      "text/html": [
       "<div>\n",
       "<style scoped>\n",
       "    .dataframe tbody tr th:only-of-type {\n",
       "        vertical-align: middle;\n",
       "    }\n",
       "\n",
       "    .dataframe tbody tr th {\n",
       "        vertical-align: top;\n",
       "    }\n",
       "\n",
       "    .dataframe thead th {\n",
       "        text-align: right;\n",
       "    }\n",
       "</style>\n",
       "<table border=\"1\" class=\"dataframe\">\n",
       "  <thead>\n",
       "    <tr style=\"text-align: right;\">\n",
       "      <th></th>\n",
       "      <th>sensor</th>\n",
       "      <th>value</th>\n",
       "      <th>time</th>\n",
       "    </tr>\n",
       "  </thead>\n",
       "  <tbody>\n",
       "    <tr>\n",
       "      <td>0</td>\n",
       "      <td>T-HTU21</td>\n",
       "      <td>25.09</td>\n",
       "      <td>2017-12-20T12:17:05Z</td>\n",
       "    </tr>\n",
       "    <tr>\n",
       "      <td>1</td>\n",
       "      <td>T-HTU21</td>\n",
       "      <td>25.09</td>\n",
       "      <td>2017-12-20T12:17:07Z</td>\n",
       "    </tr>\n",
       "    <tr>\n",
       "      <td>2</td>\n",
       "      <td>T-HTU21</td>\n",
       "      <td>25.09</td>\n",
       "      <td>2017-12-20T12:17:09Z</td>\n",
       "    </tr>\n",
       "    <tr>\n",
       "      <td>3</td>\n",
       "      <td>T-HTU21</td>\n",
       "      <td>25.09</td>\n",
       "      <td>2017-12-20T12:17:11Z</td>\n",
       "    </tr>\n",
       "    <tr>\n",
       "      <td>4</td>\n",
       "      <td>T-HTU21</td>\n",
       "      <td>25.08</td>\n",
       "      <td>2017-12-20T12:17:13Z</td>\n",
       "    </tr>\n",
       "  </tbody>\n",
       "</table>\n",
       "</div>"
      ],
      "text/plain": [
       "    sensor  value                  time\n",
       "0  T-HTU21  25.09  2017-12-20T12:17:05Z\n",
       "1  T-HTU21  25.09  2017-12-20T12:17:07Z\n",
       "2  T-HTU21  25.09  2017-12-20T12:17:09Z\n",
       "3  T-HTU21  25.09  2017-12-20T12:17:11Z\n",
       "4  T-HTU21  25.08  2017-12-20T12:17:13Z"
      ]
     },
     "execution_count": 47,
     "metadata": {},
     "output_type": "execute_result"
    }
   ],
   "source": [
    "# reading the JSON file and convert it to csv \n",
    "data = []\n",
    "with open('../data/raw/T-HTU21-measures.json','r') as f:\n",
    "    for line in f:\n",
    "        data.append(json.loads(line))\n",
    "\n",
    "t_HTU21 = pd.DataFrame(data)\n",
    "t_HTU21.to_csv (r'../data/raw/T-HTU21-measures.csv', index = None)\n",
    "t_HTU21.head()"
   ]
  },
  {
   "cell_type": "code",
   "execution_count": 48,
   "metadata": {},
   "outputs": [
    {
     "data": {
      "text/plain": [
       "str"
      ]
     },
     "execution_count": 48,
     "metadata": {},
     "output_type": "execute_result"
    }
   ],
   "source": [
    "type(t_HTU21.time[0])"
   ]
  },
  {
   "cell_type": "code",
   "execution_count": 49,
   "metadata": {},
   "outputs": [
    {
     "name": "stdout",
     "output_type": "stream",
     "text": [
      "<class 'pandas.core.frame.DataFrame'>\n",
      "RangeIndex: 1428383 entries, 0 to 1428382\n",
      "Data columns (total 3 columns):\n",
      "sensor    1428383 non-null object\n",
      "value     1428383 non-null float64\n",
      "time      1428383 non-null object\n",
      "dtypes: float64(1), object(2)\n",
      "memory usage: 32.7+ MB\n"
     ]
    }
   ],
   "source": [
    "t_HTU21.info()"
   ]
  },
  {
   "cell_type": "code",
   "execution_count": 50,
   "metadata": {},
   "outputs": [],
   "source": [
    "#convert the type of time from object into datetime64[ns, UTC]\n",
    "t_HTU21['time'] = pd.to_datetime(t_HTU21['time'])"
   ]
  },
  {
   "cell_type": "code",
   "execution_count": 51,
   "metadata": {},
   "outputs": [
    {
     "data": {
      "text/plain": [
       "T-HTU21    1428383\n",
       "Name: sensor, dtype: int64"
      ]
     },
     "execution_count": 51,
     "metadata": {},
     "output_type": "execute_result"
    }
   ],
   "source": [
    "t_HTU21.sensor.value_counts()"
   ]
  },
  {
   "cell_type": "code",
   "execution_count": 52,
   "metadata": {},
   "outputs": [
    {
     "data": {
      "text/plain": [
       "sensor    0\n",
       "value     0\n",
       "time      0\n",
       "dtype: int64"
      ]
     },
     "execution_count": 52,
     "metadata": {},
     "output_type": "execute_result"
    }
   ],
   "source": [
    "# check and print the number of empty cells (missing data) in each coulmn \n",
    "t_HTU21.isnull().sum()"
   ]
  },
  {
   "cell_type": "code",
   "execution_count": 53,
   "metadata": {},
   "outputs": [
    {
     "data": {
      "text/plain": [
       "<matplotlib.axes._subplots.AxesSubplot at 0x1269b0710>"
      ]
     },
     "execution_count": 53,
     "metadata": {},
     "output_type": "execute_result"
    },
    {
     "data": {
      "image/png": "[encoded data removed]",
      "text/plain": [
       "<Figure size 432x288 with 1 Axes>"
      ]
     },
     "metadata": {
      "needs_background": "light"
     },
     "output_type": "display_data"
    }
   ],
   "source": [
    "#plot temperature for ths sensor \n",
    "t_HTU21.plot.line(x='time', y='value')"
   ]
  },
  {
   "cell_type": "markdown",
   "metadata": {},
   "source": [
    "#### 2. Humidity File for (T-HTU21) sensor "
   ]
  },
  {
   "cell_type": "code",
   "execution_count": 54,
   "metadata": {},
   "outputs": [
    {
     "data": {
      "text/html": [
       "<div>\n",
       "<style scoped>\n",
       "    .dataframe tbody tr th:only-of-type {\n",
       "        vertical-align: middle;\n",
       "    }\n",
       "\n",
       "    .dataframe tbody tr th {\n",
       "        vertical-align: top;\n",
       "    }\n",
       "\n",
       "    .dataframe thead th {\n",
       "        text-align: right;\n",
       "    }\n",
       "</style>\n",
       "<table border=\"1\" class=\"dataframe\">\n",
       "  <thead>\n",
       "    <tr style=\"text-align: right;\">\n",
       "      <th></th>\n",
       "      <th>sensor</th>\n",
       "      <th>value</th>\n",
       "      <th>time</th>\n",
       "    </tr>\n",
       "  </thead>\n",
       "  <tbody>\n",
       "    <tr>\n",
       "      <td>0</td>\n",
       "      <td>T-HTU21</td>\n",
       "      <td>25.09</td>\n",
       "      <td>2017-12-20 12:17:05+00:00</td>\n",
       "    </tr>\n",
       "    <tr>\n",
       "      <td>1</td>\n",
       "      <td>T-HTU21</td>\n",
       "      <td>25.09</td>\n",
       "      <td>2017-12-20 12:17:07+00:00</td>\n",
       "    </tr>\n",
       "    <tr>\n",
       "      <td>2</td>\n",
       "      <td>T-HTU21</td>\n",
       "      <td>25.09</td>\n",
       "      <td>2017-12-20 12:17:09+00:00</td>\n",
       "    </tr>\n",
       "    <tr>\n",
       "      <td>3</td>\n",
       "      <td>T-HTU21</td>\n",
       "      <td>25.09</td>\n",
       "      <td>2017-12-20 12:17:11+00:00</td>\n",
       "    </tr>\n",
       "    <tr>\n",
       "      <td>4</td>\n",
       "      <td>T-HTU21</td>\n",
       "      <td>25.08</td>\n",
       "      <td>2017-12-20 12:17:13+00:00</td>\n",
       "    </tr>\n",
       "  </tbody>\n",
       "</table>\n",
       "</div>"
      ],
      "text/plain": [
       "    sensor  value                      time\n",
       "0  T-HTU21  25.09 2017-12-20 12:17:05+00:00\n",
       "1  T-HTU21  25.09 2017-12-20 12:17:07+00:00\n",
       "2  T-HTU21  25.09 2017-12-20 12:17:09+00:00\n",
       "3  T-HTU21  25.09 2017-12-20 12:17:11+00:00\n",
       "4  T-HTU21  25.08 2017-12-20 12:17:13+00:00"
      ]
     },
     "execution_count": 54,
     "metadata": {},
     "output_type": "execute_result"
    }
   ],
   "source": [
    "# Reading the file\n",
    "h_HTU21 = pd.read_csv('../data/raw/T-HTU21-measures.csv', parse_dates = ['time'])\n",
    "h_HTU21.head()"
   ]
  },
  {
   "cell_type": "code",
   "execution_count": 55,
   "metadata": {},
   "outputs": [
    {
     "data": {
      "text/plain": [
       "pandas._libs.tslibs.timestamps.Timestamp"
      ]
     },
     "execution_count": 55,
     "metadata": {},
     "output_type": "execute_result"
    }
   ],
   "source": [
    "type(h_HTU21.time[0])"
   ]
  },
  {
   "cell_type": "code",
   "execution_count": 56,
   "metadata": {},
   "outputs": [
    {
     "name": "stdout",
     "output_type": "stream",
     "text": [
      "<class 'pandas.core.frame.DataFrame'>\n",
      "RangeIndex: 1428383 entries, 0 to 1428382\n",
      "Data columns (total 3 columns):\n",
      "sensor    1428383 non-null object\n",
      "value     1428383 non-null float64\n",
      "time      1428383 non-null datetime64[ns, UTC]\n",
      "dtypes: datetime64[ns, UTC](1), float64(1), object(1)\n",
      "memory usage: 32.7+ MB\n"
     ]
    }
   ],
   "source": [
    "# General Information \n",
    "h_HTU21.info()"
   ]
  },
  {
   "cell_type": "code",
   "execution_count": 57,
   "metadata": {},
   "outputs": [
    {
     "data": {
      "text/plain": [
       "T-HTU21    1428383\n",
       "Name: sensor, dtype: int64"
      ]
     },
     "execution_count": 57,
     "metadata": {},
     "output_type": "execute_result"
    }
   ],
   "source": [
    "h_HTU21.sensor.value_counts()"
   ]
  },
  {
   "cell_type": "code",
   "execution_count": 58,
   "metadata": {},
   "outputs": [
    {
     "data": {
      "text/plain": [
       "sensor    0\n",
       "value     0\n",
       "time      0\n",
       "dtype: int64"
      ]
     },
     "execution_count": 58,
     "metadata": {},
     "output_type": "execute_result"
    }
   ],
   "source": [
    "# check and print the number of empty cells (missing data) in each coulmn \n",
    "h_HTU21.isnull().sum()"
   ]
  },
  {
   "cell_type": "code",
   "execution_count": 59,
   "metadata": {},
   "outputs": [
    {
     "data": {
      "text/plain": [
       "<matplotlib.axes._subplots.AxesSubplot at 0x1a55af290>"
      ]
     },
     "execution_count": 59,
     "metadata": {},
     "output_type": "execute_result"
    },
    {
     "data": {
      "image/png": "[encoded data removed]",
      "text/plain": [
       "<Figure size 432x288 with 1 Axes>"
      ]
     },
     "metadata": {
      "needs_background": "light"
     },
     "output_type": "display_data"
    }
   ],
   "source": [
    "#plot humidity for ths sensor \n",
    "h_HTU21.plot.line(x='time', y='value')"
   ]
  },
  {
   "cell_type": "markdown",
   "metadata": {},
   "source": [
    "### 3. Merge temperature and humidity \n"
   ]
  },
  {
   "cell_type": "code",
   "execution_count": 60,
   "metadata": {},
   "outputs": [
    {
     "data": {
      "text/html": [
       "<div>\n",
       "<style scoped>\n",
       "    .dataframe tbody tr th:only-of-type {\n",
       "        vertical-align: middle;\n",
       "    }\n",
       "\n",
       "    .dataframe tbody tr th {\n",
       "        vertical-align: top;\n",
       "    }\n",
       "\n",
       "    .dataframe thead th {\n",
       "        text-align: right;\n",
       "    }\n",
       "</style>\n",
       "<table border=\"1\" class=\"dataframe\">\n",
       "  <thead>\n",
       "    <tr style=\"text-align: right;\">\n",
       "      <th></th>\n",
       "      <th>sensor_x</th>\n",
       "      <th>value_x</th>\n",
       "      <th>sensor_y</th>\n",
       "      <th>value_y</th>\n",
       "    </tr>\n",
       "    <tr>\n",
       "      <th>time</th>\n",
       "      <th></th>\n",
       "      <th></th>\n",
       "      <th></th>\n",
       "      <th></th>\n",
       "    </tr>\n",
       "  </thead>\n",
       "  <tbody>\n",
       "    <tr>\n",
       "      <td>2017-12-20 12:17:05+00:00</td>\n",
       "      <td>T-HTU21</td>\n",
       "      <td>25.09</td>\n",
       "      <td>T-HTU21</td>\n",
       "      <td>25.09</td>\n",
       "    </tr>\n",
       "    <tr>\n",
       "      <td>2017-12-20 12:17:07+00:00</td>\n",
       "      <td>T-HTU21</td>\n",
       "      <td>25.09</td>\n",
       "      <td>T-HTU21</td>\n",
       "      <td>25.09</td>\n",
       "    </tr>\n",
       "    <tr>\n",
       "      <td>2017-12-20 12:17:09+00:00</td>\n",
       "      <td>T-HTU21</td>\n",
       "      <td>25.09</td>\n",
       "      <td>T-HTU21</td>\n",
       "      <td>25.09</td>\n",
       "    </tr>\n",
       "    <tr>\n",
       "      <td>2017-12-20 12:17:11+00:00</td>\n",
       "      <td>T-HTU21</td>\n",
       "      <td>25.09</td>\n",
       "      <td>T-HTU21</td>\n",
       "      <td>25.09</td>\n",
       "    </tr>\n",
       "    <tr>\n",
       "      <td>2017-12-20 12:17:13+00:00</td>\n",
       "      <td>T-HTU21</td>\n",
       "      <td>25.08</td>\n",
       "      <td>T-HTU21</td>\n",
       "      <td>25.08</td>\n",
       "    </tr>\n",
       "  </tbody>\n",
       "</table>\n",
       "</div>"
      ],
      "text/plain": [
       "                          sensor_x  value_x sensor_y  value_y\n",
       "time                                                         \n",
       "2017-12-20 12:17:05+00:00  T-HTU21    25.09  T-HTU21    25.09\n",
       "2017-12-20 12:17:07+00:00  T-HTU21    25.09  T-HTU21    25.09\n",
       "2017-12-20 12:17:09+00:00  T-HTU21    25.09  T-HTU21    25.09\n",
       "2017-12-20 12:17:11+00:00  T-HTU21    25.09  T-HTU21    25.09\n",
       "2017-12-20 12:17:13+00:00  T-HTU21    25.08  T-HTU21    25.08"
      ]
     },
     "execution_count": 60,
     "metadata": {},
     "output_type": "execute_result"
    }
   ],
   "source": [
    "# Merge data base on the time columns\n",
    "newdf2 = pd.merge(t_HTU21, h_HTU21, on = 'time', how='outer')\n",
    "# Set time as a index of data frame\n",
    "newdf2.set_index('time', inplace=True)\n",
    "newdf2.head()"
   ]
  },
  {
   "cell_type": "code",
   "execution_count": 61,
   "metadata": {},
   "outputs": [
    {
     "name": "stdout",
     "output_type": "stream",
     "text": [
      "<class 'pandas.core.frame.DataFrame'>\n",
      "DatetimeIndex: 1428383 entries, 2017-12-20 12:17:05+00:00 to 2018-03-13 11:42:11+00:00\n",
      "Data columns (total 4 columns):\n",
      "sensor_x    1428383 non-null object\n",
      "value_x     1428383 non-null float64\n",
      "sensor_y    1428383 non-null object\n",
      "value_y     1428383 non-null float64\n",
      "dtypes: float64(2), object(2)\n",
      "memory usage: 54.5+ MB\n"
     ]
    }
   ],
   "source": [
    "#general information\n",
    "newdf2.info()"
   ]
  },
  {
   "cell_type": "code",
   "execution_count": 62,
   "metadata": {},
   "outputs": [
    {
     "data": {
      "text/plain": [
       "sensor_x    0\n",
       "value_x     0\n",
       "sensor_y    0\n",
       "value_y     0\n",
       "dtype: int64"
      ]
     },
     "execution_count": 62,
     "metadata": {},
     "output_type": "execute_result"
    }
   ],
   "source": [
    "# check and print the number of empty cells (missing data) in each coulmn \n",
    "newdf2.isnull().sum()"
   ]
  },
  {
   "cell_type": "code",
   "execution_count": 67,
   "metadata": {},
   "outputs": [
    {
     "data": {
      "text/html": [
       "<div>\n",
       "<style scoped>\n",
       "    .dataframe tbody tr th:only-of-type {\n",
       "        vertical-align: middle;\n",
       "    }\n",
       "\n",
       "    .dataframe tbody tr th {\n",
       "        vertical-align: top;\n",
       "    }\n",
       "\n",
       "    .dataframe thead th {\n",
       "        text-align: right;\n",
       "    }\n",
       "</style>\n",
       "<table border=\"1\" class=\"dataframe\">\n",
       "  <thead>\n",
       "    <tr style=\"text-align: right;\">\n",
       "      <th></th>\n",
       "      <th>sensor_x</th>\n",
       "      <th>value_x</th>\n",
       "      <th>sensor_y</th>\n",
       "      <th>value_y</th>\n",
       "    </tr>\n",
       "    <tr>\n",
       "      <th>time</th>\n",
       "      <th></th>\n",
       "      <th></th>\n",
       "      <th></th>\n",
       "      <th></th>\n",
       "    </tr>\n",
       "  </thead>\n",
       "  <tbody>\n",
       "    <tr>\n",
       "      <td>2017-12-22 08:13:15+00:00</td>\n",
       "      <td>T-HTU21</td>\n",
       "      <td>20.49</td>\n",
       "      <td>T-HTU21</td>\n",
       "      <td>20.49</td>\n",
       "    </tr>\n",
       "    <tr>\n",
       "      <td>2017-12-22 08:13:17+00:00</td>\n",
       "      <td>T-HTU21</td>\n",
       "      <td>20.48</td>\n",
       "      <td>T-HTU21</td>\n",
       "      <td>20.48</td>\n",
       "    </tr>\n",
       "    <tr>\n",
       "      <td>2017-12-22 08:13:19+00:00</td>\n",
       "      <td>T-HTU21</td>\n",
       "      <td>20.48</td>\n",
       "      <td>T-HTU21</td>\n",
       "      <td>20.48</td>\n",
       "    </tr>\n",
       "    <tr>\n",
       "      <td>2017-12-22 08:13:21+00:00</td>\n",
       "      <td>T-HTU21</td>\n",
       "      <td>20.50</td>\n",
       "      <td>T-HTU21</td>\n",
       "      <td>20.50</td>\n",
       "    </tr>\n",
       "    <tr>\n",
       "      <td>2017-12-22 08:13:24+00:00</td>\n",
       "      <td>T-HTU21</td>\n",
       "      <td>20.52</td>\n",
       "      <td>T-HTU21</td>\n",
       "      <td>20.52</td>\n",
       "    </tr>\n",
       "    <tr>\n",
       "      <td>2017-12-22 08:13:26+00:00</td>\n",
       "      <td>T-HTU21</td>\n",
       "      <td>20.53</td>\n",
       "      <td>T-HTU21</td>\n",
       "      <td>20.53</td>\n",
       "    </tr>\n",
       "    <tr>\n",
       "      <td>2017-12-22 08:13:28+00:00</td>\n",
       "      <td>T-HTU21</td>\n",
       "      <td>20.54</td>\n",
       "      <td>T-HTU21</td>\n",
       "      <td>20.54</td>\n",
       "    </tr>\n",
       "    <tr>\n",
       "      <td>2017-12-22 08:13:30+00:00</td>\n",
       "      <td>T-HTU21</td>\n",
       "      <td>20.55</td>\n",
       "      <td>T-HTU21</td>\n",
       "      <td>20.55</td>\n",
       "    </tr>\n",
       "    <tr>\n",
       "      <td>2017-12-22 08:13:32+00:00</td>\n",
       "      <td>T-HTU21</td>\n",
       "      <td>20.56</td>\n",
       "      <td>T-HTU21</td>\n",
       "      <td>20.56</td>\n",
       "    </tr>\n",
       "    <tr>\n",
       "      <td>2017-12-22 08:13:34+00:00</td>\n",
       "      <td>T-HTU21</td>\n",
       "      <td>20.55</td>\n",
       "      <td>T-HTU21</td>\n",
       "      <td>20.55</td>\n",
       "    </tr>\n",
       "    <tr>\n",
       "      <td>2017-12-22 08:13:36+00:00</td>\n",
       "      <td>T-HTU21</td>\n",
       "      <td>20.55</td>\n",
       "      <td>T-HTU21</td>\n",
       "      <td>20.55</td>\n",
       "    </tr>\n",
       "    <tr>\n",
       "      <td>2017-12-22 08:13:38+00:00</td>\n",
       "      <td>T-HTU21</td>\n",
       "      <td>20.57</td>\n",
       "      <td>T-HTU21</td>\n",
       "      <td>20.57</td>\n",
       "    </tr>\n",
       "    <tr>\n",
       "      <td>2017-12-22 08:13:40+00:00</td>\n",
       "      <td>T-HTU21</td>\n",
       "      <td>20.57</td>\n",
       "      <td>T-HTU21</td>\n",
       "      <td>20.57</td>\n",
       "    </tr>\n",
       "    <tr>\n",
       "      <td>2017-12-22 08:13:42+00:00</td>\n",
       "      <td>T-HTU21</td>\n",
       "      <td>20.61</td>\n",
       "      <td>T-HTU21</td>\n",
       "      <td>20.61</td>\n",
       "    </tr>\n",
       "    <tr>\n",
       "      <td>2017-12-22 08:13:45+00:00</td>\n",
       "      <td>T-HTU21</td>\n",
       "      <td>20.61</td>\n",
       "      <td>T-HTU21</td>\n",
       "      <td>20.61</td>\n",
       "    </tr>\n",
       "    <tr>\n",
       "      <td>2017-12-22 08:13:47+00:00</td>\n",
       "      <td>T-HTU21</td>\n",
       "      <td>20.63</td>\n",
       "      <td>T-HTU21</td>\n",
       "      <td>20.63</td>\n",
       "    </tr>\n",
       "    <tr>\n",
       "      <td>2017-12-22 08:13:49+00:00</td>\n",
       "      <td>T-HTU21</td>\n",
       "      <td>20.62</td>\n",
       "      <td>T-HTU21</td>\n",
       "      <td>20.62</td>\n",
       "    </tr>\n",
       "    <tr>\n",
       "      <td>2017-12-22 08:13:51+00:00</td>\n",
       "      <td>T-HTU21</td>\n",
       "      <td>20.62</td>\n",
       "      <td>T-HTU21</td>\n",
       "      <td>20.62</td>\n",
       "    </tr>\n",
       "    <tr>\n",
       "      <td>2017-12-22 08:13:53+00:00</td>\n",
       "      <td>T-HTU21</td>\n",
       "      <td>20.64</td>\n",
       "      <td>T-HTU21</td>\n",
       "      <td>20.64</td>\n",
       "    </tr>\n",
       "    <tr>\n",
       "      <td>2017-12-22 08:13:55+00:00</td>\n",
       "      <td>T-HTU21</td>\n",
       "      <td>20.64</td>\n",
       "      <td>T-HTU21</td>\n",
       "      <td>20.64</td>\n",
       "    </tr>\n",
       "  </tbody>\n",
       "</table>\n",
       "</div>"
      ],
      "text/plain": [
       "                          sensor_x  value_x sensor_y  value_y\n",
       "time                                                         \n",
       "2017-12-22 08:13:15+00:00  T-HTU21    20.49  T-HTU21    20.49\n",
       "2017-12-22 08:13:17+00:00  T-HTU21    20.48  T-HTU21    20.48\n",
       "2017-12-22 08:13:19+00:00  T-HTU21    20.48  T-HTU21    20.48\n",
       "2017-12-22 08:13:21+00:00  T-HTU21    20.50  T-HTU21    20.50\n",
       "2017-12-22 08:13:24+00:00  T-HTU21    20.52  T-HTU21    20.52\n",
       "2017-12-22 08:13:26+00:00  T-HTU21    20.53  T-HTU21    20.53\n",
       "2017-12-22 08:13:28+00:00  T-HTU21    20.54  T-HTU21    20.54\n",
       "2017-12-22 08:13:30+00:00  T-HTU21    20.55  T-HTU21    20.55\n",
       "2017-12-22 08:13:32+00:00  T-HTU21    20.56  T-HTU21    20.56\n",
       "2017-12-22 08:13:34+00:00  T-HTU21    20.55  T-HTU21    20.55\n",
       "2017-12-22 08:13:36+00:00  T-HTU21    20.55  T-HTU21    20.55\n",
       "2017-12-22 08:13:38+00:00  T-HTU21    20.57  T-HTU21    20.57\n",
       "2017-12-22 08:13:40+00:00  T-HTU21    20.57  T-HTU21    20.57\n",
       "2017-12-22 08:13:42+00:00  T-HTU21    20.61  T-HTU21    20.61\n",
       "2017-12-22 08:13:45+00:00  T-HTU21    20.61  T-HTU21    20.61\n",
       "2017-12-22 08:13:47+00:00  T-HTU21    20.63  T-HTU21    20.63\n",
       "2017-12-22 08:13:49+00:00  T-HTU21    20.62  T-HTU21    20.62\n",
       "2017-12-22 08:13:51+00:00  T-HTU21    20.62  T-HTU21    20.62\n",
       "2017-12-22 08:13:53+00:00  T-HTU21    20.64  T-HTU21    20.64\n",
       "2017-12-22 08:13:55+00:00  T-HTU21    20.64  T-HTU21    20.64"
      ]
     },
     "execution_count": 67,
     "metadata": {},
     "output_type": "execute_result"
    }
   ],
   "source": [
    "newdf2.iloc[200:220]"
   ]
  },
  {
   "cell_type": "code",
   "execution_count": 70,
   "metadata": {},
   "outputs": [
    {
     "data": {
      "text/html": [
       "<div>\n",
       "<style scoped>\n",
       "    .dataframe tbody tr th:only-of-type {\n",
       "        vertical-align: middle;\n",
       "    }\n",
       "\n",
       "    .dataframe tbody tr th {\n",
       "        vertical-align: top;\n",
       "    }\n",
       "\n",
       "    .dataframe thead th {\n",
       "        text-align: right;\n",
       "    }\n",
       "</style>\n",
       "<table border=\"1\" class=\"dataframe\">\n",
       "  <thead>\n",
       "    <tr style=\"text-align: right;\">\n",
       "      <th></th>\n",
       "      <th>value_x</th>\n",
       "      <th>value_y</th>\n",
       "    </tr>\n",
       "  </thead>\n",
       "  <tbody>\n",
       "    <tr>\n",
       "      <td>count</td>\n",
       "      <td>1.428383e+06</td>\n",
       "      <td>1.428383e+06</td>\n",
       "    </tr>\n",
       "    <tr>\n",
       "      <td>mean</td>\n",
       "      <td>2.153985e+01</td>\n",
       "      <td>2.153985e+01</td>\n",
       "    </tr>\n",
       "    <tr>\n",
       "      <td>std</td>\n",
       "      <td>2.573268e+00</td>\n",
       "      <td>2.573268e+00</td>\n",
       "    </tr>\n",
       "    <tr>\n",
       "      <td>min</td>\n",
       "      <td>1.508000e+01</td>\n",
       "      <td>1.508000e+01</td>\n",
       "    </tr>\n",
       "    <tr>\n",
       "      <td>25%</td>\n",
       "      <td>2.026000e+01</td>\n",
       "      <td>2.026000e+01</td>\n",
       "    </tr>\n",
       "    <tr>\n",
       "      <td>50%</td>\n",
       "      <td>2.181000e+01</td>\n",
       "      <td>2.181000e+01</td>\n",
       "    </tr>\n",
       "    <tr>\n",
       "      <td>75%</td>\n",
       "      <td>2.334000e+01</td>\n",
       "      <td>2.334000e+01</td>\n",
       "    </tr>\n",
       "    <tr>\n",
       "      <td>max</td>\n",
       "      <td>2.821000e+01</td>\n",
       "      <td>2.821000e+01</td>\n",
       "    </tr>\n",
       "  </tbody>\n",
       "</table>\n",
       "</div>"
      ],
      "text/plain": [
       "            value_x       value_y\n",
       "count  1.428383e+06  1.428383e+06\n",
       "mean   2.153985e+01  2.153985e+01\n",
       "std    2.573268e+00  2.573268e+00\n",
       "min    1.508000e+01  1.508000e+01\n",
       "25%    2.026000e+01  2.026000e+01\n",
       "50%    2.181000e+01  2.181000e+01\n",
       "75%    2.334000e+01  2.334000e+01\n",
       "max    2.821000e+01  2.821000e+01"
      ]
     },
     "execution_count": 70,
     "metadata": {},
     "output_type": "execute_result"
    }
   ],
   "source": [
    "#statistical information of data frame\n",
    "newdf2.describe()"
   ]
  },
  {
   "cell_type": "code",
   "execution_count": 71,
   "metadata": {},
   "outputs": [
    {
     "data": {
      "text/plain": [
       "<matplotlib.axes._subplots.AxesSubplot at 0x1795e5450>"
      ]
     },
     "execution_count": 71,
     "metadata": {},
     "output_type": "execute_result"
    },
    {
     "data": {
      "image/png": "[encoded data removed]",
      "text/plain": [
       "<Figure size 432x288 with 1 Axes>"
      ]
     },
     "metadata": {
      "needs_background": "light"
     },
     "output_type": "display_data"
    }
   ],
   "source": [
    "# plot the avarage temp based on the time \n",
    "%matplotlib inline\n",
    "newdf2.resample('D').mean().plot()"
   ]
  },
  {
   "cell_type": "code",
   "execution_count": 72,
   "metadata": {},
   "outputs": [
    {
     "data": {
      "text/plain": [
       "<matplotlib.axes._subplots.AxesSubplot at 0x19004a0d0>"
      ]
     },
     "execution_count": 72,
     "metadata": {},
     "output_type": "execute_result"
    },
    {
     "data": {
      "image/png": "[encoded data removed]",
      "text/plain": [
       "<Figure size 432x288 with 1 Axes>"
      ]
     },
     "metadata": {
      "needs_background": "light"
     },
     "output_type": "display_data"
    }
   ],
   "source": [
    "# plot the average humidity based on the time\n",
    "newdf2.resample('D').mean().plot()"
   ]
  },
  {
   "cell_type": "markdown",
   "metadata": {},
   "source": []
  },
  {
   "cell_type": "markdown",
   "metadata": {},
   "source": [
    "### P-DM280 file "
   ]
  },
  {
   "cell_type": "code",
   "execution_count": 75,
   "metadata": {},
   "outputs": [
    {
     "data": {
      "text/html": [
       "<div>\n",
       "<style scoped>\n",
       "    .dataframe tbody tr th:only-of-type {\n",
       "        vertical-align: middle;\n",
       "    }\n",
       "\n",
       "    .dataframe tbody tr th {\n",
       "        vertical-align: top;\n",
       "    }\n",
       "\n",
       "    .dataframe thead th {\n",
       "        text-align: right;\n",
       "    }\n",
       "</style>\n",
       "<table border=\"1\" class=\"dataframe\">\n",
       "  <thead>\n",
       "    <tr style=\"text-align: right;\">\n",
       "      <th></th>\n",
       "      <th>sensor</th>\n",
       "      <th>value</th>\n",
       "      <th>time</th>\n",
       "    </tr>\n",
       "  </thead>\n",
       "  <tbody>\n",
       "    <tr>\n",
       "      <td>0</td>\n",
       "      <td>P-DM280</td>\n",
       "      <td>1040.00</td>\n",
       "      <td>2017-12-22T10:51:32Z</td>\n",
       "    </tr>\n",
       "    <tr>\n",
       "      <td>1</td>\n",
       "      <td>P-DM280</td>\n",
       "      <td>1040.00</td>\n",
       "      <td>2017-12-22T10:51:35Z</td>\n",
       "    </tr>\n",
       "    <tr>\n",
       "      <td>2</td>\n",
       "      <td>P-DM280</td>\n",
       "      <td>1039.97</td>\n",
       "      <td>2017-12-22T10:51:38Z</td>\n",
       "    </tr>\n",
       "    <tr>\n",
       "      <td>3</td>\n",
       "      <td>P-DM280</td>\n",
       "      <td>1039.95</td>\n",
       "      <td>2017-12-22T10:51:41Z</td>\n",
       "    </tr>\n",
       "  </tbody>\n",
       "</table>\n",
       "</div>"
      ],
      "text/plain": [
       "    sensor    value                  time\n",
       "0  P-DM280  1040.00  2017-12-22T10:51:32Z\n",
       "1  P-DM280  1040.00  2017-12-22T10:51:35Z\n",
       "2  P-DM280  1039.97  2017-12-22T10:51:38Z\n",
       "3  P-DM280  1039.95  2017-12-22T10:51:41Z"
      ]
     },
     "execution_count": 75,
     "metadata": {},
     "output_type": "execute_result"
    }
   ],
   "source": [
    "# reading the JSON file and convert it to csv \n",
    "data = []\n",
    "with open('../data/raw/P-DM280-measures.json','r') as f:\n",
    "    for line in f:\n",
    "        data.append(json.loads(line))\n",
    "\n",
    "p_DM280 = pd.DataFrame(data)\n",
    "p_DM280.to_csv (r'../data/raw/P-DM280-measures.csv', index = None)\n",
    "p_DM280.head()"
   ]
  },
  {
   "cell_type": "code",
   "execution_count": 77,
   "metadata": {},
   "outputs": [
    {
     "data": {
      "text/plain": [
       "str"
      ]
     },
     "execution_count": 77,
     "metadata": {},
     "output_type": "execute_result"
    }
   ],
   "source": [
    "type(p_DM280.time[0])"
   ]
  },
  {
   "cell_type": "code",
   "execution_count": 78,
   "metadata": {},
   "outputs": [
    {
     "name": "stdout",
     "output_type": "stream",
     "text": [
      "<class 'pandas.core.frame.DataFrame'>\n",
      "RangeIndex: 4 entries, 0 to 3\n",
      "Data columns (total 3 columns):\n",
      "sensor    4 non-null object\n",
      "value     4 non-null float64\n",
      "time      4 non-null object\n",
      "dtypes: float64(1), object(2)\n",
      "memory usage: 224.0+ bytes\n"
     ]
    }
   ],
   "source": [
    "p_DM280.info()"
   ]
  },
  {
   "cell_type": "code",
   "execution_count": 79,
   "metadata": {},
   "outputs": [],
   "source": [
    "#convert the type of time from object into datetime64[ns, UTC]\n",
    "p_DM280['time'] = pd.to_datetime(p_DM280['time'])"
   ]
  },
  {
   "cell_type": "code",
   "execution_count": 80,
   "metadata": {},
   "outputs": [
    {
     "data": {
      "text/plain": [
       "P-DM280    4\n",
       "Name: sensor, dtype: int64"
      ]
     },
     "execution_count": 80,
     "metadata": {},
     "output_type": "execute_result"
    }
   ],
   "source": [
    "p_DM280.sensor.value_counts()"
   ]
  },
  {
   "cell_type": "markdown",
   "metadata": {},
   "source": [
    "as we can see, this json file has 4 entries, and there is no missing data "
   ]
  },
  {
   "cell_type": "code",
   "execution_count": 81,
   "metadata": {},
   "outputs": [
    {
     "data": {
      "text/plain": [
       "sensor    0\n",
       "value     0\n",
       "time      0\n",
       "dtype: int64"
      ]
     },
     "execution_count": 81,
     "metadata": {},
     "output_type": "execute_result"
    }
   ],
   "source": [
    "# check and print the number of empty cells (missing data) in each coulmn \n",
    "p_DM280.isnull().sum()"
   ]
  },
  {
   "cell_type": "code",
   "execution_count": 82,
   "metadata": {},
   "outputs": [
    {
     "data": {
      "text/plain": [
       "<matplotlib.axes._subplots.AxesSubplot at 0x1349d9d10>"
      ]
     },
     "execution_count": 82,
     "metadata": {},
     "output_type": "execute_result"
    },
    {
     "data": {
      "image/png": "[encoded data removed]",
      "text/plain": [
       "<Figure size 432x288 with 1 Axes>"
      ]
     },
     "metadata": {
      "needs_background": "light"
     },
     "output_type": "display_data"
    }
   ],
   "source": [
    "#plot humidity for ths sensor \n",
    "p_DM280.plot.line(x='time', y='value')"
   ]
  },
  {
   "cell_type": "markdown",
   "metadata": {},
   "source": [
    "### T-DM280  json file"
   ]
  },
  {
   "cell_type": "code",
   "execution_count": 83,
   "metadata": {},
   "outputs": [
    {
     "data": {
      "text/html": [
       "<div>\n",
       "<style scoped>\n",
       "    .dataframe tbody tr th:only-of-type {\n",
       "        vertical-align: middle;\n",
       "    }\n",
       "\n",
       "    .dataframe tbody tr th {\n",
       "        vertical-align: top;\n",
       "    }\n",
       "\n",
       "    .dataframe thead th {\n",
       "        text-align: right;\n",
       "    }\n",
       "</style>\n",
       "<table border=\"1\" class=\"dataframe\">\n",
       "  <thead>\n",
       "    <tr style=\"text-align: right;\">\n",
       "      <th></th>\n",
       "      <th>sensor</th>\n",
       "      <th>value</th>\n",
       "      <th>time</th>\n",
       "    </tr>\n",
       "  </thead>\n",
       "  <tbody>\n",
       "    <tr>\n",
       "      <td>0</td>\n",
       "      <td>T-DM280</td>\n",
       "      <td>26.43</td>\n",
       "      <td>2017-12-22T10:51:31Z</td>\n",
       "    </tr>\n",
       "    <tr>\n",
       "      <td>1</td>\n",
       "      <td>T-DM280</td>\n",
       "      <td>26.43</td>\n",
       "      <td>2017-12-22T10:51:35Z</td>\n",
       "    </tr>\n",
       "    <tr>\n",
       "      <td>2</td>\n",
       "      <td>T-DM280</td>\n",
       "      <td>26.45</td>\n",
       "      <td>2017-12-22T10:51:38Z</td>\n",
       "    </tr>\n",
       "    <tr>\n",
       "      <td>3</td>\n",
       "      <td>T-DM280</td>\n",
       "      <td>26.45</td>\n",
       "      <td>2017-12-22T10:51:41Z</td>\n",
       "    </tr>\n",
       "  </tbody>\n",
       "</table>\n",
       "</div>"
      ],
      "text/plain": [
       "    sensor  value                  time\n",
       "0  T-DM280  26.43  2017-12-22T10:51:31Z\n",
       "1  T-DM280  26.43  2017-12-22T10:51:35Z\n",
       "2  T-DM280  26.45  2017-12-22T10:51:38Z\n",
       "3  T-DM280  26.45  2017-12-22T10:51:41Z"
      ]
     },
     "execution_count": 83,
     "metadata": {},
     "output_type": "execute_result"
    }
   ],
   "source": [
    "# reading the JSON file and convert it to csv \n",
    "data = []\n",
    "with open('../data/raw/T-DM280-measures.json','r') as f:\n",
    "    for line in f:\n",
    "        data.append(json.loads(line))\n",
    "\n",
    "t_DM280 = pd.DataFrame(data)\n",
    "t_DM280.to_csv (r'../data/raw/T-DM280-measures.csv', index = None)\n",
    "t_DM280.head()"
   ]
  },
  {
   "cell_type": "code",
   "execution_count": 84,
   "metadata": {},
   "outputs": [
    {
     "data": {
      "text/plain": [
       "str"
      ]
     },
     "execution_count": 84,
     "metadata": {},
     "output_type": "execute_result"
    }
   ],
   "source": [
    "type(t_DM280.time[0])"
   ]
  },
  {
   "cell_type": "code",
   "execution_count": 85,
   "metadata": {},
   "outputs": [
    {
     "name": "stdout",
     "output_type": "stream",
     "text": [
      "<class 'pandas.core.frame.DataFrame'>\n",
      "RangeIndex: 4 entries, 0 to 3\n",
      "Data columns (total 3 columns):\n",
      "sensor    4 non-null object\n",
      "value     4 non-null float64\n",
      "time      4 non-null object\n",
      "dtypes: float64(1), object(2)\n",
      "memory usage: 224.0+ bytes\n"
     ]
    }
   ],
   "source": [
    "t_DM280.info()"
   ]
  },
  {
   "cell_type": "code",
   "execution_count": 86,
   "metadata": {},
   "outputs": [],
   "source": [
    "#convert the type of time from object into datetime64[ns, UTC]\n",
    "t_DM280['time'] = pd.to_datetime(t_DM280['time'])"
   ]
  },
  {
   "cell_type": "code",
   "execution_count": 87,
   "metadata": {},
   "outputs": [
    {
     "data": {
      "text/plain": [
       "T-DM280    4\n",
       "Name: sensor, dtype: int64"
      ]
     },
     "execution_count": 87,
     "metadata": {},
     "output_type": "execute_result"
    }
   ],
   "source": [
    "t_DM280.sensor.value_counts()"
   ]
  },
  {
   "cell_type": "code",
   "execution_count": 88,
   "metadata": {},
   "outputs": [
    {
     "data": {
      "text/plain": [
       "sensor    0\n",
       "value     0\n",
       "time      0\n",
       "dtype: int64"
      ]
     },
     "execution_count": 88,
     "metadata": {},
     "output_type": "execute_result"
    }
   ],
   "source": [
    "# check and print the number of empty cells (missing data) in each coulmn \n",
    "t_DM280.isnull().sum()"
   ]
  },
  {
   "cell_type": "code",
   "execution_count": 89,
   "metadata": {},
   "outputs": [
    {
     "data": {
      "text/plain": [
       "<matplotlib.axes._subplots.AxesSubplot at 0x134936b10>"
      ]
     },
     "execution_count": 89,
     "metadata": {},
     "output_type": "execute_result"
    },
    {
     "data": {
      "image/png": "[encoded data removed]",
      "text/plain": [
       "<Figure size 432x288 with 1 Axes>"
      ]
     },
     "metadata": {
      "needs_background": "light"
     },
     "output_type": "display_data"
    }
   ],
   "source": [
    "#plot humidity for ths sensor \n",
    "t_DM280.plot.line(x='time', y='value')"
   ]
  },
  {
   "cell_type": "markdown",
   "metadata": {},
   "source": [
    "### merge two json files "
   ]
  },
  {
   "cell_type": "code",
   "execution_count": 90,
   "metadata": {},
   "outputs": [
    {
     "data": {
      "text/html": [
       "<div>\n",
       "<style scoped>\n",
       "    .dataframe tbody tr th:only-of-type {\n",
       "        vertical-align: middle;\n",
       "    }\n",
       "\n",
       "    .dataframe tbody tr th {\n",
       "        vertical-align: top;\n",
       "    }\n",
       "\n",
       "    .dataframe thead th {\n",
       "        text-align: right;\n",
       "    }\n",
       "</style>\n",
       "<table border=\"1\" class=\"dataframe\">\n",
       "  <thead>\n",
       "    <tr style=\"text-align: right;\">\n",
       "      <th></th>\n",
       "      <th>sensor_x</th>\n",
       "      <th>value_x</th>\n",
       "      <th>sensor_y</th>\n",
       "      <th>value_y</th>\n",
       "    </tr>\n",
       "    <tr>\n",
       "      <th>time</th>\n",
       "      <th></th>\n",
       "      <th></th>\n",
       "      <th></th>\n",
       "      <th></th>\n",
       "    </tr>\n",
       "  </thead>\n",
       "  <tbody>\n",
       "    <tr>\n",
       "      <td>2017-12-22 10:51:32+00:00</td>\n",
       "      <td>P-DM280</td>\n",
       "      <td>1040.00</td>\n",
       "      <td>NaN</td>\n",
       "      <td>NaN</td>\n",
       "    </tr>\n",
       "    <tr>\n",
       "      <td>2017-12-22 10:51:35+00:00</td>\n",
       "      <td>P-DM280</td>\n",
       "      <td>1040.00</td>\n",
       "      <td>T-DM280</td>\n",
       "      <td>26.43</td>\n",
       "    </tr>\n",
       "    <tr>\n",
       "      <td>2017-12-22 10:51:38+00:00</td>\n",
       "      <td>P-DM280</td>\n",
       "      <td>1039.97</td>\n",
       "      <td>T-DM280</td>\n",
       "      <td>26.45</td>\n",
       "    </tr>\n",
       "    <tr>\n",
       "      <td>2017-12-22 10:51:41+00:00</td>\n",
       "      <td>P-DM280</td>\n",
       "      <td>1039.95</td>\n",
       "      <td>T-DM280</td>\n",
       "      <td>26.45</td>\n",
       "    </tr>\n",
       "    <tr>\n",
       "      <td>2017-12-22 10:51:31+00:00</td>\n",
       "      <td>NaN</td>\n",
       "      <td>NaN</td>\n",
       "      <td>T-DM280</td>\n",
       "      <td>26.43</td>\n",
       "    </tr>\n",
       "  </tbody>\n",
       "</table>\n",
       "</div>"
      ],
      "text/plain": [
       "                          sensor_x  value_x sensor_y  value_y\n",
       "time                                                         \n",
       "2017-12-22 10:51:32+00:00  P-DM280  1040.00      NaN      NaN\n",
       "2017-12-22 10:51:35+00:00  P-DM280  1040.00  T-DM280    26.43\n",
       "2017-12-22 10:51:38+00:00  P-DM280  1039.97  T-DM280    26.45\n",
       "2017-12-22 10:51:41+00:00  P-DM280  1039.95  T-DM280    26.45\n",
       "2017-12-22 10:51:31+00:00      NaN      NaN  T-DM280    26.43"
      ]
     },
     "execution_count": 90,
     "metadata": {},
     "output_type": "execute_result"
    }
   ],
   "source": [
    "# Merge data base on the time columns\n",
    "newdf3 = pd.merge(p_DM280, t_DM280, on = 'time', how='outer')\n",
    "# Set time as a index of data frame\n",
    "newdf3.set_index('time', inplace=True)\n",
    "newdf3.head()"
   ]
  },
  {
   "cell_type": "markdown",
   "metadata": {},
   "source": [
    "as we can see , we have some missing data here "
   ]
  },
  {
   "cell_type": "code",
   "execution_count": 91,
   "metadata": {},
   "outputs": [
    {
     "name": "stdout",
     "output_type": "stream",
     "text": [
      "<class 'pandas.core.frame.DataFrame'>\n",
      "DatetimeIndex: 5 entries, 2017-12-22 10:51:32+00:00 to 2017-12-22 10:51:31+00:00\n",
      "Data columns (total 4 columns):\n",
      "sensor_x    4 non-null object\n",
      "value_x     4 non-null float64\n",
      "sensor_y    4 non-null object\n",
      "value_y     4 non-null float64\n",
      "dtypes: float64(2), object(2)\n",
      "memory usage: 200.0+ bytes\n"
     ]
    }
   ],
   "source": [
    "#general information\n",
    "newdf3.info()"
   ]
  },
  {
   "cell_type": "code",
   "execution_count": 92,
   "metadata": {},
   "outputs": [
    {
     "data": {
      "text/plain": [
       "sensor_x    1\n",
       "value_x     1\n",
       "sensor_y    1\n",
       "value_y     1\n",
       "dtype: int64"
      ]
     },
     "execution_count": 92,
     "metadata": {},
     "output_type": "execute_result"
    }
   ],
   "source": [
    "# check and print the number of empty cells (missing data) in each coulmn \n",
    "newdf3.isnull().sum()"
   ]
  },
  {
   "cell_type": "code",
   "execution_count": 93,
   "metadata": {},
   "outputs": [
    {
     "data": {
      "text/html": [
       "<div>\n",
       "<style scoped>\n",
       "    .dataframe tbody tr th:only-of-type {\n",
       "        vertical-align: middle;\n",
       "    }\n",
       "\n",
       "    .dataframe tbody tr th {\n",
       "        vertical-align: top;\n",
       "    }\n",
       "\n",
       "    .dataframe thead th {\n",
       "        text-align: right;\n",
       "    }\n",
       "</style>\n",
       "<table border=\"1\" class=\"dataframe\">\n",
       "  <thead>\n",
       "    <tr style=\"text-align: right;\">\n",
       "      <th></th>\n",
       "      <th>value_x</th>\n",
       "      <th>value_y</th>\n",
       "    </tr>\n",
       "  </thead>\n",
       "  <tbody>\n",
       "    <tr>\n",
       "      <td>count</td>\n",
       "      <td>4.000000</td>\n",
       "      <td>4.000000</td>\n",
       "    </tr>\n",
       "    <tr>\n",
       "      <td>mean</td>\n",
       "      <td>1039.980000</td>\n",
       "      <td>26.440000</td>\n",
       "    </tr>\n",
       "    <tr>\n",
       "      <td>std</td>\n",
       "      <td>0.024495</td>\n",
       "      <td>0.011547</td>\n",
       "    </tr>\n",
       "    <tr>\n",
       "      <td>min</td>\n",
       "      <td>1039.950000</td>\n",
       "      <td>26.430000</td>\n",
       "    </tr>\n",
       "    <tr>\n",
       "      <td>25%</td>\n",
       "      <td>1039.965000</td>\n",
       "      <td>26.430000</td>\n",
       "    </tr>\n",
       "    <tr>\n",
       "      <td>50%</td>\n",
       "      <td>1039.985000</td>\n",
       "      <td>26.440000</td>\n",
       "    </tr>\n",
       "    <tr>\n",
       "      <td>75%</td>\n",
       "      <td>1040.000000</td>\n",
       "      <td>26.450000</td>\n",
       "    </tr>\n",
       "    <tr>\n",
       "      <td>max</td>\n",
       "      <td>1040.000000</td>\n",
       "      <td>26.450000</td>\n",
       "    </tr>\n",
       "  </tbody>\n",
       "</table>\n",
       "</div>"
      ],
      "text/plain": [
       "           value_x    value_y\n",
       "count     4.000000   4.000000\n",
       "mean   1039.980000  26.440000\n",
       "std       0.024495   0.011547\n",
       "min    1039.950000  26.430000\n",
       "25%    1039.965000  26.430000\n",
       "50%    1039.985000  26.440000\n",
       "75%    1040.000000  26.450000\n",
       "max    1040.000000  26.450000"
      ]
     },
     "execution_count": 93,
     "metadata": {},
     "output_type": "execute_result"
    }
   ],
   "source": [
    "#statistical information of data frame\n",
    "newdf3.describe()"
   ]
  },
  {
   "cell_type": "code",
   "execution_count": null,
   "metadata": {},
   "outputs": [],
   "source": []
  }
 ],
 "metadata": {
  "kernelspec": {
   "display_name": "Python 3",
   "language": "python",
   "name": "python3"
  },
  "language_info": {
   "codemirror_mode": {
    "name": "ipython",
    "version": 3
   },
   "file_extension": ".py",
   "mimetype": "text/x-python",
   "name": "python",
   "nbconvert_exporter": "python",
   "pygments_lexer": "ipython3",
   "version": "3.7.4"
  }
 },
 "nbformat": 4,
 "nbformat_minor": 2
}
